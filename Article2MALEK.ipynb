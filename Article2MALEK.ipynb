{
 "cells": [
  {
   "cell_type": "markdown",
   "metadata": {},
   "source": [
    "# Library Importation"
   ]
  },
  {
   "cell_type": "code",
   "execution_count": 1,
   "metadata": {},
   "outputs": [],
   "source": [
    "import pandas as pd\n",
    "import warnings\n",
    "from sklearn.preprocessing import normalize\n",
    "import numpy as np\n",
    "import matplotlib.pyplot as plt\n",
    "from sklearn.decomposition import PCA\n",
    "from sklearn.mixture import GaussianMixture\n",
    "import scipy.stats\n",
    "from scipy.stats import norm\n",
    "from tqdm import tqdm\n",
    "from sklearn.cluster import KMeans\n",
    "from sklearn.svm import SVC\n",
    "from sklearn import tree\n",
    "from sklearn.neural_network import MLPClassifier\n",
    "from sklearn.metrics import f1_score\n",
    "\n",
    "warnings.filterwarnings('ignore')"
   ]
  },
  {
   "cell_type": "markdown",
   "metadata": {},
   "source": [
    "# Create Datasets Transformers"
   ]
  },
  {
   "cell_type": "markdown",
   "metadata": {},
   "source": [
    "## Import Data"
   ]
  },
  {
   "cell_type": "code",
   "execution_count": 2,
   "metadata": {},
   "outputs": [],
   "source": [
    "def raw_data_filter(data):\n",
    "    columns = (['duration'\n",
    "    ,'protocol_type'\n",
    "    ,'service'\n",
    "    ,'flag'\n",
    "    ,'src_bytes'\n",
    "    ,'dst_bytes'\n",
    "    ,'land'\n",
    "    ,'wrong_fragment'\n",
    "    ,'urgent'\n",
    "    ,'hot'\n",
    "    ,'num_failed_logins'\n",
    "    ,'logged_in'\n",
    "    ,'num_compromised'\n",
    "    ,'root_shell'\n",
    "    ,'su_attempted'\n",
    "    ,'num_root'\n",
    "    ,'num_file_creations'\n",
    "    ,'num_shells'\n",
    "    ,'num_access_files'\n",
    "    ,'num_outbound_cmds'\n",
    "    ,'is_host_login'\n",
    "    ,'is_guest_login'\n",
    "    ,'count'\n",
    "    ,'srv_count'\n",
    "    ,'serror_rate'\n",
    "    ,'srv_serror_rate'\n",
    "    ,'rerror_rate'\n",
    "    ,'srv_rerror_rate'\n",
    "    ,'same_srv_rate'\n",
    "    ,'diff_srv_rate'\n",
    "    ,'srv_diff_host_rate'\n",
    "    ,'dst_host_count'\n",
    "    ,'dst_host_srv_count'\n",
    "    ,'dst_host_same_srv_rate'\n",
    "    ,'dst_host_diff_srv_rate'\n",
    "    ,'dst_host_same_src_port_rate'\n",
    "    ,'dst_host_srv_diff_host_rate'\n",
    "    ,'dst_host_serror_rate'\n",
    "    ,'dst_host_srv_serror_rate'\n",
    "    ,'dst_host_rerror_rate'\n",
    "    ,'dst_host_srv_rerror_rate'\n",
    "    ,'attack'\n",
    "    ,'level'])\n",
    "\n",
    "    data.columns = columns\n",
    "    selected_columns = ([\n",
    "    'service', \n",
    "    'flag',\n",
    "    'src_bytes'\n",
    "    ,'dst_bytes'\n",
    "    ,'urgent'\n",
    "    ,'num_failed_logins'\n",
    "    ,'num_compromised'\n",
    "    ,'root_shell'\n",
    "    ,'su_attempted'\n",
    "    ,'num_root'\n",
    "    ,'num_file_creations'\n",
    "    ,'num_shells'\n",
    "    ,'num_access_files'\n",
    "    ,'is_host_login'\n",
    "    ,'is_guest_login'\n",
    "    ,'num_outbound_cmds'\n",
    "    ,'wrong_fragment'\n",
    "    ,'level',\n",
    "    ])\n",
    "    data.drop(columns=selected_columns, inplace=True)\n",
    "    data = data[data['protocol_type'] == 'tcp']\n",
    "    data.drop(columns=['protocol_type'], inplace=True, axis =1)\n",
    "    \n",
    "\n",
    "    data['attack'] = data.attack.map(lambda a: 0 if a == 'normal' else 1)\n",
    "    return data"
   ]
  },
  {
   "cell_type": "code",
   "execution_count": 5,
   "metadata": {},
   "outputs": [],
   "source": [
    "# import raw data\n",
    "d_raw_train = pd.read_csv(\"KDDTrain+.txt\", header=None)\n",
    "d_raw_test = pd.read_csv(\"KDDTest+.txt\", header=None)\n"
   ]
  },
  {
   "cell_type": "markdown",
   "metadata": {},
   "source": [
    "## Normalization"
   ]
  },
  {
   "cell_type": "code",
   "execution_count": 6,
   "metadata": {},
   "outputs": [],
   "source": [
    "def normalizing(data):\n",
    "    for idx in range(len(data.columns)):\n",
    "        if data.nunique()[idx] != 2:\n",
    "            data.iloc[:,idx] = normalize([np.array(data.iloc[:,idx])]).reshape(-1)\n",
    "    return data\n"
   ]
  },
  {
   "cell_type": "code",
   "execution_count": 5,
   "metadata": {
    "execution": {
     "iopub.execute_input": "2023-11-28T09:34:45.896585Z",
     "iopub.status.busy": "2023-11-28T09:34:45.896124Z",
     "iopub.status.idle": "2023-11-28T09:34:45.909910Z",
     "shell.execute_reply": "2023-11-28T09:34:45.908789Z",
     "shell.execute_reply.started": "2023-11-28T09:34:45.896553Z"
    }
   },
   "outputs": [],
   "source": [
    "# this cell is for test:\n",
    "#d_raw_train = normalizing(d_raw_train)\n",
    "#d_raw_train.head()"
   ]
  },
  {
   "cell_type": "markdown",
   "metadata": {},
   "source": [
    "## Principal Component Analysis"
   ]
  },
  {
   "cell_type": "code",
   "execution_count": 7,
   "metadata": {},
   "outputs": [],
   "source": [
    "def PCA_transformation(data, dim = None):\n",
    "    pca = PCA()\n",
    "    pca.fit(data)\n",
    "    cum_vars = np.cumsum(pca.explained_variance_ratio_)\n",
    "    for i in range(len(cum_vars)):\n",
    "        if cum_vars[i] == 0.999:\n",
    "            break\n",
    "    if dim:\n",
    "        pca = PCA(dim)\n",
    "        data = pca.fit_transform(data)\n",
    "        return pd.DataFrame(data)\n",
    "    \n",
    "    pca = PCA(i)\n",
    "    data = pca.fit_transform(data)\n",
    "    return pd.DataFrame(data), i"
   ]
  },
  {
   "cell_type": "code",
   "execution_count": 7,
   "metadata": {
    "execution": {
     "iopub.execute_input": "2023-11-28T09:34:45.936500Z",
     "iopub.status.busy": "2023-11-28T09:34:45.935725Z",
     "iopub.status.idle": "2023-11-28T09:34:45.942872Z",
     "shell.execute_reply": "2023-11-28T09:34:45.941596Z",
     "shell.execute_reply.started": "2023-11-28T09:34:45.936455Z"
    }
   },
   "outputs": [],
   "source": [
    "# this cell is for test:\n",
    "#  d_raw_train = PCA_transformation(d_raw_train)\n",
    "#  d_raw_train.shape"
   ]
  },
  {
   "cell_type": "markdown",
   "metadata": {},
   "source": [
    "## Feature Gaussian Mixture Probability Mode "
   ]
  },
  {
   "cell_type": "code",
   "execution_count": 8,
   "metadata": {},
   "outputs": [],
   "source": [
    "def GMM_Row_Transform(data, values, threshold):\n",
    "    probs = []\n",
    "    for idx in range(len(data.columns)):\n",
    "        mean = np.array(data.iloc[:,idx]).mean()\n",
    "        std = np.array(data.iloc[:,iadx]).std()\n",
    "\n",
    "        z_score = (values[idx] - mean)/std\n",
    "        prob = (1-norm.cdf(z_score))*100\n",
    "        probs.append(prob)\n",
    "    return probs"
   ]
  },
  {
   "cell_type": "code",
   "execution_count": 9,
   "metadata": {},
   "outputs": [],
   "source": [
    "def GMM_Matrix_Transform(origin_data, data, threshold):\n",
    "    matrix = []\n",
    "    for i in tqdm(range(len(data))):\n",
    "        row = GMM_Row_Transform(origin_data, data.iloc[i,:], threshold)\n",
    "        \n",
    "        matrix.append(row)\n",
    "    return matrix"
   ]
  },
  {
   "cell_type": "markdown",
   "metadata": {},
   "source": [
    "this function returns a matrix that contains propability of each feature in each row if it belongs to the normal laten or not "
   ]
  },
  {
   "cell_type": "code",
   "execution_count": 12,
   "metadata": {},
   "outputs": [],
   "source": [
    "def GMM_vote(data, values, threshold):\n",
    "    no = 0\n",
    "    for idx in range(len(data.columns)):\n",
    "        mean = np.array(data.iloc[:,idx]).mean()\n",
    "        std = np.array(data.iloc[:,idx]).std()\n",
    "\n",
    "        z_score = (values[idx] - mean)/std\n",
    "        prob = (1-norm.cdf(z_score))*100\n",
    "        if prob <= threshold:\n",
    "            no += 1  \n",
    "    return no"
   ]
  },
  {
   "cell_type": "code",
   "execution_count": 13,
   "metadata": {},
   "outputs": [
    {
     "ename": "TypeError",
     "evalue": "ufunc 'divide' not supported for the input types, and the inputs could not be safely coerced to any supported types according to the casting rule ''safe''",
     "output_type": "error",
     "traceback": [
      "\u001b[1;31m---------------------------------------------------------------------------\u001b[0m",
      "\u001b[1;31mTypeError\u001b[0m                                 Traceback (most recent call last)",
      "Cell \u001b[1;32mIn[13], line 3\u001b[0m\n\u001b[0;32m      1\u001b[0m \u001b[38;5;66;03m# test GMM_vote with 70%:\u001b[39;00m\n\u001b[0;32m      2\u001b[0m values \u001b[38;5;241m=\u001b[39m d_raw_train\u001b[38;5;241m.\u001b[39miloc[\u001b[38;5;241m0\u001b[39m,:]\n\u001b[1;32m----> 3\u001b[0m \u001b[43mGMM_vote\u001b[49m\u001b[43m(\u001b[49m\u001b[43md_raw_train\u001b[49m\u001b[43m,\u001b[49m\u001b[43m \u001b[49m\u001b[43mvalues\u001b[49m\u001b[43m,\u001b[49m\u001b[43m \u001b[49m\u001b[38;5;241;43m70\u001b[39;49m\u001b[43m)\u001b[49m\n",
      "Cell \u001b[1;32mIn[12], line 4\u001b[0m, in \u001b[0;36mGMM_vote\u001b[1;34m(data, values, threshold)\u001b[0m\n\u001b[0;32m      2\u001b[0m no \u001b[38;5;241m=\u001b[39m \u001b[38;5;241m0\u001b[39m\n\u001b[0;32m      3\u001b[0m \u001b[38;5;28;01mfor\u001b[39;00m idx \u001b[38;5;129;01min\u001b[39;00m \u001b[38;5;28mrange\u001b[39m(\u001b[38;5;28mlen\u001b[39m(data\u001b[38;5;241m.\u001b[39mcolumns)):\n\u001b[1;32m----> 4\u001b[0m     mean \u001b[38;5;241m=\u001b[39m \u001b[43mnp\u001b[49m\u001b[38;5;241;43m.\u001b[39;49m\u001b[43marray\u001b[49m\u001b[43m(\u001b[49m\u001b[43mdata\u001b[49m\u001b[38;5;241;43m.\u001b[39;49m\u001b[43miloc\u001b[49m\u001b[43m[\u001b[49m\u001b[43m:\u001b[49m\u001b[43m,\u001b[49m\u001b[43midx\u001b[49m\u001b[43m]\u001b[49m\u001b[43m)\u001b[49m\u001b[38;5;241;43m.\u001b[39;49m\u001b[43mmean\u001b[49m\u001b[43m(\u001b[49m\u001b[43m)\u001b[49m\n\u001b[0;32m      5\u001b[0m     std \u001b[38;5;241m=\u001b[39m np\u001b[38;5;241m.\u001b[39marray(data\u001b[38;5;241m.\u001b[39miloc[:,idx])\u001b[38;5;241m.\u001b[39mstd()\n\u001b[0;32m      7\u001b[0m     z_score \u001b[38;5;241m=\u001b[39m (values[idx] \u001b[38;5;241m-\u001b[39m mean)\u001b[38;5;241m/\u001b[39mstd\n",
      "File \u001b[1;32mC:\\Python311\\Lib\\site-packages\\numpy\\core\\_methods.py:131\u001b[0m, in \u001b[0;36m_mean\u001b[1;34m(a, axis, dtype, out, keepdims, where)\u001b[0m\n\u001b[0;32m    129\u001b[0m         ret \u001b[38;5;241m=\u001b[39m ret\u001b[38;5;241m.\u001b[39mdtype\u001b[38;5;241m.\u001b[39mtype(ret \u001b[38;5;241m/\u001b[39m rcount)\n\u001b[0;32m    130\u001b[0m \u001b[38;5;28;01melse\u001b[39;00m:\n\u001b[1;32m--> 131\u001b[0m     ret \u001b[38;5;241m=\u001b[39m \u001b[43mret\u001b[49m\u001b[43m \u001b[49m\u001b[38;5;241;43m/\u001b[39;49m\u001b[43m \u001b[49m\u001b[43mrcount\u001b[49m\n\u001b[0;32m    133\u001b[0m \u001b[38;5;28;01mreturn\u001b[39;00m ret\n",
      "\u001b[1;31mTypeError\u001b[0m: ufunc 'divide' not supported for the input types, and the inputs could not be safely coerced to any supported types according to the casting rule ''safe''"
     ]
    }
   ],
   "source": [
    "# test GMM_vote with 70%:\n",
    "values = d_raw_train.iloc[0,:]\n",
    "GMM_vote(d_raw_train, values, 70)\n",
    "\n"
   ]
  },
  {
   "cell_type": "markdown",
   "metadata": {},
   "source": [
    "# Create 8 Datasets"
   ]
  },
  {
   "cell_type": "markdown",
   "metadata": {},
   "source": [
    "### d_raw"
   ]
  },
  {
   "cell_type": "code",
   "execution_count": 10,
   "metadata": {
    "execution": {
     "iopub.execute_input": "2023-11-28T09:34:45.995208Z",
     "iopub.status.busy": "2023-11-28T09:34:45.994812Z",
     "iopub.status.idle": "2023-11-28T09:34:46.186058Z",
     "shell.execute_reply": "2023-11-28T09:34:46.184843Z",
     "shell.execute_reply.started": "2023-11-28T09:34:45.995166Z"
    }
   },
   "outputs": [],
   "source": [
    "# filter raw data \n",
    "d_raw_train = raw_data_filter(d_raw_train)\n",
    "d_raw_test = raw_data_filter(d_raw_test)"
   ]
  },
  {
   "cell_type": "code",
   "execution_count": 11,
   "metadata": {
    "execution": {
     "iopub.execute_input": "2023-11-28T09:34:46.189340Z",
     "iopub.status.busy": "2023-11-28T09:34:46.188521Z",
     "iopub.status.idle": "2023-11-28T09:34:46.204091Z",
     "shell.execute_reply": "2023-11-28T09:34:46.202705Z",
     "shell.execute_reply.started": "2023-11-28T09:34:46.189296Z"
    }
   },
   "outputs": [],
   "source": [
    "train_target = d_raw_train['attack']\n",
    "d_raw_train.drop('attack',inplace=True,axis=1)\n",
    "\n",
    "test_target = d_raw_test['attack']\n",
    "d_raw_test.drop('attack',inplace=True,axis=1)"
   ]
  },
  {
   "cell_type": "code",
   "execution_count": 12,
   "metadata": {
    "execution": {
     "iopub.execute_input": "2023-11-28T09:34:46.206298Z",
     "iopub.status.busy": "2023-11-28T09:34:46.205858Z",
     "iopub.status.idle": "2023-11-28T09:34:46.257905Z",
     "shell.execute_reply": "2023-11-28T09:34:46.256670Z",
     "shell.execute_reply.started": "2023-11-28T09:34:46.206259Z"
    }
   },
   "outputs": [
    {
     "data": {
      "text/html": [
       "<div>\n",
       "<style scoped>\n",
       "    .dataframe tbody tr th:only-of-type {\n",
       "        vertical-align: middle;\n",
       "    }\n",
       "\n",
       "    .dataframe tbody tr th {\n",
       "        vertical-align: top;\n",
       "    }\n",
       "\n",
       "    .dataframe thead th {\n",
       "        text-align: right;\n",
       "    }\n",
       "</style>\n",
       "<table border=\"1\" class=\"dataframe\">\n",
       "  <thead>\n",
       "    <tr style=\"text-align: right;\">\n",
       "      <th></th>\n",
       "      <th>duration</th>\n",
       "      <th>land</th>\n",
       "      <th>hot</th>\n",
       "      <th>logged_in</th>\n",
       "      <th>count</th>\n",
       "      <th>srv_count</th>\n",
       "      <th>serror_rate</th>\n",
       "      <th>srv_serror_rate</th>\n",
       "      <th>rerror_rate</th>\n",
       "      <th>srv_rerror_rate</th>\n",
       "      <th>...</th>\n",
       "      <th>dst_host_count</th>\n",
       "      <th>dst_host_srv_count</th>\n",
       "      <th>dst_host_same_srv_rate</th>\n",
       "      <th>dst_host_diff_srv_rate</th>\n",
       "      <th>dst_host_same_src_port_rate</th>\n",
       "      <th>dst_host_srv_diff_host_rate</th>\n",
       "      <th>dst_host_serror_rate</th>\n",
       "      <th>dst_host_srv_serror_rate</th>\n",
       "      <th>dst_host_rerror_rate</th>\n",
       "      <th>dst_host_srv_rerror_rate</th>\n",
       "    </tr>\n",
       "  </thead>\n",
       "  <tbody>\n",
       "    <tr>\n",
       "      <th>0</th>\n",
       "      <td>0</td>\n",
       "      <td>0</td>\n",
       "      <td>0</td>\n",
       "      <td>0</td>\n",
       "      <td>2</td>\n",
       "      <td>2</td>\n",
       "      <td>0.0</td>\n",
       "      <td>0.00</td>\n",
       "      <td>0.0</td>\n",
       "      <td>0.0</td>\n",
       "      <td>...</td>\n",
       "      <td>150</td>\n",
       "      <td>25</td>\n",
       "      <td>0.17</td>\n",
       "      <td>0.03</td>\n",
       "      <td>0.17</td>\n",
       "      <td>0.00</td>\n",
       "      <td>0.00</td>\n",
       "      <td>0.00</td>\n",
       "      <td>0.05</td>\n",
       "      <td>0.00</td>\n",
       "    </tr>\n",
       "    <tr>\n",
       "      <th>3</th>\n",
       "      <td>0</td>\n",
       "      <td>0</td>\n",
       "      <td>0</td>\n",
       "      <td>1</td>\n",
       "      <td>5</td>\n",
       "      <td>5</td>\n",
       "      <td>0.2</td>\n",
       "      <td>0.20</td>\n",
       "      <td>0.0</td>\n",
       "      <td>0.0</td>\n",
       "      <td>...</td>\n",
       "      <td>30</td>\n",
       "      <td>255</td>\n",
       "      <td>1.00</td>\n",
       "      <td>0.00</td>\n",
       "      <td>0.03</td>\n",
       "      <td>0.04</td>\n",
       "      <td>0.03</td>\n",
       "      <td>0.01</td>\n",
       "      <td>0.00</td>\n",
       "      <td>0.01</td>\n",
       "    </tr>\n",
       "    <tr>\n",
       "      <th>4</th>\n",
       "      <td>0</td>\n",
       "      <td>0</td>\n",
       "      <td>0</td>\n",
       "      <td>1</td>\n",
       "      <td>30</td>\n",
       "      <td>32</td>\n",
       "      <td>0.0</td>\n",
       "      <td>0.00</td>\n",
       "      <td>0.0</td>\n",
       "      <td>0.0</td>\n",
       "      <td>...</td>\n",
       "      <td>255</td>\n",
       "      <td>255</td>\n",
       "      <td>1.00</td>\n",
       "      <td>0.00</td>\n",
       "      <td>0.00</td>\n",
       "      <td>0.00</td>\n",
       "      <td>0.00</td>\n",
       "      <td>0.00</td>\n",
       "      <td>0.00</td>\n",
       "      <td>0.00</td>\n",
       "    </tr>\n",
       "    <tr>\n",
       "      <th>12</th>\n",
       "      <td>0</td>\n",
       "      <td>0</td>\n",
       "      <td>0</td>\n",
       "      <td>1</td>\n",
       "      <td>3</td>\n",
       "      <td>7</td>\n",
       "      <td>0.0</td>\n",
       "      <td>0.00</td>\n",
       "      <td>0.0</td>\n",
       "      <td>0.0</td>\n",
       "      <td>...</td>\n",
       "      <td>8</td>\n",
       "      <td>219</td>\n",
       "      <td>1.00</td>\n",
       "      <td>0.00</td>\n",
       "      <td>0.12</td>\n",
       "      <td>0.03</td>\n",
       "      <td>0.00</td>\n",
       "      <td>0.00</td>\n",
       "      <td>0.00</td>\n",
       "      <td>0.00</td>\n",
       "    </tr>\n",
       "    <tr>\n",
       "      <th>16</th>\n",
       "      <td>0</td>\n",
       "      <td>0</td>\n",
       "      <td>0</td>\n",
       "      <td>1</td>\n",
       "      <td>8</td>\n",
       "      <td>9</td>\n",
       "      <td>0.0</td>\n",
       "      <td>0.11</td>\n",
       "      <td>0.0</td>\n",
       "      <td>0.0</td>\n",
       "      <td>...</td>\n",
       "      <td>91</td>\n",
       "      <td>255</td>\n",
       "      <td>1.00</td>\n",
       "      <td>0.00</td>\n",
       "      <td>0.01</td>\n",
       "      <td>0.02</td>\n",
       "      <td>0.00</td>\n",
       "      <td>0.00</td>\n",
       "      <td>0.00</td>\n",
       "      <td>0.00</td>\n",
       "    </tr>\n",
       "  </tbody>\n",
       "</table>\n",
       "<p>5 rows × 23 columns</p>\n",
       "</div>"
      ],
      "text/plain": [
       "    duration  land  hot  logged_in  count  srv_count  serror_rate  \\\n",
       "0          0     0    0          0      2          2          0.0   \n",
       "3          0     0    0          1      5          5          0.2   \n",
       "4          0     0    0          1     30         32          0.0   \n",
       "12         0     0    0          1      3          7          0.0   \n",
       "16         0     0    0          1      8          9          0.0   \n",
       "\n",
       "    srv_serror_rate  rerror_rate  srv_rerror_rate  ...  dst_host_count  \\\n",
       "0              0.00          0.0              0.0  ...             150   \n",
       "3              0.20          0.0              0.0  ...              30   \n",
       "4              0.00          0.0              0.0  ...             255   \n",
       "12             0.00          0.0              0.0  ...               8   \n",
       "16             0.11          0.0              0.0  ...              91   \n",
       "\n",
       "    dst_host_srv_count  dst_host_same_srv_rate  dst_host_diff_srv_rate  \\\n",
       "0                   25                    0.17                    0.03   \n",
       "3                  255                    1.00                    0.00   \n",
       "4                  255                    1.00                    0.00   \n",
       "12                 219                    1.00                    0.00   \n",
       "16                 255                    1.00                    0.00   \n",
       "\n",
       "    dst_host_same_src_port_rate  dst_host_srv_diff_host_rate  \\\n",
       "0                          0.17                         0.00   \n",
       "3                          0.03                         0.04   \n",
       "4                          0.00                         0.00   \n",
       "12                         0.12                         0.03   \n",
       "16                         0.01                         0.02   \n",
       "\n",
       "    dst_host_serror_rate  dst_host_srv_serror_rate  dst_host_rerror_rate  \\\n",
       "0                   0.00                      0.00                  0.05   \n",
       "3                   0.03                      0.01                  0.00   \n",
       "4                   0.00                      0.00                  0.00   \n",
       "12                  0.00                      0.00                  0.00   \n",
       "16                  0.00                      0.00                  0.00   \n",
       "\n",
       "    dst_host_srv_rerror_rate  \n",
       "0                       0.00  \n",
       "3                       0.01  \n",
       "4                       0.00  \n",
       "12                      0.00  \n",
       "16                      0.00  \n",
       "\n",
       "[5 rows x 23 columns]"
      ]
     },
     "execution_count": 12,
     "metadata": {},
     "output_type": "execute_result"
    }
   ],
   "source": [
    "d_raw_train['attack'] = train_target\n",
    "d_raw_train_normal = d_raw_train[d_raw_train['attack'] == 0]\n",
    "d_raw_train_normal.drop(['attack'], inplace=True, axis = 1)\n",
    "d_raw_train.drop(['attack'], inplace=True, axis = 1)\n",
    "d_raw_train_normal.head()"
   ]
  },
  {
   "cell_type": "markdown",
   "metadata": {},
   "source": [
    "### d_raw_pca"
   ]
  },
  {
   "cell_type": "code",
   "execution_count": 13,
   "metadata": {
    "execution": {
     "iopub.execute_input": "2023-11-28T09:34:46.259985Z",
     "iopub.status.busy": "2023-11-28T09:34:46.259296Z",
     "iopub.status.idle": "2023-11-28T09:34:46.651516Z",
     "shell.execute_reply": "2023-11-28T09:34:46.650261Z",
     "shell.execute_reply.started": "2023-11-28T09:34:46.259952Z"
    }
   },
   "outputs": [],
   "source": [
    "d_raw_pca_train, dim = PCA_transformation(d_raw_train)\n",
    "d_raw_pca_test = PCA_transformation(d_raw_test, dim)"
   ]
  },
  {
   "cell_type": "markdown",
   "metadata": {},
   "source": [
    "### d_raw_norm"
   ]
  },
  {
   "cell_type": "code",
   "execution_count": 14,
   "metadata": {
    "execution": {
     "iopub.execute_input": "2023-11-28T09:34:46.654084Z",
     "iopub.status.busy": "2023-11-28T09:34:46.653001Z",
     "iopub.status.idle": "2023-11-28T09:34:47.609833Z",
     "shell.execute_reply": "2023-11-28T09:34:47.608659Z",
     "shell.execute_reply.started": "2023-11-28T09:34:46.654042Z"
    }
   },
   "outputs": [],
   "source": [
    "d_raw_norm_train = normalizing(d_raw_train)\n",
    "d_raw_norm_test = normalizing(d_raw_test)"
   ]
  },
  {
   "cell_type": "markdown",
   "metadata": {},
   "source": [
    "### d_raw_norm_pca"
   ]
  },
  {
   "cell_type": "code",
   "execution_count": 15,
   "metadata": {
    "execution": {
     "iopub.execute_input": "2023-11-28T09:34:47.611832Z",
     "iopub.status.busy": "2023-11-28T09:34:47.611395Z",
     "iopub.status.idle": "2023-11-28T09:34:48.925516Z",
     "shell.execute_reply": "2023-11-28T09:34:48.923851Z",
     "shell.execute_reply.started": "2023-11-28T09:34:47.611794Z"
    }
   },
   "outputs": [],
   "source": [
    "d_raw_norm_pca_train, dim = PCA_transformation(normalizing(d_raw_train))\n",
    "d_raw_norm_pca_test = PCA_transformation(normalizing(d_raw_test), dim)"
   ]
  },
  {
   "cell_type": "markdown",
   "metadata": {},
   "source": [
    "## d_raw_probs"
   ]
  },
  {
   "cell_type": "code",
   "execution_count": 16,
   "metadata": {
    "execution": {
     "iopub.execute_input": "2023-11-28T09:34:48.928166Z",
     "iopub.status.busy": "2023-11-28T09:34:48.927561Z",
     "iopub.status.idle": "2023-11-28T10:23:19.336780Z",
     "shell.execute_reply": "2023-11-28T10:23:19.335761Z",
     "shell.execute_reply.started": "2023-11-28T09:34:48.928112Z"
    }
   },
   "outputs": [
    {
     "name": "stderr",
     "output_type": "stream",
     "text": [
      "100%|██████████████████████████████████████████████████████████████████████████| 102689/102689 [28:46<00:00, 59.47it/s]\n",
      "100%|████████████████████████████████████████████████████████████████████████████| 18880/18880 [05:06<00:00, 61.53it/s]\n"
     ]
    }
   ],
   "source": [
    "d_raw_probs_train = pd.DataFrame(GMM_Matrix_Transform(d_raw_train, d_raw_train, 50))\n",
    "d_raw_probs_test =  pd.DataFrame(GMM_Matrix_Transform(d_raw_train, d_raw_test, 50))\n"
   ]
  },
  {
   "cell_type": "code",
   "execution_count": 17,
   "metadata": {
    "execution": {
     "iopub.execute_input": "2023-11-28T10:23:19.338922Z",
     "iopub.status.busy": "2023-11-28T10:23:19.338452Z",
     "iopub.status.idle": "2023-11-28T10:40:37.417965Z",
     "shell.execute_reply": "2023-11-28T10:40:37.416706Z",
     "shell.execute_reply.started": "2023-11-28T10:23:19.338880Z"
    }
   },
   "outputs": [
    {
     "name": "stderr",
     "output_type": "stream",
     "text": [
      "100%|████████████████████████████████████████████████████████████████████████████| 53600/53600 [10:39<00:00, 83.79it/s]\n"
     ]
    }
   ],
   "source": [
    "# normal\n",
    "d_raw_probs_train_normal = pd.DataFrame(GMM_Matrix_Transform(d_raw_train_normal, d_raw_train_normal, 50))"
   ]
  },
  {
   "cell_type": "markdown",
   "metadata": {},
   "source": [
    "## d_raw_pca_probs"
   ]
  },
  {
   "cell_type": "code",
   "execution_count": 18,
   "metadata": {
    "execution": {
     "iopub.execute_input": "2023-11-28T10:40:37.419852Z",
     "iopub.status.busy": "2023-11-28T10:40:37.419392Z",
     "iopub.status.idle": "2023-11-28T11:25:26.777338Z",
     "shell.execute_reply": "2023-11-28T11:25:26.776106Z",
     "shell.execute_reply.started": "2023-11-28T10:40:37.419821Z"
    }
   },
   "outputs": [
    {
     "name": "stderr",
     "output_type": "stream",
     "text": [
      "100%|██████████████████████████████████████████████████████████████████████████| 102689/102689 [24:44<00:00, 69.20it/s]\n",
      "100%|████████████████████████████████████████████████████████████████████████████| 18880/18880 [04:27<00:00, 70.55it/s]\n"
     ]
    }
   ],
   "source": [
    "d_raw_pca_probs_train, dim = PCA_transformation(d_raw_train)\n",
    "d_raw_pca_probs_train = pd.DataFrame(GMM_Matrix_Transform(d_raw_pca_probs_train, d_raw_pca_probs_train, 50))\n",
    "\n",
    "d_raw_pca_probs_test = PCA_transformation(d_raw_test, dim )\n",
    "d_raw_pca_probs_test = pd.DataFrame(GMM_Matrix_Transform(d_raw_pca_probs_train, d_raw_pca_probs_test, 50))"
   ]
  },
  {
   "cell_type": "code",
   "execution_count": 19,
   "metadata": {
    "execution": {
     "iopub.execute_input": "2023-11-28T11:25:26.780017Z",
     "iopub.status.busy": "2023-11-28T11:25:26.779281Z",
     "iopub.status.idle": "2023-11-28T11:40:49.424408Z",
     "shell.execute_reply": "2023-11-28T11:40:49.423343Z",
     "shell.execute_reply.started": "2023-11-28T11:25:26.779981Z"
    }
   },
   "outputs": [
    {
     "name": "stderr",
     "output_type": "stream",
     "text": [
      "100%|████████████████████████████████████████████████████████████████████████████| 53600/53600 [09:24<00:00, 94.96it/s]\n"
     ]
    }
   ],
   "source": [
    "# normal\n",
    "d_raw_pca_probs_train_normal, dim = PCA_transformation(d_raw_train_normal)\n",
    "d_raw_pca_probs_train_normal = pd.DataFrame(GMM_Matrix_Transform(d_raw_pca_probs_train_normal, d_raw_pca_probs_train_normal, 50))"
   ]
  },
  {
   "cell_type": "markdown",
   "metadata": {},
   "source": [
    "## d_norm_probs"
   ]
  },
  {
   "cell_type": "code",
   "execution_count": 20,
   "metadata": {
    "execution": {
     "iopub.execute_input": "2023-11-28T11:40:49.426272Z",
     "iopub.status.busy": "2023-11-28T11:40:49.425934Z",
     "iopub.status.idle": "2023-11-28T12:29:14.261035Z",
     "shell.execute_reply": "2023-11-28T12:29:14.259919Z",
     "shell.execute_reply.started": "2023-11-28T11:40:49.426241Z"
    }
   },
   "outputs": [
    {
     "name": "stderr",
     "output_type": "stream",
     "text": [
      "100%|██████████████████████████████████████████████████████████████████████████| 102689/102689 [25:47<00:00, 66.35it/s]\n",
      "100%|████████████████████████████████████████████████████████████████████████████| 18880/18880 [04:53<00:00, 64.27it/s]\n"
     ]
    }
   ],
   "source": [
    "d_norm_probs_train = normalizing(d_raw_train)\n",
    "d_norm_probs_train = pd.DataFrame(GMM_Matrix_Transform(d_norm_probs_train, d_norm_probs_train, 50))\n",
    "\n",
    "d_norm_probs_test = normalizing(d_raw_test)\n",
    "d_norm_probs_test = pd.DataFrame(GMM_Matrix_Transform(d_norm_probs_train, d_norm_probs_test, 50))"
   ]
  },
  {
   "cell_type": "code",
   "execution_count": 21,
   "metadata": {
    "execution": {
     "iopub.execute_input": "2023-11-28T12:29:14.262568Z",
     "iopub.status.busy": "2023-11-28T12:29:14.262227Z",
     "iopub.status.idle": "2023-11-28T12:45:38.753288Z",
     "shell.execute_reply": "2023-11-28T12:45:38.751725Z",
     "shell.execute_reply.started": "2023-11-28T12:29:14.262539Z"
    }
   },
   "outputs": [
    {
     "name": "stderr",
     "output_type": "stream",
     "text": [
      "100%|████████████████████████████████████████████████████████████████████████████| 53600/53600 [10:28<00:00, 85.33it/s]\n"
     ]
    }
   ],
   "source": [
    "# normal\n",
    "d_norm_probs_train_normal = normalizing(d_raw_train_normal)\n",
    "d_norm_probs_train_normal = pd.DataFrame(GMM_Matrix_Transform(d_norm_probs_train_normal, d_norm_probs_train_normal, 50))"
   ]
  },
  {
   "cell_type": "markdown",
   "metadata": {},
   "source": [
    "## d_norm_pca_probs"
   ]
  },
  {
   "cell_type": "code",
   "execution_count": 22,
   "metadata": {
    "execution": {
     "iopub.execute_input": "2023-11-28T12:45:38.755044Z",
     "iopub.status.busy": "2023-11-28T12:45:38.754663Z",
     "iopub.status.idle": "2023-11-28T13:30:41.835173Z",
     "shell.execute_reply": "2023-11-28T13:30:41.833901Z",
     "shell.execute_reply.started": "2023-11-28T12:45:38.755013Z"
    }
   },
   "outputs": [
    {
     "name": "stderr",
     "output_type": "stream",
     "text": [
      "100%|██████████████████████████████████████████████████████████████████████████| 102689/102689 [30:43<00:00, 55.71it/s]\n",
      "100%|████████████████████████████████████████████████████████████████████████████| 18880/18880 [05:54<00:00, 53.31it/s]\n"
     ]
    }
   ],
   "source": [
    "d_norm_pca_probs_train = normalizing(d_raw_train)\n",
    "d_norm_pca_probs_train, dim = PCA_transformation(d_norm_pca_probs_train)\n",
    "d_norm_pca_probs_train = pd.DataFrame(GMM_Matrix_Transform(d_norm_pca_probs_train, d_norm_pca_probs_train, 50))\n",
    "\n",
    "d_norm_pca_probs_test = normalizing(d_raw_test)\n",
    "d_norm_pca_probs_test, dim = PCA_transformation(d_norm_pca_probs_test)\n",
    "d_norm_pca_probs_test = pd.DataFrame(GMM_Matrix_Transform(d_norm_pca_probs_train, d_norm_pca_probs_test, 50))"
   ]
  },
  {
   "cell_type": "code",
   "execution_count": 23,
   "metadata": {
    "execution": {
     "iopub.execute_input": "2023-11-28T13:30:41.836932Z",
     "iopub.status.busy": "2023-11-28T13:30:41.836598Z",
     "iopub.status.idle": "2023-11-28T13:46:11.713908Z",
     "shell.execute_reply": "2023-11-28T13:46:11.712676Z",
     "shell.execute_reply.started": "2023-11-28T13:30:41.836904Z"
    },
    "scrolled": true
   },
   "outputs": [
    {
     "name": "stderr",
     "output_type": "stream",
     "text": [
      "100%|████████████████████████████████████████████████████████████████████████████| 53600/53600 [09:23<00:00, 95.11it/s]\n"
     ]
    }
   ],
   "source": [
    "d_norm_pca_probs_train_noraml = normalizing(d_raw_train_normal)\n",
    "d_norm_pca_probs_train_noraml, dim = PCA_transformation(d_norm_pca_probs_train_noraml)\n",
    "d_norm_pca_probs_train_noraml = pd.DataFrame(GMM_Matrix_Transform(d_norm_pca_probs_train_noraml, d_norm_pca_probs_train_noraml, 50))"
   ]
  },
  {
   "cell_type": "code",
   "execution_count": null,
   "metadata": {},
   "outputs": [],
   "source": []
  },
  {
   "cell_type": "code",
   "execution_count": null,
   "metadata": {},
   "outputs": [],
   "source": []
  },
  {
   "cell_type": "code",
   "execution_count": null,
   "metadata": {},
   "outputs": [],
   "source": []
  },
  {
   "cell_type": "code",
   "execution_count": null,
   "metadata": {},
   "outputs": [],
   "source": []
  },
  {
   "cell_type": "code",
   "execution_count": null,
   "metadata": {},
   "outputs": [],
   "source": []
  },
  {
   "cell_type": "markdown",
   "metadata": {},
   "source": [
    "# **Models**"
   ]
  },
  {
   "cell_type": "code",
   "execution_count": 24,
   "metadata": {
    "execution": {
     "iopub.execute_input": "2023-11-28T13:46:11.715871Z",
     "iopub.status.busy": "2023-11-28T13:46:11.715506Z",
     "iopub.status.idle": "2023-11-28T13:46:11.722281Z",
     "shell.execute_reply": "2023-11-28T13:46:11.721485Z",
     "shell.execute_reply.started": "2023-11-28T13:46:11.715835Z"
    }
   },
   "outputs": [],
   "source": [
    "def voting(data_train, data_test, min_abnormal_features = 10, threshold = 50):\n",
    "    preds = []\n",
    "    for idx in tqdm(range(len(data_test))):\n",
    "        values = list(data_test.iloc[idx,:])\n",
    "        no = GMM_vote(data_train, values, threshold)\n",
    "        if no > min_abnormal_features:\n",
    "            preds.append(1)\n",
    "        else:\n",
    "            preds.append(0)\n",
    "    return preds"
   ]
  },
  {
   "cell_type": "code",
   "execution_count": 25,
   "metadata": {
    "execution": {
     "iopub.execute_input": "2023-11-28T13:46:11.724031Z",
     "iopub.status.busy": "2023-11-28T13:46:11.723717Z",
     "iopub.status.idle": "2023-11-28T13:46:11.734491Z",
     "shell.execute_reply": "2023-11-28T13:46:11.733340Z",
     "shell.execute_reply.started": "2023-11-28T13:46:11.724005Z"
    }
   },
   "outputs": [],
   "source": [
    "def K_means_Distance(test_idx, test_data, model):\n",
    "    c1 = np.array(test_data.iloc[test_idx,:])\n",
    "    c2 = model.cluster_centers_[0]\n",
    "    temp = c1 - c2\n",
    "    euclid_dist = np.sqrt(np.dot(temp.T, temp))\n",
    "    euclid_dist\n",
    "    return euclid_dist"
   ]
  },
  {
   "cell_type": "code",
   "execution_count": 26,
   "metadata": {
    "execution": {
     "iopub.execute_input": "2023-11-28T13:46:11.745215Z",
     "iopub.status.busy": "2023-11-28T13:46:11.743901Z",
     "iopub.status.idle": "2023-11-28T13:46:11.753108Z",
     "shell.execute_reply": "2023-11-28T13:46:11.751556Z",
     "shell.execute_reply.started": "2023-11-28T13:46:11.745169Z"
    }
   },
   "outputs": [],
   "source": [
    "def kmd_model(test_data, train_data, model, threshold_dis):\n",
    "    kmd_d_raw_preds  = [] \n",
    "    for idx in tqdm(range(len(test_data))):\n",
    "        dis = K_means_Distance(idx, test_data, model)\n",
    "        if dis > threshold_dis:\n",
    "            kmd_d_raw_preds.append(1)\n",
    "        else:\n",
    "            kmd_d_raw_preds.append(0)\n",
    "    return kmd_d_raw_preds"
   ]
  },
  {
   "cell_type": "code",
   "execution_count": 27,
   "metadata": {
    "execution": {
     "iopub.execute_input": "2023-11-28T13:46:11.755470Z",
     "iopub.status.busy": "2023-11-28T13:46:11.754376Z",
     "iopub.status.idle": "2023-11-28T13:46:11.766113Z",
     "shell.execute_reply": "2023-11-28T13:46:11.764610Z",
     "shell.execute_reply.started": "2023-11-28T13:46:11.755354Z"
    }
   },
   "outputs": [],
   "source": [
    "def SVM_model(train_data, test_data):\n",
    "    model = SVC()\n",
    "    model.fit(train_data, train_target)\n",
    "    preds = model.predict(test_data)\n",
    "    return preds"
   ]
  },
  {
   "cell_type": "code",
   "execution_count": 28,
   "metadata": {
    "execution": {
     "iopub.execute_input": "2023-11-28T13:46:11.767841Z",
     "iopub.status.busy": "2023-11-28T13:46:11.767516Z",
     "iopub.status.idle": "2023-11-28T13:46:11.777410Z",
     "shell.execute_reply": "2023-11-28T13:46:11.776458Z",
     "shell.execute_reply.started": "2023-11-28T13:46:11.767814Z"
    }
   },
   "outputs": [],
   "source": [
    "def kmean_C_model(train_data, test_data):\n",
    "    kmeans = KMeans(n_clusters=2, n_init=\"auto\").fit(train_data)\n",
    "    preds = kmeans.predict(test_data)\n",
    "    return preds"
   ]
  },
  {
   "cell_type": "code",
   "execution_count": 29,
   "metadata": {
    "execution": {
     "iopub.execute_input": "2023-11-28T13:46:11.779658Z",
     "iopub.status.busy": "2023-11-28T13:46:11.778575Z",
     "iopub.status.idle": "2023-11-28T13:46:11.790665Z",
     "shell.execute_reply": "2023-11-28T13:46:11.789584Z",
     "shell.execute_reply.started": "2023-11-28T13:46:11.779614Z"
    }
   },
   "outputs": [],
   "source": [
    "def dt_model(train_data, test_data):\n",
    "    model = tree.DecisionTreeClassifier()\n",
    "    model.fit(train_data, train_target)\n",
    "    preds = model.predict(test_data)\n",
    "    return preds"
   ]
  },
  {
   "cell_type": "code",
   "execution_count": 30,
   "metadata": {
    "execution": {
     "iopub.execute_input": "2023-11-28T13:46:11.792481Z",
     "iopub.status.busy": "2023-11-28T13:46:11.792035Z",
     "iopub.status.idle": "2023-11-28T13:46:11.805653Z",
     "shell.execute_reply": "2023-11-28T13:46:11.804518Z",
     "shell.execute_reply.started": "2023-11-28T13:46:11.792439Z"
    }
   },
   "outputs": [],
   "source": [
    "def mlp_model(train_data, test_data):\n",
    "    model = MLPClassifier(max_iter=300).fit(train_data, train_target)\n",
    "    preds = model.predict(test_data)\n",
    "    return preds"
   ]
  },
  {
   "cell_type": "markdown",
   "metadata": {},
   "source": [
    "# Voting"
   ]
  },
  {
   "cell_type": "markdown",
   "metadata": {},
   "source": [
    "## Voting for d_raw"
   ]
  },
  {
   "cell_type": "code",
   "execution_count": 31,
   "metadata": {
    "execution": {
     "iopub.execute_input": "2023-11-28T13:46:11.808341Z",
     "iopub.status.busy": "2023-11-28T13:46:11.807444Z",
     "iopub.status.idle": "2023-11-28T13:51:58.108028Z",
     "shell.execute_reply": "2023-11-28T13:51:58.106657Z",
     "shell.execute_reply.started": "2023-11-28T13:46:11.808298Z"
    }
   },
   "outputs": [
    {
     "name": "stderr",
     "output_type": "stream",
     "text": [
      "100%|████████████████████████████████████████████████████████████████████████████| 18880/18880 [03:27<00:00, 91.14it/s]\n"
     ]
    }
   ],
   "source": [
    "voting_d_raw_preds = voting(d_raw_train_normal, d_raw_test, min_abnormal_features = 10, threshold = 50)"
   ]
  },
  {
   "cell_type": "markdown",
   "metadata": {},
   "source": [
    "## Voting for d_raw_pca"
   ]
  },
  {
   "cell_type": "code",
   "execution_count": 32,
   "metadata": {
    "execution": {
     "iopub.execute_input": "2023-11-28T13:51:58.110095Z",
     "iopub.status.busy": "2023-11-28T13:51:58.109645Z",
     "iopub.status.idle": "2023-11-28T13:51:58.239839Z",
     "shell.execute_reply": "2023-11-28T13:51:58.238182Z",
     "shell.execute_reply.started": "2023-11-28T13:51:58.110052Z"
    }
   },
   "outputs": [],
   "source": [
    "d_raw_pca_train_normal, _ = PCA_transformation(d_raw_train_normal)"
   ]
  },
  {
   "cell_type": "code",
   "execution_count": 33,
   "metadata": {
    "execution": {
     "iopub.execute_input": "2023-11-28T13:51:58.243365Z",
     "iopub.status.busy": "2023-11-28T13:51:58.242268Z",
     "iopub.status.idle": "2023-11-28T13:57:24.873482Z",
     "shell.execute_reply": "2023-11-28T13:57:24.872101Z",
     "shell.execute_reply.started": "2023-11-28T13:51:58.243307Z"
    }
   },
   "outputs": [
    {
     "name": "stderr",
     "output_type": "stream",
     "text": [
      "100%|████████████████████████████████████████████████████████████████████████████| 18880/18880 [03:12<00:00, 98.21it/s]\n"
     ]
    }
   ],
   "source": [
    "voting_d_raw_pac_preds = voting(d_raw_pca_train_normal, d_raw_pca_test, min_abnormal_features = 10, threshold = 50)"
   ]
  },
  {
   "cell_type": "code",
   "execution_count": null,
   "metadata": {},
   "outputs": [],
   "source": []
  },
  {
   "cell_type": "markdown",
   "metadata": {},
   "source": [
    "## Voting for d_raw_norm"
   ]
  },
  {
   "cell_type": "code",
   "execution_count": 34,
   "metadata": {
    "execution": {
     "iopub.execute_input": "2023-11-28T13:57:24.875285Z",
     "iopub.status.busy": "2023-11-28T13:57:24.874918Z",
     "iopub.status.idle": "2023-11-28T13:57:25.213985Z",
     "shell.execute_reply": "2023-11-28T13:57:25.212629Z",
     "shell.execute_reply.started": "2023-11-28T13:57:24.875254Z"
    }
   },
   "outputs": [],
   "source": [
    "d_raw_norm_train_normal = normalizing(d_raw_train_normal)"
   ]
  },
  {
   "cell_type": "code",
   "execution_count": 35,
   "metadata": {
    "execution": {
     "iopub.execute_input": "2023-11-28T13:57:25.216194Z",
     "iopub.status.busy": "2023-11-28T13:57:25.215846Z",
     "iopub.status.idle": "2023-11-28T14:03:15.085014Z",
     "shell.execute_reply": "2023-11-28T14:03:15.083787Z",
     "shell.execute_reply.started": "2023-11-28T13:57:25.216167Z"
    }
   },
   "outputs": [
    {
     "name": "stderr",
     "output_type": "stream",
     "text": [
      "100%|████████████████████████████████████████████████████████████████████████████| 18880/18880 [03:27<00:00, 91.07it/s]\n"
     ]
    }
   ],
   "source": [
    "voting_d_raw_norm_preds = voting(d_raw_norm_train_normal, d_raw_norm_test, min_abnormal_features = 10, threshold = 50)"
   ]
  },
  {
   "cell_type": "markdown",
   "metadata": {},
   "source": [
    "## Voting for d_raw_norm_pca"
   ]
  },
  {
   "cell_type": "code",
   "execution_count": 36,
   "metadata": {
    "execution": {
     "iopub.execute_input": "2023-11-28T14:03:15.087565Z",
     "iopub.status.busy": "2023-11-28T14:03:15.087110Z",
     "iopub.status.idle": "2023-11-28T14:03:15.598453Z",
     "shell.execute_reply": "2023-11-28T14:03:15.596885Z",
     "shell.execute_reply.started": "2023-11-28T14:03:15.087524Z"
    }
   },
   "outputs": [],
   "source": [
    "d_raw_norm_pca_train_noraml, dim = PCA_transformation(normalizing(d_raw_train_normal))"
   ]
  },
  {
   "cell_type": "code",
   "execution_count": 37,
   "metadata": {
    "execution": {
     "iopub.execute_input": "2023-11-28T14:03:15.601004Z",
     "iopub.status.busy": "2023-11-28T14:03:15.600300Z",
     "iopub.status.idle": "2023-11-28T14:10:16.995468Z",
     "shell.execute_reply": "2023-11-28T14:10:16.994587Z",
     "shell.execute_reply.started": "2023-11-28T14:03:15.600953Z"
    }
   },
   "outputs": [
    {
     "name": "stderr",
     "output_type": "stream",
     "text": [
      "100%|████████████████████████████████████████████████████████████████████████████| 18880/18880 [04:21<00:00, 72.28it/s]\n"
     ]
    }
   ],
   "source": [
    "voting_d_raw_norm_pac_preds = voting(d_raw_norm_pca_train, d_raw_norm_pca_test, min_abnormal_features = 10, threshold = 50)"
   ]
  },
  {
   "cell_type": "markdown",
   "metadata": {},
   "source": [
    "# KM-D"
   ]
  },
  {
   "cell_type": "markdown",
   "metadata": {},
   "source": [
    "## KM-D for d_raw"
   ]
  },
  {
   "cell_type": "code",
   "execution_count": 39,
   "metadata": {
    "execution": {
     "iopub.execute_input": "2023-11-28T14:10:16.997156Z",
     "iopub.status.busy": "2023-11-28T14:10:16.996825Z",
     "iopub.status.idle": "2023-11-28T14:10:17.005518Z",
     "shell.execute_reply": "2023-11-28T14:10:17.004325Z",
     "shell.execute_reply.started": "2023-11-28T14:10:16.997109Z"
    }
   },
   "outputs": [
    {
     "name": "stderr",
     "output_type": "stream",
     "text": [
      "100%|█████████████████████████████████████████████████████████████████████████| 53600/53600 [00:03<00:00, 13596.33it/s]\n"
     ]
    },
    {
     "data": {
      "text/plain": [
       "176.78959348537506"
      ]
     },
     "execution_count": 39,
     "metadata": {},
     "output_type": "execute_result"
    }
   ],
   "source": [
    "def K_means_Distance_test(test_idx, test_data, model):\n",
    "    c1 = np.array(test_data.iloc[test_idx,:])\n",
    "    c2 = model.cluster_centers_[0]\n",
    "    temp = c1 - c2\n",
    "    euclid_dist = np.sqrt(np.dot(temp.T, temp))\n",
    "    euclid_dist\n",
    "    return euclid_dist\n",
    "\n",
    "def kmd_model_test(test_data, train_data, model):\n",
    "    kmd_d_raw_preds  = [] \n",
    "    for idx in tqdm(range(len(test_data))):\n",
    "        dis = K_means_Distance_test(idx, test_data, model)\n",
    "        kmd_d_raw_preds.append(dis)\n",
    "    return kmd_d_raw_preds\n",
    "\n",
    "kmeans = KMeans(n_clusters=1, random_state=0, n_init=\"auto\").fit(d_norm_pca_probs_train_noraml)\n",
    "res = kmd_model_test(d_norm_pca_probs_train_noraml, d_norm_pca_probs_train_noraml,kmeans)\n",
    "np.mean(res)+2.5*np.std(res)"
   ]
  },
  {
   "cell_type": "code",
   "execution_count": 40,
   "metadata": {
    "execution": {
     "iopub.execute_input": "2023-11-28T14:10:17.007889Z",
     "iopub.status.busy": "2023-11-28T14:10:17.007466Z",
     "iopub.status.idle": "2023-11-28T14:10:20.425967Z",
     "shell.execute_reply": "2023-11-28T14:10:20.424750Z",
     "shell.execute_reply.started": "2023-11-28T14:10:17.007849Z"
    }
   },
   "outputs": [
    {
     "name": "stderr",
     "output_type": "stream",
     "text": [
      "100%|██████████████████████████████████████████████████████████████████████████| 18880/18880 [00:02<00:00, 8079.45it/s]\n"
     ]
    }
   ],
   "source": [
    "kmeans = KMeans(n_clusters=1, random_state=0, n_init=\"auto\").fit(d_raw_train_normal)\n",
    "kmd_d_raw_preds = kmd_model(d_raw_test, d_raw_train_normal,kmeans, 0.8)"
   ]
  },
  {
   "cell_type": "markdown",
   "metadata": {},
   "source": [
    "## KM-D for d_raw_pca"
   ]
  },
  {
   "cell_type": "code",
   "execution_count": 41,
   "metadata": {
    "execution": {
     "iopub.execute_input": "2023-11-28T14:10:20.427885Z",
     "iopub.status.busy": "2023-11-28T14:10:20.427534Z",
     "iopub.status.idle": "2023-11-28T14:10:22.460515Z",
     "shell.execute_reply": "2023-11-28T14:10:22.459382Z",
     "shell.execute_reply.started": "2023-11-28T14:10:20.427856Z"
    }
   },
   "outputs": [
    {
     "name": "stderr",
     "output_type": "stream",
     "text": [
      "100%|█████████████████████████████████████████████████████████████████████████| 18880/18880 [00:01<00:00, 12999.67it/s]\n"
     ]
    }
   ],
   "source": [
    "kmeans = KMeans(n_clusters=1, random_state=0, n_init=\"auto\").fit(d_raw_pca_train_normal)\n",
    "kmd_d_raw_pca_preds = kmd_model(d_raw_pca_test, d_raw_pca_train_normal,kmeans,0.8)"
   ]
  },
  {
   "cell_type": "markdown",
   "metadata": {},
   "source": [
    "## KM-D for d_raw_norm"
   ]
  },
  {
   "cell_type": "code",
   "execution_count": 42,
   "metadata": {
    "execution": {
     "iopub.execute_input": "2023-11-28T14:10:22.463067Z",
     "iopub.status.busy": "2023-11-28T14:10:22.462622Z",
     "iopub.status.idle": "2023-11-28T14:10:25.799359Z",
     "shell.execute_reply": "2023-11-28T14:10:25.798176Z",
     "shell.execute_reply.started": "2023-11-28T14:10:22.463027Z"
    }
   },
   "outputs": [
    {
     "name": "stderr",
     "output_type": "stream",
     "text": [
      "100%|██████████████████████████████████████████████████████████████████████████| 18880/18880 [00:02<00:00, 8226.38it/s]\n"
     ]
    }
   ],
   "source": [
    "kmeans = KMeans(n_clusters=1, random_state=0, n_init=\"auto\").fit(d_raw_norm_train_normal)\n",
    "kmd_d_raw_norm_preds = kmd_model(d_raw_norm_test, d_raw_norm_train_normal,kmeans,0.5)\n",
    "# np.unique(kmd_d_raw_norm_preds, return_counts=True)"
   ]
  },
  {
   "cell_type": "markdown",
   "metadata": {},
   "source": [
    "## KM-D for d_raw_norm_pca"
   ]
  },
  {
   "cell_type": "code",
   "execution_count": 43,
   "metadata": {
    "execution": {
     "iopub.execute_input": "2023-11-28T14:10:25.801729Z",
     "iopub.status.busy": "2023-11-28T14:10:25.801270Z",
     "iopub.status.idle": "2023-11-28T14:10:27.834229Z",
     "shell.execute_reply": "2023-11-28T14:10:27.832675Z",
     "shell.execute_reply.started": "2023-11-28T14:10:25.801697Z"
    }
   },
   "outputs": [
    {
     "name": "stderr",
     "output_type": "stream",
     "text": [
      "100%|█████████████████████████████████████████████████████████████████████████| 18880/18880 [00:01<00:00, 13070.56it/s]\n"
     ]
    }
   ],
   "source": [
    "kmeans = KMeans(n_clusters=1, random_state=0, n_init=\"auto\").fit(d_raw_norm_pca_train_noraml)\n",
    "kmd_d_raw_norm_pca_preds = kmd_model(d_raw_norm_pca_test, d_raw_norm_pca_train_noraml,kmeans,0.5)"
   ]
  },
  {
   "cell_type": "markdown",
   "metadata": {},
   "source": [
    "## KM-D for d_raw_probs"
   ]
  },
  {
   "cell_type": "code",
   "execution_count": 44,
   "metadata": {
    "execution": {
     "iopub.execute_input": "2023-11-28T14:10:27.836241Z",
     "iopub.status.busy": "2023-11-28T14:10:27.835784Z",
     "iopub.status.idle": "2023-11-28T14:10:29.873230Z",
     "shell.execute_reply": "2023-11-28T14:10:29.872365Z",
     "shell.execute_reply.started": "2023-11-28T14:10:27.836175Z"
    }
   },
   "outputs": [
    {
     "name": "stderr",
     "output_type": "stream",
     "text": [
      "100%|█████████████████████████████████████████████████████████████████████████| 18880/18880 [00:01<00:00, 13127.58it/s]\n"
     ]
    }
   ],
   "source": [
    "kmeans = KMeans(n_clusters=1, random_state=0, n_init=\"auto\").fit(d_raw_probs_train_normal)\n",
    "kmd_d_raw_probs_preds = kmd_model(d_raw_probs_test, d_raw_probs_train_normal,kmeans,150)"
   ]
  },
  {
   "cell_type": "markdown",
   "metadata": {},
   "source": [
    "## KM-D for d_raw_pca_probs"
   ]
  },
  {
   "cell_type": "code",
   "execution_count": 45,
   "metadata": {
    "execution": {
     "iopub.execute_input": "2023-11-28T14:10:29.874992Z",
     "iopub.status.busy": "2023-11-28T14:10:29.874653Z",
     "iopub.status.idle": "2023-11-28T14:10:32.000995Z",
     "shell.execute_reply": "2023-11-28T14:10:31.999767Z",
     "shell.execute_reply.started": "2023-11-28T14:10:29.874962Z"
    }
   },
   "outputs": [
    {
     "name": "stderr",
     "output_type": "stream",
     "text": [
      "100%|█████████████████████████████████████████████████████████████████████████| 18880/18880 [00:01<00:00, 13158.68it/s]\n"
     ]
    }
   ],
   "source": [
    "kmeans = KMeans(n_clusters=1, random_state=0, n_init=\"auto\").fit(d_raw_pca_probs_train_normal)\n",
    "kmd_d_raw_pca_probs_preds = kmd_model(d_raw_pca_probs_test, d_raw_pca_probs_train_normal,kmeans,165)"
   ]
  },
  {
   "cell_type": "markdown",
   "metadata": {},
   "source": [
    "## KM-D for d_norm_probs"
   ]
  },
  {
   "cell_type": "code",
   "execution_count": 46,
   "metadata": {
    "execution": {
     "iopub.execute_input": "2023-11-28T14:10:32.002585Z",
     "iopub.status.busy": "2023-11-28T14:10:32.002241Z",
     "iopub.status.idle": "2023-11-28T14:10:34.044054Z",
     "shell.execute_reply": "2023-11-28T14:10:34.042890Z",
     "shell.execute_reply.started": "2023-11-28T14:10:32.002556Z"
    }
   },
   "outputs": [
    {
     "name": "stderr",
     "output_type": "stream",
     "text": [
      "100%|█████████████████████████████████████████████████████████████████████████| 18880/18880 [00:01<00:00, 12807.83it/s]\n"
     ]
    }
   ],
   "source": [
    "kmeans = KMeans(n_clusters=1, random_state=0, n_init=\"auto\").fit(d_norm_probs_train_normal)\n",
    "kmd_d_raw_norm_probs_preds = kmd_model(d_norm_probs_test, d_norm_probs_train_normal,kmeans,150)"
   ]
  },
  {
   "cell_type": "markdown",
   "metadata": {},
   "source": [
    "## KM-D for d_norm_pca_probs"
   ]
  },
  {
   "cell_type": "code",
   "execution_count": 47,
   "metadata": {
    "execution": {
     "iopub.execute_input": "2023-11-28T14:10:34.045980Z",
     "iopub.status.busy": "2023-11-28T14:10:34.045546Z",
     "iopub.status.idle": "2023-11-28T14:10:36.119452Z",
     "shell.execute_reply": "2023-11-28T14:10:36.118327Z",
     "shell.execute_reply.started": "2023-11-28T14:10:34.045950Z"
    }
   },
   "outputs": [
    {
     "name": "stderr",
     "output_type": "stream",
     "text": [
      "100%|█████████████████████████████████████████████████████████████████████████| 18880/18880 [00:01<00:00, 13230.67it/s]\n"
     ]
    }
   ],
   "source": [
    "kmeans = KMeans(n_clusters=1, random_state=0, n_init=\"auto\").fit(d_norm_pca_probs_train_noraml)\n",
    "kmd_d_raw_norm_pca_probs_preds = kmd_model(d_norm_pca_probs_test, d_norm_pca_probs_train_noraml,kmeans,176)"
   ]
  },
  {
   "cell_type": "markdown",
   "metadata": {},
   "source": [
    "# SVM"
   ]
  },
  {
   "cell_type": "markdown",
   "metadata": {},
   "source": [
    "## SVM for d_raw"
   ]
  },
  {
   "cell_type": "code",
   "execution_count": 48,
   "metadata": {
    "execution": {
     "iopub.execute_input": "2023-11-28T14:10:36.121967Z",
     "iopub.status.busy": "2023-11-28T14:10:36.120957Z",
     "iopub.status.idle": "2023-11-28T14:15:41.640225Z",
     "shell.execute_reply": "2023-11-28T14:15:41.638939Z",
     "shell.execute_reply.started": "2023-11-28T14:10:36.121923Z"
    }
   },
   "outputs": [],
   "source": [
    "svm_d_raw_preds = SVM_model(d_raw_train, d_raw_test)"
   ]
  },
  {
   "cell_type": "markdown",
   "metadata": {},
   "source": [
    "## SVM for d_raw_pca"
   ]
  },
  {
   "cell_type": "code",
   "execution_count": 49,
   "metadata": {
    "execution": {
     "iopub.execute_input": "2023-11-28T14:15:41.642288Z",
     "iopub.status.busy": "2023-11-28T14:15:41.641771Z",
     "iopub.status.idle": "2023-11-28T14:21:15.776057Z",
     "shell.execute_reply": "2023-11-28T14:21:15.775001Z",
     "shell.execute_reply.started": "2023-11-28T14:15:41.642248Z"
    }
   },
   "outputs": [],
   "source": [
    "svm_d_raw_pca_preds = SVM_model(d_raw_pca_train, d_raw_pca_test)"
   ]
  },
  {
   "cell_type": "markdown",
   "metadata": {},
   "source": [
    "## SVM for d_raw_norm"
   ]
  },
  {
   "cell_type": "code",
   "execution_count": 50,
   "metadata": {
    "execution": {
     "iopub.execute_input": "2023-11-28T14:21:15.777711Z",
     "iopub.status.busy": "2023-11-28T14:21:15.777360Z",
     "iopub.status.idle": "2023-11-28T14:26:40.674333Z",
     "shell.execute_reply": "2023-11-28T14:26:40.672980Z",
     "shell.execute_reply.started": "2023-11-28T14:21:15.777683Z"
    }
   },
   "outputs": [],
   "source": [
    "svm_d_raw_norm_preds = SVM_model(d_raw_norm_train, d_raw_norm_test)"
   ]
  },
  {
   "cell_type": "markdown",
   "metadata": {},
   "source": [
    "## SVM for d_raw_norm_pca"
   ]
  },
  {
   "cell_type": "code",
   "execution_count": 51,
   "metadata": {
    "execution": {
     "iopub.execute_input": "2023-11-28T14:26:40.676330Z",
     "iopub.status.busy": "2023-11-28T14:26:40.675950Z",
     "iopub.status.idle": "2023-11-28T14:28:42.875953Z",
     "shell.execute_reply": "2023-11-28T14:28:42.874887Z",
     "shell.execute_reply.started": "2023-11-28T14:26:40.676290Z"
    }
   },
   "outputs": [],
   "source": [
    "svm_d_raw_norm_pca_preds = SVM_model(d_raw_norm_pca_train, d_raw_norm_pca_test)"
   ]
  },
  {
   "cell_type": "markdown",
   "metadata": {},
   "source": [
    "## SVM for d_raw_probs"
   ]
  },
  {
   "cell_type": "code",
   "execution_count": 52,
   "metadata": {
    "execution": {
     "iopub.execute_input": "2023-11-28T14:28:42.877679Z",
     "iopub.status.busy": "2023-11-28T14:28:42.877262Z",
     "iopub.status.idle": "2023-11-28T14:29:12.206838Z",
     "shell.execute_reply": "2023-11-28T14:29:12.205400Z",
     "shell.execute_reply.started": "2023-11-28T14:28:42.877650Z"
    }
   },
   "outputs": [],
   "source": [
    "svm_d_raw_probs_preds = SVM_model(d_raw_probs_train, d_raw_probs_test)"
   ]
  },
  {
   "cell_type": "markdown",
   "metadata": {},
   "source": [
    "## SVM for d_raw_pca_probs"
   ]
  },
  {
   "cell_type": "code",
   "execution_count": 53,
   "metadata": {
    "execution": {
     "iopub.execute_input": "2023-11-28T14:29:12.208895Z",
     "iopub.status.busy": "2023-11-28T14:29:12.208323Z",
     "iopub.status.idle": "2023-11-28T14:29:45.509915Z",
     "shell.execute_reply": "2023-11-28T14:29:45.508734Z",
     "shell.execute_reply.started": "2023-11-28T14:29:12.208853Z"
    }
   },
   "outputs": [],
   "source": [
    "svm_d_raw_pca_probs_preds = SVM_model(d_raw_pca_probs_train, d_raw_pca_probs_test)"
   ]
  },
  {
   "cell_type": "markdown",
   "metadata": {},
   "source": [
    "## SVM for d_norm_probs"
   ]
  },
  {
   "cell_type": "code",
   "execution_count": 54,
   "metadata": {
    "execution": {
     "iopub.execute_input": "2023-11-28T14:29:45.511914Z",
     "iopub.status.busy": "2023-11-28T14:29:45.511460Z",
     "iopub.status.idle": "2023-11-28T14:30:15.181021Z",
     "shell.execute_reply": "2023-11-28T14:30:15.179756Z",
     "shell.execute_reply.started": "2023-11-28T14:29:45.511873Z"
    }
   },
   "outputs": [],
   "source": [
    "svm_d_norm_probs_preds = SVM_model(d_norm_probs_train, d_norm_probs_test)"
   ]
  },
  {
   "cell_type": "markdown",
   "metadata": {},
   "source": [
    "## SVM for d_norm_pca_probs "
   ]
  },
  {
   "cell_type": "code",
   "execution_count": 55,
   "metadata": {
    "execution": {
     "iopub.execute_input": "2023-11-28T14:30:15.182951Z",
     "iopub.status.busy": "2023-11-28T14:30:15.182534Z",
     "iopub.status.idle": "2023-11-28T14:30:48.822702Z",
     "shell.execute_reply": "2023-11-28T14:30:48.821657Z",
     "shell.execute_reply.started": "2023-11-28T14:30:15.182911Z"
    }
   },
   "outputs": [],
   "source": [
    "svm_d_norm_pca_probs_preds = SVM_model(d_norm_pca_probs_train, d_norm_pca_probs_test)"
   ]
  },
  {
   "cell_type": "markdown",
   "metadata": {},
   "source": [
    "# KM-C"
   ]
  },
  {
   "cell_type": "markdown",
   "metadata": {},
   "source": [
    "## KM-C for d_raw"
   ]
  },
  {
   "cell_type": "code",
   "execution_count": 56,
   "metadata": {
    "execution": {
     "iopub.execute_input": "2023-11-28T14:30:48.824358Z",
     "iopub.status.busy": "2023-11-28T14:30:48.824047Z",
     "iopub.status.idle": "2023-11-28T14:30:49.004769Z",
     "shell.execute_reply": "2023-11-28T14:30:49.003690Z",
     "shell.execute_reply.started": "2023-11-28T14:30:48.824332Z"
    }
   },
   "outputs": [],
   "source": [
    "kmc_d_raw_preds = kmean_C_model(d_raw_train, d_raw_test)"
   ]
  },
  {
   "cell_type": "markdown",
   "metadata": {},
   "source": [
    "## KM-C for d_raw_pca"
   ]
  },
  {
   "cell_type": "code",
   "execution_count": 57,
   "metadata": {
    "execution": {
     "iopub.execute_input": "2023-11-28T14:30:49.011648Z",
     "iopub.status.busy": "2023-11-28T14:30:49.006085Z",
     "iopub.status.idle": "2023-11-28T14:30:49.118149Z",
     "shell.execute_reply": "2023-11-28T14:30:49.117222Z",
     "shell.execute_reply.started": "2023-11-28T14:30:49.011604Z"
    }
   },
   "outputs": [],
   "source": [
    "kmc_d_raw_pca_preds = kmean_C_model(d_raw_pca_train, d_raw_pca_test)"
   ]
  },
  {
   "cell_type": "markdown",
   "metadata": {},
   "source": [
    "## KM-C for d_raw_norm"
   ]
  },
  {
   "cell_type": "code",
   "execution_count": 58,
   "metadata": {
    "execution": {
     "iopub.execute_input": "2023-11-28T14:30:49.125991Z",
     "iopub.status.busy": "2023-11-28T14:30:49.123258Z",
     "iopub.status.idle": "2023-11-28T14:30:49.339279Z",
     "shell.execute_reply": "2023-11-28T14:30:49.338395Z",
     "shell.execute_reply.started": "2023-11-28T14:30:49.125948Z"
    }
   },
   "outputs": [],
   "source": [
    "kmc_d_raw_norm_preds = kmean_C_model(d_raw_norm_train, d_raw_norm_test)"
   ]
  },
  {
   "cell_type": "markdown",
   "metadata": {},
   "source": [
    "## KM-C for d_raw_norm_pca"
   ]
  },
  {
   "cell_type": "code",
   "execution_count": 59,
   "metadata": {
    "execution": {
     "iopub.execute_input": "2023-11-28T14:30:49.347772Z",
     "iopub.status.busy": "2023-11-28T14:30:49.344923Z",
     "iopub.status.idle": "2023-11-28T14:30:49.537380Z",
     "shell.execute_reply": "2023-11-28T14:30:49.536492Z",
     "shell.execute_reply.started": "2023-11-28T14:30:49.347729Z"
    }
   },
   "outputs": [],
   "source": [
    "kmc_d_raw_norm_pca_preds = kmean_C_model(d_raw_norm_pca_train, d_raw_norm_pca_test)"
   ]
  },
  {
   "cell_type": "markdown",
   "metadata": {},
   "source": [
    "## KM-C for d_raw_probs"
   ]
  },
  {
   "cell_type": "code",
   "execution_count": 60,
   "metadata": {
    "execution": {
     "iopub.execute_input": "2023-11-28T14:30:49.545142Z",
     "iopub.status.busy": "2023-11-28T14:30:49.542453Z",
     "iopub.status.idle": "2023-11-28T14:30:49.736983Z",
     "shell.execute_reply": "2023-11-28T14:30:49.735493Z",
     "shell.execute_reply.started": "2023-11-28T14:30:49.545101Z"
    }
   },
   "outputs": [],
   "source": [
    "kmc_d_raw_probs_preds = kmean_C_model(d_raw_probs_train, d_raw_probs_test)"
   ]
  },
  {
   "cell_type": "markdown",
   "metadata": {},
   "source": [
    "## KM-C for d_raw_pca_probs"
   ]
  },
  {
   "cell_type": "code",
   "execution_count": 61,
   "metadata": {
    "execution": {
     "iopub.execute_input": "2023-11-28T14:30:49.744718Z",
     "iopub.status.busy": "2023-11-28T14:30:49.742000Z",
     "iopub.status.idle": "2023-11-28T14:30:49.937288Z",
     "shell.execute_reply": "2023-11-28T14:30:49.936378Z",
     "shell.execute_reply.started": "2023-11-28T14:30:49.744677Z"
    }
   },
   "outputs": [],
   "source": [
    "kmc_d_raw_pca_probs_preds = kmean_C_model(d_raw_pca_probs_train, d_raw_pca_probs_test)"
   ]
  },
  {
   "cell_type": "markdown",
   "metadata": {},
   "source": [
    "## KM-C for d_norm_probs"
   ]
  },
  {
   "cell_type": "code",
   "execution_count": 62,
   "metadata": {
    "execution": {
     "iopub.execute_input": "2023-11-28T14:30:49.945299Z",
     "iopub.status.busy": "2023-11-28T14:30:49.942666Z",
     "iopub.status.idle": "2023-11-28T14:30:50.153532Z",
     "shell.execute_reply": "2023-11-28T14:30:50.152365Z",
     "shell.execute_reply.started": "2023-11-28T14:30:49.945260Z"
    }
   },
   "outputs": [],
   "source": [
    "kmc_d_norm_probs_preds = kmean_C_model(d_norm_probs_train, d_norm_probs_test)"
   ]
  },
  {
   "cell_type": "markdown",
   "metadata": {},
   "source": [
    "## KM-D for d_norm_pca_probs"
   ]
  },
  {
   "cell_type": "code",
   "execution_count": 63,
   "metadata": {
    "execution": {
     "iopub.execute_input": "2023-11-28T14:30:50.161398Z",
     "iopub.status.busy": "2023-11-28T14:30:50.158699Z",
     "iopub.status.idle": "2023-11-28T14:30:50.420537Z",
     "shell.execute_reply": "2023-11-28T14:30:50.419641Z",
     "shell.execute_reply.started": "2023-11-28T14:30:50.161357Z"
    }
   },
   "outputs": [],
   "source": [
    "kmc_d_norm_pca_probs_preds = kmean_C_model(d_norm_pca_probs_train, d_norm_pca_probs_test)"
   ]
  },
  {
   "cell_type": "markdown",
   "metadata": {},
   "source": [
    "# DT"
   ]
  },
  {
   "cell_type": "markdown",
   "metadata": {},
   "source": [
    "## DT for d_raw"
   ]
  },
  {
   "cell_type": "code",
   "execution_count": 64,
   "metadata": {
    "execution": {
     "iopub.execute_input": "2023-11-28T14:30:50.428513Z",
     "iopub.status.busy": "2023-11-28T14:30:50.425701Z",
     "iopub.status.idle": "2023-11-28T14:30:51.042890Z",
     "shell.execute_reply": "2023-11-28T14:30:51.041796Z",
     "shell.execute_reply.started": "2023-11-28T14:30:50.428470Z"
    }
   },
   "outputs": [],
   "source": [
    "dt_d_raw_preds = dt_model(d_raw_train, d_raw_test)"
   ]
  },
  {
   "cell_type": "markdown",
   "metadata": {},
   "source": [
    "## DT for d_raw_pca"
   ]
  },
  {
   "cell_type": "code",
   "execution_count": 65,
   "metadata": {
    "execution": {
     "iopub.execute_input": "2023-11-28T14:30:51.044681Z",
     "iopub.status.busy": "2023-11-28T14:30:51.044250Z",
     "iopub.status.idle": "2023-11-28T14:30:58.289783Z",
     "shell.execute_reply": "2023-11-28T14:30:58.288556Z",
     "shell.execute_reply.started": "2023-11-28T14:30:51.044649Z"
    }
   },
   "outputs": [],
   "source": [
    "dt_d_raw_pca_preds = dt_model(d_raw_pca_train, d_raw_pca_test)"
   ]
  },
  {
   "cell_type": "markdown",
   "metadata": {},
   "source": [
    "## DT for d_raw_norm"
   ]
  },
  {
   "cell_type": "code",
   "execution_count": 104,
   "metadata": {
    "execution": {
     "iopub.execute_input": "2023-11-28T14:30:58.292822Z",
     "iopub.status.busy": "2023-11-28T14:30:58.292336Z",
     "iopub.status.idle": "2023-11-28T14:30:58.907500Z",
     "shell.execute_reply": "2023-11-28T14:30:58.906207Z",
     "shell.execute_reply.started": "2023-11-28T14:30:58.292779Z"
    }
   },
   "outputs": [],
   "source": [
    "dt_d_raw_norm_preds = dt_model(d_raw_norm_train, d_raw_norm_test)"
   ]
  },
  {
   "cell_type": "code",
   "execution_count": 105,
   "metadata": {},
   "outputs": [
    {
     "data": {
      "text/html": [
       "<div>\n",
       "<style scoped>\n",
       "    .dataframe tbody tr th:only-of-type {\n",
       "        vertical-align: middle;\n",
       "    }\n",
       "\n",
       "    .dataframe tbody tr th {\n",
       "        vertical-align: top;\n",
       "    }\n",
       "\n",
       "    .dataframe thead th {\n",
       "        text-align: right;\n",
       "    }\n",
       "</style>\n",
       "<table border=\"1\" class=\"dataframe\">\n",
       "  <thead>\n",
       "    <tr style=\"text-align: right;\">\n",
       "      <th>Predicted attacks</th>\n",
       "      <th>0</th>\n",
       "      <th>1</th>\n",
       "    </tr>\n",
       "    <tr>\n",
       "      <th>Actual attacks</th>\n",
       "      <th></th>\n",
       "      <th></th>\n",
       "    </tr>\n",
       "  </thead>\n",
       "  <tbody>\n",
       "    <tr>\n",
       "      <th>0</th>\n",
       "      <td>7624</td>\n",
       "      <td>218</td>\n",
       "    </tr>\n",
       "    <tr>\n",
       "      <th>1</th>\n",
       "      <td>3428</td>\n",
       "      <td>7610</td>\n",
       "    </tr>\n",
       "  </tbody>\n",
       "</table>\n",
       "</div>"
      ],
      "text/plain": [
       "Predicted attacks     0     1\n",
       "Actual attacks               \n",
       "0                  7624   218\n",
       "1                  3428  7610"
      ]
     },
     "execution_count": 105,
     "metadata": {},
     "output_type": "execute_result"
    }
   ],
   "source": [
    "pd.crosstab(test_target, dt_d_raw_norm_preds, rownames=['Actual attacks'], colnames=['Predicted attacks'])"
   ]
  },
  {
   "cell_type": "code",
   "execution_count": 109,
   "metadata": {},
   "outputs": [
    {
     "name": "stdout",
     "output_type": "stream",
     "text": [
      "              precision    recall  f1-score   support\n",
      "\n",
      "           0       0.69      0.97      0.81      7842\n",
      "           1       0.97      0.69      0.81     11038\n",
      "\n",
      "    accuracy                           0.81     18880\n",
      "   macro avg       0.83      0.83      0.81     18880\n",
      "weighted avg       0.85      0.81      0.81     18880\n",
      "\n"
     ]
    }
   ],
   "source": [
    "#classification report\n",
    "from sklearn.metrics import classification_report\n",
    "print(classification_report(test_target, dt_d_raw_norm_preds))"
   ]
  },
  {
   "cell_type": "markdown",
   "metadata": {},
   "source": [
    "## DT for d_raw_norm_pca"
   ]
  },
  {
   "cell_type": "code",
   "execution_count": 67,
   "metadata": {
    "execution": {
     "iopub.execute_input": "2023-11-28T14:30:58.909238Z",
     "iopub.status.busy": "2023-11-28T14:30:58.908909Z",
     "iopub.status.idle": "2023-11-28T14:31:05.198163Z",
     "shell.execute_reply": "2023-11-28T14:31:05.196894Z",
     "shell.execute_reply.started": "2023-11-28T14:30:58.909211Z"
    }
   },
   "outputs": [],
   "source": [
    "dt_d_raw_norm_pca_preds = dt_model(d_raw_norm_pca_train, d_raw_norm_pca_test)"
   ]
  },
  {
   "cell_type": "markdown",
   "metadata": {},
   "source": [
    "## DT for d_raw_probs "
   ]
  },
  {
   "cell_type": "code",
   "execution_count": 68,
   "metadata": {
    "execution": {
     "iopub.execute_input": "2023-11-28T14:31:05.199767Z",
     "iopub.status.busy": "2023-11-28T14:31:05.199363Z",
     "iopub.status.idle": "2023-11-28T14:31:05.831161Z",
     "shell.execute_reply": "2023-11-28T14:31:05.830062Z",
     "shell.execute_reply.started": "2023-11-28T14:31:05.199736Z"
    }
   },
   "outputs": [],
   "source": [
    "dt_d_raw_probs_preds = dt_model(d_raw_probs_train, d_raw_probs_test)"
   ]
  },
  {
   "cell_type": "markdown",
   "metadata": {},
   "source": [
    "## DT for d_raw_pca_probs"
   ]
  },
  {
   "cell_type": "code",
   "execution_count": 69,
   "metadata": {
    "execution": {
     "iopub.execute_input": "2023-11-28T14:31:05.833190Z",
     "iopub.status.busy": "2023-11-28T14:31:05.832723Z",
     "iopub.status.idle": "2023-11-28T14:31:11.421924Z",
     "shell.execute_reply": "2023-11-28T14:31:11.420920Z",
     "shell.execute_reply.started": "2023-11-28T14:31:05.833149Z"
    }
   },
   "outputs": [],
   "source": [
    "dt_d_raw_pca_probs_preds = dt_model(d_raw_pca_probs_train, d_raw_pca_probs_test)"
   ]
  },
  {
   "cell_type": "markdown",
   "metadata": {},
   "source": [
    "## DT for d_norm_probs"
   ]
  },
  {
   "cell_type": "code",
   "execution_count": 70,
   "metadata": {
    "execution": {
     "iopub.execute_input": "2023-11-28T14:31:11.423353Z",
     "iopub.status.busy": "2023-11-28T14:31:11.423054Z",
     "iopub.status.idle": "2023-11-28T14:31:12.026923Z",
     "shell.execute_reply": "2023-11-28T14:31:12.025819Z",
     "shell.execute_reply.started": "2023-11-28T14:31:11.423327Z"
    }
   },
   "outputs": [],
   "source": [
    "dt_d_norm_probs_preds = dt_model(d_norm_probs_train, d_norm_probs_test)"
   ]
  },
  {
   "cell_type": "markdown",
   "metadata": {},
   "source": [
    "## DT for d_norm_pca_probs"
   ]
  },
  {
   "cell_type": "code",
   "execution_count": 71,
   "metadata": {
    "execution": {
     "iopub.execute_input": "2023-11-28T14:31:12.028760Z",
     "iopub.status.busy": "2023-11-28T14:31:12.028371Z",
     "iopub.status.idle": "2023-11-28T14:31:17.565739Z",
     "shell.execute_reply": "2023-11-28T14:31:17.564480Z",
     "shell.execute_reply.started": "2023-11-28T14:31:12.028729Z"
    }
   },
   "outputs": [],
   "source": [
    "dt_d_norm_pca_probs_preds = dt_model(d_norm_pca_probs_train, d_norm_pca_probs_test)"
   ]
  },
  {
   "cell_type": "markdown",
   "metadata": {},
   "source": [
    "## MLP"
   ]
  },
  {
   "cell_type": "markdown",
   "metadata": {},
   "source": [
    "## MLP for d_raw"
   ]
  },
  {
   "cell_type": "code",
   "execution_count": 72,
   "metadata": {
    "execution": {
     "iopub.execute_input": "2023-11-28T14:31:17.567512Z",
     "iopub.status.busy": "2023-11-28T14:31:17.567136Z",
     "iopub.status.idle": "2023-11-28T14:37:01.247234Z",
     "shell.execute_reply": "2023-11-28T14:37:01.245312Z",
     "shell.execute_reply.started": "2023-11-28T14:31:17.567471Z"
    }
   },
   "outputs": [],
   "source": [
    "mlp_d_raw_preds = mlp_model(d_raw_train, d_raw_test)"
   ]
  },
  {
   "cell_type": "code",
   "execution_count": 110,
   "metadata": {},
   "outputs": [
    {
     "name": "stdout",
     "output_type": "stream",
     "text": [
      "              precision    recall  f1-score   support\n",
      "\n",
      "           0       0.71      0.97      0.82      7842\n",
      "           1       0.98      0.72      0.83     11038\n",
      "\n",
      "    accuracy                           0.82     18880\n",
      "   macro avg       0.84      0.85      0.82     18880\n",
      "weighted avg       0.87      0.82      0.83     18880\n",
      "\n"
     ]
    }
   ],
   "source": [
    "#classification report\n",
    "from sklearn.metrics import classification_report\n",
    "print(classification_report(test_target, mlp_d_raw_preds))"
   ]
  },
  {
   "cell_type": "markdown",
   "metadata": {},
   "source": [
    "## MLP for d_raw_pca"
   ]
  },
  {
   "cell_type": "code",
   "execution_count": 73,
   "metadata": {
    "execution": {
     "iopub.execute_input": "2023-11-28T14:37:01.251495Z",
     "iopub.status.busy": "2023-11-28T14:37:01.250070Z",
     "iopub.status.idle": "2023-11-28T14:38:05.781181Z",
     "shell.execute_reply": "2023-11-28T14:38:05.779543Z",
     "shell.execute_reply.started": "2023-11-28T14:37:01.251403Z"
    }
   },
   "outputs": [],
   "source": [
    "mlp_d_raw_pca_preds = mlp_model(d_raw_pca_train, d_raw_pca_test)"
   ]
  },
  {
   "cell_type": "code",
   "execution_count": 111,
   "metadata": {},
   "outputs": [
    {
     "name": "stdout",
     "output_type": "stream",
     "text": [
      "              precision    recall  f1-score   support\n",
      "\n",
      "           0       0.67      0.89      0.76      7842\n",
      "           1       0.90      0.68      0.78     11038\n",
      "\n",
      "    accuracy                           0.77     18880\n",
      "   macro avg       0.78      0.79      0.77     18880\n",
      "weighted avg       0.80      0.77      0.77     18880\n",
      "\n"
     ]
    }
   ],
   "source": [
    "#classification report\n",
    "from sklearn.metrics import classification_report\n",
    "print(classification_report(test_target, mlp_d_raw_pca_preds))"
   ]
  },
  {
   "cell_type": "markdown",
   "metadata": {},
   "source": [
    "## MLP for d_raw_norm"
   ]
  },
  {
   "cell_type": "code",
   "execution_count": 74,
   "metadata": {
    "execution": {
     "iopub.execute_input": "2023-11-28T14:38:05.791821Z",
     "iopub.status.busy": "2023-11-28T14:38:05.790288Z",
     "iopub.status.idle": "2023-11-28T14:44:24.868901Z",
     "shell.execute_reply": "2023-11-28T14:44:24.867293Z",
     "shell.execute_reply.started": "2023-11-28T14:38:05.791750Z"
    }
   },
   "outputs": [],
   "source": [
    "mlp_d_raw_norm_preds = mlp_model(d_raw_norm_train, d_raw_norm_test)"
   ]
  },
  {
   "cell_type": "markdown",
   "metadata": {},
   "source": [
    "## MLP for d_raw_norm_pca"
   ]
  },
  {
   "cell_type": "code",
   "execution_count": 75,
   "metadata": {
    "execution": {
     "iopub.execute_input": "2023-11-28T14:44:24.872566Z",
     "iopub.status.busy": "2023-11-28T14:44:24.871414Z",
     "iopub.status.idle": "2023-11-28T14:52:01.429099Z",
     "shell.execute_reply": "2023-11-28T14:52:01.427502Z",
     "shell.execute_reply.started": "2023-11-28T14:44:24.872505Z"
    }
   },
   "outputs": [],
   "source": [
    "mlp_d_raw_norm_pca_preds = mlp_model(d_raw_norm_pca_train, d_raw_norm_pca_test)"
   ]
  },
  {
   "cell_type": "markdown",
   "metadata": {},
   "source": [
    "## MLP for d_raw_probs"
   ]
  },
  {
   "cell_type": "code",
   "execution_count": 76,
   "metadata": {
    "execution": {
     "iopub.execute_input": "2023-11-28T14:52:01.431730Z",
     "iopub.status.busy": "2023-11-28T14:52:01.430997Z",
     "iopub.status.idle": "2023-11-28T14:54:28.462793Z",
     "shell.execute_reply": "2023-11-28T14:54:28.461154Z",
     "shell.execute_reply.started": "2023-11-28T14:52:01.431688Z"
    }
   },
   "outputs": [],
   "source": [
    "mlp_d_raw_probs_preds = mlp_model(d_raw_probs_train, d_raw_probs_test)"
   ]
  },
  {
   "cell_type": "markdown",
   "metadata": {},
   "source": [
    "## MLP for d_raw_pca_probs"
   ]
  },
  {
   "cell_type": "code",
   "execution_count": 77,
   "metadata": {
    "execution": {
     "iopub.execute_input": "2023-11-28T14:54:28.465688Z",
     "iopub.status.busy": "2023-11-28T14:54:28.464863Z",
     "iopub.status.idle": "2023-11-28T14:56:01.046942Z",
     "shell.execute_reply": "2023-11-28T14:56:01.045300Z",
     "shell.execute_reply.started": "2023-11-28T14:54:28.465646Z"
    }
   },
   "outputs": [],
   "source": [
    "mlp_d_raw_pca_probs_preds = mlp_model(d_raw_pca_probs_train, d_raw_pca_probs_test)"
   ]
  },
  {
   "cell_type": "markdown",
   "metadata": {},
   "source": [
    "## MLP for d_norm_probs"
   ]
  },
  {
   "cell_type": "code",
   "execution_count": 78,
   "metadata": {
    "execution": {
     "iopub.execute_input": "2023-11-28T14:56:01.050673Z",
     "iopub.status.busy": "2023-11-28T14:56:01.049244Z",
     "iopub.status.idle": "2023-11-28T14:59:31.464092Z",
     "shell.execute_reply": "2023-11-28T14:59:31.462446Z",
     "shell.execute_reply.started": "2023-11-28T14:56:01.050613Z"
    }
   },
   "outputs": [],
   "source": [
    "mlp_d_norm_probs_preds = mlp_model(d_norm_probs_train, d_norm_probs_test)"
   ]
  },
  {
   "cell_type": "markdown",
   "metadata": {},
   "source": [
    "## MLP for d_norm_pca_probs"
   ]
  },
  {
   "cell_type": "code",
   "execution_count": 79,
   "metadata": {
    "execution": {
     "iopub.execute_input": "2023-11-28T14:59:31.468534Z",
     "iopub.status.busy": "2023-11-28T14:59:31.467234Z",
     "iopub.status.idle": "2023-11-28T15:01:40.993815Z",
     "shell.execute_reply": "2023-11-28T15:01:40.992162Z",
     "shell.execute_reply.started": "2023-11-28T14:59:31.468464Z"
    }
   },
   "outputs": [],
   "source": [
    "mlp_d_norm_pca_probs_preds = mlp_model(d_norm_pca_probs_train, d_norm_pca_probs_test)"
   ]
  },
  {
   "cell_type": "markdown",
   "metadata": {},
   "source": [
    "# Evaluation"
   ]
  },
  {
   "cell_type": "code",
   "execution_count": 95,
   "metadata": {
    "execution": {
     "iopub.execute_input": "2023-11-28T15:01:41.009004Z",
     "iopub.status.busy": "2023-11-28T15:01:41.003832Z",
     "iopub.status.idle": "2023-11-28T15:01:41.019204Z",
     "shell.execute_reply": "2023-11-28T15:01:41.017445Z",
     "shell.execute_reply.started": "2023-11-28T15:01:41.008929Z"
    }
   },
   "outputs": [],
   "source": [
    "def f1(y_true, y_pred):\n",
    "    return f1_score(y_true, y_pred)"
   ]
  },
  {
   "cell_type": "code",
   "execution_count": 97,
   "metadata": {
    "execution": {
     "iopub.execute_input": "2023-11-28T15:01:41.091404Z",
     "iopub.status.busy": "2023-11-28T15:01:41.090184Z",
     "iopub.status.idle": "2023-11-28T15:01:41.109770Z",
     "shell.execute_reply": "2023-11-28T15:01:41.108205Z",
     "shell.execute_reply.started": "2023-11-28T15:01:41.091341Z"
    }
   },
   "outputs": [],
   "source": [
    "def sensitivity(y_true, y_pred):\n",
    "    tp = sum((y_true == 1) & (y_pred == 1))\n",
    "    fn = sum((y_true == 1) & (y_pred == 0))\n",
    "\n",
    "    sensitivity_score = tp / (tp + fn) if (tp + fn) > 0 else 0.0\n",
    "\n",
    "    return sensitivity_score"
   ]
  },
  {
   "cell_type": "code",
   "execution_count": 112,
   "metadata": {
    "execution": {
     "iopub.execute_input": "2023-11-28T15:01:41.049726Z",
     "iopub.status.busy": "2023-11-28T15:01:41.048934Z",
     "iopub.status.idle": "2023-11-28T15:01:41.083115Z",
     "shell.execute_reply": "2023-11-28T15:01:41.081597Z",
     "shell.execute_reply.started": "2023-11-28T15:01:41.049665Z"
    }
   },
   "outputs": [
    {
     "data": {
      "text/plain": [
       "0.7378835483655325"
      ]
     },
     "execution_count": 112,
     "metadata": {},
     "output_type": "execute_result"
    }
   ],
   "source": [
    "# example\n",
    "f1(test_target, kmc_d_norm_pca_probs_preds)"
   ]
  },
  {
   "cell_type": "code",
   "execution_count": 114,
   "metadata": {
    "execution": {
     "iopub.execute_input": "2023-11-28T15:01:41.112496Z",
     "iopub.status.busy": "2023-11-28T15:01:41.111857Z",
     "iopub.status.idle": "2023-11-28T15:01:41.134491Z",
     "shell.execute_reply": "2023-11-28T15:01:41.133612Z",
     "shell.execute_reply.started": "2023-11-28T15:01:41.112460Z"
    }
   },
   "outputs": [
    {
     "data": {
      "text/plain": [
       "1.0"
      ]
     },
     "execution_count": 114,
     "metadata": {},
     "output_type": "execute_result"
    }
   ],
   "source": [
    "# example\n",
    "sensitivity(test_target, kmc_d_norm_pca_probs_preds)"
   ]
  }
 ],
 "metadata": {
  "kaggle": {
   "accelerator": "none",
   "dataSources": [
    {
     "datasetId": 174616,
     "sourceId": 394223,
     "sourceType": "datasetVersion"
    }
   ],
   "dockerImageVersionId": 30579,
   "isGpuEnabled": false,
   "isInternetEnabled": true,
   "language": "python",
   "sourceType": "notebook"
  },
  "kernelspec": {
   "display_name": "Python 3 (ipykernel)",
   "language": "python",
   "name": "python3"
  },
  "language_info": {
   "codemirror_mode": {
    "name": "ipython",
    "version": 3
   },
   "file_extension": ".py",
   "mimetype": "text/x-python",
   "name": "python",
   "nbconvert_exporter": "python",
   "pygments_lexer": "ipython3",
   "version": "3.11.4"
  }
 },
 "nbformat": 4,
 "nbformat_minor": 4
}
