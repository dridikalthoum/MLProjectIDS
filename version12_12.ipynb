{
 "cells": [
  {
   "cell_type": "code",
   "execution_count": 219,
   "id": "c8546d03-4d13-49a6-91d7-f0a9a1e3b3dd",
   "metadata": {},
   "outputs": [],
   "source": [
    "import pandas as pd\n",
    "import seaborn as sns\n",
    "import matplotlib.pyplot as plt\n",
    "from sklearn.preprocessing import LabelEncoder\n",
    "import pandas as pd\n",
    "import numpy as np\n",
    "from sklearn.feature_selection import f_classif\n",
    "from sklearn.feature_selection import SelectKBest\n",
    "from scipy.io import arff\n",
    "from sklearn.preprocessing import normalize\n",
    "from sklearn.decomposition import PCA\n",
    "from tqdm import tqdm\n",
    "from scipy.stats import norm\n",
    "from sklearn.metrics import f1_score\n",
    "from sklearn.cluster import KMeans\n",
    "from sklearn.metrics import confusion_matrix\n",
    "from sklearn.metrics import roc_curve, roc_auc_score\n",
    "from sklearn.svm import SVC\n",
    "from sklearn import tree"
   ]
  },
  {
   "cell_type": "code",
   "execution_count": 70,
   "id": "aa25725b-4887-4410-b8ef-e4b09c6c1dac",
   "metadata": {},
   "outputs": [
    {
     "name": "stdout",
     "output_type": "stream",
     "text": [
      "Decoding byte strings into ordinary strings. (for train data)\n",
      "Decoding byte strings into ordinary strings. (for test data)\n"
     ]
    }
   ],
   "source": [
    "\n",
    "# importer les données\n",
    "train_df = pd.DataFrame(arff.loadarff('KDDTrain+.arff')[0])\n",
    "test_df = pd.DataFrame(arff.loadarff('KDDTest+.arff')[0])\n",
    "\n",
    "### Decoder byte strings en ordinary strings: pour éviter les b'' sur les valeurs de chaines de caractères\n",
    "print('Decoding byte strings into ordinary strings. (for train data)')\n",
    "strings = train_df.select_dtypes([object])\n",
    "strings = strings.stack().str.decode('utf-8').unstack()\n",
    "for column in strings:\n",
    "    train_df[column] = strings[column]\n",
    "\n",
    "    \n",
    "print('Decoding byte strings into ordinary strings. (for test data)')\n",
    "strings = test_df.select_dtypes([object])\n",
    "strings = strings.stack().str.decode('utf-8').unstack()\n",
    "for column in strings:\n",
    "    test_df[column] = strings[column]\n"
   ]
  },
  {
   "cell_type": "code",
   "execution_count": 196,
   "id": "3a5ad872-05e2-4129-aeec-38b52cb423bb",
   "metadata": {},
   "outputs": [],
   "source": [
    "train_target = pd.read_csv('train_target.csv')"
   ]
  },
  {
   "cell_type": "code",
   "execution_count": 197,
   "id": "692fd7b2-98cb-4e11-9535-d9bb3a8c339c",
   "metadata": {},
   "outputs": [
    {
     "data": {
      "text/plain": [
       "(49610, 1)"
      ]
     },
     "execution_count": 197,
     "metadata": {},
     "output_type": "execute_result"
    }
   ],
   "source": [
    "train_target.shape"
   ]
  },
  {
   "cell_type": "code",
   "execution_count": 71,
   "id": "6d9dd76d-3915-4918-86ee-5557bf397bf2",
   "metadata": {},
   "outputs": [
    {
     "data": {
      "text/plain": [
       "(22544, 42)"
      ]
     },
     "execution_count": 71,
     "metadata": {},
     "output_type": "execute_result"
    }
   ],
   "source": [
    "test_df.shape"
   ]
  },
  {
   "cell_type": "code",
   "execution_count": 72,
   "id": "bd93760a-5439-4c68-a61f-3a1659220348",
   "metadata": {},
   "outputs": [
    {
     "data": {
      "text/plain": [
       "(125973, 42)"
      ]
     },
     "execution_count": 72,
     "metadata": {},
     "output_type": "execute_result"
    }
   ],
   "source": [
    "train_df.shape"
   ]
  },
  {
   "cell_type": "code",
   "execution_count": 73,
   "id": "972869de-4a4b-462d-80a0-07b08d0a5cb8",
   "metadata": {},
   "outputs": [
    {
     "data": {
      "text/plain": [
       "Index(['duration', 'protocol_type', 'service', 'flag', 'src_bytes',\n",
       "       'dst_bytes', 'land', 'wrong_fragment', 'urgent', 'hot',\n",
       "       'num_failed_logins', 'logged_in', 'num_compromised', 'root_shell',\n",
       "       'su_attempted', 'num_root', 'num_file_creations', 'num_shells',\n",
       "       'num_access_files', 'num_outbound_cmds', 'is_host_login',\n",
       "       'is_guest_login', 'count', 'srv_count', 'serror_rate',\n",
       "       'srv_serror_rate', 'rerror_rate', 'srv_rerror_rate', 'same_srv_rate',\n",
       "       'diff_srv_rate', 'srv_diff_host_rate', 'dst_host_count',\n",
       "       'dst_host_srv_count', 'dst_host_same_srv_rate',\n",
       "       'dst_host_diff_srv_rate', 'dst_host_same_src_port_rate',\n",
       "       'dst_host_srv_diff_host_rate', 'dst_host_serror_rate',\n",
       "       'dst_host_srv_serror_rate', 'dst_host_rerror_rate',\n",
       "       'dst_host_srv_rerror_rate', 'class'],\n",
       "      dtype='object')"
      ]
     },
     "execution_count": 73,
     "metadata": {},
     "output_type": "execute_result"
    }
   ],
   "source": [
    "test_df.columns"
   ]
  },
  {
   "cell_type": "code",
   "execution_count": 74,
   "id": "77ed2e6e-f533-40ce-9eef-ae6356421b00",
   "metadata": {},
   "outputs": [
    {
     "data": {
      "text/plain": [
       "Index(['duration', 'protocol_type', 'service', 'flag', 'src_bytes',\n",
       "       'dst_bytes', 'land', 'wrong_fragment', 'urgent', 'hot',\n",
       "       'num_failed_logins', 'logged_in', 'num_compromised', 'root_shell',\n",
       "       'su_attempted', 'num_root', 'num_file_creations', 'num_shells',\n",
       "       'num_access_files', 'num_outbound_cmds', 'is_host_login',\n",
       "       'is_guest_login', 'count', 'srv_count', 'serror_rate',\n",
       "       'srv_serror_rate', 'rerror_rate', 'srv_rerror_rate', 'same_srv_rate',\n",
       "       'diff_srv_rate', 'srv_diff_host_rate', 'dst_host_count',\n",
       "       'dst_host_srv_count', 'dst_host_same_srv_rate',\n",
       "       'dst_host_diff_srv_rate', 'dst_host_same_src_port_rate',\n",
       "       'dst_host_srv_diff_host_rate', 'dst_host_serror_rate',\n",
       "       'dst_host_srv_serror_rate', 'dst_host_rerror_rate',\n",
       "       'dst_host_srv_rerror_rate', 'class'],\n",
       "      dtype='object')"
      ]
     },
     "execution_count": 74,
     "metadata": {},
     "output_type": "execute_result"
    }
   ],
   "source": [
    "train_df.columns"
   ]
  },
  {
   "cell_type": "markdown",
   "id": "f9f78716-baf0-4288-9df4-80d2eb21739f",
   "metadata": {},
   "source": [
    "<h2> 3.2 Data processing </h2>"
   ]
  },
  {
   "cell_type": "code",
   "execution_count": 75,
   "id": "ca054d83-90fc-45cb-8ec7-d13bc976c69a",
   "metadata": {},
   "outputs": [
    {
     "data": {
      "text/html": [
       "<div>\n",
       "<style scoped>\n",
       "    .dataframe tbody tr th:only-of-type {\n",
       "        vertical-align: middle;\n",
       "    }\n",
       "\n",
       "    .dataframe tbody tr th {\n",
       "        vertical-align: top;\n",
       "    }\n",
       "\n",
       "    .dataframe thead th {\n",
       "        text-align: right;\n",
       "    }\n",
       "</style>\n",
       "<table border=\"1\" class=\"dataframe\">\n",
       "  <thead>\n",
       "    <tr style=\"text-align: right;\">\n",
       "      <th></th>\n",
       "      <th>protocol_type</th>\n",
       "      <th>service</th>\n",
       "      <th>flag</th>\n",
       "      <th>land</th>\n",
       "      <th>logged_in</th>\n",
       "      <th>is_host_login</th>\n",
       "      <th>is_guest_login</th>\n",
       "      <th>class</th>\n",
       "    </tr>\n",
       "  </thead>\n",
       "  <tbody>\n",
       "    <tr>\n",
       "      <th>0</th>\n",
       "      <td>tcp</td>\n",
       "      <td>ftp_data</td>\n",
       "      <td>SF</td>\n",
       "      <td>0</td>\n",
       "      <td>0</td>\n",
       "      <td>0</td>\n",
       "      <td>0</td>\n",
       "      <td>normal</td>\n",
       "    </tr>\n",
       "    <tr>\n",
       "      <th>1</th>\n",
       "      <td>udp</td>\n",
       "      <td>other</td>\n",
       "      <td>SF</td>\n",
       "      <td>0</td>\n",
       "      <td>0</td>\n",
       "      <td>0</td>\n",
       "      <td>0</td>\n",
       "      <td>normal</td>\n",
       "    </tr>\n",
       "    <tr>\n",
       "      <th>2</th>\n",
       "      <td>tcp</td>\n",
       "      <td>private</td>\n",
       "      <td>S0</td>\n",
       "      <td>0</td>\n",
       "      <td>0</td>\n",
       "      <td>0</td>\n",
       "      <td>0</td>\n",
       "      <td>anomaly</td>\n",
       "    </tr>\n",
       "    <tr>\n",
       "      <th>3</th>\n",
       "      <td>tcp</td>\n",
       "      <td>http</td>\n",
       "      <td>SF</td>\n",
       "      <td>0</td>\n",
       "      <td>1</td>\n",
       "      <td>0</td>\n",
       "      <td>0</td>\n",
       "      <td>normal</td>\n",
       "    </tr>\n",
       "    <tr>\n",
       "      <th>4</th>\n",
       "      <td>tcp</td>\n",
       "      <td>http</td>\n",
       "      <td>SF</td>\n",
       "      <td>0</td>\n",
       "      <td>1</td>\n",
       "      <td>0</td>\n",
       "      <td>0</td>\n",
       "      <td>normal</td>\n",
       "    </tr>\n",
       "    <tr>\n",
       "      <th>...</th>\n",
       "      <td>...</td>\n",
       "      <td>...</td>\n",
       "      <td>...</td>\n",
       "      <td>...</td>\n",
       "      <td>...</td>\n",
       "      <td>...</td>\n",
       "      <td>...</td>\n",
       "      <td>...</td>\n",
       "    </tr>\n",
       "    <tr>\n",
       "      <th>125968</th>\n",
       "      <td>tcp</td>\n",
       "      <td>private</td>\n",
       "      <td>S0</td>\n",
       "      <td>0</td>\n",
       "      <td>0</td>\n",
       "      <td>0</td>\n",
       "      <td>0</td>\n",
       "      <td>anomaly</td>\n",
       "    </tr>\n",
       "    <tr>\n",
       "      <th>125969</th>\n",
       "      <td>udp</td>\n",
       "      <td>private</td>\n",
       "      <td>SF</td>\n",
       "      <td>0</td>\n",
       "      <td>0</td>\n",
       "      <td>0</td>\n",
       "      <td>0</td>\n",
       "      <td>normal</td>\n",
       "    </tr>\n",
       "    <tr>\n",
       "      <th>125970</th>\n",
       "      <td>tcp</td>\n",
       "      <td>smtp</td>\n",
       "      <td>SF</td>\n",
       "      <td>0</td>\n",
       "      <td>1</td>\n",
       "      <td>0</td>\n",
       "      <td>0</td>\n",
       "      <td>normal</td>\n",
       "    </tr>\n",
       "    <tr>\n",
       "      <th>125971</th>\n",
       "      <td>tcp</td>\n",
       "      <td>klogin</td>\n",
       "      <td>S0</td>\n",
       "      <td>0</td>\n",
       "      <td>0</td>\n",
       "      <td>0</td>\n",
       "      <td>0</td>\n",
       "      <td>anomaly</td>\n",
       "    </tr>\n",
       "    <tr>\n",
       "      <th>125972</th>\n",
       "      <td>tcp</td>\n",
       "      <td>ftp_data</td>\n",
       "      <td>SF</td>\n",
       "      <td>0</td>\n",
       "      <td>1</td>\n",
       "      <td>0</td>\n",
       "      <td>0</td>\n",
       "      <td>normal</td>\n",
       "    </tr>\n",
       "  </tbody>\n",
       "</table>\n",
       "<p>125973 rows × 8 columns</p>\n",
       "</div>"
      ],
      "text/plain": [
       "       protocol_type   service flag land logged_in is_host_login  \\\n",
       "0                tcp  ftp_data   SF    0         0             0   \n",
       "1                udp     other   SF    0         0             0   \n",
       "2                tcp   private   S0    0         0             0   \n",
       "3                tcp      http   SF    0         1             0   \n",
       "4                tcp      http   SF    0         1             0   \n",
       "...              ...       ...  ...  ...       ...           ...   \n",
       "125968           tcp   private   S0    0         0             0   \n",
       "125969           udp   private   SF    0         0             0   \n",
       "125970           tcp      smtp   SF    0         1             0   \n",
       "125971           tcp    klogin   S0    0         0             0   \n",
       "125972           tcp  ftp_data   SF    0         1             0   \n",
       "\n",
       "       is_guest_login    class  \n",
       "0                   0   normal  \n",
       "1                   0   normal  \n",
       "2                   0  anomaly  \n",
       "3                   0   normal  \n",
       "4                   0   normal  \n",
       "...               ...      ...  \n",
       "125968              0  anomaly  \n",
       "125969              0   normal  \n",
       "125970              0   normal  \n",
       "125971              0  anomaly  \n",
       "125972              0   normal  \n",
       "\n",
       "[125973 rows x 8 columns]"
      ]
     },
     "execution_count": 75,
     "metadata": {},
     "output_type": "execute_result"
    }
   ],
   "source": [
    "train_df.select_dtypes([object])\n"
   ]
  },
  {
   "cell_type": "code",
   "execution_count": 76,
   "id": "f8668291-5bb7-4b77-9e67-ee48b8a37196",
   "metadata": {},
   "outputs": [
    {
     "data": {
      "text/html": [
       "<div>\n",
       "<style scoped>\n",
       "    .dataframe tbody tr th:only-of-type {\n",
       "        vertical-align: middle;\n",
       "    }\n",
       "\n",
       "    .dataframe tbody tr th {\n",
       "        vertical-align: top;\n",
       "    }\n",
       "\n",
       "    .dataframe thead th {\n",
       "        text-align: right;\n",
       "    }\n",
       "</style>\n",
       "<table border=\"1\" class=\"dataframe\">\n",
       "  <thead>\n",
       "    <tr style=\"text-align: right;\">\n",
       "      <th></th>\n",
       "      <th>protocol_type</th>\n",
       "      <th>service</th>\n",
       "      <th>flag</th>\n",
       "      <th>land</th>\n",
       "      <th>logged_in</th>\n",
       "      <th>is_host_login</th>\n",
       "      <th>is_guest_login</th>\n",
       "      <th>class</th>\n",
       "    </tr>\n",
       "  </thead>\n",
       "  <tbody>\n",
       "    <tr>\n",
       "      <th>0</th>\n",
       "      <td>tcp</td>\n",
       "      <td>private</td>\n",
       "      <td>REJ</td>\n",
       "      <td>0</td>\n",
       "      <td>0</td>\n",
       "      <td>0</td>\n",
       "      <td>0</td>\n",
       "      <td>anomaly</td>\n",
       "    </tr>\n",
       "    <tr>\n",
       "      <th>1</th>\n",
       "      <td>tcp</td>\n",
       "      <td>private</td>\n",
       "      <td>REJ</td>\n",
       "      <td>0</td>\n",
       "      <td>0</td>\n",
       "      <td>0</td>\n",
       "      <td>0</td>\n",
       "      <td>anomaly</td>\n",
       "    </tr>\n",
       "    <tr>\n",
       "      <th>2</th>\n",
       "      <td>tcp</td>\n",
       "      <td>ftp_data</td>\n",
       "      <td>SF</td>\n",
       "      <td>0</td>\n",
       "      <td>0</td>\n",
       "      <td>0</td>\n",
       "      <td>0</td>\n",
       "      <td>normal</td>\n",
       "    </tr>\n",
       "    <tr>\n",
       "      <th>3</th>\n",
       "      <td>icmp</td>\n",
       "      <td>eco_i</td>\n",
       "      <td>SF</td>\n",
       "      <td>0</td>\n",
       "      <td>0</td>\n",
       "      <td>0</td>\n",
       "      <td>0</td>\n",
       "      <td>anomaly</td>\n",
       "    </tr>\n",
       "    <tr>\n",
       "      <th>4</th>\n",
       "      <td>tcp</td>\n",
       "      <td>telnet</td>\n",
       "      <td>RSTO</td>\n",
       "      <td>0</td>\n",
       "      <td>0</td>\n",
       "      <td>0</td>\n",
       "      <td>0</td>\n",
       "      <td>anomaly</td>\n",
       "    </tr>\n",
       "    <tr>\n",
       "      <th>...</th>\n",
       "      <td>...</td>\n",
       "      <td>...</td>\n",
       "      <td>...</td>\n",
       "      <td>...</td>\n",
       "      <td>...</td>\n",
       "      <td>...</td>\n",
       "      <td>...</td>\n",
       "      <td>...</td>\n",
       "    </tr>\n",
       "    <tr>\n",
       "      <th>22539</th>\n",
       "      <td>tcp</td>\n",
       "      <td>smtp</td>\n",
       "      <td>SF</td>\n",
       "      <td>0</td>\n",
       "      <td>1</td>\n",
       "      <td>0</td>\n",
       "      <td>0</td>\n",
       "      <td>normal</td>\n",
       "    </tr>\n",
       "    <tr>\n",
       "      <th>22540</th>\n",
       "      <td>tcp</td>\n",
       "      <td>http</td>\n",
       "      <td>SF</td>\n",
       "      <td>0</td>\n",
       "      <td>1</td>\n",
       "      <td>0</td>\n",
       "      <td>0</td>\n",
       "      <td>normal</td>\n",
       "    </tr>\n",
       "    <tr>\n",
       "      <th>22541</th>\n",
       "      <td>tcp</td>\n",
       "      <td>http</td>\n",
       "      <td>SF</td>\n",
       "      <td>0</td>\n",
       "      <td>1</td>\n",
       "      <td>0</td>\n",
       "      <td>0</td>\n",
       "      <td>anomaly</td>\n",
       "    </tr>\n",
       "    <tr>\n",
       "      <th>22542</th>\n",
       "      <td>udp</td>\n",
       "      <td>domain_u</td>\n",
       "      <td>SF</td>\n",
       "      <td>0</td>\n",
       "      <td>0</td>\n",
       "      <td>0</td>\n",
       "      <td>0</td>\n",
       "      <td>normal</td>\n",
       "    </tr>\n",
       "    <tr>\n",
       "      <th>22543</th>\n",
       "      <td>tcp</td>\n",
       "      <td>sunrpc</td>\n",
       "      <td>REJ</td>\n",
       "      <td>0</td>\n",
       "      <td>0</td>\n",
       "      <td>0</td>\n",
       "      <td>0</td>\n",
       "      <td>anomaly</td>\n",
       "    </tr>\n",
       "  </tbody>\n",
       "</table>\n",
       "<p>22544 rows × 8 columns</p>\n",
       "</div>"
      ],
      "text/plain": [
       "      protocol_type   service  flag land logged_in is_host_login  \\\n",
       "0               tcp   private   REJ    0         0             0   \n",
       "1               tcp   private   REJ    0         0             0   \n",
       "2               tcp  ftp_data    SF    0         0             0   \n",
       "3              icmp     eco_i    SF    0         0             0   \n",
       "4               tcp    telnet  RSTO    0         0             0   \n",
       "...             ...       ...   ...  ...       ...           ...   \n",
       "22539           tcp      smtp    SF    0         1             0   \n",
       "22540           tcp      http    SF    0         1             0   \n",
       "22541           tcp      http    SF    0         1             0   \n",
       "22542           udp  domain_u    SF    0         0             0   \n",
       "22543           tcp    sunrpc   REJ    0         0             0   \n",
       "\n",
       "      is_guest_login    class  \n",
       "0                  0  anomaly  \n",
       "1                  0  anomaly  \n",
       "2                  0   normal  \n",
       "3                  0  anomaly  \n",
       "4                  0  anomaly  \n",
       "...              ...      ...  \n",
       "22539              0   normal  \n",
       "22540              0   normal  \n",
       "22541              0  anomaly  \n",
       "22542              0   normal  \n",
       "22543              0  anomaly  \n",
       "\n",
       "[22544 rows x 8 columns]"
      ]
     },
     "execution_count": 76,
     "metadata": {},
     "output_type": "execute_result"
    }
   ],
   "source": [
    "test_df.select_dtypes([object])\n"
   ]
  },
  {
   "cell_type": "markdown",
   "id": "52e23ccb-65d1-4fa4-b3b3-d6ea23a27167",
   "metadata": {},
   "source": [
    "<h1>Convertir les valeurs chaines de caractère en numeric </h1>"
   ]
  },
  {
   "cell_type": "markdown",
   "id": "f004d229-9603-407e-8667-20d6914cf9aa",
   "metadata": {},
   "source": [
    "convertir les features land, logged_in, is_host_login et is_guest_login de chaine de caractère a numerique"
   ]
  },
  {
   "cell_type": "code",
   "execution_count": 77,
   "id": "db1506d6-66ef-4196-b476-77a90b0cfe2e",
   "metadata": {},
   "outputs": [
    {
     "name": "stdout",
     "output_type": "stream",
     "text": [
      "<class 'pandas.core.frame.DataFrame'>\n",
      "RangeIndex: 125973 entries, 0 to 125972\n",
      "Data columns (total 42 columns):\n",
      " #   Column                       Non-Null Count   Dtype  \n",
      "---  ------                       --------------   -----  \n",
      " 0   duration                     125973 non-null  float64\n",
      " 1   protocol_type                125973 non-null  object \n",
      " 2   service                      125973 non-null  object \n",
      " 3   flag                         125973 non-null  object \n",
      " 4   src_bytes                    125973 non-null  float64\n",
      " 5   dst_bytes                    125973 non-null  float64\n",
      " 6   land                         125973 non-null  object \n",
      " 7   wrong_fragment               125973 non-null  float64\n",
      " 8   urgent                       125973 non-null  float64\n",
      " 9   hot                          125973 non-null  float64\n",
      " 10  num_failed_logins            125973 non-null  float64\n",
      " 11  logged_in                    125973 non-null  object \n",
      " 12  num_compromised              125973 non-null  float64\n",
      " 13  root_shell                   125973 non-null  float64\n",
      " 14  su_attempted                 125973 non-null  float64\n",
      " 15  num_root                     125973 non-null  float64\n",
      " 16  num_file_creations           125973 non-null  float64\n",
      " 17  num_shells                   125973 non-null  float64\n",
      " 18  num_access_files             125973 non-null  float64\n",
      " 19  num_outbound_cmds            125973 non-null  float64\n",
      " 20  is_host_login                125973 non-null  object \n",
      " 21  is_guest_login               125973 non-null  object \n",
      " 22  count                        125973 non-null  float64\n",
      " 23  srv_count                    125973 non-null  float64\n",
      " 24  serror_rate                  125973 non-null  float64\n",
      " 25  srv_serror_rate              125973 non-null  float64\n",
      " 26  rerror_rate                  125973 non-null  float64\n",
      " 27  srv_rerror_rate              125973 non-null  float64\n",
      " 28  same_srv_rate                125973 non-null  float64\n",
      " 29  diff_srv_rate                125973 non-null  float64\n",
      " 30  srv_diff_host_rate           125973 non-null  float64\n",
      " 31  dst_host_count               125973 non-null  float64\n",
      " 32  dst_host_srv_count           125973 non-null  float64\n",
      " 33  dst_host_same_srv_rate       125973 non-null  float64\n",
      " 34  dst_host_diff_srv_rate       125973 non-null  float64\n",
      " 35  dst_host_same_src_port_rate  125973 non-null  float64\n",
      " 36  dst_host_srv_diff_host_rate  125973 non-null  float64\n",
      " 37  dst_host_serror_rate         125973 non-null  float64\n",
      " 38  dst_host_srv_serror_rate     125973 non-null  float64\n",
      " 39  dst_host_rerror_rate         125973 non-null  float64\n",
      " 40  dst_host_srv_rerror_rate     125973 non-null  float64\n",
      " 41  class                        125973 non-null  object \n",
      "dtypes: float64(34), object(8)\n",
      "memory usage: 40.4+ MB\n"
     ]
    }
   ],
   "source": [
    "train_df.info()"
   ]
  },
  {
   "cell_type": "code",
   "execution_count": 78,
   "id": "ff048605-d959-4477-8ae7-0cb72a9d9b53",
   "metadata": {},
   "outputs": [
    {
     "name": "stdout",
     "output_type": "stream",
     "text": [
      "<class 'pandas.core.frame.DataFrame'>\n",
      "RangeIndex: 22544 entries, 0 to 22543\n",
      "Data columns (total 42 columns):\n",
      " #   Column                       Non-Null Count  Dtype  \n",
      "---  ------                       --------------  -----  \n",
      " 0   duration                     22544 non-null  float64\n",
      " 1   protocol_type                22544 non-null  object \n",
      " 2   service                      22544 non-null  object \n",
      " 3   flag                         22544 non-null  object \n",
      " 4   src_bytes                    22544 non-null  float64\n",
      " 5   dst_bytes                    22544 non-null  float64\n",
      " 6   land                         22544 non-null  object \n",
      " 7   wrong_fragment               22544 non-null  float64\n",
      " 8   urgent                       22544 non-null  float64\n",
      " 9   hot                          22544 non-null  float64\n",
      " 10  num_failed_logins            22544 non-null  float64\n",
      " 11  logged_in                    22544 non-null  object \n",
      " 12  num_compromised              22544 non-null  float64\n",
      " 13  root_shell                   22544 non-null  float64\n",
      " 14  su_attempted                 22544 non-null  float64\n",
      " 15  num_root                     22544 non-null  float64\n",
      " 16  num_file_creations           22544 non-null  float64\n",
      " 17  num_shells                   22544 non-null  float64\n",
      " 18  num_access_files             22544 non-null  float64\n",
      " 19  num_outbound_cmds            22544 non-null  float64\n",
      " 20  is_host_login                22544 non-null  object \n",
      " 21  is_guest_login               22544 non-null  object \n",
      " 22  count                        22544 non-null  float64\n",
      " 23  srv_count                    22544 non-null  float64\n",
      " 24  serror_rate                  22544 non-null  float64\n",
      " 25  srv_serror_rate              22544 non-null  float64\n",
      " 26  rerror_rate                  22544 non-null  float64\n",
      " 27  srv_rerror_rate              22544 non-null  float64\n",
      " 28  same_srv_rate                22544 non-null  float64\n",
      " 29  diff_srv_rate                22544 non-null  float64\n",
      " 30  srv_diff_host_rate           22544 non-null  float64\n",
      " 31  dst_host_count               22544 non-null  float64\n",
      " 32  dst_host_srv_count           22544 non-null  float64\n",
      " 33  dst_host_same_srv_rate       22544 non-null  float64\n",
      " 34  dst_host_diff_srv_rate       22544 non-null  float64\n",
      " 35  dst_host_same_src_port_rate  22544 non-null  float64\n",
      " 36  dst_host_srv_diff_host_rate  22544 non-null  float64\n",
      " 37  dst_host_serror_rate         22544 non-null  float64\n",
      " 38  dst_host_srv_serror_rate     22544 non-null  float64\n",
      " 39  dst_host_rerror_rate         22544 non-null  float64\n",
      " 40  dst_host_srv_rerror_rate     22544 non-null  float64\n",
      " 41  class                        22544 non-null  object \n",
      "dtypes: float64(34), object(8)\n",
      "memory usage: 7.2+ MB\n"
     ]
    }
   ],
   "source": [
    "test_df.info()"
   ]
  },
  {
   "cell_type": "code",
   "execution_count": 79,
   "id": "ed933a57-1c6e-48d5-9d08-917aee33c231",
   "metadata": {},
   "outputs": [
    {
     "data": {
      "text/html": [
       "<div>\n",
       "<style scoped>\n",
       "    .dataframe tbody tr th:only-of-type {\n",
       "        vertical-align: middle;\n",
       "    }\n",
       "\n",
       "    .dataframe tbody tr th {\n",
       "        vertical-align: top;\n",
       "    }\n",
       "\n",
       "    .dataframe thead th {\n",
       "        text-align: right;\n",
       "    }\n",
       "</style>\n",
       "<table border=\"1\" class=\"dataframe\">\n",
       "  <thead>\n",
       "    <tr style=\"text-align: right;\">\n",
       "      <th></th>\n",
       "      <th>protocol_type</th>\n",
       "      <th>service</th>\n",
       "      <th>flag</th>\n",
       "      <th>class</th>\n",
       "    </tr>\n",
       "  </thead>\n",
       "  <tbody>\n",
       "    <tr>\n",
       "      <th>0</th>\n",
       "      <td>tcp</td>\n",
       "      <td>ftp_data</td>\n",
       "      <td>SF</td>\n",
       "      <td>normal</td>\n",
       "    </tr>\n",
       "    <tr>\n",
       "      <th>1</th>\n",
       "      <td>udp</td>\n",
       "      <td>other</td>\n",
       "      <td>SF</td>\n",
       "      <td>normal</td>\n",
       "    </tr>\n",
       "    <tr>\n",
       "      <th>2</th>\n",
       "      <td>tcp</td>\n",
       "      <td>private</td>\n",
       "      <td>S0</td>\n",
       "      <td>anomaly</td>\n",
       "    </tr>\n",
       "    <tr>\n",
       "      <th>3</th>\n",
       "      <td>tcp</td>\n",
       "      <td>http</td>\n",
       "      <td>SF</td>\n",
       "      <td>normal</td>\n",
       "    </tr>\n",
       "    <tr>\n",
       "      <th>4</th>\n",
       "      <td>tcp</td>\n",
       "      <td>http</td>\n",
       "      <td>SF</td>\n",
       "      <td>normal</td>\n",
       "    </tr>\n",
       "    <tr>\n",
       "      <th>...</th>\n",
       "      <td>...</td>\n",
       "      <td>...</td>\n",
       "      <td>...</td>\n",
       "      <td>...</td>\n",
       "    </tr>\n",
       "    <tr>\n",
       "      <th>125968</th>\n",
       "      <td>tcp</td>\n",
       "      <td>private</td>\n",
       "      <td>S0</td>\n",
       "      <td>anomaly</td>\n",
       "    </tr>\n",
       "    <tr>\n",
       "      <th>125969</th>\n",
       "      <td>udp</td>\n",
       "      <td>private</td>\n",
       "      <td>SF</td>\n",
       "      <td>normal</td>\n",
       "    </tr>\n",
       "    <tr>\n",
       "      <th>125970</th>\n",
       "      <td>tcp</td>\n",
       "      <td>smtp</td>\n",
       "      <td>SF</td>\n",
       "      <td>normal</td>\n",
       "    </tr>\n",
       "    <tr>\n",
       "      <th>125971</th>\n",
       "      <td>tcp</td>\n",
       "      <td>klogin</td>\n",
       "      <td>S0</td>\n",
       "      <td>anomaly</td>\n",
       "    </tr>\n",
       "    <tr>\n",
       "      <th>125972</th>\n",
       "      <td>tcp</td>\n",
       "      <td>ftp_data</td>\n",
       "      <td>SF</td>\n",
       "      <td>normal</td>\n",
       "    </tr>\n",
       "  </tbody>\n",
       "</table>\n",
       "<p>125973 rows × 4 columns</p>\n",
       "</div>"
      ],
      "text/plain": [
       "       protocol_type   service flag    class\n",
       "0                tcp  ftp_data   SF   normal\n",
       "1                udp     other   SF   normal\n",
       "2                tcp   private   S0  anomaly\n",
       "3                tcp      http   SF   normal\n",
       "4                tcp      http   SF   normal\n",
       "...              ...       ...  ...      ...\n",
       "125968           tcp   private   S0  anomaly\n",
       "125969           udp   private   SF   normal\n",
       "125970           tcp      smtp   SF   normal\n",
       "125971           tcp    klogin   S0  anomaly\n",
       "125972           tcp  ftp_data   SF   normal\n",
       "\n",
       "[125973 rows x 4 columns]"
      ]
     },
     "execution_count": 79,
     "metadata": {},
     "output_type": "execute_result"
    }
   ],
   "source": [
    "#convertier les chaine en numeric\n",
    "train_df[\"land\"] = pd.to_numeric(train_df[\"land\"])\n",
    "train_df[\"logged_in\"] = pd.to_numeric(train_df[\"logged_in\"])\n",
    "train_df[\"is_host_login\"] = pd.to_numeric(train_df[\"is_host_login\"])\n",
    "train_df[\"is_guest_login\"] = pd.to_numeric(train_df[\"is_guest_login\"])\n",
    "\n",
    "test_df[\"land\"] = pd.to_numeric(test_df[\"land\"])\n",
    "test_df[\"logged_in\"] = pd.to_numeric(test_df[\"logged_in\"])\n",
    "test_df[\"is_host_login\"] = pd.to_numeric(test_df[\"is_host_login\"])\n",
    "test_df[\"is_guest_login\"] = pd.to_numeric(test_df[\"is_guest_login\"])\n",
    "\n",
    "train_df.select_dtypes([object])\n"
   ]
  },
  {
   "cell_type": "code",
   "execution_count": 80,
   "id": "49ece2e4-f726-4d58-bc96-12316cc571ba",
   "metadata": {},
   "outputs": [],
   "source": [
    "train_df=train_df.drop(\"flag\",axis=1)\n",
    "train_df=train_df.drop(\"service\",axis=1)"
   ]
  },
  {
   "cell_type": "code",
   "execution_count": 81,
   "id": "d88fcec4-0bfd-446f-96f7-79abc099b76b",
   "metadata": {},
   "outputs": [],
   "source": [
    "test_df=test_df.drop(\"flag\",axis=1)\n",
    "test_df=test_df.drop(\"service\",axis=1)"
   ]
  },
  {
   "cell_type": "code",
   "execution_count": 82,
   "id": "cc9b0461-ac5b-419a-88b4-eac08c1347d2",
   "metadata": {},
   "outputs": [
    {
     "data": {
      "text/plain": [
       "array(['tcp', 'icmp', 'udp'], dtype=object)"
      ]
     },
     "execution_count": 82,
     "metadata": {},
     "output_type": "execute_result"
    }
   ],
   "source": [
    "test_df[\"protocol_type\"].unique()"
   ]
  },
  {
   "cell_type": "code",
   "execution_count": 83,
   "id": "73bc9474-ca20-40b7-9dea-5ca0a4a2efad",
   "metadata": {},
   "outputs": [],
   "source": [
    "train_df = train_df.drop(train_df[train_df.protocol_type != 'tcp'].index)"
   ]
  },
  {
   "cell_type": "code",
   "execution_count": 84,
   "id": "cb537c2c-6f91-44a3-82dc-8e4d070c3815",
   "metadata": {},
   "outputs": [],
   "source": [
    "test_df = test_df.drop(train_df[train_df.protocol_type != 'tcp'].index)"
   ]
  },
  {
   "cell_type": "code",
   "execution_count": 85,
   "id": "b6fbbff0-afda-4a79-b549-190edf945ab8",
   "metadata": {},
   "outputs": [
    {
     "data": {
      "text/plain": [
       "(102689, 40)"
      ]
     },
     "execution_count": 85,
     "metadata": {},
     "output_type": "execute_result"
    }
   ],
   "source": [
    "train_df.shape"
   ]
  },
  {
   "cell_type": "code",
   "execution_count": 86,
   "id": "57c6c429-8905-49c5-960e-658073d68e72",
   "metadata": {},
   "outputs": [
    {
     "data": {
      "text/plain": [
       "(22544, 40)"
      ]
     },
     "execution_count": 86,
     "metadata": {},
     "output_type": "execute_result"
    }
   ],
   "source": [
    "test_df.shape"
   ]
  },
  {
   "cell_type": "code",
   "execution_count": 87,
   "id": "463e9b59-762a-4659-aae7-b70f2985067c",
   "metadata": {},
   "outputs": [
    {
     "name": "stdout",
     "output_type": "stream",
     "text": [
      "<class 'pandas.core.frame.DataFrame'>\n",
      "Index: 102689 entries, 0 to 125972\n",
      "Data columns (total 40 columns):\n",
      " #   Column                       Non-Null Count   Dtype  \n",
      "---  ------                       --------------   -----  \n",
      " 0   duration                     102689 non-null  float64\n",
      " 1   protocol_type                102689 non-null  object \n",
      " 2   src_bytes                    102689 non-null  float64\n",
      " 3   dst_bytes                    102689 non-null  float64\n",
      " 4   land                         102689 non-null  int64  \n",
      " 5   wrong_fragment               102689 non-null  float64\n",
      " 6   urgent                       102689 non-null  float64\n",
      " 7   hot                          102689 non-null  float64\n",
      " 8   num_failed_logins            102689 non-null  float64\n",
      " 9   logged_in                    102689 non-null  int64  \n",
      " 10  num_compromised              102689 non-null  float64\n",
      " 11  root_shell                   102689 non-null  float64\n",
      " 12  su_attempted                 102689 non-null  float64\n",
      " 13  num_root                     102689 non-null  float64\n",
      " 14  num_file_creations           102689 non-null  float64\n",
      " 15  num_shells                   102689 non-null  float64\n",
      " 16  num_access_files             102689 non-null  float64\n",
      " 17  num_outbound_cmds            102689 non-null  float64\n",
      " 18  is_host_login                102689 non-null  int64  \n",
      " 19  is_guest_login               102689 non-null  int64  \n",
      " 20  count                        102689 non-null  float64\n",
      " 21  srv_count                    102689 non-null  float64\n",
      " 22  serror_rate                  102689 non-null  float64\n",
      " 23  srv_serror_rate              102689 non-null  float64\n",
      " 24  rerror_rate                  102689 non-null  float64\n",
      " 25  srv_rerror_rate              102689 non-null  float64\n",
      " 26  same_srv_rate                102689 non-null  float64\n",
      " 27  diff_srv_rate                102689 non-null  float64\n",
      " 28  srv_diff_host_rate           102689 non-null  float64\n",
      " 29  dst_host_count               102689 non-null  float64\n",
      " 30  dst_host_srv_count           102689 non-null  float64\n",
      " 31  dst_host_same_srv_rate       102689 non-null  float64\n",
      " 32  dst_host_diff_srv_rate       102689 non-null  float64\n",
      " 33  dst_host_same_src_port_rate  102689 non-null  float64\n",
      " 34  dst_host_srv_diff_host_rate  102689 non-null  float64\n",
      " 35  dst_host_serror_rate         102689 non-null  float64\n",
      " 36  dst_host_srv_serror_rate     102689 non-null  float64\n",
      " 37  dst_host_rerror_rate         102689 non-null  float64\n",
      " 38  dst_host_srv_rerror_rate     102689 non-null  float64\n",
      " 39  class                        102689 non-null  object \n",
      "dtypes: float64(34), int64(4), object(2)\n",
      "memory usage: 32.1+ MB\n"
     ]
    }
   ],
   "source": [
    "train_df.info()"
   ]
  },
  {
   "cell_type": "code",
   "execution_count": 88,
   "id": "323e173f-19ac-4c38-a7e1-ebbec688a277",
   "metadata": {},
   "outputs": [
    {
     "name": "stdout",
     "output_type": "stream",
     "text": [
      "<class 'pandas.core.frame.DataFrame'>\n",
      "RangeIndex: 22544 entries, 0 to 22543\n",
      "Data columns (total 40 columns):\n",
      " #   Column                       Non-Null Count  Dtype  \n",
      "---  ------                       --------------  -----  \n",
      " 0   duration                     22544 non-null  float64\n",
      " 1   protocol_type                22544 non-null  object \n",
      " 2   src_bytes                    22544 non-null  float64\n",
      " 3   dst_bytes                    22544 non-null  float64\n",
      " 4   land                         22544 non-null  int64  \n",
      " 5   wrong_fragment               22544 non-null  float64\n",
      " 6   urgent                       22544 non-null  float64\n",
      " 7   hot                          22544 non-null  float64\n",
      " 8   num_failed_logins            22544 non-null  float64\n",
      " 9   logged_in                    22544 non-null  int64  \n",
      " 10  num_compromised              22544 non-null  float64\n",
      " 11  root_shell                   22544 non-null  float64\n",
      " 12  su_attempted                 22544 non-null  float64\n",
      " 13  num_root                     22544 non-null  float64\n",
      " 14  num_file_creations           22544 non-null  float64\n",
      " 15  num_shells                   22544 non-null  float64\n",
      " 16  num_access_files             22544 non-null  float64\n",
      " 17  num_outbound_cmds            22544 non-null  float64\n",
      " 18  is_host_login                22544 non-null  int64  \n",
      " 19  is_guest_login               22544 non-null  int64  \n",
      " 20  count                        22544 non-null  float64\n",
      " 21  srv_count                    22544 non-null  float64\n",
      " 22  serror_rate                  22544 non-null  float64\n",
      " 23  srv_serror_rate              22544 non-null  float64\n",
      " 24  rerror_rate                  22544 non-null  float64\n",
      " 25  srv_rerror_rate              22544 non-null  float64\n",
      " 26  same_srv_rate                22544 non-null  float64\n",
      " 27  diff_srv_rate                22544 non-null  float64\n",
      " 28  srv_diff_host_rate           22544 non-null  float64\n",
      " 29  dst_host_count               22544 non-null  float64\n",
      " 30  dst_host_srv_count           22544 non-null  float64\n",
      " 31  dst_host_same_srv_rate       22544 non-null  float64\n",
      " 32  dst_host_diff_srv_rate       22544 non-null  float64\n",
      " 33  dst_host_same_src_port_rate  22544 non-null  float64\n",
      " 34  dst_host_srv_diff_host_rate  22544 non-null  float64\n",
      " 35  dst_host_serror_rate         22544 non-null  float64\n",
      " 36  dst_host_srv_serror_rate     22544 non-null  float64\n",
      " 37  dst_host_rerror_rate         22544 non-null  float64\n",
      " 38  dst_host_srv_rerror_rate     22544 non-null  float64\n",
      " 39  class                        22544 non-null  object \n",
      "dtypes: float64(34), int64(4), object(2)\n",
      "memory usage: 6.9+ MB\n"
     ]
    }
   ],
   "source": [
    "test_df.info()"
   ]
  },
  {
   "cell_type": "code",
   "execution_count": null,
   "id": "22459645-4735-443a-920f-5cc3921ec462",
   "metadata": {},
   "outputs": [],
   "source": []
  },
  {
   "cell_type": "code",
   "execution_count": null,
   "id": "7d60f8c7-2598-40b9-b85c-9a8b4c9bfb28",
   "metadata": {},
   "outputs": [],
   "source": []
  },
  {
   "cell_type": "code",
   "execution_count": null,
   "id": "0356ef21-55ee-44cb-905b-e68a459bba8d",
   "metadata": {},
   "outputs": [],
   "source": []
  },
  {
   "cell_type": "code",
   "execution_count": null,
   "id": "c602b598-caec-4298-8ffd-46a71698efa1",
   "metadata": {},
   "outputs": [],
   "source": []
  },
  {
   "cell_type": "code",
   "execution_count": null,
   "id": "e94bb6d2-0403-42b7-b61d-d0a782d7b005",
   "metadata": {},
   "outputs": [],
   "source": []
  },
  {
   "cell_type": "code",
   "execution_count": null,
   "id": "cb89b30e-5460-484b-b7fb-4983ce656a05",
   "metadata": {},
   "outputs": [],
   "source": []
  },
  {
   "cell_type": "code",
   "execution_count": null,
   "id": "49f28dd3-068f-421a-90d8-4bc95ad6253b",
   "metadata": {},
   "outputs": [],
   "source": []
  },
  {
   "cell_type": "code",
   "execution_count": 89,
   "id": "3341dc45-93cb-4b97-92c0-2297f1680d82",
   "metadata": {},
   "outputs": [],
   "source": [
    "train_df=train_df.drop(\"dst_host_srv_rerror_rate\",axis=1)\n",
    "train_df=train_df.drop(\"dst_host_rerror_rate\",axis=1)\n",
    "train_df=train_df.drop(\"dst_host_srv_serror_rate\",axis=1)\n",
    "train_df=train_df.drop(\"dst_host_serror_rate\",axis=1)\n",
    "train_df=train_df.drop(\"dst_host_srv_diff_host_rate\",axis=1)\n",
    "train_df=train_df.drop(\"dst_host_same_src_port_rate\",axis=1)\n",
    "train_df=train_df.drop(\"dst_host_diff_srv_rate\",axis=1)\n",
    "train_df=train_df.drop(\"dst_host_same_srv_rate\",axis=1)\n",
    "train_df=train_df.drop(\"dst_host_srv_count\",axis=1)\n",
    "train_df=train_df.drop(\"dst_host_count\",axis=1)\n",
    "train_df=train_df.drop(\"srv_diff_host_rate\",axis=1)\n",
    "train_df=train_df.drop(\"diff_srv_rate\",axis=1)\n",
    "train_df=train_df.drop(\"same_srv_rate\",axis=1)\n",
    "train_df=train_df.drop(\"srv_rerror_rate\",axis=1)\n",
    "train_df=train_df.drop(\"srv_count\",axis=1)\n",
    "train_df=train_df.drop(\"srv_serror_rate\",axis=1)"
   ]
  },
  {
   "cell_type": "code",
   "execution_count": 90,
   "id": "eacca543-da5f-4508-9833-3f8e2ea13f95",
   "metadata": {},
   "outputs": [],
   "source": [
    "test_df=test_df.drop(\"dst_host_srv_rerror_rate\",axis=1)\n",
    "test_df=test_df.drop(\"dst_host_rerror_rate\",axis=1)\n",
    "test_df=test_df.drop(\"dst_host_srv_serror_rate\",axis=1)\n",
    "test_df=test_df.drop(\"dst_host_serror_rate\",axis=1)\n",
    "test_df=test_df.drop(\"dst_host_srv_diff_host_rate\",axis=1)\n",
    "test_df=test_df.drop(\"dst_host_same_src_port_rate\",axis=1)\n",
    "test_df=test_df.drop(\"dst_host_diff_srv_rate\",axis=1)\n",
    "test_df=test_df.drop(\"dst_host_same_srv_rate\",axis=1)\n",
    "test_df=test_df.drop(\"dst_host_srv_count\",axis=1)\n",
    "test_df=test_df.drop(\"dst_host_count\",axis=1)\n",
    "test_df=test_df.drop(\"srv_diff_host_rate\",axis=1)\n",
    "test_df=test_df.drop(\"diff_srv_rate\",axis=1)\n",
    "test_df=test_df.drop(\"same_srv_rate\",axis=1)\n",
    "test_df=test_df.drop(\"srv_rerror_rate\",axis=1)\n",
    "test_df=test_df.drop(\"srv_count\",axis=1)\n",
    "test_df=test_df.drop(\"srv_serror_rate\",axis=1)"
   ]
  },
  {
   "cell_type": "code",
   "execution_count": 91,
   "id": "81d27697-f3f8-42e2-a6d9-f255042892ea",
   "metadata": {},
   "outputs": [],
   "source": [
    "# y_true_test = test_df['class']"
   ]
  },
  {
   "cell_type": "code",
   "execution_count": 92,
   "id": "1c0cd218-f06c-40ab-b085-5d7acbc89d16",
   "metadata": {},
   "outputs": [],
   "source": [
    "# y_true_test.head()"
   ]
  },
  {
   "cell_type": "code",
   "execution_count": 93,
   "id": "8fd8c244-6b5e-4e83-b0be-ee7f2a3c3d36",
   "metadata": {},
   "outputs": [],
   "source": [
    "# test_df=test_df.drop(\"class\",axis=1)\n",
    "# train_df=train_df.drop(\"class\",axis=1)"
   ]
  },
  {
   "cell_type": "code",
   "execution_count": 94,
   "id": "3bef62d7-9e1b-4121-9498-a4371a3724a8",
   "metadata": {},
   "outputs": [
    {
     "data": {
      "text/plain": [
       "duration              1796\n",
       "protocol_type            1\n",
       "src_bytes             3326\n",
       "dst_bytes             9282\n",
       "land                     2\n",
       "wrong_fragment           1\n",
       "urgent                   4\n",
       "hot                     28\n",
       "num_failed_logins        6\n",
       "logged_in                2\n",
       "num_compromised         88\n",
       "root_shell               2\n",
       "su_attempted             3\n",
       "num_root                82\n",
       "num_file_creations      35\n",
       "num_shells               3\n",
       "num_access_files        10\n",
       "num_outbound_cmds        1\n",
       "is_host_login            2\n",
       "is_guest_login           2\n",
       "count                  512\n",
       "serror_rate             81\n",
       "rerror_rate             82\n",
       "class                    2\n",
       "dtype: int64"
      ]
     },
     "execution_count": 94,
     "metadata": {},
     "output_type": "execute_result"
    }
   ],
   "source": [
    "train_df.nunique()"
   ]
  },
  {
   "cell_type": "code",
   "execution_count": 95,
   "id": "50fa857f-af75-4872-b097-f36b140860a3",
   "metadata": {},
   "outputs": [
    {
     "data": {
      "text/plain": [
       "duration               624\n",
       "protocol_type            3\n",
       "src_bytes             1149\n",
       "dst_bytes             3650\n",
       "land                     2\n",
       "wrong_fragment           3\n",
       "urgent                   4\n",
       "hot                     16\n",
       "num_failed_logins        5\n",
       "logged_in                2\n",
       "num_compromised         23\n",
       "root_shell               2\n",
       "su_attempted             3\n",
       "num_root                20\n",
       "num_file_creations       9\n",
       "num_shells               4\n",
       "num_access_files         5\n",
       "num_outbound_cmds        1\n",
       "is_host_login            2\n",
       "is_guest_login           2\n",
       "count                  495\n",
       "serror_rate             88\n",
       "rerror_rate             90\n",
       "class                    2\n",
       "dtype: int64"
      ]
     },
     "execution_count": 95,
     "metadata": {},
     "output_type": "execute_result"
    }
   ],
   "source": [
    "test_df.nunique()"
   ]
  },
  {
   "cell_type": "markdown",
   "id": "53afcaef-d9e8-4845-82ae-d92e575dbf62",
   "metadata": {},
   "source": [
    "<h1>Supprimer les colonnes qui n'ont pas de valeurs ajoutée </h1>"
   ]
  },
  {
   "cell_type": "code",
   "execution_count": 96,
   "id": "bef67f48-8618-4327-be3d-25fa38b69fe7",
   "metadata": {},
   "outputs": [],
   "source": [
    "#for train data\n",
    "train_df=train_df.drop(\"protocol_type\",axis=1)\n",
    "train_df=train_df.drop(\"wrong_fragment\",axis=1)\n",
    "train_df=train_df.drop(\"num_outbound_cmds\",axis=1)\n",
    "\n",
    "\n",
    "#for test data\n",
    "test_df=test_df.drop(\"protocol_type\",axis=1)\n",
    "test_df=test_df.drop(\"wrong_fragment\",axis=1)\n",
    "test_df=test_df.drop(\"num_outbound_cmds\",axis=1)"
   ]
  },
  {
   "cell_type": "code",
   "execution_count": 102,
   "id": "be26fcea-013a-4ba9-9662-3b1a428fb701",
   "metadata": {},
   "outputs": [
    {
     "data": {
      "text/plain": [
       "53079"
      ]
     },
     "execution_count": 102,
     "metadata": {},
     "output_type": "execute_result"
    }
   ],
   "source": [
    "train_df.duplicated().sum()"
   ]
  },
  {
   "cell_type": "code",
   "execution_count": 103,
   "id": "65ed2bf2-213b-4505-a5a6-7a9b240a341b",
   "metadata": {},
   "outputs": [
    {
     "data": {
      "text/plain": [
       "(49610, 21)"
      ]
     },
     "execution_count": 103,
     "metadata": {},
     "output_type": "execute_result"
    }
   ],
   "source": [
    "train_df=train_df.drop_duplicates(keep='first')\n",
    "train_df.shape\n"
   ]
  },
  {
   "cell_type": "code",
   "execution_count": 104,
   "id": "6ed0d445-5e56-459f-ac25-2926aa65a1e3",
   "metadata": {},
   "outputs": [
    {
     "data": {
      "text/plain": [
       "(12300, 21)"
      ]
     },
     "execution_count": 104,
     "metadata": {},
     "output_type": "execute_result"
    }
   ],
   "source": [
    "test_df=test_df.drop_duplicates(keep='first')\n",
    "test_df.shape\n"
   ]
  },
  {
   "cell_type": "code",
   "execution_count": 105,
   "id": "5ea7e9db-92e9-4001-a124-b2d260d2f5c1",
   "metadata": {},
   "outputs": [],
   "source": [
    "labelencoder = LabelEncoder()\n",
    "test_df['class'] = labelencoder.fit_transform(test_df['class'])"
   ]
  },
  {
   "cell_type": "code",
   "execution_count": 106,
   "id": "1d90e227-1936-4bd5-8166-541fd0a20274",
   "metadata": {},
   "outputs": [
    {
     "data": {
      "text/plain": [
       "0        0\n",
       "1        0\n",
       "2        1\n",
       "3        0\n",
       "4        0\n",
       "        ..\n",
       "22533    1\n",
       "22535    1\n",
       "22538    0\n",
       "22539    1\n",
       "22540    1\n",
       "Name: class, Length: 12300, dtype: int32"
      ]
     },
     "execution_count": 106,
     "metadata": {},
     "output_type": "execute_result"
    }
   ],
   "source": [
    "test_df['class']"
   ]
  },
  {
   "cell_type": "code",
   "execution_count": 109,
   "id": "85987809-9caf-4188-b15d-0fdafb1d8276",
   "metadata": {},
   "outputs": [],
   "source": [
    "y_true_test = test_df['class']"
   ]
  },
  {
   "cell_type": "code",
   "execution_count": 110,
   "id": "6cb44123-2c89-473c-be09-0dbea600a580",
   "metadata": {},
   "outputs": [],
   "source": [
    "test_df=test_df.drop(\"class\",axis=1)\n",
    "train_df=train_df.drop(\"class\",axis=1)"
   ]
  },
  {
   "cell_type": "code",
   "execution_count": 111,
   "id": "ab07ad2e-4754-43f8-be0f-312a125c9411",
   "metadata": {},
   "outputs": [
    {
     "data": {
      "text/plain": [
       "0    0\n",
       "1    0\n",
       "2    1\n",
       "3    0\n",
       "4    0\n",
       "Name: class, dtype: int32"
      ]
     },
     "execution_count": 111,
     "metadata": {},
     "output_type": "execute_result"
    }
   ],
   "source": [
    "y_true_test.head()"
   ]
  },
  {
   "cell_type": "code",
   "execution_count": 114,
   "id": "ea247447-87f1-4412-8f8c-d55ceaadf8e9",
   "metadata": {},
   "outputs": [
    {
     "data": {
      "text/plain": [
       "(49610, 20)"
      ]
     },
     "execution_count": 114,
     "metadata": {},
     "output_type": "execute_result"
    }
   ],
   "source": [
    "train_df.shape\n"
   ]
  },
  {
   "cell_type": "markdown",
   "id": "b98a31aa-1cb5-4f3d-8985-9af558d3451f",
   "metadata": {},
   "source": [
    "<h2>Normalization</h2>"
   ]
  },
  {
   "cell_type": "code",
   "execution_count": 115,
   "id": "a8d2e14a-b75a-4aa4-9b63-5723f4d763b9",
   "metadata": {},
   "outputs": [],
   "source": [
    "def normalizing(data):\n",
    "    for idx in range(len(data.columns)):\n",
    "        if data.nunique()[idx] != 2:\n",
    "            data.iloc[:,idx] = normalize([np.array(data.iloc[:,idx])]).reshape(-1)\n",
    "    return data"
   ]
  },
  {
   "cell_type": "code",
   "execution_count": 116,
   "id": "7e5650ba-1f00-4166-923b-182349f88085",
   "metadata": {},
   "outputs": [],
   "source": [
    "def PCA_transformation(data, dim = None):\n",
    "    pca = PCA()\n",
    "    pca.fit(data)\n",
    "    cum_vars = np.cumsum(pca.explained_variance_ratio_)\n",
    "    for i in range(len(cum_vars)):\n",
    "        if cum_vars[i] == 0.999:\n",
    "            break\n",
    "    if dim:\n",
    "        pca = PCA(dim)\n",
    "        data = pca.fit_transform(data)\n",
    "        return pd.DataFrame(data)\n",
    "    \n",
    "    pca = PCA(i)\n",
    "    data = pca.fit_transform(data)\n",
    "    return pd.DataFrame(data) , i\n"
   ]
  },
  {
   "cell_type": "code",
   "execution_count": 117,
   "id": "e2e6966b-368e-407e-9acd-578d094ed5a3",
   "metadata": {},
   "outputs": [],
   "source": [
    "def GMM_Row_Transform(data, values, threshold):\n",
    "    probs = []\n",
    "    for idx in range(len(data.columns)):\n",
    "        mean = np.array(data.iloc[:,idx]).mean()\n",
    "        std = np.array(data.iloc[:,idx]).std()\n",
    "\n",
    "        z_score = (values[idx] - mean)/std\n",
    "        prob = (1-norm.cdf(z_score))*100\n",
    "        probs.append(prob)\n",
    "    return probs\n"
   ]
  },
  {
   "cell_type": "code",
   "execution_count": 118,
   "id": "99752458-0f99-4ce6-a2db-bee9412bccb9",
   "metadata": {},
   "outputs": [],
   "source": [
    "def GMM_Matrix_Transform(origin_data, data, threshold):\n",
    "    matrix = []\n",
    "    for i in tqdm(range(len(data))):\n",
    "        row = GMM_Row_Transform(origin_data, data.iloc[i,:], threshold)\n",
    "        \n",
    "        matrix.append(row)\n",
    "    return matrix"
   ]
  },
  {
   "cell_type": "markdown",
   "id": "f1e3f375-f27f-4d41-8116-05cdea6528ef",
   "metadata": {},
   "source": [
    "## d_raw: The originalNSL dataset without any transformation of the numerical values"
   ]
  },
  {
   "cell_type": "code",
   "execution_count": 121,
   "id": "7fe2b981-737a-43ec-bbd4-1d987da4bb2f",
   "metadata": {},
   "outputs": [
    {
     "data": {
      "text/html": [
       "<div>\n",
       "<style scoped>\n",
       "    .dataframe tbody tr th:only-of-type {\n",
       "        vertical-align: middle;\n",
       "    }\n",
       "\n",
       "    .dataframe tbody tr th {\n",
       "        vertical-align: top;\n",
       "    }\n",
       "\n",
       "    .dataframe thead th {\n",
       "        text-align: right;\n",
       "    }\n",
       "</style>\n",
       "<table border=\"1\" class=\"dataframe\">\n",
       "  <thead>\n",
       "    <tr style=\"text-align: right;\">\n",
       "      <th></th>\n",
       "      <th>duration</th>\n",
       "      <th>src_bytes</th>\n",
       "      <th>dst_bytes</th>\n",
       "      <th>land</th>\n",
       "      <th>urgent</th>\n",
       "      <th>hot</th>\n",
       "      <th>num_failed_logins</th>\n",
       "      <th>logged_in</th>\n",
       "      <th>num_compromised</th>\n",
       "      <th>root_shell</th>\n",
       "      <th>su_attempted</th>\n",
       "      <th>num_root</th>\n",
       "      <th>num_file_creations</th>\n",
       "      <th>num_shells</th>\n",
       "      <th>num_access_files</th>\n",
       "      <th>is_host_login</th>\n",
       "      <th>is_guest_login</th>\n",
       "      <th>count</th>\n",
       "      <th>serror_rate</th>\n",
       "      <th>rerror_rate</th>\n",
       "    </tr>\n",
       "  </thead>\n",
       "  <tbody>\n",
       "    <tr>\n",
       "      <th>0</th>\n",
       "      <td>0.0</td>\n",
       "      <td>491.0</td>\n",
       "      <td>0.0</td>\n",
       "      <td>0</td>\n",
       "      <td>0.0</td>\n",
       "      <td>0.0</td>\n",
       "      <td>0.0</td>\n",
       "      <td>0</td>\n",
       "      <td>0.0</td>\n",
       "      <td>0.0</td>\n",
       "      <td>0.0</td>\n",
       "      <td>0.0</td>\n",
       "      <td>0.0</td>\n",
       "      <td>0.0</td>\n",
       "      <td>0.0</td>\n",
       "      <td>0</td>\n",
       "      <td>0</td>\n",
       "      <td>2.0</td>\n",
       "      <td>0.0</td>\n",
       "      <td>0.0</td>\n",
       "    </tr>\n",
       "    <tr>\n",
       "      <th>2</th>\n",
       "      <td>0.0</td>\n",
       "      <td>0.0</td>\n",
       "      <td>0.0</td>\n",
       "      <td>0</td>\n",
       "      <td>0.0</td>\n",
       "      <td>0.0</td>\n",
       "      <td>0.0</td>\n",
       "      <td>0</td>\n",
       "      <td>0.0</td>\n",
       "      <td>0.0</td>\n",
       "      <td>0.0</td>\n",
       "      <td>0.0</td>\n",
       "      <td>0.0</td>\n",
       "      <td>0.0</td>\n",
       "      <td>0.0</td>\n",
       "      <td>0</td>\n",
       "      <td>0</td>\n",
       "      <td>123.0</td>\n",
       "      <td>1.0</td>\n",
       "      <td>0.0</td>\n",
       "    </tr>\n",
       "    <tr>\n",
       "      <th>3</th>\n",
       "      <td>0.0</td>\n",
       "      <td>232.0</td>\n",
       "      <td>8153.0</td>\n",
       "      <td>0</td>\n",
       "      <td>0.0</td>\n",
       "      <td>0.0</td>\n",
       "      <td>0.0</td>\n",
       "      <td>1</td>\n",
       "      <td>0.0</td>\n",
       "      <td>0.0</td>\n",
       "      <td>0.0</td>\n",
       "      <td>0.0</td>\n",
       "      <td>0.0</td>\n",
       "      <td>0.0</td>\n",
       "      <td>0.0</td>\n",
       "      <td>0</td>\n",
       "      <td>0</td>\n",
       "      <td>5.0</td>\n",
       "      <td>0.2</td>\n",
       "      <td>0.0</td>\n",
       "    </tr>\n",
       "    <tr>\n",
       "      <th>4</th>\n",
       "      <td>0.0</td>\n",
       "      <td>199.0</td>\n",
       "      <td>420.0</td>\n",
       "      <td>0</td>\n",
       "      <td>0.0</td>\n",
       "      <td>0.0</td>\n",
       "      <td>0.0</td>\n",
       "      <td>1</td>\n",
       "      <td>0.0</td>\n",
       "      <td>0.0</td>\n",
       "      <td>0.0</td>\n",
       "      <td>0.0</td>\n",
       "      <td>0.0</td>\n",
       "      <td>0.0</td>\n",
       "      <td>0.0</td>\n",
       "      <td>0</td>\n",
       "      <td>0</td>\n",
       "      <td>30.0</td>\n",
       "      <td>0.0</td>\n",
       "      <td>0.0</td>\n",
       "    </tr>\n",
       "    <tr>\n",
       "      <th>5</th>\n",
       "      <td>0.0</td>\n",
       "      <td>0.0</td>\n",
       "      <td>0.0</td>\n",
       "      <td>0</td>\n",
       "      <td>0.0</td>\n",
       "      <td>0.0</td>\n",
       "      <td>0.0</td>\n",
       "      <td>0</td>\n",
       "      <td>0.0</td>\n",
       "      <td>0.0</td>\n",
       "      <td>0.0</td>\n",
       "      <td>0.0</td>\n",
       "      <td>0.0</td>\n",
       "      <td>0.0</td>\n",
       "      <td>0.0</td>\n",
       "      <td>0</td>\n",
       "      <td>0</td>\n",
       "      <td>121.0</td>\n",
       "      <td>0.0</td>\n",
       "      <td>1.0</td>\n",
       "    </tr>\n",
       "  </tbody>\n",
       "</table>\n",
       "</div>"
      ],
      "text/plain": [
       "   duration  src_bytes  dst_bytes  land  urgent  hot  num_failed_logins  \\\n",
       "0       0.0      491.0        0.0     0     0.0  0.0                0.0   \n",
       "2       0.0        0.0        0.0     0     0.0  0.0                0.0   \n",
       "3       0.0      232.0     8153.0     0     0.0  0.0                0.0   \n",
       "4       0.0      199.0      420.0     0     0.0  0.0                0.0   \n",
       "5       0.0        0.0        0.0     0     0.0  0.0                0.0   \n",
       "\n",
       "   logged_in  num_compromised  root_shell  su_attempted  num_root  \\\n",
       "0          0              0.0         0.0           0.0       0.0   \n",
       "2          0              0.0         0.0           0.0       0.0   \n",
       "3          1              0.0         0.0           0.0       0.0   \n",
       "4          1              0.0         0.0           0.0       0.0   \n",
       "5          0              0.0         0.0           0.0       0.0   \n",
       "\n",
       "   num_file_creations  num_shells  num_access_files  is_host_login  \\\n",
       "0                 0.0         0.0               0.0              0   \n",
       "2                 0.0         0.0               0.0              0   \n",
       "3                 0.0         0.0               0.0              0   \n",
       "4                 0.0         0.0               0.0              0   \n",
       "5                 0.0         0.0               0.0              0   \n",
       "\n",
       "   is_guest_login  count  serror_rate  rerror_rate  \n",
       "0               0    2.0          0.0          0.0  \n",
       "2               0  123.0          1.0          0.0  \n",
       "3               0    5.0          0.2          0.0  \n",
       "4               0   30.0          0.0          0.0  \n",
       "5               0  121.0          0.0          1.0  "
      ]
     },
     "execution_count": 121,
     "metadata": {},
     "output_type": "execute_result"
    }
   ],
   "source": [
    "d_raw_train = train_df\n",
    "d_raw_train.head()"
   ]
  },
  {
   "cell_type": "code",
   "execution_count": 122,
   "id": "fd46a08f-ae3d-4965-bed3-a7945b253c39",
   "metadata": {},
   "outputs": [
    {
     "data": {
      "text/html": [
       "<div>\n",
       "<style scoped>\n",
       "    .dataframe tbody tr th:only-of-type {\n",
       "        vertical-align: middle;\n",
       "    }\n",
       "\n",
       "    .dataframe tbody tr th {\n",
       "        vertical-align: top;\n",
       "    }\n",
       "\n",
       "    .dataframe thead th {\n",
       "        text-align: right;\n",
       "    }\n",
       "</style>\n",
       "<table border=\"1\" class=\"dataframe\">\n",
       "  <thead>\n",
       "    <tr style=\"text-align: right;\">\n",
       "      <th></th>\n",
       "      <th>duration</th>\n",
       "      <th>src_bytes</th>\n",
       "      <th>dst_bytes</th>\n",
       "      <th>land</th>\n",
       "      <th>urgent</th>\n",
       "      <th>hot</th>\n",
       "      <th>num_failed_logins</th>\n",
       "      <th>logged_in</th>\n",
       "      <th>num_compromised</th>\n",
       "      <th>root_shell</th>\n",
       "      <th>su_attempted</th>\n",
       "      <th>num_root</th>\n",
       "      <th>num_file_creations</th>\n",
       "      <th>num_shells</th>\n",
       "      <th>num_access_files</th>\n",
       "      <th>is_host_login</th>\n",
       "      <th>is_guest_login</th>\n",
       "      <th>count</th>\n",
       "      <th>serror_rate</th>\n",
       "      <th>rerror_rate</th>\n",
       "    </tr>\n",
       "  </thead>\n",
       "  <tbody>\n",
       "    <tr>\n",
       "      <th>0</th>\n",
       "      <td>0.0</td>\n",
       "      <td>0.0</td>\n",
       "      <td>0.0</td>\n",
       "      <td>0</td>\n",
       "      <td>0.0</td>\n",
       "      <td>0.0</td>\n",
       "      <td>0.0</td>\n",
       "      <td>0</td>\n",
       "      <td>0.0</td>\n",
       "      <td>0.0</td>\n",
       "      <td>0.0</td>\n",
       "      <td>0.0</td>\n",
       "      <td>0.0</td>\n",
       "      <td>0.0</td>\n",
       "      <td>0.0</td>\n",
       "      <td>0</td>\n",
       "      <td>0</td>\n",
       "      <td>229.0</td>\n",
       "      <td>0.0</td>\n",
       "      <td>1.0</td>\n",
       "    </tr>\n",
       "    <tr>\n",
       "      <th>1</th>\n",
       "      <td>0.0</td>\n",
       "      <td>0.0</td>\n",
       "      <td>0.0</td>\n",
       "      <td>0</td>\n",
       "      <td>0.0</td>\n",
       "      <td>0.0</td>\n",
       "      <td>0.0</td>\n",
       "      <td>0</td>\n",
       "      <td>0.0</td>\n",
       "      <td>0.0</td>\n",
       "      <td>0.0</td>\n",
       "      <td>0.0</td>\n",
       "      <td>0.0</td>\n",
       "      <td>0.0</td>\n",
       "      <td>0.0</td>\n",
       "      <td>0</td>\n",
       "      <td>0</td>\n",
       "      <td>136.0</td>\n",
       "      <td>0.0</td>\n",
       "      <td>1.0</td>\n",
       "    </tr>\n",
       "    <tr>\n",
       "      <th>2</th>\n",
       "      <td>2.0</td>\n",
       "      <td>12983.0</td>\n",
       "      <td>0.0</td>\n",
       "      <td>0</td>\n",
       "      <td>0.0</td>\n",
       "      <td>0.0</td>\n",
       "      <td>0.0</td>\n",
       "      <td>0</td>\n",
       "      <td>0.0</td>\n",
       "      <td>0.0</td>\n",
       "      <td>0.0</td>\n",
       "      <td>0.0</td>\n",
       "      <td>0.0</td>\n",
       "      <td>0.0</td>\n",
       "      <td>0.0</td>\n",
       "      <td>0</td>\n",
       "      <td>0</td>\n",
       "      <td>1.0</td>\n",
       "      <td>0.0</td>\n",
       "      <td>0.0</td>\n",
       "    </tr>\n",
       "    <tr>\n",
       "      <th>3</th>\n",
       "      <td>0.0</td>\n",
       "      <td>20.0</td>\n",
       "      <td>0.0</td>\n",
       "      <td>0</td>\n",
       "      <td>0.0</td>\n",
       "      <td>0.0</td>\n",
       "      <td>0.0</td>\n",
       "      <td>0</td>\n",
       "      <td>0.0</td>\n",
       "      <td>0.0</td>\n",
       "      <td>0.0</td>\n",
       "      <td>0.0</td>\n",
       "      <td>0.0</td>\n",
       "      <td>0.0</td>\n",
       "      <td>0.0</td>\n",
       "      <td>0</td>\n",
       "      <td>0</td>\n",
       "      <td>1.0</td>\n",
       "      <td>0.0</td>\n",
       "      <td>0.0</td>\n",
       "    </tr>\n",
       "    <tr>\n",
       "      <th>4</th>\n",
       "      <td>1.0</td>\n",
       "      <td>0.0</td>\n",
       "      <td>15.0</td>\n",
       "      <td>0</td>\n",
       "      <td>0.0</td>\n",
       "      <td>0.0</td>\n",
       "      <td>0.0</td>\n",
       "      <td>0</td>\n",
       "      <td>0.0</td>\n",
       "      <td>0.0</td>\n",
       "      <td>0.0</td>\n",
       "      <td>0.0</td>\n",
       "      <td>0.0</td>\n",
       "      <td>0.0</td>\n",
       "      <td>0.0</td>\n",
       "      <td>0</td>\n",
       "      <td>0</td>\n",
       "      <td>1.0</td>\n",
       "      <td>0.0</td>\n",
       "      <td>1.0</td>\n",
       "    </tr>\n",
       "  </tbody>\n",
       "</table>\n",
       "</div>"
      ],
      "text/plain": [
       "   duration  src_bytes  dst_bytes  land  urgent  hot  num_failed_logins  \\\n",
       "0       0.0        0.0        0.0     0     0.0  0.0                0.0   \n",
       "1       0.0        0.0        0.0     0     0.0  0.0                0.0   \n",
       "2       2.0    12983.0        0.0     0     0.0  0.0                0.0   \n",
       "3       0.0       20.0        0.0     0     0.0  0.0                0.0   \n",
       "4       1.0        0.0       15.0     0     0.0  0.0                0.0   \n",
       "\n",
       "   logged_in  num_compromised  root_shell  su_attempted  num_root  \\\n",
       "0          0              0.0         0.0           0.0       0.0   \n",
       "1          0              0.0         0.0           0.0       0.0   \n",
       "2          0              0.0         0.0           0.0       0.0   \n",
       "3          0              0.0         0.0           0.0       0.0   \n",
       "4          0              0.0         0.0           0.0       0.0   \n",
       "\n",
       "   num_file_creations  num_shells  num_access_files  is_host_login  \\\n",
       "0                 0.0         0.0               0.0              0   \n",
       "1                 0.0         0.0               0.0              0   \n",
       "2                 0.0         0.0               0.0              0   \n",
       "3                 0.0         0.0               0.0              0   \n",
       "4                 0.0         0.0               0.0              0   \n",
       "\n",
       "   is_guest_login  count  serror_rate  rerror_rate  \n",
       "0               0  229.0          0.0          1.0  \n",
       "1               0  136.0          0.0          1.0  \n",
       "2               0    1.0          0.0          0.0  \n",
       "3               0    1.0          0.0          0.0  \n",
       "4               0    1.0          0.0          1.0  "
      ]
     },
     "execution_count": 122,
     "metadata": {},
     "output_type": "execute_result"
    }
   ],
   "source": [
    "d_raw_test = test_df\n",
    "d_raw_test.head()"
   ]
  },
  {
   "cell_type": "markdown",
   "id": "423baf52-0ba1-4e35-91e7-6424cf22ea31",
   "metadata": {},
   "source": [
    "## d_raw_probs: The originalNSL dataset with GMM"
   ]
  },
  {
   "cell_type": "code",
   "execution_count": 123,
   "id": "60b3f7f7-be70-49ce-8299-9af6b9c4f633",
   "metadata": {},
   "outputs": [
    {
     "name": "stderr",
     "output_type": "stream",
     "text": [
      "  0%|                                                                                        | 0/49610 [00:00<?, ?it/s]C:\\Users\\Wahch\\AppData\\Local\\Temp\\ipykernel_568\\4090357052.py:7: FutureWarning: Series.__getitem__ treating keys as positions is deprecated. In a future version, integer keys will always be treated as labels (consistent with DataFrame behavior). To access a value by position, use `ser.iloc[pos]`\n",
      "  z_score = (values[idx] - mean)/std\n",
      "100%|███████████████████████████████████████████████████████████████████████████| 49610/49610 [07:19<00:00, 112.94it/s]\n",
      "100%|███████████████████████████████████████████████████████████████████████████| 12300/12300 [01:15<00:00, 163.67it/s]\n"
     ]
    }
   ],
   "source": [
    "d_raw_probs_train = pd.DataFrame(GMM_Matrix_Transform(d_raw_train, d_raw_train, 50))\n",
    "d_raw_probs_test =  pd.DataFrame(GMM_Matrix_Transform(d_raw_test, d_raw_test, 50))"
   ]
  },
  {
   "cell_type": "markdown",
   "id": "f278fbfc-565f-4ba6-a38e-01ccb373acdb",
   "metadata": {},
   "source": [
    "## d_raw_pca: The originalNSL dataset with PCA"
   ]
  },
  {
   "cell_type": "code",
   "execution_count": 124,
   "id": "295f6983-37e8-44ad-ae3c-efd79d7e1cff",
   "metadata": {},
   "outputs": [],
   "source": [
    "d_raw_pca_train = PCA_transformation(d_raw_train , 4)\n",
    "d_raw_pca_test = PCA_transformation(d_raw_test , 4)"
   ]
  },
  {
   "cell_type": "code",
   "execution_count": 125,
   "id": "499fb06d-ddee-4e87-ac97-02967fad9f23",
   "metadata": {},
   "outputs": [
    {
     "data": {
      "text/html": [
       "<div>\n",
       "<style scoped>\n",
       "    .dataframe tbody tr th:only-of-type {\n",
       "        vertical-align: middle;\n",
       "    }\n",
       "\n",
       "    .dataframe tbody tr th {\n",
       "        vertical-align: top;\n",
       "    }\n",
       "\n",
       "    .dataframe thead th {\n",
       "        text-align: right;\n",
       "    }\n",
       "</style>\n",
       "<table border=\"1\" class=\"dataframe\">\n",
       "  <thead>\n",
       "    <tr style=\"text-align: right;\">\n",
       "      <th></th>\n",
       "      <th>0</th>\n",
       "      <th>1</th>\n",
       "      <th>2</th>\n",
       "      <th>3</th>\n",
       "    </tr>\n",
       "  </thead>\n",
       "  <tbody>\n",
       "    <tr>\n",
       "      <th>0</th>\n",
       "      <td>-103787.268303</td>\n",
       "      <td>-49919.572481</td>\n",
       "      <td>-577.286942</td>\n",
       "      <td>-18.741117</td>\n",
       "    </tr>\n",
       "    <tr>\n",
       "      <th>1</th>\n",
       "      <td>-104278.268295</td>\n",
       "      <td>-49919.474158</td>\n",
       "      <td>-577.353779</td>\n",
       "      <td>102.250441</td>\n",
       "    </tr>\n",
       "    <tr>\n",
       "      <th>2</th>\n",
       "      <td>-104044.635643</td>\n",
       "      <td>-41766.520780</td>\n",
       "      <td>-577.462185</td>\n",
       "      <td>-15.743917</td>\n",
       "    </tr>\n",
       "    <tr>\n",
       "      <th>3</th>\n",
       "      <td>-104079.184191</td>\n",
       "      <td>-49499.514015</td>\n",
       "      <td>-577.306236</td>\n",
       "      <td>9.254087</td>\n",
       "    </tr>\n",
       "    <tr>\n",
       "      <th>4</th>\n",
       "      <td>-104278.268295</td>\n",
       "      <td>-49919.474158</td>\n",
       "      <td>-577.352391</td>\n",
       "      <td>100.252405</td>\n",
       "    </tr>\n",
       "  </tbody>\n",
       "</table>\n",
       "</div>"
      ],
      "text/plain": [
       "               0             1           2           3\n",
       "0 -103787.268303 -49919.572481 -577.286942  -18.741117\n",
       "1 -104278.268295 -49919.474158 -577.353779  102.250441\n",
       "2 -104044.635643 -41766.520780 -577.462185  -15.743917\n",
       "3 -104079.184191 -49499.514015 -577.306236    9.254087\n",
       "4 -104278.268295 -49919.474158 -577.352391  100.252405"
      ]
     },
     "execution_count": 125,
     "metadata": {},
     "output_type": "execute_result"
    }
   ],
   "source": [
    "d_raw_pca_train.head()"
   ]
  },
  {
   "cell_type": "code",
   "execution_count": 126,
   "id": "576e3bd9-3423-48d6-b60d-cbbe8250547e",
   "metadata": {},
   "outputs": [
    {
     "data": {
      "text/html": [
       "<div>\n",
       "<style scoped>\n",
       "    .dataframe tbody tr th:only-of-type {\n",
       "        vertical-align: middle;\n",
       "    }\n",
       "\n",
       "    .dataframe tbody tr th {\n",
       "        vertical-align: top;\n",
       "    }\n",
       "\n",
       "    .dataframe thead th {\n",
       "        text-align: right;\n",
       "    }\n",
       "</style>\n",
       "<table border=\"1\" class=\"dataframe\">\n",
       "  <thead>\n",
       "    <tr style=\"text-align: right;\">\n",
       "      <th></th>\n",
       "      <th>0</th>\n",
       "      <th>1</th>\n",
       "      <th>2</th>\n",
       "      <th>3</th>\n",
       "    </tr>\n",
       "  </thead>\n",
       "  <tbody>\n",
       "    <tr>\n",
       "      <th>0</th>\n",
       "      <td>-12637.294053</td>\n",
       "      <td>-3472.268200</td>\n",
       "      <td>-303.115512</td>\n",
       "      <td>166.821621</td>\n",
       "    </tr>\n",
       "    <tr>\n",
       "      <th>1</th>\n",
       "      <td>-12637.293904</td>\n",
       "      <td>-3472.246756</td>\n",
       "      <td>-302.613810</td>\n",
       "      <td>73.823282</td>\n",
       "    </tr>\n",
       "    <tr>\n",
       "      <th>2</th>\n",
       "      <td>345.669508</td>\n",
       "      <td>-3503.123222</td>\n",
       "      <td>-299.793979</td>\n",
       "      <td>-61.150153</td>\n",
       "    </tr>\n",
       "    <tr>\n",
       "      <th>3</th>\n",
       "      <td>-12617.293744</td>\n",
       "      <td>-3472.263254</td>\n",
       "      <td>-301.885397</td>\n",
       "      <td>-61.175117</td>\n",
       "    </tr>\n",
       "    <tr>\n",
       "      <th>4</th>\n",
       "      <td>-12637.257962</td>\n",
       "      <td>-3457.210914</td>\n",
       "      <td>-300.959656</td>\n",
       "      <td>-61.165853</td>\n",
       "    </tr>\n",
       "  </tbody>\n",
       "</table>\n",
       "</div>"
      ],
      "text/plain": [
       "              0            1           2           3\n",
       "0 -12637.294053 -3472.268200 -303.115512  166.821621\n",
       "1 -12637.293904 -3472.246756 -302.613810   73.823282\n",
       "2    345.669508 -3503.123222 -299.793979  -61.150153\n",
       "3 -12617.293744 -3472.263254 -301.885397  -61.175117\n",
       "4 -12637.257962 -3457.210914 -300.959656  -61.165853"
      ]
     },
     "execution_count": 126,
     "metadata": {},
     "output_type": "execute_result"
    }
   ],
   "source": [
    "d_raw_pca_test.head()"
   ]
  },
  {
   "cell_type": "markdown",
   "id": "a751dde5-d87d-4fff-ac3e-19376e416883",
   "metadata": {},
   "source": [
    "# # d_raw_pca_probs: The originalNSL dataset with PCA and GMM"
   ]
  },
  {
   "cell_type": "code",
   "execution_count": 127,
   "id": "56637503-8e26-48d2-953d-190133d1c1eb",
   "metadata": {},
   "outputs": [
    {
     "name": "stderr",
     "output_type": "stream",
     "text": [
      "  0%|                                                                                        | 0/49610 [00:00<?, ?it/s]C:\\Users\\Wahch\\AppData\\Local\\Temp\\ipykernel_568\\4090357052.py:7: FutureWarning: Series.__getitem__ treating keys as positions is deprecated. In a future version, integer keys will always be treated as labels (consistent with DataFrame behavior). To access a value by position, use `ser.iloc[pos]`\n",
      "  z_score = (values[idx] - mean)/std\n",
      "100%|███████████████████████████████████████████████████████████████████████████| 49610/49610 [02:41<00:00, 306.34it/s]\n",
      "100%|███████████████████████████████████████████████████████████████████████████| 12300/12300 [00:17<00:00, 712.48it/s]\n"
     ]
    }
   ],
   "source": [
    "d_raw_pca_probs_train = pd.DataFrame(GMM_Matrix_Transform(d_raw_pca_train, d_raw_train, 50))\n",
    "d_raw_pca_probs_test =  pd.DataFrame(GMM_Matrix_Transform(d_raw_pca_test, d_raw_test, 50))"
   ]
  },
  {
   "cell_type": "markdown",
   "id": "3d2efc98-90c1-463a-bb23-8ef9c62357bf",
   "metadata": {},
   "source": [
    "# # d_norm: The Normalised dataset "
   ]
  },
  {
   "cell_type": "code",
   "execution_count": 128,
   "id": "84b8e228-3853-45ac-a7a4-41051bf728b2",
   "metadata": {},
   "outputs": [
    {
     "name": "stderr",
     "output_type": "stream",
     "text": [
      "C:\\Users\\Wahch\\AppData\\Local\\Temp\\ipykernel_568\\3002322716.py:3: FutureWarning: Series.__getitem__ treating keys as positions is deprecated. In a future version, integer keys will always be treated as labels (consistent with DataFrame behavior). To access a value by position, use `ser.iloc[pos]`\n",
      "  if data.nunique()[idx] != 2:\n",
      "C:\\Users\\Wahch\\AppData\\Local\\Temp\\ipykernel_568\\3002322716.py:3: FutureWarning: Series.__getitem__ treating keys as positions is deprecated. In a future version, integer keys will always be treated as labels (consistent with DataFrame behavior). To access a value by position, use `ser.iloc[pos]`\n",
      "  if data.nunique()[idx] != 2:\n",
      "C:\\Users\\Wahch\\AppData\\Local\\Temp\\ipykernel_568\\3002322716.py:3: FutureWarning: Series.__getitem__ treating keys as positions is deprecated. In a future version, integer keys will always be treated as labels (consistent with DataFrame behavior). To access a value by position, use `ser.iloc[pos]`\n",
      "  if data.nunique()[idx] != 2:\n",
      "C:\\Users\\Wahch\\AppData\\Local\\Temp\\ipykernel_568\\3002322716.py:3: FutureWarning: Series.__getitem__ treating keys as positions is deprecated. In a future version, integer keys will always be treated as labels (consistent with DataFrame behavior). To access a value by position, use `ser.iloc[pos]`\n",
      "  if data.nunique()[idx] != 2:\n",
      "C:\\Users\\Wahch\\AppData\\Local\\Temp\\ipykernel_568\\3002322716.py:3: FutureWarning: Series.__getitem__ treating keys as positions is deprecated. In a future version, integer keys will always be treated as labels (consistent with DataFrame behavior). To access a value by position, use `ser.iloc[pos]`\n",
      "  if data.nunique()[idx] != 2:\n",
      "C:\\Users\\Wahch\\AppData\\Local\\Temp\\ipykernel_568\\3002322716.py:3: FutureWarning: Series.__getitem__ treating keys as positions is deprecated. In a future version, integer keys will always be treated as labels (consistent with DataFrame behavior). To access a value by position, use `ser.iloc[pos]`\n",
      "  if data.nunique()[idx] != 2:\n",
      "C:\\Users\\Wahch\\AppData\\Local\\Temp\\ipykernel_568\\3002322716.py:3: FutureWarning: Series.__getitem__ treating keys as positions is deprecated. In a future version, integer keys will always be treated as labels (consistent with DataFrame behavior). To access a value by position, use `ser.iloc[pos]`\n",
      "  if data.nunique()[idx] != 2:\n",
      "C:\\Users\\Wahch\\AppData\\Local\\Temp\\ipykernel_568\\3002322716.py:3: FutureWarning: Series.__getitem__ treating keys as positions is deprecated. In a future version, integer keys will always be treated as labels (consistent with DataFrame behavior). To access a value by position, use `ser.iloc[pos]`\n",
      "  if data.nunique()[idx] != 2:\n",
      "C:\\Users\\Wahch\\AppData\\Local\\Temp\\ipykernel_568\\3002322716.py:3: FutureWarning: Series.__getitem__ treating keys as positions is deprecated. In a future version, integer keys will always be treated as labels (consistent with DataFrame behavior). To access a value by position, use `ser.iloc[pos]`\n",
      "  if data.nunique()[idx] != 2:\n",
      "C:\\Users\\Wahch\\AppData\\Local\\Temp\\ipykernel_568\\3002322716.py:3: FutureWarning: Series.__getitem__ treating keys as positions is deprecated. In a future version, integer keys will always be treated as labels (consistent with DataFrame behavior). To access a value by position, use `ser.iloc[pos]`\n",
      "  if data.nunique()[idx] != 2:\n",
      "C:\\Users\\Wahch\\AppData\\Local\\Temp\\ipykernel_568\\3002322716.py:3: FutureWarning: Series.__getitem__ treating keys as positions is deprecated. In a future version, integer keys will always be treated as labels (consistent with DataFrame behavior). To access a value by position, use `ser.iloc[pos]`\n",
      "  if data.nunique()[idx] != 2:\n",
      "C:\\Users\\Wahch\\AppData\\Local\\Temp\\ipykernel_568\\3002322716.py:3: FutureWarning: Series.__getitem__ treating keys as positions is deprecated. In a future version, integer keys will always be treated as labels (consistent with DataFrame behavior). To access a value by position, use `ser.iloc[pos]`\n",
      "  if data.nunique()[idx] != 2:\n",
      "C:\\Users\\Wahch\\AppData\\Local\\Temp\\ipykernel_568\\3002322716.py:3: FutureWarning: Series.__getitem__ treating keys as positions is deprecated. In a future version, integer keys will always be treated as labels (consistent with DataFrame behavior). To access a value by position, use `ser.iloc[pos]`\n",
      "  if data.nunique()[idx] != 2:\n",
      "C:\\Users\\Wahch\\AppData\\Local\\Temp\\ipykernel_568\\3002322716.py:3: FutureWarning: Series.__getitem__ treating keys as positions is deprecated. In a future version, integer keys will always be treated as labels (consistent with DataFrame behavior). To access a value by position, use `ser.iloc[pos]`\n",
      "  if data.nunique()[idx] != 2:\n",
      "C:\\Users\\Wahch\\AppData\\Local\\Temp\\ipykernel_568\\3002322716.py:3: FutureWarning: Series.__getitem__ treating keys as positions is deprecated. In a future version, integer keys will always be treated as labels (consistent with DataFrame behavior). To access a value by position, use `ser.iloc[pos]`\n",
      "  if data.nunique()[idx] != 2:\n",
      "C:\\Users\\Wahch\\AppData\\Local\\Temp\\ipykernel_568\\3002322716.py:3: FutureWarning: Series.__getitem__ treating keys as positions is deprecated. In a future version, integer keys will always be treated as labels (consistent with DataFrame behavior). To access a value by position, use `ser.iloc[pos]`\n",
      "  if data.nunique()[idx] != 2:\n",
      "C:\\Users\\Wahch\\AppData\\Local\\Temp\\ipykernel_568\\3002322716.py:3: FutureWarning: Series.__getitem__ treating keys as positions is deprecated. In a future version, integer keys will always be treated as labels (consistent with DataFrame behavior). To access a value by position, use `ser.iloc[pos]`\n",
      "  if data.nunique()[idx] != 2:\n",
      "C:\\Users\\Wahch\\AppData\\Local\\Temp\\ipykernel_568\\3002322716.py:3: FutureWarning: Series.__getitem__ treating keys as positions is deprecated. In a future version, integer keys will always be treated as labels (consistent with DataFrame behavior). To access a value by position, use `ser.iloc[pos]`\n",
      "  if data.nunique()[idx] != 2:\n",
      "C:\\Users\\Wahch\\AppData\\Local\\Temp\\ipykernel_568\\3002322716.py:3: FutureWarning: Series.__getitem__ treating keys as positions is deprecated. In a future version, integer keys will always be treated as labels (consistent with DataFrame behavior). To access a value by position, use `ser.iloc[pos]`\n",
      "  if data.nunique()[idx] != 2:\n",
      "C:\\Users\\Wahch\\AppData\\Local\\Temp\\ipykernel_568\\3002322716.py:3: FutureWarning: Series.__getitem__ treating keys as positions is deprecated. In a future version, integer keys will always be treated as labels (consistent with DataFrame behavior). To access a value by position, use `ser.iloc[pos]`\n",
      "  if data.nunique()[idx] != 2:\n",
      "C:\\Users\\Wahch\\AppData\\Local\\Temp\\ipykernel_568\\3002322716.py:3: FutureWarning: Series.__getitem__ treating keys as positions is deprecated. In a future version, integer keys will always be treated as labels (consistent with DataFrame behavior). To access a value by position, use `ser.iloc[pos]`\n",
      "  if data.nunique()[idx] != 2:\n",
      "C:\\Users\\Wahch\\AppData\\Local\\Temp\\ipykernel_568\\3002322716.py:3: FutureWarning: Series.__getitem__ treating keys as positions is deprecated. In a future version, integer keys will always be treated as labels (consistent with DataFrame behavior). To access a value by position, use `ser.iloc[pos]`\n",
      "  if data.nunique()[idx] != 2:\n",
      "C:\\Users\\Wahch\\AppData\\Local\\Temp\\ipykernel_568\\3002322716.py:3: FutureWarning: Series.__getitem__ treating keys as positions is deprecated. In a future version, integer keys will always be treated as labels (consistent with DataFrame behavior). To access a value by position, use `ser.iloc[pos]`\n",
      "  if data.nunique()[idx] != 2:\n",
      "C:\\Users\\Wahch\\AppData\\Local\\Temp\\ipykernel_568\\3002322716.py:3: FutureWarning: Series.__getitem__ treating keys as positions is deprecated. In a future version, integer keys will always be treated as labels (consistent with DataFrame behavior). To access a value by position, use `ser.iloc[pos]`\n",
      "  if data.nunique()[idx] != 2:\n",
      "C:\\Users\\Wahch\\AppData\\Local\\Temp\\ipykernel_568\\3002322716.py:3: FutureWarning: Series.__getitem__ treating keys as positions is deprecated. In a future version, integer keys will always be treated as labels (consistent with DataFrame behavior). To access a value by position, use `ser.iloc[pos]`\n",
      "  if data.nunique()[idx] != 2:\n",
      "C:\\Users\\Wahch\\AppData\\Local\\Temp\\ipykernel_568\\3002322716.py:3: FutureWarning: Series.__getitem__ treating keys as positions is deprecated. In a future version, integer keys will always be treated as labels (consistent with DataFrame behavior). To access a value by position, use `ser.iloc[pos]`\n",
      "  if data.nunique()[idx] != 2:\n",
      "C:\\Users\\Wahch\\AppData\\Local\\Temp\\ipykernel_568\\3002322716.py:3: FutureWarning: Series.__getitem__ treating keys as positions is deprecated. In a future version, integer keys will always be treated as labels (consistent with DataFrame behavior). To access a value by position, use `ser.iloc[pos]`\n",
      "  if data.nunique()[idx] != 2:\n",
      "C:\\Users\\Wahch\\AppData\\Local\\Temp\\ipykernel_568\\3002322716.py:3: FutureWarning: Series.__getitem__ treating keys as positions is deprecated. In a future version, integer keys will always be treated as labels (consistent with DataFrame behavior). To access a value by position, use `ser.iloc[pos]`\n",
      "  if data.nunique()[idx] != 2:\n",
      "C:\\Users\\Wahch\\AppData\\Local\\Temp\\ipykernel_568\\3002322716.py:3: FutureWarning: Series.__getitem__ treating keys as positions is deprecated. In a future version, integer keys will always be treated as labels (consistent with DataFrame behavior). To access a value by position, use `ser.iloc[pos]`\n",
      "  if data.nunique()[idx] != 2:\n",
      "C:\\Users\\Wahch\\AppData\\Local\\Temp\\ipykernel_568\\3002322716.py:3: FutureWarning: Series.__getitem__ treating keys as positions is deprecated. In a future version, integer keys will always be treated as labels (consistent with DataFrame behavior). To access a value by position, use `ser.iloc[pos]`\n",
      "  if data.nunique()[idx] != 2:\n"
     ]
    }
   ],
   "source": [
    "d_norm_train = normalizing(train_df)\n",
    "d_norm_test = normalizing(test_df)"
   ]
  },
  {
   "cell_type": "markdown",
   "id": "18c61148-3c5e-418c-9747-ce6e3480295e",
   "metadata": {},
   "source": [
    "# # d_norm_probs : The Normalised dataset with GMM "
   ]
  },
  {
   "cell_type": "code",
   "execution_count": 129,
   "id": "519579e6-b381-4e16-a8bd-b96343dbeafe",
   "metadata": {},
   "outputs": [
    {
     "name": "stderr",
     "output_type": "stream",
     "text": [
      "  0%|                                                                                        | 0/49610 [00:00<?, ?it/s]C:\\Users\\Wahch\\AppData\\Local\\Temp\\ipykernel_568\\4090357052.py:7: FutureWarning: Series.__getitem__ treating keys as positions is deprecated. In a future version, integer keys will always be treated as labels (consistent with DataFrame behavior). To access a value by position, use `ser.iloc[pos]`\n",
      "  z_score = (values[idx] - mean)/std\n",
      "100%|███████████████████████████████████████████████████████████████████████████| 49610/49610 [06:56<00:00, 119.17it/s]\n",
      "100%|███████████████████████████████████████████████████████████████████████████| 12300/12300 [01:14<00:00, 164.93it/s]\n"
     ]
    }
   ],
   "source": [
    "d_norm_probs_train = pd.DataFrame(GMM_Matrix_Transform(d_norm_train, d_norm_train, 50))\n",
    "d_norm_probs_test = pd.DataFrame(GMM_Matrix_Transform(d_norm_test, d_norm_test, 50))"
   ]
  },
  {
   "cell_type": "markdown",
   "id": "957774de-fde1-421b-bbd2-bd5865a3fbfb",
   "metadata": {},
   "source": [
    "# # d_norm_pca : The Normalised dataset with PCA"
   ]
  },
  {
   "cell_type": "code",
   "execution_count": 130,
   "id": "ce7e2d7a-dfd9-43e6-8193-01ea8f57affd",
   "metadata": {},
   "outputs": [],
   "source": [
    "d_norm_pca_train = PCA_transformation(d_norm_train , 4)\n",
    "d_norm_pca_test = PCA_transformation(d_norm_test , 4)"
   ]
  },
  {
   "cell_type": "markdown",
   "id": "6198a522-1ac2-40c2-a605-54daca8a607a",
   "metadata": {},
   "source": [
    "# # d_norm_pca_probs : The Normalised dataset with PCA & GMM"
   ]
  },
  {
   "cell_type": "code",
   "execution_count": 131,
   "id": "b7b182a7-0927-428b-b72a-6db6c0d8c7b1",
   "metadata": {},
   "outputs": [
    {
     "name": "stderr",
     "output_type": "stream",
     "text": [
      "100%|███████████████████████████████████████████████████████████████████████████| 49610/49610 [02:33<00:00, 323.77it/s]\n",
      "100%|███████████████████████████████████████████████████████████████████████████| 12300/12300 [00:15<00:00, 788.56it/s]\n"
     ]
    }
   ],
   "source": [
    "d_norm_pca_probs_train = pd.DataFrame(GMM_Matrix_Transform(d_norm_pca_train ,  d_norm_pca_train , 50))\n",
    "d_norm_pca_probs_test =  pd.DataFrame(GMM_Matrix_Transform(d_norm_pca_test , d_norm_pca_test , 50))"
   ]
  },
  {
   "cell_type": "code",
   "execution_count": null,
   "id": "df1001c2-6773-4568-abc8-2eb32a6ae471",
   "metadata": {},
   "outputs": [],
   "source": []
  },
  {
   "cell_type": "markdown",
   "id": "2c8139d4-c699-446a-8fe5-dc52863eb765",
   "metadata": {},
   "source": [
    "## Modeling"
   ]
  },
  {
   "cell_type": "code",
   "execution_count": 132,
   "id": "d202ada9-269e-4d47-8bf2-8f40b26e614b",
   "metadata": {},
   "outputs": [],
   "source": [
    "def GMM_vote(data, values, threshold):\n",
    "    no = 0\n",
    "    for idx in range(len(data.columns)):\n",
    "        mean = np.array(data.iloc[:,idx]).mean()\n",
    "        std = np.array(data.iloc[:,idx]).std()\n",
    "\n",
    "        z_score = (values[idx] - mean)/std\n",
    "        prob = (1-norm.cdf(z_score))*100\n",
    "        if prob <= threshold:\n",
    "            no += 1  \n",
    "    return no\n"
   ]
  },
  {
   "cell_type": "code",
   "execution_count": 133,
   "id": "90f97211-cda4-4eb6-9699-50029285428b",
   "metadata": {},
   "outputs": [],
   "source": [
    "def voting(data_train, data_test, min_abnormal_features = 10, threshold = 50):\n",
    "    preds = []\n",
    "    for idx in tqdm(range(len(data_test))):\n",
    "        values = list(data_test.iloc[idx,:])\n",
    "        no = GMM_vote(data_train, values, threshold)\n",
    "        if no > min_abnormal_features:\n",
    "            preds.append(1)\n",
    "        else:\n",
    "            preds.append(0)\n",
    "    return preds"
   ]
  },
  {
   "cell_type": "code",
   "execution_count": 134,
   "id": "a9e57324-fc13-4750-800a-1ec0518989bf",
   "metadata": {},
   "outputs": [],
   "source": [
    "def K_means_Distance(test_idx, test_data, model):\n",
    "    c1 = np.array(test_data.iloc[test_idx,:])\n",
    "    c2 = model.cluster_centers_[0]\n",
    "    temp = c1 - c2\n",
    "    euclid_dist = np.sqrt(np.dot(temp.T, temp))\n",
    "    euclid_dist\n",
    "    return euclid_dist"
   ]
  },
  {
   "cell_type": "code",
   "execution_count": 135,
   "id": "e7d87b7f-0928-4894-a9a1-e5aaeb77bc9c",
   "metadata": {},
   "outputs": [],
   "source": [
    "def kmd_model(test_data, train_data, model, threshold_dis):\n",
    "    kmd_d_raw_preds  = [] \n",
    "    for idx in tqdm(range(len(test_data))):\n",
    "        dis = K_means_Distance(idx, test_data, model)\n",
    "        if dis > threshold_dis:\n",
    "            kmd_d_raw_preds.append(1)\n",
    "        else:\n",
    "            kmd_d_raw_preds.append(0)\n",
    "    return kmd_d_raw_preds\n"
   ]
  },
  {
   "cell_type": "code",
   "execution_count": 198,
   "id": "a7efe07b-d97f-4e2c-8a9b-f71c279a2eba",
   "metadata": {},
   "outputs": [],
   "source": [
    "def SVM_model(train_data, train_target, test_data):\n",
    "    model = SVC()\n",
    "    model.fit(train_data, train_target)\n",
    "    preds = model.predict(test_data)\n",
    "    return preds\n"
   ]
  },
  {
   "cell_type": "code",
   "execution_count": 137,
   "id": "726c5d97-3267-46a4-b415-365e438f3c8c",
   "metadata": {},
   "outputs": [],
   "source": [
    "def dt_model(train_data, test_data):\n",
    "    model = tree.DecisionTreeClassifier()\n",
    "    model.fit(train_data, train_target)\n",
    "    preds = model.predict(test_data)\n",
    "    return preds\n"
   ]
  },
  {
   "cell_type": "code",
   "execution_count": 138,
   "id": "ad2ee27a-e48d-4673-afbc-47e86c6db236",
   "metadata": {},
   "outputs": [],
   "source": [
    "def kmean_C_model(train_data, test_data):\n",
    "    kmeans = KMeans(n_clusters=2, n_init=\"auto\").fit(train_data)\n",
    "    preds = kmeans.predict(test_data)\n",
    "    return preds\n"
   ]
  },
  {
   "cell_type": "code",
   "execution_count": 139,
   "id": "8716e7eb-df4a-48c0-a2fc-d390e685af13",
   "metadata": {},
   "outputs": [],
   "source": [
    "def mlp_model(train_data, test_data):\n",
    "    model = MLPClassifier(max_iter=300).fit(train_data, train_target)\n",
    "    preds = model.predict(test_data)\n",
    "    return preds"
   ]
  },
  {
   "cell_type": "code",
   "execution_count": null,
   "id": "4424137f-05d0-4540-ab17-3f4157fe03dc",
   "metadata": {},
   "outputs": [],
   "source": []
  },
  {
   "cell_type": "code",
   "execution_count": 288,
   "id": "16324256-375a-4601-95e7-cd0940f04fd1",
   "metadata": {},
   "outputs": [],
   "source": [
    "def sensitivity(y_true, y_pred):\n",
    "    y_true = np.array(y_true)\n",
    "    y_pred = np.array(y_pred)\n",
    "\n",
    "    tp = np.sum((y_true == 1) & (y_pred == 1))\n",
    "    fn = np.sum((y_true == 1) & (y_pred == 0))\n",
    "\n",
    "    sensitivity_score = tp / (tp + fn) if (tp + fn) > 0 else 0.0\n",
    "\n",
    "    print(f'True Positives (tp): {tp}')\n",
    "    print(f'False Negatives (fn): {fn}')\n",
    "    print(f'Sensitivity Score: {sensitivity_score}')\n",
    "\n",
    "    return sensitivity_score"
   ]
  },
  {
   "cell_type": "code",
   "execution_count": 142,
   "id": "6df4d85e-f1b8-4e10-95b1-a2cb11911b8c",
   "metadata": {},
   "outputs": [],
   "source": [
    "def f1(y_true, y_pred):\n",
    "    return f1_score(y_true, y_pred)\n"
   ]
  },
  {
   "cell_type": "code",
   "execution_count": 171,
   "id": "3290beef-bd41-4334-9d17-827876122dcb",
   "metadata": {},
   "outputs": [],
   "source": [
    "def cap(y_true, y_pred):\n",
    "    y_true_binaire = (y_true > 0.5).astype(int)\n",
    "    fpr, tpr, _ = roc_curve(y_true_binaire, y_pred)\n",
    "    return roc_auc_score(y_true_binaire, y_pred)\n",
    "\n",
    "\n",
    "def auc(x, y):\n",
    "    return roc_auc_score(x, y)\n"
   ]
  },
  {
   "cell_type": "markdown",
   "id": "88e31479-1c8b-499c-a7f4-bcee949aeec0",
   "metadata": {},
   "source": [
    "## VOTING"
   ]
  },
  {
   "cell_type": "code",
   "execution_count": 144,
   "id": "d9ea2b14-262f-4c61-bbdc-f7a4e15cea0f",
   "metadata": {},
   "outputs": [
    {
     "name": "stderr",
     "output_type": "stream",
     "text": [
      "100%|███████████████████████████████████████████████████████████████████████████| 12300/12300 [01:34<00:00, 129.83it/s]\n"
     ]
    }
   ],
   "source": [
    "y_raw_probs_voting = voting(d_raw_probs_train, d_raw_probs_test, min_abnormal_features = 10, threshold = 50)\n"
   ]
  },
  {
   "cell_type": "code",
   "execution_count": 265,
   "id": "367d42e7-e210-4172-ae15-eba46fbb422c",
   "metadata": {},
   "outputs": [
    {
     "data": {
      "text/plain": [
       "0.8317372150928941"
      ]
     },
     "execution_count": 265,
     "metadata": {},
     "output_type": "execute_result"
    }
   ],
   "source": [
    "y_raw_probs_votingF1=f1(y_true_test, y_raw_probs_voting)\n",
    "y_raw_probs_votingF1"
   ]
  },
  {
   "cell_type": "code",
   "execution_count": 266,
   "id": "8f6b256d-c410-4e4b-ae52-d9381d99184f",
   "metadata": {},
   "outputs": [
    {
     "data": {
      "text/plain": [
       "0.5137012326710423"
      ]
     },
     "execution_count": 266,
     "metadata": {},
     "output_type": "execute_result"
    }
   ],
   "source": [
    "y_raw_probs_votingcap=cap(y_true_test, y_raw_probs_voting)\n",
    "y_raw_probs_votingcap"
   ]
  },
  {
   "cell_type": "code",
   "execution_count": 292,
   "id": "f4f7d2b6-319a-445d-9812-24d0d007d996",
   "metadata": {},
   "outputs": [
    {
     "name": "stdout",
     "output_type": "stream",
     "text": [
      "True Positives (tp): 8685\n",
      "False Negatives (fn): 5\n",
      "Sensitivity Score: 0.9994246260069045\n"
     ]
    },
    {
     "data": {
      "text/plain": [
       "0.9994246260069045"
      ]
     },
     "execution_count": 292,
     "metadata": {},
     "output_type": "execute_result"
    }
   ],
   "source": [
    "y_raw_probs_votingsensivity=sensitivity(y_true_test, y_raw_probs_voting)\n",
    "y_raw_probs_votingsensivity"
   ]
  },
  {
   "cell_type": "code",
   "execution_count": 274,
   "id": "3aa2b246-3e4a-4566-8e34-9fb5b3f43ed4",
   "metadata": {},
   "outputs": [
    {
     "name": "stderr",
     "output_type": "stream",
     "text": [
      "100%|███████████████████████████████████████████████████████████████████████████| 12300/12300 [00:18<00:00, 671.53it/s]\n"
     ]
    }
   ],
   "source": [
    "y_raw_pca_probs_voting = voting(d_raw_pca_probs_train, d_raw_pca_probs_test, min_abnormal_features = 10, threshold = 50)"
   ]
  },
  {
   "cell_type": "code",
   "execution_count": 275,
   "id": "9a77704c-d187-413c-86e8-f3861734730e",
   "metadata": {},
   "outputs": [
    {
     "data": {
      "text/plain": [
       "0.0"
      ]
     },
     "execution_count": 275,
     "metadata": {},
     "output_type": "execute_result"
    }
   ],
   "source": [
    "y_raw_pca_probs_votingF1=f1(y_true_test,y_raw_pca_probs_voting )\n",
    "y_raw_pca_probs_votingF1"
   ]
  },
  {
   "cell_type": "code",
   "execution_count": 276,
   "id": "5336e82b-235d-4026-86be-db95d17a128c",
   "metadata": {},
   "outputs": [
    {
     "data": {
      "text/plain": [
       "0.5"
      ]
     },
     "execution_count": 276,
     "metadata": {},
     "output_type": "execute_result"
    }
   ],
   "source": [
    "y_raw_pca_probs_votingcap=cap(y_true_test, y_raw_pca_probs_voting)\n",
    "y_raw_pca_probs_votingcap"
   ]
  },
  {
   "cell_type": "code",
   "execution_count": 290,
   "id": "45a36800-8831-46aa-bb72-938fd0320c0e",
   "metadata": {},
   "outputs": [
    {
     "name": "stdout",
     "output_type": "stream",
     "text": [
      "True Positives (tp): 0\n",
      "False Negatives (fn): 8690\n",
      "Sensitivity Score: 0.0\n"
     ]
    },
    {
     "data": {
      "text/plain": [
       "0.0"
      ]
     },
     "execution_count": 290,
     "metadata": {},
     "output_type": "execute_result"
    }
   ],
   "source": [
    "y_raw_pca_probs_votingsensitivity=sensitivity(y_true_test, y_raw_pca_probs_voting)\n",
    "y_raw_pca_probs_votingsensitivity"
   ]
  },
  {
   "cell_type": "code",
   "execution_count": 146,
   "id": "0a0253e3-45c7-4d7a-babe-6e269bade952",
   "metadata": {},
   "outputs": [
    {
     "name": "stderr",
     "output_type": "stream",
     "text": [
      "100%|███████████████████████████████████████████████████████████████████████████| 12300/12300 [01:32<00:00, 133.52it/s]\n"
     ]
    }
   ],
   "source": [
    "y_norm_probs_voting = voting(d_norm_probs_train, d_norm_probs_test, min_abnormal_features = 10, threshold = 50)"
   ]
  },
  {
   "cell_type": "code",
   "execution_count": 282,
   "id": "96cb0c76-298c-43c2-ab1c-e000660e494e",
   "metadata": {},
   "outputs": [
    {
     "data": {
      "text/plain": [
       "0.8317372150928941"
      ]
     },
     "execution_count": 282,
     "metadata": {},
     "output_type": "execute_result"
    }
   ],
   "source": [
    "y_norm_probs_votingF1=f1(y_true_test,y_norm_probs_voting )\n",
    "y_norm_probs_votingF1"
   ]
  },
  {
   "cell_type": "code",
   "execution_count": 519,
   "id": "1447c9ab-5046-40fc-9d92-59ed13624626",
   "metadata": {},
   "outputs": [
    {
     "data": {
      "text/plain": [
       "0.5137012326710423"
      ]
     },
     "execution_count": 519,
     "metadata": {},
     "output_type": "execute_result"
    }
   ],
   "source": [
    "y_norm_probs_votingcap=cap(y_true_test,y_norm_probs_voting )\n",
    "y_norm_probs_votingcap"
   ]
  },
  {
   "cell_type": "code",
   "execution_count": 289,
   "id": "813f7154-4ddb-4146-8bad-6288ee7750d7",
   "metadata": {},
   "outputs": [
    {
     "name": "stdout",
     "output_type": "stream",
     "text": [
      "True Positives (tp): 8685\n",
      "False Negatives (fn): 5\n",
      "Sensitivity Score: 0.9994246260069045\n"
     ]
    },
    {
     "data": {
      "text/plain": [
       "0.9994246260069045"
      ]
     },
     "execution_count": 289,
     "metadata": {},
     "output_type": "execute_result"
    }
   ],
   "source": [
    "y_norm_probs_votingsensitivity=sensitivity(y_true_test,y_norm_probs_voting )\n",
    "y_norm_probs_votingsensitivity"
   ]
  },
  {
   "cell_type": "code",
   "execution_count": 147,
   "id": "d8cc4eb0-c1d6-4618-8b3a-675530296868",
   "metadata": {},
   "outputs": [
    {
     "name": "stderr",
     "output_type": "stream",
     "text": [
      "100%|███████████████████████████████████████████████████████████████████████████| 12300/12300 [00:19<00:00, 633.36it/s]\n"
     ]
    }
   ],
   "source": [
    "y_norm_pca_probs_voting = voting(d_norm_pca_probs_train, d_norm_pca_probs_test , min_abnormal_features = 10, threshold = 50)"
   ]
  },
  {
   "cell_type": "code",
   "execution_count": 505,
   "id": "6803a9d2-1413-4874-84e1-f3ed77ac0ed4",
   "metadata": {},
   "outputs": [
    {
     "name": "stdout",
     "output_type": "stream",
     "text": [
      "True Positives (tp): 0\n",
      "False Negatives (fn): 8690\n",
      "Sensitivity Score: 0.0\n"
     ]
    },
    {
     "data": {
      "text/plain": [
       "0.0"
      ]
     },
     "execution_count": 505,
     "metadata": {},
     "output_type": "execute_result"
    }
   ],
   "source": [
    "y_norm_pca_probs_voting_sensitivity = sensitivity(y_true_test,y_norm_pca_probs_voting )\n",
    "y_norm_pca_probs_voting_sensitivity"
   ]
  },
  {
   "cell_type": "code",
   "execution_count": 504,
   "id": "c0ce8077-898f-4ee7-b7c1-e18c01fd3b33",
   "metadata": {},
   "outputs": [
    {
     "data": {
      "text/plain": [
       "0.8317372150928941"
      ]
     },
     "execution_count": 504,
     "metadata": {},
     "output_type": "execute_result"
    }
   ],
   "source": [
    "y_norm_pca_probs_voting_f1 = f1(y_true_test, y_raw_probs_voting)\n",
    "y_norm_pca_probs_voting_f1"
   ]
  },
  {
   "cell_type": "code",
   "execution_count": 520,
   "id": "e08e58b1-91b7-45ba-a161-022f595bc4a4",
   "metadata": {},
   "outputs": [
    {
     "data": {
      "text/plain": [
       "0.5137012326710423"
      ]
     },
     "execution_count": 520,
     "metadata": {},
     "output_type": "execute_result"
    }
   ],
   "source": [
    "y_norm_pca_probs_voting_cap = cap(y_true_test, y_raw_probs_voting)\n",
    "y_norm_pca_probs_voting_cap"
   ]
  },
  {
   "cell_type": "markdown",
   "id": "27f33795-690c-474d-9360-aa3873853366",
   "metadata": {},
   "source": [
    "## KM-D"
   ]
  },
  {
   "cell_type": "code",
   "execution_count": 174,
   "id": "90e4c8cf-f345-46d1-aa3d-128de10fbd57",
   "metadata": {},
   "outputs": [
    {
     "name": "stderr",
     "output_type": "stream",
     "text": [
      "C:\\Python311\\Lib\\site-packages\\sklearn\\cluster\\_kmeans.py:1416: FutureWarning: The default value of `n_init` will change from 10 to 'auto' in 1.4. Set the value of `n_init` explicitly to suppress the warning\n",
      "  super()._check_params_vs_input(X, default_n_init=10)\n",
      "100%|█████████████████████████████████████████████████████████████████████████| 12300/12300 [00:00<00:00, 12826.97it/s]\n"
     ]
    }
   ],
   "source": [
    "kmeans_model = KMeans(n_clusters=2)\n",
    "kmeans_model.fit(d_raw_train)\n",
    "y_raw_kmd = kmd_model(d_raw_test, d_raw_train, kmeans_model, 10)"
   ]
  },
  {
   "cell_type": "code",
   "execution_count": 524,
   "id": "bb8d8e4f-e5ab-4c27-ab90-5aab348aaf3e",
   "metadata": {},
   "outputs": [
    {
     "name": "stdout",
     "output_type": "stream",
     "text": [
      "True Positives (tp): 0\n",
      "False Negatives (fn): 8690\n",
      "Sensitivity Score: 0.0\n"
     ]
    },
    {
     "data": {
      "text/plain": [
       "0.0"
      ]
     },
     "execution_count": 524,
     "metadata": {},
     "output_type": "execute_result"
    }
   ],
   "source": [
    "y_raw_kmd_sensitivity = sensitivity(y_true_test, y_raw_kmd)\n",
    "y_raw_kmd_sensitivity"
   ]
  },
  {
   "cell_type": "code",
   "execution_count": 527,
   "id": "c7f93d3c-aef0-4358-b3ce-3f9dc52571a0",
   "metadata": {},
   "outputs": [
    {
     "data": {
      "text/plain": [
       "0.0"
      ]
     },
     "execution_count": 527,
     "metadata": {},
     "output_type": "execute_result"
    }
   ],
   "source": [
    "y_raw_kmd_f1 = f1(y_true_test, y_raw_kmd)\n",
    "y_raw_kmd_f1"
   ]
  },
  {
   "cell_type": "code",
   "execution_count": 528,
   "id": "82e5788b-8e44-4843-918f-98b1ad34d4ee",
   "metadata": {},
   "outputs": [
    {
     "data": {
      "text/plain": [
       "0.5"
      ]
     },
     "execution_count": 528,
     "metadata": {},
     "output_type": "execute_result"
    }
   ],
   "source": [
    "y_raw_kmd_cap = cap(y_true_test,y_raw_kmd)\n",
    "y_raw_kmd_cap"
   ]
  },
  {
   "cell_type": "code",
   "execution_count": 294,
   "id": "200cfd48-7476-47a2-a3f3-4393cfd49d89",
   "metadata": {},
   "outputs": [
    {
     "name": "stderr",
     "output_type": "stream",
     "text": [
      "C:\\Python311\\Lib\\site-packages\\sklearn\\cluster\\_kmeans.py:1416: FutureWarning: The default value of `n_init` will change from 10 to 'auto' in 1.4. Set the value of `n_init` explicitly to suppress the warning\n",
      "  super()._check_params_vs_input(X, default_n_init=10)\n",
      "100%|█████████████████████████████████████████████████████████████████████████| 12300/12300 [00:00<00:00, 18841.81it/s]\n"
     ]
    }
   ],
   "source": [
    "kmeans_model = KMeans(n_clusters=2)\n",
    "kmeans_model.fit(d_raw_probs_train)\n",
    "y_raw_probs_kmd = kmd_model(d_raw_probs_test, d_raw_probs_train, kmeans_model, 10)"
   ]
  },
  {
   "cell_type": "code",
   "execution_count": 529,
   "id": "3988dfbd-18f8-4d9e-98c1-e1a3cdd09a66",
   "metadata": {},
   "outputs": [
    {
     "name": "stdout",
     "output_type": "stream",
     "text": [
      "True Positives (tp): 8690\n",
      "False Negatives (fn): 0\n",
      "Sensitivity Score: 1.0\n"
     ]
    },
    {
     "data": {
      "text/plain": [
       "1.0"
      ]
     },
     "execution_count": 529,
     "metadata": {},
     "output_type": "execute_result"
    }
   ],
   "source": [
    "y_raw_probs_kmd_sensitivity = sensitivity(y_true_test, y_raw_probs_kmd)\n",
    "y_raw_probs_kmd_sensitivity"
   ]
  },
  {
   "cell_type": "code",
   "execution_count": 532,
   "id": "a83c3a6a-612e-4681-8e22-1aa1ea1f2463",
   "metadata": {},
   "outputs": [
    {
     "data": {
      "text/plain": [
       "0.8280133396855646"
      ]
     },
     "execution_count": 532,
     "metadata": {},
     "output_type": "execute_result"
    }
   ],
   "source": [
    "y_raw_probs_kmd_f1 = f1(y_true_test, y_raw_probs_kmd)\n",
    "y_raw_probs_kmd_f1"
   ]
  },
  {
   "cell_type": "code",
   "execution_count": 531,
   "id": "7d251f55-6e14-426d-9ae2-d09db590ba2b",
   "metadata": {},
   "outputs": [
    {
     "data": {
      "text/plain": [
       "0.5"
      ]
     },
     "execution_count": 531,
     "metadata": {},
     "output_type": "execute_result"
    }
   ],
   "source": [
    "y_raw_probs_kmd_cap = cap(y_true_test,y_raw_probs_kmd)\n",
    "y_raw_probs_kmd_cap"
   ]
  },
  {
   "cell_type": "code",
   "execution_count": 298,
   "id": "f3be5c1e-5aa9-447f-9da7-cc84b5493547",
   "metadata": {},
   "outputs": [
    {
     "name": "stderr",
     "output_type": "stream",
     "text": [
      "C:\\Python311\\Lib\\site-packages\\sklearn\\cluster\\_kmeans.py:1416: FutureWarning: The default value of `n_init` will change from 10 to 'auto' in 1.4. Set the value of `n_init` explicitly to suppress the warning\n",
      "  super()._check_params_vs_input(X, default_n_init=10)\n",
      "100%|█████████████████████████████████████████████████████████████████████████| 12300/12300 [00:00<00:00, 18609.55it/s]\n"
     ]
    }
   ],
   "source": [
    "kmeans_model1 = KMeans(n_clusters=2)\n",
    "kmeans_model1.fit(d_raw_pca_train)\n",
    "y_raw_pca_kmd = kmd_model(d_raw_pca_test, d_raw_pca_train, kmeans_model1, 10)"
   ]
  },
  {
   "cell_type": "code",
   "execution_count": 501,
   "id": "d36da175-ab45-4934-9d01-63feda450d46",
   "metadata": {},
   "outputs": [
    {
     "name": "stdout",
     "output_type": "stream",
     "text": [
      "True Positives (tp): 8690\n",
      "False Negatives (fn): 0\n",
      "Sensitivity Score: 1.0\n"
     ]
    },
    {
     "data": {
      "text/plain": [
       "1.0"
      ]
     },
     "execution_count": 501,
     "metadata": {},
     "output_type": "execute_result"
    }
   ],
   "source": [
    "y_raw_pca_kmd_sensitivity = sensitivity(y_true_test, y_raw_pca_kmd)\n",
    "y_raw_pca_kmd_sensitivity"
   ]
  },
  {
   "cell_type": "code",
   "execution_count": 500,
   "id": "9e1b6473-9707-4cba-8506-b7308a520f7e",
   "metadata": {},
   "outputs": [
    {
     "data": {
      "text/plain": [
       "0.8280133396855646"
      ]
     },
     "execution_count": 500,
     "metadata": {},
     "output_type": "execute_result"
    }
   ],
   "source": [
    "y_raw_pca_kmd_f1 = f1(y_true_test, y_raw_pca_kmd)\n",
    "y_raw_pca_kmd_f1"
   ]
  },
  {
   "cell_type": "code",
   "execution_count": 499,
   "id": "82afa175-228f-46f2-8e97-6cdc35c63829",
   "metadata": {},
   "outputs": [
    {
     "data": {
      "text/plain": [
       "0.5"
      ]
     },
     "execution_count": 499,
     "metadata": {},
     "output_type": "execute_result"
    }
   ],
   "source": [
    "y_raw_pca_kmd_cap = cap(y_true_test,y_raw_pca_kmd)\n",
    "y_raw_pca_kmd_cap"
   ]
  },
  {
   "cell_type": "code",
   "execution_count": 302,
   "id": "b03aca7f-c78d-43fb-973c-17c32c31c361",
   "metadata": {},
   "outputs": [
    {
     "name": "stderr",
     "output_type": "stream",
     "text": [
      "C:\\Python311\\Lib\\site-packages\\sklearn\\cluster\\_kmeans.py:1416: FutureWarning: The default value of `n_init` will change from 10 to 'auto' in 1.4. Set the value of `n_init` explicitly to suppress the warning\n",
      "  super()._check_params_vs_input(X, default_n_init=10)\n",
      "100%|█████████████████████████████████████████████████████████████████████████| 12300/12300 [00:00<00:00, 18658.77it/s]\n"
     ]
    }
   ],
   "source": [
    "kmeans_model2 = KMeans(n_clusters=2)\n",
    "kmeans_model2.fit(d_raw_pca_train)\n",
    "y__raw_pca_probs_kmd = kmd_model(d_raw_pca_probs_test, d_raw_pca_probs_train, kmeans_model2, 10)"
   ]
  },
  {
   "cell_type": "code",
   "execution_count": 495,
   "id": "2098dc67-f318-4753-8277-e16aebdd2e09",
   "metadata": {},
   "outputs": [
    {
     "name": "stdout",
     "output_type": "stream",
     "text": [
      "True Positives (tp): 8690\n",
      "False Negatives (fn): 0\n",
      "Sensitivity Score: 1.0\n"
     ]
    },
    {
     "data": {
      "text/plain": [
       "1.0"
      ]
     },
     "execution_count": 495,
     "metadata": {},
     "output_type": "execute_result"
    }
   ],
   "source": [
    "y__raw_pca_probs_kmd_sensitivity = sensitivity(y_true_test, y__raw_pca_probs_kmd)\n",
    "y__raw_pca_probs_kmd_sensitivity"
   ]
  },
  {
   "cell_type": "code",
   "execution_count": 496,
   "id": "dbf83b47-c395-474e-8b84-7f47069023a4",
   "metadata": {},
   "outputs": [
    {
     "data": {
      "text/plain": [
       "0.8280133396855646"
      ]
     },
     "execution_count": 496,
     "metadata": {},
     "output_type": "execute_result"
    }
   ],
   "source": [
    "y__raw_pca_probs_kmd_f1 = f1(y_true_test, y__raw_pca_probs_kmd)\n",
    "y__raw_pca_probs_kmd_f1"
   ]
  },
  {
   "cell_type": "code",
   "execution_count": 497,
   "id": "9972ec81-3981-4672-ab2b-8d5d74b62d22",
   "metadata": {},
   "outputs": [
    {
     "data": {
      "text/plain": [
       "0.5"
      ]
     },
     "execution_count": 497,
     "metadata": {},
     "output_type": "execute_result"
    }
   ],
   "source": [
    "y__raw_pca_probs_kmd_cap = cap(y_true_test,y__raw_pca_probs_kmd)\n",
    "y__raw_pca_probs_kmd_cap"
   ]
  },
  {
   "cell_type": "code",
   "execution_count": 306,
   "id": "66c4417c-4975-4d68-85d4-a831a62c8997",
   "metadata": {},
   "outputs": [
    {
     "name": "stderr",
     "output_type": "stream",
     "text": [
      "C:\\Python311\\Lib\\site-packages\\sklearn\\cluster\\_kmeans.py:1416: FutureWarning: The default value of `n_init` will change from 10 to 'auto' in 1.4. Set the value of `n_init` explicitly to suppress the warning\n",
      "  super()._check_params_vs_input(X, default_n_init=10)\n",
      "100%|█████████████████████████████████████████████████████████████████████████| 12300/12300 [00:01<00:00, 12161.22it/s]\n"
     ]
    }
   ],
   "source": [
    "kmeans_model = KMeans(n_clusters=2)\n",
    "kmeans_model.fit(d_norm_train)\n",
    "y_norm_kmd = kmd_model(d_norm_test, d_norm_train, kmeans_model, 10)"
   ]
  },
  {
   "cell_type": "code",
   "execution_count": 596,
   "id": "b013ddc8-1953-4222-9314-8e80d8b1a3ca",
   "metadata": {},
   "outputs": [
    {
     "name": "stdout",
     "output_type": "stream",
     "text": [
      "True Positives (tp): 8690\n",
      "False Negatives (fn): 0\n",
      "Sensitivity Score: 1.0\n"
     ]
    },
    {
     "data": {
      "text/plain": [
       "1.0"
      ]
     },
     "execution_count": 596,
     "metadata": {},
     "output_type": "execute_result"
    }
   ],
   "source": [
    "y_norm_kmd_sensitivity = sensitivity(y_true_test, y_norm_kmd)\n",
    "y_norm_kmd_sensitivity"
   ]
  },
  {
   "cell_type": "code",
   "execution_count": 595,
   "id": "95206229-4264-48a6-b2b1-d930004405e7",
   "metadata": {},
   "outputs": [
    {
     "data": {
      "text/plain": [
       "0.8280133396855646"
      ]
     },
     "execution_count": 595,
     "metadata": {},
     "output_type": "execute_result"
    }
   ],
   "source": [
    "y_norm_kmd_f1 = f1(y_true_test, y_norm_kmd)\n",
    "y_norm_kmd_f1"
   ]
  },
  {
   "cell_type": "code",
   "execution_count": 494,
   "id": "112eeecc-fcd5-4b1a-900d-ff19b8f21c7a",
   "metadata": {},
   "outputs": [
    {
     "data": {
      "text/plain": [
       "0.5"
      ]
     },
     "execution_count": 494,
     "metadata": {},
     "output_type": "execute_result"
    }
   ],
   "source": [
    "y_norm_kmd_cap = cap(y_true_test,y_norm_kmd)\n",
    "y_norm_kmd_cap"
   ]
  },
  {
   "cell_type": "code",
   "execution_count": 319,
   "id": "36b7fffe-29dd-435a-bae9-28a49240da9a",
   "metadata": {},
   "outputs": [
    {
     "name": "stderr",
     "output_type": "stream",
     "text": [
      "C:\\Python311\\Lib\\site-packages\\sklearn\\cluster\\_kmeans.py:1416: FutureWarning: The default value of `n_init` will change from 10 to 'auto' in 1.4. Set the value of `n_init` explicitly to suppress the warning\n",
      "  super()._check_params_vs_input(X, default_n_init=10)\n",
      "100%|█████████████████████████████████████████████████████████████████████████| 12300/12300 [00:00<00:00, 18392.58it/s]\n"
     ]
    }
   ],
   "source": [
    "kmeans_model = KMeans(n_clusters=2)\n",
    "kmeans_model.fit(d_norm_probs_train)\n",
    "y_norm_probs_kmd = kmd_model(d_norm_probs_test, d_norm_probs_train, kmeans_model, 10)"
   ]
  },
  {
   "cell_type": "code",
   "execution_count": 597,
   "id": "aa55eb53-319b-48a2-b4c2-bc6ae00cfeaa",
   "metadata": {},
   "outputs": [
    {
     "name": "stdout",
     "output_type": "stream",
     "text": [
      "True Positives (tp): 8690\n",
      "False Negatives (fn): 0\n",
      "Sensitivity Score: 1.0\n"
     ]
    },
    {
     "data": {
      "text/plain": [
       "1.0"
      ]
     },
     "execution_count": 597,
     "metadata": {},
     "output_type": "execute_result"
    }
   ],
   "source": [
    "y_norm_probs_kmd_sensitivity = sensitivity(y_true_test, y_norm_probs_kmd)\n",
    "y_norm_probs_kmd_sensitivity  "
   ]
  },
  {
   "cell_type": "code",
   "execution_count": 598,
   "id": "d479c57f-d7a4-4839-9d12-a135e6a381ec",
   "metadata": {},
   "outputs": [
    {
     "data": {
      "text/plain": [
       "0.8280133396855646"
      ]
     },
     "execution_count": 598,
     "metadata": {},
     "output_type": "execute_result"
    }
   ],
   "source": [
    "y_norm_probs_kmd_f1 = f1(y_true_test, y_norm_probs_kmd)\n",
    "y_norm_probs_kmd_f1"
   ]
  },
  {
   "cell_type": "code",
   "execution_count": 493,
   "id": "17690831-16dc-46fa-a77a-544042acbaed",
   "metadata": {},
   "outputs": [
    {
     "data": {
      "text/plain": [
       "0.5"
      ]
     },
     "execution_count": 493,
     "metadata": {},
     "output_type": "execute_result"
    }
   ],
   "source": [
    "y_norm_probs_kmd_cap = cap(y_true_test,y_norm_probs_kmd)\n",
    "y_norm_probs_kmd_cap"
   ]
  },
  {
   "cell_type": "code",
   "execution_count": 310,
   "id": "404f818f-33ee-4e45-b590-a4ec39a7ad2d",
   "metadata": {},
   "outputs": [
    {
     "name": "stderr",
     "output_type": "stream",
     "text": [
      "C:\\Python311\\Lib\\site-packages\\sklearn\\cluster\\_kmeans.py:1416: FutureWarning: The default value of `n_init` will change from 10 to 'auto' in 1.4. Set the value of `n_init` explicitly to suppress the warning\n",
      "  super()._check_params_vs_input(X, default_n_init=10)\n",
      "100%|█████████████████████████████████████████████████████████████████████████| 12300/12300 [00:00<00:00, 18465.93it/s]\n"
     ]
    }
   ],
   "source": [
    "kmeans_model = KMeans(n_clusters=2)\n",
    "kmeans_model.fit(d_norm_pca_train)\n",
    "y_norm_pca_kmd = kmd_model(d_norm_pca_test, d_norm_pca_train, kmeans_model, 10)"
   ]
  },
  {
   "cell_type": "code",
   "execution_count": 599,
   "id": "c2c9b66c-169d-4a43-bb82-7e5c5d5ae7e2",
   "metadata": {},
   "outputs": [
    {
     "name": "stdout",
     "output_type": "stream",
     "text": [
      "True Positives (tp): 0\n",
      "False Negatives (fn): 8690\n",
      "Sensitivity Score: 0.0\n"
     ]
    },
    {
     "data": {
      "text/plain": [
       "0.0"
      ]
     },
     "execution_count": 599,
     "metadata": {},
     "output_type": "execute_result"
    }
   ],
   "source": [
    "y_norm_pca_kmd_sensitivity = sensitivity(y_true_test, y_norm_pca_kmd)\n",
    "y_norm_pca_kmd_sensitivity"
   ]
  },
  {
   "cell_type": "code",
   "execution_count": 600,
   "id": "a79b5645-cb37-46d9-8807-b95fe89e6247",
   "metadata": {},
   "outputs": [
    {
     "data": {
      "text/plain": [
       "0.0"
      ]
     },
     "execution_count": 600,
     "metadata": {},
     "output_type": "execute_result"
    }
   ],
   "source": [
    "y_norm_pca_kmd_f1 = f1(y_true_test, y_norm_pca_kmd)\n",
    "y_norm_pca_kmd_f1"
   ]
  },
  {
   "cell_type": "code",
   "execution_count": 492,
   "id": "f6be8f2a-eac5-4902-8434-9d2697c8d326",
   "metadata": {},
   "outputs": [
    {
     "data": {
      "text/plain": [
       "0.5"
      ]
     },
     "execution_count": 492,
     "metadata": {},
     "output_type": "execute_result"
    }
   ],
   "source": [
    "y_norm_pca_kmd_cap = cap(y_true_test,y_norm_pca_kmd)\n",
    "y_norm_pca_kmd_cap"
   ]
  },
  {
   "cell_type": "code",
   "execution_count": 323,
   "id": "68051d14-41d1-4531-a697-971266018995",
   "metadata": {},
   "outputs": [
    {
     "name": "stderr",
     "output_type": "stream",
     "text": [
      "C:\\Python311\\Lib\\site-packages\\sklearn\\cluster\\_kmeans.py:1416: FutureWarning: The default value of `n_init` will change from 10 to 'auto' in 1.4. Set the value of `n_init` explicitly to suppress the warning\n",
      "  super()._check_params_vs_input(X, default_n_init=10)\n",
      "100%|█████████████████████████████████████████████████████████████████████████| 12300/12300 [00:00<00:00, 17970.42it/s]\n"
     ]
    }
   ],
   "source": [
    "kmeans_model = KMeans(n_clusters=2)\n",
    "kmeans_model.fit(d_norm_pca_probs_train)\n",
    "y_norm_pca_probs_kmd = kmd_model(d_norm_pca_probs_test, d_norm_pca_probs_train, kmeans_model, 10)"
   ]
  },
  {
   "cell_type": "code",
   "execution_count": 601,
   "id": "18bedd78-b5d0-4c44-9dcd-4bf627ae1cb8",
   "metadata": {},
   "outputs": [
    {
     "name": "stdout",
     "output_type": "stream",
     "text": [
      "True Positives (tp): 7214\n",
      "False Negatives (fn): 1476\n",
      "Sensitivity Score: 0.8301495972382048\n"
     ]
    },
    {
     "data": {
      "text/plain": [
       "0.8301495972382048"
      ]
     },
     "execution_count": 601,
     "metadata": {},
     "output_type": "execute_result"
    }
   ],
   "source": [
    "y_norm_pca_probs_kmd_sensitivity = sensitivity(y_true_test, y_norm_pca_probs_kmd)\n",
    "y_norm_pca_probs_kmd_sensitivity"
   ]
  },
  {
   "cell_type": "code",
   "execution_count": 490,
   "id": "34bacdb0-3fbf-4228-b45d-a3ba746fee43",
   "metadata": {},
   "outputs": [
    {
     "data": {
      "text/plain": [
       "0.7955457127465262"
      ]
     },
     "execution_count": 490,
     "metadata": {},
     "output_type": "execute_result"
    }
   ],
   "source": [
    "y_norm_pca_probs_kmd_cap = cap(y_true_test,y_norm_pca_probs_kmd)\n",
    "y_norm_pca_probs_kmd_cap "
   ]
  },
  {
   "cell_type": "code",
   "execution_count": 491,
   "id": "405a88d7-3247-40c6-93a5-3e37e8a4528f",
   "metadata": {},
   "outputs": [
    {
     "data": {
      "text/plain": [
       "0.8604997912566351"
      ]
     },
     "execution_count": 491,
     "metadata": {},
     "output_type": "execute_result"
    }
   ],
   "source": [
    "y_norm_pca_probs_kmd_f1 = f1(y_true_test, y_norm_pca_probs_kmd)\n",
    "y_norm_pca_probs_kmd_f1 "
   ]
  },
  {
   "cell_type": "markdown",
   "id": "96813f1c-8e26-4d9a-b05a-f2a1903ca4d1",
   "metadata": {},
   "source": [
    "## SVM-1"
   ]
  },
  {
   "cell_type": "code",
   "execution_count": 199,
   "id": "dcab53cb-87f8-4834-a3d4-6239dbeb87ad",
   "metadata": {},
   "outputs": [
    {
     "name": "stderr",
     "output_type": "stream",
     "text": [
      "C:\\Python311\\Lib\\site-packages\\sklearn\\utils\\validation.py:1183: DataConversionWarning: A column-vector y was passed when a 1d array was expected. Please change the shape of y to (n_samples, ), for example using ravel().\n",
      "  y = column_or_1d(y, warn=True)\n"
     ]
    }
   ],
   "source": [
    "y_raw_svm1 = SVM_model(d_raw_train, train_target ,  d_raw_test)"
   ]
  },
  {
   "cell_type": "code",
   "execution_count": 602,
   "id": "b39d7d42-aa88-498e-8664-1b39d2473fdc",
   "metadata": {},
   "outputs": [
    {
     "name": "stdout",
     "output_type": "stream",
     "text": [
      "True Positives (tp): 7214\n",
      "False Negatives (fn): 1476\n",
      "Sensitivity Score: 0.8301495972382048\n"
     ]
    },
    {
     "data": {
      "text/plain": [
       "0.8301495972382048"
      ]
     },
     "execution_count": 602,
     "metadata": {},
     "output_type": "execute_result"
    }
   ],
   "source": [
    "y_raw_svm1_sensitivity = sensitivity(y_true_test, y_raw_svm1)\n",
    "y_raw_svm1_sensitivity"
   ]
  },
  {
   "cell_type": "code",
   "execution_count": 542,
   "id": "19464eb9-3f60-4aeb-9ec5-b3eeb4fc580a",
   "metadata": {},
   "outputs": [
    {
     "data": {
      "text/plain": [
       "0.7955457127465262"
      ]
     },
     "execution_count": 542,
     "metadata": {},
     "output_type": "execute_result"
    }
   ],
   "source": [
    "y_raw_svm1_cap = cap(y_true_test,y_raw_svm1)\n",
    "y_raw_svm1_cap"
   ]
  },
  {
   "cell_type": "code",
   "execution_count": 543,
   "id": "38c1bc8f-4711-48f7-9daa-377a818db067",
   "metadata": {},
   "outputs": [
    {
     "data": {
      "text/plain": [
       "0.8604997912566351"
      ]
     },
     "execution_count": 543,
     "metadata": {},
     "output_type": "execute_result"
    }
   ],
   "source": [
    "y_raw_svm1_f1 = f1(y_true_test, y_raw_svm1)\n",
    "y_raw_svm1_f1"
   ]
  },
  {
   "cell_type": "code",
   "execution_count": 203,
   "id": "f6d6e1f4-3ff4-4ad3-a1f4-5b61e0f97855",
   "metadata": {},
   "outputs": [
    {
     "name": "stderr",
     "output_type": "stream",
     "text": [
      "C:\\Python311\\Lib\\site-packages\\sklearn\\utils\\validation.py:1183: DataConversionWarning: A column-vector y was passed when a 1d array was expected. Please change the shape of y to (n_samples, ), for example using ravel().\n",
      "  y = column_or_1d(y, warn=True)\n"
     ]
    }
   ],
   "source": [
    "y_raw_probs_SVM1=SVM_model(d_raw_probs_train,train_target,d_raw_probs_test)"
   ]
  },
  {
   "cell_type": "code",
   "execution_count": 544,
   "id": "4b23dd28-1ee4-4681-ac79-102c1790ef92",
   "metadata": {},
   "outputs": [
    {
     "name": "stdout",
     "output_type": "stream",
     "text": [
      "True Positives (tp): 8655\n",
      "False Negatives (fn): 35\n",
      "Sensitivity Score: 0.9959723820483314\n"
     ]
    },
    {
     "data": {
      "text/plain": [
       "0.9959723820483314"
      ]
     },
     "execution_count": 544,
     "metadata": {},
     "output_type": "execute_result"
    }
   ],
   "source": [
    "y_raw_probs_SVM1_sensitivity = sensitivity(y_true_test, y_raw_probs_SVM1)\n",
    "y_raw_probs_SVM1_sensitivity"
   ]
  },
  {
   "cell_type": "code",
   "execution_count": 546,
   "id": "dddd4369-3ba3-4a54-bce5-513df3bc41b8",
   "metadata": {},
   "outputs": [
    {
     "data": {
      "text/plain": [
       "0.6914764957333068"
      ]
     },
     "execution_count": 546,
     "metadata": {},
     "output_type": "execute_result"
    }
   ],
   "source": [
    "y_raw_probs_SVM1_cap = cap(y_true_test,y_raw_probs_SVM1)\n",
    "y_raw_probs_SVM1_cap"
   ]
  },
  {
   "cell_type": "code",
   "execution_count": 547,
   "id": "5341c6e1-4803-4693-8d0e-653399fec5e8",
   "metadata": {},
   "outputs": [
    {
     "data": {
      "text/plain": [
       "0.8850598220676962"
      ]
     },
     "execution_count": 547,
     "metadata": {},
     "output_type": "execute_result"
    }
   ],
   "source": [
    "y_raw_probs_SVM1_f1 = f1(y_true_test, y_raw_probs_SVM1)\n",
    "y_raw_probs_SVM1_f1"
   ]
  },
  {
   "cell_type": "code",
   "execution_count": 204,
   "id": "6dcabd5e-0e17-4645-9c42-f1e387ad7fc8",
   "metadata": {},
   "outputs": [
    {
     "name": "stderr",
     "output_type": "stream",
     "text": [
      "C:\\Python311\\Lib\\site-packages\\sklearn\\utils\\validation.py:1183: DataConversionWarning: A column-vector y was passed when a 1d array was expected. Please change the shape of y to (n_samples, ), for example using ravel().\n",
      "  y = column_or_1d(y, warn=True)\n"
     ]
    }
   ],
   "source": [
    "y_raw_pca_SVM1=SVM_model(d_raw_pca_train,train_target,d_raw_pca_test)"
   ]
  },
  {
   "cell_type": "code",
   "execution_count": 548,
   "id": "78535059-d8d1-4e4b-b4b6-d27ab9a33dc6",
   "metadata": {},
   "outputs": [
    {
     "name": "stdout",
     "output_type": "stream",
     "text": [
      "True Positives (tp): 8687\n",
      "False Negatives (fn): 3\n",
      "Sensitivity Score: 0.9996547756041427\n"
     ]
    },
    {
     "data": {
      "text/plain": [
       "0.9996547756041427"
      ]
     },
     "execution_count": 548,
     "metadata": {},
     "output_type": "execute_result"
    }
   ],
   "source": [
    "y_raw_pca_SVM1_sensitivity = sensitivity(y_true_test, y_raw_pca_SVM1)\n",
    "y_raw_pca_SVM1_sensitivity"
   ]
  },
  {
   "cell_type": "code",
   "execution_count": 549,
   "id": "be94c621-141c-462b-a0f1-807a21658108",
   "metadata": {},
   "outputs": [
    {
     "data": {
      "text/plain": [
       "0.49996589195719604"
      ]
     },
     "execution_count": 549,
     "metadata": {},
     "output_type": "execute_result"
    }
   ],
   "source": [
    "y_raw_pca_SVM1_cap = cap(y_true_test,y_raw_pca_SVM1)\n",
    "y_raw_pca_SVM1_cap"
   ]
  },
  {
   "cell_type": "code",
   "execution_count": 550,
   "id": "a107330d-b8bf-4acc-afa2-817edf8bb2dd",
   "metadata": {},
   "outputs": [
    {
     "data": {
      "text/plain": [
       "0.8278852568378919"
      ]
     },
     "execution_count": 550,
     "metadata": {},
     "output_type": "execute_result"
    }
   ],
   "source": [
    "y_raw_pca_SVM1_f1 = f1(y_true_test, y_raw_pca_SVM1)\n",
    "y_raw_pca_SVM1_f1"
   ]
  },
  {
   "cell_type": "code",
   "execution_count": 205,
   "id": "32f5b300-2dec-4967-9174-5c200c22c1c4",
   "metadata": {},
   "outputs": [
    {
     "name": "stderr",
     "output_type": "stream",
     "text": [
      "C:\\Python311\\Lib\\site-packages\\sklearn\\utils\\validation.py:1183: DataConversionWarning: A column-vector y was passed when a 1d array was expected. Please change the shape of y to (n_samples, ), for example using ravel().\n",
      "  y = column_or_1d(y, warn=True)\n"
     ]
    }
   ],
   "source": [
    "y_raw_pca_probsSVM1=SVM_model(d_raw_pca_probs_train,train_target,d_raw_pca_probs_test)"
   ]
  },
  {
   "cell_type": "code",
   "execution_count": 551,
   "id": "b9880227-48ca-400d-997d-1c0afda98f14",
   "metadata": {},
   "outputs": [
    {
     "name": "stdout",
     "output_type": "stream",
     "text": [
      "True Positives (tp): 8308\n",
      "False Negatives (fn): 382\n",
      "Sensitivity Score: 0.9560414269275028\n"
     ]
    },
    {
     "data": {
      "text/plain": [
       "0.9560414269275028"
      ]
     },
     "execution_count": 551,
     "metadata": {},
     "output_type": "execute_result"
    }
   ],
   "source": [
    "y_raw_pca_probsSVM1_sensitivity = sensitivity(y_true_test, y_raw_pca_probsSVM1)\n",
    "y_raw_pca_probsSVM1_sensitivity"
   ]
  },
  {
   "cell_type": "code",
   "execution_count": 552,
   "id": "663cd30d-e67b-46f6-89c7-501cb4b4a806",
   "metadata": {},
   "outputs": [
    {
     "data": {
      "text/plain": [
       "0.8530899655413137"
      ]
     },
     "execution_count": 552,
     "metadata": {},
     "output_type": "execute_result"
    }
   ],
   "source": [
    "y_raw_pca_probsSVM1_cap = cap(y_true_test,y_raw_pca_probsSVM1)\n",
    "y_raw_pca_probsSVM1_cap"
   ]
  },
  {
   "cell_type": "code",
   "execution_count": 553,
   "id": "ec09daf2-7230-4fd9-a103-b7320f229063",
   "metadata": {},
   "outputs": [
    {
     "data": {
      "text/plain": [
       "0.9282681564245808"
      ]
     },
     "execution_count": 553,
     "metadata": {},
     "output_type": "execute_result"
    }
   ],
   "source": [
    "y_raw_pca_probsSVM1_f1 = f1(y_true_test, y_raw_pca_probsSVM1)\n",
    "y_raw_pca_probsSVM1_f1"
   ]
  },
  {
   "cell_type": "code",
   "execution_count": 206,
   "id": "5f26e981-5574-4fc9-b8c3-5b8eead26d72",
   "metadata": {},
   "outputs": [
    {
     "name": "stderr",
     "output_type": "stream",
     "text": [
      "C:\\Python311\\Lib\\site-packages\\sklearn\\utils\\validation.py:1183: DataConversionWarning: A column-vector y was passed when a 1d array was expected. Please change the shape of y to (n_samples, ), for example using ravel().\n",
      "  y = column_or_1d(y, warn=True)\n"
     ]
    }
   ],
   "source": [
    "y_norm_svm1 = SVM_model(d_norm_train, train_target ,  d_norm_test)"
   ]
  },
  {
   "cell_type": "code",
   "execution_count": 554,
   "id": "dd6edecb-b006-4c35-9982-3195b8a5a441",
   "metadata": {},
   "outputs": [
    {
     "name": "stdout",
     "output_type": "stream",
     "text": [
      "True Positives (tp): 7214\n",
      "False Negatives (fn): 1476\n",
      "Sensitivity Score: 0.8301495972382048\n"
     ]
    },
    {
     "data": {
      "text/plain": [
       "0.8301495972382048"
      ]
     },
     "execution_count": 554,
     "metadata": {},
     "output_type": "execute_result"
    }
   ],
   "source": [
    "y_norm_svm1_sensitivity = sensitivity(y_true_test, y_norm_svm1)\n",
    "y_norm_svm1_sensitivity"
   ]
  },
  {
   "cell_type": "code",
   "execution_count": 555,
   "id": "c7bf3e5a-59cd-402d-ab26-69120f6bee7d",
   "metadata": {},
   "outputs": [
    {
     "data": {
      "text/plain": [
       "0.7955457127465262"
      ]
     },
     "execution_count": 555,
     "metadata": {},
     "output_type": "execute_result"
    }
   ],
   "source": [
    "y_norm_svm1_cap = cap(y_true_test,y_norm_svm1)\n",
    "y_norm_svm1_cap"
   ]
  },
  {
   "cell_type": "code",
   "execution_count": 556,
   "id": "9127583d-28d9-4965-9a41-7b489fd9563d",
   "metadata": {},
   "outputs": [
    {
     "data": {
      "text/plain": [
       "0.8604997912566351"
      ]
     },
     "execution_count": 556,
     "metadata": {},
     "output_type": "execute_result"
    }
   ],
   "source": [
    "y_norm_svm1_f1 = f1(y_true_test, y_norm_svm1)\n",
    "y_norm_svm1_f1"
   ]
  },
  {
   "cell_type": "code",
   "execution_count": 207,
   "id": "bdebc561-572c-4d85-b6cb-4d8d2c874a89",
   "metadata": {},
   "outputs": [
    {
     "name": "stderr",
     "output_type": "stream",
     "text": [
      "C:\\Python311\\Lib\\site-packages\\sklearn\\utils\\validation.py:1183: DataConversionWarning: A column-vector y was passed when a 1d array was expected. Please change the shape of y to (n_samples, ), for example using ravel().\n",
      "  y = column_or_1d(y, warn=True)\n"
     ]
    }
   ],
   "source": [
    "y_norm_probsSVM1=SVM_model(d_norm_probs_train, train_target ,  d_norm_probs_test)"
   ]
  },
  {
   "cell_type": "code",
   "execution_count": 557,
   "id": "3717d457-3d35-4ebc-9066-b2828aa67fd8",
   "metadata": {},
   "outputs": [
    {
     "name": "stdout",
     "output_type": "stream",
     "text": [
      "True Positives (tp): 8655\n",
      "False Negatives (fn): 35\n",
      "Sensitivity Score: 0.9959723820483314\n"
     ]
    },
    {
     "data": {
      "text/plain": [
       "0.9959723820483314"
      ]
     },
     "execution_count": 557,
     "metadata": {},
     "output_type": "execute_result"
    }
   ],
   "source": [
    "y_norm_probsSVM1_sensitivity = sensitivity(y_true_test, y_norm_probsSVM1)\n",
    "y_norm_probsSVM1_sensitivity"
   ]
  },
  {
   "cell_type": "code",
   "execution_count": 558,
   "id": "27a05bf2-031c-429c-aa4e-3c66779a4791",
   "metadata": {},
   "outputs": [
    {
     "data": {
      "text/plain": [
       "0.6914764957333068"
      ]
     },
     "execution_count": 558,
     "metadata": {},
     "output_type": "execute_result"
    }
   ],
   "source": [
    "y_norm_probsSVM1_cap = cap(y_true_test,y_norm_probsSVM1)\n",
    "y_norm_probsSVM1_cap"
   ]
  },
  {
   "cell_type": "code",
   "execution_count": 559,
   "id": "c9760e6d-79e3-4802-8363-3ccbbfc37674",
   "metadata": {},
   "outputs": [
    {
     "data": {
      "text/plain": [
       "0.8850598220676962"
      ]
     },
     "execution_count": 559,
     "metadata": {},
     "output_type": "execute_result"
    }
   ],
   "source": [
    "y_norm_probsSVM1_f1 = f1(y_true_test, y_norm_probsSVM1)\n",
    "y_norm_probsSVM1_f1"
   ]
  },
  {
   "cell_type": "code",
   "execution_count": 208,
   "id": "0265b3dd-46ef-4576-ba2f-aced91945a21",
   "metadata": {},
   "outputs": [
    {
     "name": "stderr",
     "output_type": "stream",
     "text": [
      "C:\\Python311\\Lib\\site-packages\\sklearn\\utils\\validation.py:1183: DataConversionWarning: A column-vector y was passed when a 1d array was expected. Please change the shape of y to (n_samples, ), for example using ravel().\n",
      "  y = column_or_1d(y, warn=True)\n"
     ]
    }
   ],
   "source": [
    "y_norm_pca_svm1 = SVM_model(d_norm_pca_train, train_target ,  d_norm_pca_test)"
   ]
  },
  {
   "cell_type": "code",
   "execution_count": 560,
   "id": "7c80066b-8e79-42da-866e-f4062156b13f",
   "metadata": {},
   "outputs": [
    {
     "name": "stdout",
     "output_type": "stream",
     "text": [
      "True Positives (tp): 8690\n",
      "False Negatives (fn): 0\n",
      "Sensitivity Score: 1.0\n"
     ]
    },
    {
     "data": {
      "text/plain": [
       "1.0"
      ]
     },
     "execution_count": 560,
     "metadata": {},
     "output_type": "execute_result"
    }
   ],
   "source": [
    "y_norm_pca_svm1_sensitivity= sensitivity(y_true_test, y_norm_pca_svm1)\n",
    "y_norm_pca_svm1_sensitivity"
   ]
  },
  {
   "cell_type": "code",
   "execution_count": 561,
   "id": "691c157f-af76-4bf6-a72a-3f722ce7c1e8",
   "metadata": {},
   "outputs": [
    {
     "data": {
      "text/plain": [
       "0.5"
      ]
     },
     "execution_count": 561,
     "metadata": {},
     "output_type": "execute_result"
    }
   ],
   "source": [
    "y_norm_pca_svm1_cap = cap(y_true_test,y_norm_pca_svm1)\n",
    "y_norm_pca_svm1_cap"
   ]
  },
  {
   "cell_type": "code",
   "execution_count": 562,
   "id": "defcd356-c877-42ba-b03f-5a9a79bfb377",
   "metadata": {},
   "outputs": [
    {
     "data": {
      "text/plain": [
       "0.8280133396855646"
      ]
     },
     "execution_count": 562,
     "metadata": {},
     "output_type": "execute_result"
    }
   ],
   "source": [
    "y_norm_pca_svm1_f1 = f1(y_true_test, y_norm_pca_svm1)\n",
    "y_norm_pca_svm1_f1"
   ]
  },
  {
   "cell_type": "code",
   "execution_count": 209,
   "id": "5b6052a5-e390-4307-8ac5-8e05db81fb07",
   "metadata": {},
   "outputs": [
    {
     "name": "stderr",
     "output_type": "stream",
     "text": [
      "C:\\Python311\\Lib\\site-packages\\sklearn\\utils\\validation.py:1183: DataConversionWarning: A column-vector y was passed when a 1d array was expected. Please change the shape of y to (n_samples, ), for example using ravel().\n",
      "  y = column_or_1d(y, warn=True)\n"
     ]
    }
   ],
   "source": [
    "y_norm_pca_probs_svm1 = SVM_model(d_norm_pca_probs_train, train_target ,  d_norm_pca_probs_test)"
   ]
  },
  {
   "cell_type": "code",
   "execution_count": 563,
   "id": "96e89e25-c2a2-46ec-963b-e98e61a199d6",
   "metadata": {},
   "outputs": [
    {
     "data": {
      "text/plain": [
       "0.8604997912566351"
      ]
     },
     "execution_count": 563,
     "metadata": {},
     "output_type": "execute_result"
    }
   ],
   "source": [
    "y_norm_pca_probs_svm1_f1 = f1(y_true_test,y_raw_svm1)\n",
    "y_norm_pca_probs_svm1_f1"
   ]
  },
  {
   "cell_type": "code",
   "execution_count": 564,
   "id": "5229fa35-de93-47b8-a362-ff4c777019fb",
   "metadata": {},
   "outputs": [
    {
     "data": {
      "text/plain": [
       "0.7955457127465262"
      ]
     },
     "execution_count": 564,
     "metadata": {},
     "output_type": "execute_result"
    }
   ],
   "source": [
    "y_norm_pca_probs_svm1_cap = cap(y_true_test,y_raw_svm1)\n",
    "y_norm_pca_probs_svm1_cap"
   ]
  },
  {
   "cell_type": "code",
   "execution_count": 489,
   "id": "cf9c9b3f-f9a3-4a08-b401-1c231d0e23e9",
   "metadata": {},
   "outputs": [
    {
     "name": "stdout",
     "output_type": "stream",
     "text": [
      "True Positives (tp): 7214\n",
      "False Negatives (fn): 1476\n",
      "Sensitivity Score: 0.8301495972382048\n"
     ]
    },
    {
     "data": {
      "text/plain": [
       "0.8301495972382048"
      ]
     },
     "execution_count": 489,
     "metadata": {},
     "output_type": "execute_result"
    }
   ],
   "source": [
    "y_norm_pca_probs_svm1_sensitivity = sensitivity(y_true_test,y_raw_svm1)\n",
    "y_norm_pca_probs_svm1_sensitivity"
   ]
  },
  {
   "cell_type": "markdown",
   "id": "513f18ba-1c18-4b43-a2d9-171b6c489997",
   "metadata": {},
   "source": [
    "## KM-C"
   ]
  },
  {
   "cell_type": "code",
   "execution_count": 352,
   "id": "57e97873-23e4-4e8b-bd7b-b5aa47fd0f7b",
   "metadata": {},
   "outputs": [],
   "source": [
    "y_raw_kmc = kmean_C_model(d_raw_train,  d_raw_test)"
   ]
  },
  {
   "cell_type": "code",
   "execution_count": 566,
   "id": "309f2335-092f-49f8-8f78-533fc6ffd57f",
   "metadata": {},
   "outputs": [
    {
     "data": {
      "text/plain": [
       "0.2286200758455228"
      ]
     },
     "execution_count": 566,
     "metadata": {},
     "output_type": "execute_result"
    }
   ],
   "source": [
    "y_raw_kmc_f1 = f1(y_true_test,y_raw_kmc)\n",
    "y_raw_kmc_f1"
   ]
  },
  {
   "cell_type": "code",
   "execution_count": 567,
   "id": "34a67164-b58e-4e5f-86ef-a55a77e831f2",
   "metadata": {},
   "outputs": [
    {
     "data": {
      "text/plain": [
       "0.20354229556691072"
      ]
     },
     "execution_count": 567,
     "metadata": {},
     "output_type": "execute_result"
    }
   ],
   "source": [
    "y_raw_kmc_cap = cap(y_true_test,y_raw_kmc)\n",
    "y_raw_kmc_cap"
   ]
  },
  {
   "cell_type": "code",
   "execution_count": 568,
   "id": "89f29a27-d4de-4701-8bf8-f9c7ed49b2e7",
   "metadata": {},
   "outputs": [
    {
     "name": "stdout",
     "output_type": "stream",
     "text": [
      "True Positives (tp): 1477\n",
      "False Negatives (fn): 7213\n",
      "Sensitivity Score: 0.16996547756041427\n"
     ]
    },
    {
     "data": {
      "text/plain": [
       "0.16996547756041427"
      ]
     },
     "execution_count": 568,
     "metadata": {},
     "output_type": "execute_result"
    }
   ],
   "source": [
    "y_raw_kmc_sensitivity = sensitivity(y_true_test,y_raw_kmc)\n",
    "y_raw_kmc_sensitivity"
   ]
  },
  {
   "cell_type": "code",
   "execution_count": 354,
   "id": "369380f6-0b48-4fba-892d-317c69e8742a",
   "metadata": {},
   "outputs": [],
   "source": [
    "y_raw_probs_kmc = kmean_C_model(d_raw_probs_train,  d_raw_probs_test)"
   ]
  },
  {
   "cell_type": "code",
   "execution_count": 569,
   "id": "acd7127b-8db0-4eec-a3c2-9f18db5703a6",
   "metadata": {},
   "outputs": [
    {
     "data": {
      "text/plain": [
       "0.22191393935143713"
      ]
     },
     "execution_count": 569,
     "metadata": {},
     "output_type": "execute_result"
    }
   ],
   "source": [
    "y_raw_probs_kmc_cap = cap(y_true_test,y_raw_probs_kmc)\n",
    "y_raw_probs_kmc_cap"
   ]
  },
  {
   "cell_type": "code",
   "execution_count": 570,
   "id": "44e7e0cd-8d22-4116-9bc8-f04da1e2b552",
   "metadata": {},
   "outputs": [
    {
     "data": {
      "text/plain": [
       "0.15939625145131864"
      ]
     },
     "execution_count": 570,
     "metadata": {},
     "output_type": "execute_result"
    }
   ],
   "source": [
    "y_raw_probs_kmc_f1 = f1(y_true_test,y_raw_probs_kmc)\n",
    "y_raw_probs_kmc_f1"
   ]
  },
  {
   "cell_type": "code",
   "execution_count": 571,
   "id": "c346c605-4a40-4e73-b359-f5423c00bc3b",
   "metadata": {},
   "outputs": [
    {
     "name": "stdout",
     "output_type": "stream",
     "text": [
      "True Positives (tp): 961\n",
      "False Negatives (fn): 7729\n",
      "Sensitivity Score: 0.11058688147295742\n"
     ]
    },
    {
     "data": {
      "text/plain": [
       "0.11058688147295742"
      ]
     },
     "execution_count": 571,
     "metadata": {},
     "output_type": "execute_result"
    }
   ],
   "source": [
    "y_raw_probs_kmc_sensitivity = sensitivity(y_true_test,y_raw_probs_kmc)\n",
    "y_raw_probs_kmc_sensitivity"
   ]
  },
  {
   "cell_type": "code",
   "execution_count": 358,
   "id": "d3a09857-f4ed-413f-9ee5-5a9e9c7fd383",
   "metadata": {},
   "outputs": [],
   "source": [
    "y_raw_pca_kmc = kmean_C_model(d_raw_pca_train,  d_raw_pca_test)"
   ]
  },
  {
   "cell_type": "code",
   "execution_count": 441,
   "id": "b739989b-09e6-4e97-91ac-48d6f9c440a3",
   "metadata": {},
   "outputs": [
    {
     "data": {
      "text/plain": [
       "0.5"
      ]
     },
     "execution_count": 441,
     "metadata": {},
     "output_type": "execute_result"
    }
   ],
   "source": [
    "y_raw_pca_kmc_cap = cap(y_true_test,y_raw_pca_kmc)\n",
    "y_raw_pca_kmc_cap"
   ]
  },
  {
   "cell_type": "code",
   "execution_count": 443,
   "id": "637a366a-cf00-4a43-bd97-f79c731d7632",
   "metadata": {},
   "outputs": [
    {
     "data": {
      "text/plain": [
       "0.0"
      ]
     },
     "execution_count": 443,
     "metadata": {},
     "output_type": "execute_result"
    }
   ],
   "source": [
    "y_raw_pca_kmc_f1 = f1(y_true_test,y_raw_pca_kmc)\n",
    "y_raw_pca_kmc_f1"
   ]
  },
  {
   "cell_type": "code",
   "execution_count": 444,
   "id": "600b580e-bd6c-4112-862a-eb45531f1c28",
   "metadata": {},
   "outputs": [
    {
     "name": "stdout",
     "output_type": "stream",
     "text": [
      "True Positives (tp): 0\n",
      "False Negatives (fn): 8690\n",
      "Sensitivity Score: 0.0\n"
     ]
    },
    {
     "data": {
      "text/plain": [
       "0.0"
      ]
     },
     "execution_count": 444,
     "metadata": {},
     "output_type": "execute_result"
    }
   ],
   "source": [
    "y_raw_pca_kmc_sensitivity = sensitivity(y_true_test,y_raw_pca_kmc)\n",
    "y_raw_pca_kmc_sensitivity"
   ]
  },
  {
   "cell_type": "code",
   "execution_count": 363,
   "id": "c519695c-ee60-4f37-9c52-d66f45f2ce42",
   "metadata": {},
   "outputs": [],
   "source": [
    "y_raw_pca_probs_kmc = kmean_C_model(d_raw_pca_probs_train,  d_raw_pca_probs_test)"
   ]
  },
  {
   "cell_type": "code",
   "execution_count": 445,
   "id": "af6d3792-8c5a-4200-a3e4-27bb518a0b69",
   "metadata": {},
   "outputs": [
    {
     "data": {
      "text/plain": [
       "0.7138639630995605"
      ]
     },
     "execution_count": 445,
     "metadata": {},
     "output_type": "execute_result"
    }
   ],
   "source": [
    "y_raw_pca_probs_kmc_cap = cap(y_true_test,y_raw_pca_probs_kmc)\n",
    "y_raw_pca_probs_kmc_cap"
   ]
  },
  {
   "cell_type": "code",
   "execution_count": 446,
   "id": "7027b6e6-cc4a-4dd0-a4ba-ca4858371038",
   "metadata": {},
   "outputs": [
    {
     "data": {
      "text/plain": [
       "0.6303387334315169"
      ]
     },
     "execution_count": 446,
     "metadata": {},
     "output_type": "execute_result"
    }
   ],
   "source": [
    "y_raw_pca_probs_kmc_f1 = f1(y_true_test,y_raw_pca_probs_kmc)\n",
    "y_raw_pca_probs_kmc_f1"
   ]
  },
  {
   "cell_type": "code",
   "execution_count": 487,
   "id": "38df5af3-e891-4cc5-9723-a650ef5a3266",
   "metadata": {},
   "outputs": [
    {
     "name": "stdout",
     "output_type": "stream",
     "text": [
      "True Positives (tp): 4066\n",
      "False Negatives (fn): 4624\n",
      "Sensitivity Score: 0.4678941311852704\n"
     ]
    },
    {
     "data": {
      "text/plain": [
       "0.4678941311852704"
      ]
     },
     "execution_count": 487,
     "metadata": {},
     "output_type": "execute_result"
    }
   ],
   "source": [
    "y_raw_pca_probs_kmc_sensitivity = sensitivity(y_true_test,y_raw_pca_probs_kmc)\n",
    "y_raw_pca_probs_kmc_sensitivity"
   ]
  },
  {
   "cell_type": "code",
   "execution_count": 375,
   "id": "72480eeb-e4b2-41f0-b0bb-c5a3db50f676",
   "metadata": {},
   "outputs": [],
   "source": [
    "y_norm_kmc = kmean_C_model(d_norm_train,  d_norm_test)"
   ]
  },
  {
   "cell_type": "code",
   "execution_count": 486,
   "id": "389678ec-b34c-42d8-b333-dc5c9e537364",
   "metadata": {},
   "outputs": [
    {
     "data": {
      "text/plain": [
       "0.20354229556691072"
      ]
     },
     "execution_count": 486,
     "metadata": {},
     "output_type": "execute_result"
    }
   ],
   "source": [
    "y_norm_kmc_cap = cap(y_true_test,y_norm_kmc)\n",
    "y_norm_kmc_cap"
   ]
  },
  {
   "cell_type": "code",
   "execution_count": 485,
   "id": "7eaba0ad-b202-4b6e-b27b-c95006c40e9c",
   "metadata": {},
   "outputs": [
    {
     "data": {
      "text/plain": [
       "0.2286200758455228"
      ]
     },
     "execution_count": 485,
     "metadata": {},
     "output_type": "execute_result"
    }
   ],
   "source": [
    "y_norm_kmc_f1 = f1(y_true_test,y_norm_kmc)\n",
    "y_norm_kmc_f1"
   ]
  },
  {
   "cell_type": "code",
   "execution_count": 484,
   "id": "ff71ba59-a1da-4745-9803-0199852ad747",
   "metadata": {},
   "outputs": [
    {
     "name": "stdout",
     "output_type": "stream",
     "text": [
      "True Positives (tp): 1477\n",
      "False Negatives (fn): 7213\n",
      "Sensitivity Score: 0.16996547756041427\n"
     ]
    },
    {
     "data": {
      "text/plain": [
       "0.16996547756041427"
      ]
     },
     "execution_count": 484,
     "metadata": {},
     "output_type": "execute_result"
    }
   ],
   "source": [
    "y_norm_kmc_sensitivity = sensitivity(y_true_test,y_norm_kmc)\n",
    "y_norm_kmc_sensitivity"
   ]
  },
  {
   "cell_type": "code",
   "execution_count": 483,
   "id": "556a68cb-9dd3-4c0a-a16b-a14da31ec100",
   "metadata": {},
   "outputs": [],
   "source": [
    "y_norm_probs_kmc = kmean_C_model(d_norm_probs_train,  d_norm_probs_test)"
   ]
  },
  {
   "cell_type": "code",
   "execution_count": 481,
   "id": "203353ef-5f92-4529-9e9b-0605b43bc594",
   "metadata": {},
   "outputs": [
    {
     "data": {
      "text/plain": [
       "0.7780860606485629"
      ]
     },
     "execution_count": 481,
     "metadata": {},
     "output_type": "execute_result"
    }
   ],
   "source": [
    "y_norm_probs_kmc_cap = cap(y_true_test,y_norm_probs_kmc)\n",
    "y_norm_probs_kmc_cap"
   ]
  },
  {
   "cell_type": "code",
   "execution_count": 450,
   "id": "64b44562-3019-4c1e-b442-b1f5eec77b92",
   "metadata": {},
   "outputs": [
    {
     "data": {
      "text/plain": [
       "0.8771989558506413"
      ]
     },
     "execution_count": 450,
     "metadata": {},
     "output_type": "execute_result"
    }
   ],
   "source": [
    "y_norm_probs_kmc_f1 = f1(y_true_test,y_norm_probs_kmc)\n",
    "y_norm_probs_kmc_f1"
   ]
  },
  {
   "cell_type": "code",
   "execution_count": 451,
   "id": "3b1b14ac-a2cf-4543-ba71-00dbafce3fd7",
   "metadata": {},
   "outputs": [
    {
     "name": "stdout",
     "output_type": "stream",
     "text": [
      "True Positives (tp): 7729\n",
      "False Negatives (fn): 961\n",
      "Sensitivity Score: 0.8894131185270425\n"
     ]
    },
    {
     "data": {
      "text/plain": [
       "0.8894131185270425"
      ]
     },
     "execution_count": 451,
     "metadata": {},
     "output_type": "execute_result"
    }
   ],
   "source": [
    "y_norm_probs_kmc_sensitivity = sensitivity(y_true_test,y_norm_probs_kmc)\n",
    "y_norm_probs_kmc_sensitivity"
   ]
  },
  {
   "cell_type": "code",
   "execution_count": 384,
   "id": "9c190f3d-7e32-4109-b054-ba726b3e51f3",
   "metadata": {},
   "outputs": [],
   "source": [
    "y_norm_pca_kmc = kmean_C_model(d_norm_pca_train,  d_norm_pca_test)"
   ]
  },
  {
   "cell_type": "code",
   "execution_count": 452,
   "id": "71144936-d04a-4bdd-8510-c976eabff3a8",
   "metadata": {},
   "outputs": [
    {
     "data": {
      "text/plain": [
       "0.20354229556691072"
      ]
     },
     "execution_count": 452,
     "metadata": {},
     "output_type": "execute_result"
    }
   ],
   "source": [
    "y_norm_pca_kmc_cap = cap(y_true_test,y_norm_pca_kmc)\n",
    "y_norm_pca_kmc_cap"
   ]
  },
  {
   "cell_type": "code",
   "execution_count": 453,
   "id": "eaf8ce30-e177-4de7-9eb0-d17d927a6603",
   "metadata": {},
   "outputs": [
    {
     "data": {
      "text/plain": [
       "0.2286200758455228"
      ]
     },
     "execution_count": 453,
     "metadata": {},
     "output_type": "execute_result"
    }
   ],
   "source": [
    "y_norm_pca_kmc_f1 = f1(y_true_test,y_norm_pca_kmc)\n",
    "y_norm_pca_kmc_f1"
   ]
  },
  {
   "cell_type": "code",
   "execution_count": 632,
   "id": "b2544797-1968-4325-bace-a80a79a99486",
   "metadata": {},
   "outputs": [
    {
     "name": "stdout",
     "output_type": "stream",
     "text": [
      "True Positives (tp): 1477\n",
      "False Negatives (fn): 7213\n",
      "Sensitivity Score: 0.16996547756041427\n"
     ]
    },
    {
     "data": {
      "text/plain": [
       "0.16996547756041427"
      ]
     },
     "execution_count": 632,
     "metadata": {},
     "output_type": "execute_result"
    }
   ],
   "source": [
    "y_norm_pca_kmc_sensitivity = sensitivity(y_true_test,y_norm_pca_kmc)\n",
    "y_norm_pca_kmc_sensitivity"
   ]
  },
  {
   "cell_type": "code",
   "execution_count": 388,
   "id": "2d677859-f077-409c-85b3-1059424f395d",
   "metadata": {},
   "outputs": [],
   "source": [
    "y_norm_pca_probs_kmc = kmean_C_model(d_norm_pca_probs_train,  d_norm_pca_probs_test)"
   ]
  },
  {
   "cell_type": "code",
   "execution_count": 455,
   "id": "fb19bc5a-054c-4908-b4b9-60b7cb3325af",
   "metadata": {},
   "outputs": [
    {
     "data": {
      "text/plain": [
       "0.20354229556691072"
      ]
     },
     "execution_count": 455,
     "metadata": {},
     "output_type": "execute_result"
    }
   ],
   "source": [
    "y_norm_pca_probs_kmc_cap = cap(y_true_test,y_norm_pca_probs_kmc)\n",
    "y_norm_pca_probs_kmc_cap"
   ]
  },
  {
   "cell_type": "code",
   "execution_count": 457,
   "id": "dea6340e-f3ab-4970-b465-14d641ae3fbb",
   "metadata": {},
   "outputs": [
    {
     "data": {
      "text/plain": [
       "0.2286200758455228"
      ]
     },
     "execution_count": 457,
     "metadata": {},
     "output_type": "execute_result"
    }
   ],
   "source": [
    "y_norm_pca_probs_kmc_f1 = f1(y_true_test,y_norm_pca_probs_kmc)\n",
    "y_norm_pca_probs_kmc_f1"
   ]
  },
  {
   "cell_type": "code",
   "execution_count": 458,
   "id": "99f97bdf-f015-42b1-a778-4c3991ace237",
   "metadata": {},
   "outputs": [
    {
     "name": "stdout",
     "output_type": "stream",
     "text": [
      "True Positives (tp): 1477\n",
      "False Negatives (fn): 7213\n",
      "Sensitivity Score: 0.16996547756041427\n"
     ]
    },
    {
     "data": {
      "text/plain": [
       "0.16996547756041427"
      ]
     },
     "execution_count": 458,
     "metadata": {},
     "output_type": "execute_result"
    }
   ],
   "source": [
    "y_norm_pca_probs_kmc_sensitivity = sensitivity(y_true_test,y_norm_pca_probs_kmc)\n",
    "y_norm_pca_probs_kmc_sensitivity"
   ]
  },
  {
   "cell_type": "markdown",
   "id": "d9a1992c-37db-433e-8a58-6f148a585edc",
   "metadata": {},
   "source": [
    "## DT"
   ]
  },
  {
   "cell_type": "code",
   "execution_count": 392,
   "id": "c51af9f9-b4fd-43aa-9beb-ad4f93fe0660",
   "metadata": {},
   "outputs": [],
   "source": [
    "y_raw_dt = dt_model(d_raw_train,  d_raw_test)"
   ]
  },
  {
   "cell_type": "code",
   "execution_count": 460,
   "id": "e9ca3708-4aec-4c45-988c-561ba3f6c0d0",
   "metadata": {},
   "outputs": [
    {
     "data": {
      "text/plain": [
       "0.8573461791110137"
      ]
     },
     "execution_count": 460,
     "metadata": {},
     "output_type": "execute_result"
    }
   ],
   "source": [
    "y_raw_dt_f1 = f1(y_true_test,y_raw_dt)\n",
    "y_raw_dt_f1"
   ]
  },
  {
   "cell_type": "code",
   "execution_count": 461,
   "id": "6f044824-ed29-42f1-a93f-d85628c1b83e",
   "metadata": {},
   "outputs": [
    {
     "name": "stdout",
     "output_type": "stream",
     "text": [
      "True Positives (tp): 7831\n",
      "False Negatives (fn): 859\n",
      "Sensitivity Score: 0.901150747986191\n"
     ]
    },
    {
     "data": {
      "text/plain": [
       "0.901150747986191"
      ]
     },
     "execution_count": 461,
     "metadata": {},
     "output_type": "execute_result"
    }
   ],
   "source": [
    "y_raw_dt_sensitivity = sensitivity(y_true_test,y_raw_dt)\n",
    "y_raw_dt_sensitivity"
   ]
  },
  {
   "cell_type": "code",
   "execution_count": 462,
   "id": "216d8aa5-4501-4d82-adc9-ab02bb610d95",
   "metadata": {},
   "outputs": [
    {
     "data": {
      "text/plain": [
       "0.7086086149903255"
      ]
     },
     "execution_count": 462,
     "metadata": {},
     "output_type": "execute_result"
    }
   ],
   "source": [
    "y_raw_dt_cap = cap(y_true_test,y_raw_dt)\n",
    "y_raw_dt_cap"
   ]
  },
  {
   "cell_type": "code",
   "execution_count": 396,
   "id": "71db43e2-b519-440e-80dc-4915600949be",
   "metadata": {},
   "outputs": [],
   "source": [
    "y_raw_probs_dt = dt_model(d_raw_probs_train,  d_raw_probs_test)"
   ]
  },
  {
   "cell_type": "code",
   "execution_count": 463,
   "id": "7704c7d8-5d97-4a27-a40f-039f6e4d4491",
   "metadata": {},
   "outputs": [
    {
     "data": {
      "text/plain": [
       "0.8686879703348237"
      ]
     },
     "execution_count": 463,
     "metadata": {},
     "output_type": "execute_result"
    }
   ],
   "source": [
    "y_raw_probs_dt_f1 = f1(y_true_test,y_raw_probs_dt)\n",
    "y_raw_probs_dt_f1"
   ]
  },
  {
   "cell_type": "code",
   "execution_count": 464,
   "id": "2bae70c7-af3f-4691-abb7-a37a409babce",
   "metadata": {},
   "outputs": [
    {
     "name": "stdout",
     "output_type": "stream",
     "text": [
      "True Positives (tp): 7965\n",
      "False Negatives (fn): 725\n",
      "Sensitivity Score: 0.9165707710011507\n"
     ]
    },
    {
     "data": {
      "text/plain": [
       "0.9165707710011507"
      ]
     },
     "execution_count": 464,
     "metadata": {},
     "output_type": "execute_result"
    }
   ],
   "source": [
    "y_raw_probs_dt_sensitivity = sensitivity(y_true_test,y_raw_probs_dt)\n",
    "y_raw_probs_dt_sensitivity"
   ]
  },
  {
   "cell_type": "code",
   "execution_count": 465,
   "id": "52b5fcee-bb61-4c7d-b107-707c5fc47a43",
   "metadata": {},
   "outputs": [
    {
     "data": {
      "text/plain": [
       "0.725182892425783"
      ]
     },
     "execution_count": 465,
     "metadata": {},
     "output_type": "execute_result"
    }
   ],
   "source": [
    "y_raw_probs_dt_cap = cap(y_true_test,y_raw_probs_dt)\n",
    "y_raw_probs_dt_cap"
   ]
  },
  {
   "cell_type": "code",
   "execution_count": 400,
   "id": "c64389f5-4d7c-4472-bdb2-419a8eed1dcc",
   "metadata": {},
   "outputs": [],
   "source": [
    "y_raw_pca_dt = dt_model(d_raw_pca_train,  d_raw_pca_test)"
   ]
  },
  {
   "cell_type": "code",
   "execution_count": 466,
   "id": "dd33b4a1-ff3b-409b-b0b8-49ab5040a6cd",
   "metadata": {},
   "outputs": [
    {
     "data": {
      "text/plain": [
       "0.8521595598349381"
      ]
     },
     "execution_count": 466,
     "metadata": {},
     "output_type": "execute_result"
    }
   ],
   "source": [
    "y_raw_pca_dt_f1 = f1(y_true_test,y_raw_pca_dt)\n",
    "y_raw_pca_dt_f1"
   ]
  },
  {
   "cell_type": "code",
   "execution_count": 578,
   "id": "c3c62dc1-cbaa-4a21-becb-e9ba457a0757",
   "metadata": {},
   "outputs": [
    {
     "name": "stdout",
     "output_type": "stream",
     "text": [
      "True Positives (tp): 7744\n",
      "False Negatives (fn): 946\n",
      "Sensitivity Score: 0.8911392405063291\n"
     ]
    },
    {
     "data": {
      "text/plain": [
       "0.8911392405063291"
      ]
     },
     "execution_count": 578,
     "metadata": {},
     "output_type": "execute_result"
    }
   ],
   "source": [
    "y_raw_pca_dt_sensitivity = sensitivity(y_true_test,y_raw_pca_dt)\n",
    "y_raw_pca_dt_sensitivity"
   ]
  },
  {
   "cell_type": "code",
   "execution_count": 467,
   "id": "a5dee60b-e4d9-4bde-ab97-9dfeb57ba790",
   "metadata": {},
   "outputs": [
    {
     "data": {
      "text/plain": [
       "0.7044338861811423"
      ]
     },
     "execution_count": 467,
     "metadata": {},
     "output_type": "execute_result"
    }
   ],
   "source": [
    "y_raw_pca_dt_cap = cap(y_true_test,y_raw_pca_dt)\n",
    "y_raw_pca_dt_cap"
   ]
  },
  {
   "cell_type": "code",
   "execution_count": 228,
   "id": "39f4980c-e009-4e95-b4b4-5db35a615018",
   "metadata": {},
   "outputs": [],
   "source": [
    "y_raw_pca_probs_dt = dt_model(d_raw_pca_probs_train,  d_raw_pca_probs_test)"
   ]
  },
  {
   "cell_type": "code",
   "execution_count": 468,
   "id": "c4d2891b-4fa4-4e6c-b256-38df7f334814",
   "metadata": {},
   "outputs": [
    {
     "data": {
      "text/plain": [
       "0.8147310804378868"
      ]
     },
     "execution_count": 468,
     "metadata": {},
     "output_type": "execute_result"
    }
   ],
   "source": [
    "y_raw_pca_probs_dt_f1 = f1(y_true_test,y_raw_pca_probs_dt)\n",
    "y_raw_pca_probs_dt_f1"
   ]
  },
  {
   "cell_type": "code",
   "execution_count": 469,
   "id": "e624743c-f55a-40fc-9b3b-3fc4f734bde0",
   "metadata": {},
   "outputs": [
    {
     "name": "stdout",
     "output_type": "stream",
     "text": [
      "True Positives (tp): 6847\n",
      "False Negatives (fn): 1843\n",
      "Sensitivity Score: 0.7879171461449942\n"
     ]
    },
    {
     "data": {
      "text/plain": [
       "0.7879171461449942"
      ]
     },
     "execution_count": 469,
     "metadata": {},
     "output_type": "execute_result"
    }
   ],
   "source": [
    "y_raw_pca_probs_dt_sensitivity = sensitivity(y_true_test,y_raw_pca_probs_dt)\n",
    "y_raw_pca_probs_dt_sensitivity"
   ]
  },
  {
   "cell_type": "code",
   "execution_count": 470,
   "id": "0219c2d7-0c39-4336-9f04-f7be308b9965",
   "metadata": {},
   "outputs": [
    {
     "data": {
      "text/plain": [
       "0.7179197919090622"
      ]
     },
     "execution_count": 470,
     "metadata": {},
     "output_type": "execute_result"
    }
   ],
   "source": [
    "y_raw_pca_probs_dt_cap = cap(y_true_test,y_raw_pca_probs_dt)\n",
    "y_raw_pca_probs_dt_cap"
   ]
  },
  {
   "cell_type": "code",
   "execution_count": 229,
   "id": "06dfd202-8fe0-4d55-b837-ce87a9f0bfa3",
   "metadata": {},
   "outputs": [],
   "source": [
    "y_norm_dt = dt_model(d_norm_train,  d_norm_test)"
   ]
  },
  {
   "cell_type": "code",
   "execution_count": 472,
   "id": "7bb8f1d5-5407-457e-b2b1-94077e1940fa",
   "metadata": {},
   "outputs": [
    {
     "data": {
      "text/plain": [
       "0.8577217962760132"
      ]
     },
     "execution_count": 472,
     "metadata": {},
     "output_type": "execute_result"
    }
   ],
   "source": [
    "y_norm_dt_f1 = f1(y_true_test,y_norm_dt)\n",
    "y_norm_dt_f1"
   ]
  },
  {
   "cell_type": "code",
   "execution_count": 473,
   "id": "4c0ad2f7-3ba8-44b8-a66b-818c5ba78006",
   "metadata": {},
   "outputs": [
    {
     "name": "stdout",
     "output_type": "stream",
     "text": [
      "True Positives (tp): 7831\n",
      "False Negatives (fn): 859\n",
      "Sensitivity Score: 0.901150747986191\n"
     ]
    },
    {
     "data": {
      "text/plain": [
       "0.901150747986191"
      ]
     },
     "execution_count": 473,
     "metadata": {},
     "output_type": "execute_result"
    }
   ],
   "source": [
    "y_norm_dt_sensitivity = sensitivity(y_true_test,y_norm_dt)\n",
    "y_norm_dt_sensitivity"
   ]
  },
  {
   "cell_type": "code",
   "execution_count": 474,
   "id": "cf4486fa-fb56-458b-abd1-33234e3f6890",
   "metadata": {},
   "outputs": [
    {
     "data": {
      "text/plain": [
       "0.7097166482313226"
      ]
     },
     "execution_count": 474,
     "metadata": {},
     "output_type": "execute_result"
    }
   ],
   "source": [
    "y_norm_dt_cap = cap(y_true_test,y_norm_dt)\n",
    "y_norm_dt_cap"
   ]
  },
  {
   "cell_type": "code",
   "execution_count": 230,
   "id": "fe29fd6e-6a10-4b92-b0ec-bb653aef1380",
   "metadata": {},
   "outputs": [],
   "source": [
    "y_norm_probs_dt = dt_model(d_norm_probs_train,  d_norm_probs_test)"
   ]
  },
  {
   "cell_type": "code",
   "execution_count": 475,
   "id": "2d22ee1f-791f-4ff8-8541-f44a1026cdc2",
   "metadata": {},
   "outputs": [
    {
     "data": {
      "text/plain": [
       "0.8680502457673401"
      ]
     },
     "execution_count": 475,
     "metadata": {},
     "output_type": "execute_result"
    }
   ],
   "source": [
    "y_norm_probs_dt_f1 = f1(y_true_test,y_norm_probs_dt)\n",
    "y_norm_probs_dt_f1"
   ]
  },
  {
   "cell_type": "code",
   "execution_count": 476,
   "id": "bbdb9d05-dd7d-4036-9e4b-b0c6863ef055",
   "metadata": {},
   "outputs": [
    {
     "name": "stdout",
     "output_type": "stream",
     "text": [
      "True Positives (tp): 7947\n",
      "False Negatives (fn): 743\n",
      "Sensitivity Score: 0.9144994246260069\n"
     ]
    },
    {
     "data": {
      "text/plain": [
       "0.9144994246260069"
      ]
     },
     "execution_count": 476,
     "metadata": {},
     "output_type": "execute_result"
    }
   ],
   "source": [
    "y_norm_probs_dt_sensitivity = sensitivity(y_true_test,y_norm_probs_dt)\n",
    "y_norm_probs_dt_sensitivity"
   ]
  },
  {
   "cell_type": "code",
   "execution_count": 579,
   "id": "5174784a-4b66-4e16-9f58-835ab2cf3a7b",
   "metadata": {},
   "outputs": [
    {
     "data": {
      "text/plain": [
       "0.7255322607894577"
      ]
     },
     "execution_count": 579,
     "metadata": {},
     "output_type": "execute_result"
    }
   ],
   "source": [
    "y_norm_probs_dt_cap = cap(y_true_test,y_norm_probs_dt)\n",
    "y_norm_probs_dt_cap"
   ]
  },
  {
   "cell_type": "code",
   "execution_count": 413,
   "id": "2c216b37-4188-4138-8ad3-73531fb17ca5",
   "metadata": {},
   "outputs": [],
   "source": [
    "y_norm_pca_dt = dt_model(d_norm_pca_train,  d_norm_pca_test)"
   ]
  },
  {
   "cell_type": "code",
   "execution_count": 580,
   "id": "64265af9-d011-404e-9cdf-e08f55b4f8c3",
   "metadata": {},
   "outputs": [
    {
     "data": {
      "text/plain": [
       "0.8307309129226939"
      ]
     },
     "execution_count": 580,
     "metadata": {},
     "output_type": "execute_result"
    }
   ],
   "source": [
    "y_norm_pca_dt_f1 = f1(y_true_test,y_norm_pca_dt)\n",
    "y_norm_pca_dt_f1"
   ]
  },
  {
   "cell_type": "code",
   "execution_count": 477,
   "id": "015fa5c0-7a06-49f2-9c6c-ca3e2536ce72",
   "metadata": {},
   "outputs": [
    {
     "name": "stdout",
     "output_type": "stream",
     "text": [
      "True Positives (tp): 8672\n",
      "False Negatives (fn): 18\n",
      "Sensitivity Score: 0.9979286536248562\n"
     ]
    },
    {
     "data": {
      "text/plain": [
       "0.9979286536248562"
      ]
     },
     "execution_count": 477,
     "metadata": {},
     "output_type": "execute_result"
    }
   ],
   "source": [
    "y_norm_pca_dt_sensitivity = sensitivity(y_true_test,y_norm_pca_dt)\n",
    "y_norm_pca_dt_sensitivity"
   ]
  },
  {
   "cell_type": "code",
   "execution_count": 478,
   "id": "7d3144ba-2552-4bb4-ae92-e2c8e3bd0814",
   "metadata": {},
   "outputs": [
    {
     "data": {
      "text/plain": [
       "0.7255322607894577"
      ]
     },
     "execution_count": 478,
     "metadata": {},
     "output_type": "execute_result"
    }
   ],
   "source": [
    "y_norm_pca_dt_cap = cap(y_true_test,y_norm_probs_dt)\n",
    "y_norm_pca_dt_cap"
   ]
  },
  {
   "cell_type": "code",
   "execution_count": 232,
   "id": "b02e92a6-5219-4857-8d3a-28ae2d35d1e1",
   "metadata": {},
   "outputs": [],
   "source": [
    "y_norm_pca_probs_dt = dt_model(d_norm_pca_probs_train,  d_norm_pca_probs_test)"
   ]
  },
  {
   "cell_type": "code",
   "execution_count": 581,
   "id": "7c66986a-8fef-454c-a020-2c7ae34ed5ad",
   "metadata": {},
   "outputs": [
    {
     "data": {
      "text/plain": [
       "0.22834584720179577"
      ]
     },
     "execution_count": 581,
     "metadata": {},
     "output_type": "execute_result"
    }
   ],
   "source": [
    "y_norm_pca_probs_dt_f1 = f1(y_true_test,y_norm_pca_probs_dt)\n",
    "y_norm_pca_probs_dt_f1"
   ]
  },
  {
   "cell_type": "code",
   "execution_count": 479,
   "id": "b337aece-9738-44d4-b597-d88ca53f2839",
   "metadata": {},
   "outputs": [
    {
     "name": "stdout",
     "output_type": "stream",
     "text": [
      "True Positives (tp): 1475\n",
      "False Negatives (fn): 7215\n",
      "Sensitivity Score: 0.16973532796317606\n"
     ]
    },
    {
     "data": {
      "text/plain": [
       "0.16973532796317606"
      ]
     },
     "execution_count": 479,
     "metadata": {},
     "output_type": "execute_result"
    }
   ],
   "source": [
    "y_norm_pca_probs_dt_sensitivity = sensitivity(y_true_test,y_norm_pca_probs_dt)\n",
    "y_norm_pca_probs_dt_sensitivity"
   ]
  },
  {
   "cell_type": "code",
   "execution_count": 480,
   "id": "5f06efda-fce0-4c20-be22-bfd659fe84d3",
   "metadata": {},
   "outputs": [
    {
     "data": {
      "text/plain": [
       "0.20342722076829164"
      ]
     },
     "execution_count": 480,
     "metadata": {},
     "output_type": "execute_result"
    }
   ],
   "source": [
    "y_norm_pca_probs_dt_cap = cap(y_true_test,y_norm_pca_probs_dt)\n",
    "y_norm_pca_probs_dt_cap"
   ]
  },
  {
   "cell_type": "markdown",
   "id": "b5366cbd-89ef-4186-b008-83efd8e059e8",
   "metadata": {},
   "source": [
    "## MLP"
   ]
  },
  {
   "cell_type": "code",
   "execution_count": 427,
   "id": "88e4890c-8a70-427e-8b7c-c1bbf0976d8b",
   "metadata": {},
   "outputs": [],
   "source": [
    "y_raw_mlp = dt_model(d_raw_train,  d_raw_test)"
   ]
  },
  {
   "cell_type": "code",
   "execution_count": 428,
   "id": "ae5b0912-7a47-4217-a998-c8a947b3766d",
   "metadata": {},
   "outputs": [
    {
     "data": {
      "text/plain": [
       "0.8574557800777614"
      ]
     },
     "execution_count": 428,
     "metadata": {},
     "output_type": "execute_result"
    }
   ],
   "source": [
    "y_raw_mlp_f1 = f1(y_true_test,y_raw_mlp)\n",
    "y_raw_mlp_f1"
   ]
  },
  {
   "cell_type": "code",
   "execution_count": 250,
   "id": "f2389160-213c-4ade-915f-5d7b8cd493f1",
   "metadata": {},
   "outputs": [
    {
     "data": {
      "text/plain": [
       "0.9012658227848102"
      ]
     },
     "execution_count": 250,
     "metadata": {},
     "output_type": "execute_result"
    }
   ],
   "source": [
    "y_raw_mlp_sensitivity = sensitivity(y_true_test,y_raw_mlp)\n",
    "y_raw_mlp_sensitivity"
   ]
  },
  {
   "cell_type": "code",
   "execution_count": 247,
   "id": "7f75ebac-b135-4803-861c-f87d462171d1",
   "metadata": {},
   "outputs": [
    {
     "data": {
      "text/plain": [
       "0.7085276482345104"
      ]
     },
     "execution_count": 247,
     "metadata": {},
     "output_type": "execute_result"
    }
   ],
   "source": [
    "y_raw_mlp_cap = cap(y_true_test,y_raw_mlp)\n",
    "y_raw_mlp_cap"
   ]
  },
  {
   "cell_type": "code",
   "execution_count": 237,
   "id": "bff4b809-ee2a-4bd1-8834-f8db1b271ba8",
   "metadata": {},
   "outputs": [],
   "source": [
    "y_raw_probs_mlp = dt_model(d_raw_probs_train,  d_raw_probs_test)"
   ]
  },
  {
   "cell_type": "code",
   "execution_count": 254,
   "id": "8222c440-3fa7-43a2-9611-187e24049ea2",
   "metadata": {},
   "outputs": [
    {
     "data": {
      "text/plain": [
       "0.8678154651543244"
      ]
     },
     "execution_count": 254,
     "metadata": {},
     "output_type": "execute_result"
    }
   ],
   "source": [
    "y_raw_probs_mlp_f1 = f1(y_true_test,y_raw_probs_mlp)\n",
    "y_raw_probs_mlp_f1"
   ]
  },
  {
   "cell_type": "code",
   "execution_count": 255,
   "id": "476033a2-1b63-46f8-9e12-9bc70ac6904a",
   "metadata": {},
   "outputs": [
    {
     "data": {
      "text/plain": [
       "0.9156501726121979"
      ]
     },
     "execution_count": 255,
     "metadata": {},
     "output_type": "execute_result"
    }
   ],
   "source": [
    "y_raw_probs_mlp_sensitivity = sensitivity(y_true_test,y_raw_probs_mlp)\n",
    "y_raw_probs_mlp_sensitivity"
   ]
  },
  {
   "cell_type": "code",
   "execution_count": 256,
   "id": "3fa41ae8-c1f0-4a4c-bf7c-ad9961f202fb",
   "metadata": {},
   "outputs": [
    {
     "data": {
      "text/plain": [
       "0.7236145599903095"
      ]
     },
     "execution_count": 256,
     "metadata": {},
     "output_type": "execute_result"
    }
   ],
   "source": [
    "y_raw_probs_mlp_cap = cap(y_true_test,y_raw_probs_mlp)\n",
    "y_raw_probs_mlp_cap"
   ]
  },
  {
   "cell_type": "code",
   "execution_count": 238,
   "id": "e1d0251d-04c5-4ab7-9472-654dce9abaf9",
   "metadata": {},
   "outputs": [],
   "source": [
    "y_raw_pca_mlp = dt_model(d_raw_pca_train,  d_raw_pca_test)"
   ]
  },
  {
   "cell_type": "code",
   "execution_count": 257,
   "id": "37b70c39-a41d-4ed2-b73a-d72cfc82bfe2",
   "metadata": {},
   "outputs": [
    {
     "data": {
      "text/plain": [
       "0.8508714596949892"
      ]
     },
     "execution_count": 257,
     "metadata": {},
     "output_type": "execute_result"
    }
   ],
   "source": [
    "y_raw_pca_mlp_f1 = f1(y_true_test,y_raw_pca_mlp)\n",
    "y_raw_pca_mlp_f1"
   ]
  },
  {
   "cell_type": "code",
   "execution_count": 258,
   "id": "574ab59f-47b3-46d9-bbe5-a1e27f8d7ee4",
   "metadata": {},
   "outputs": [
    {
     "data": {
      "text/plain": [
       "0.8988492520138089"
      ]
     },
     "execution_count": 258,
     "metadata": {},
     "output_type": "execute_result"
    }
   ],
   "source": [
    "y_raw_pca_mlp_sensitivity = sensitivity(y_true_test,y_raw_pca_mlp)\n",
    "y_raw_pca_mlp_sensitivity"
   ]
  },
  {
   "cell_type": "code",
   "execution_count": 259,
   "id": "c6d748d8-395f-44cf-97cf-107b8360dcf4",
   "metadata": {},
   "outputs": [
    {
     "data": {
      "text/plain": [
       "0.6919454016301732"
      ]
     },
     "execution_count": 259,
     "metadata": {},
     "output_type": "execute_result"
    }
   ],
   "source": [
    "y_raw_pca_mlp_cap = cap(y_true_test,y_raw_pca_mlp)\n",
    "y_raw_pca_mlp_cap"
   ]
  },
  {
   "cell_type": "code",
   "execution_count": 239,
   "id": "cffd1046-ffda-4284-b2da-f127d7356712",
   "metadata": {},
   "outputs": [],
   "source": [
    "y_raw_pca_probs_mlp = dt_model(d_raw_pca_probs_train,  d_raw_pca_probs_test)"
   ]
  },
  {
   "cell_type": "code",
   "execution_count": 261,
   "id": "3fc825ea-d6be-4d6c-9ce3-81c98559b566",
   "metadata": {},
   "outputs": [
    {
     "data": {
      "text/plain": [
       "0.8083751105868475"
      ]
     },
     "execution_count": 261,
     "metadata": {},
     "output_type": "execute_result"
    }
   ],
   "source": [
    "y_raw_pca_probs_probs_mlp_f1 = f1(y_true_test,y_raw_pca_probs_mlp)\n",
    "y_raw_pca_probs_probs_mlp_f1"
   ]
  },
  {
   "cell_type": "code",
   "execution_count": 262,
   "id": "c5695866-dc23-4c92-a276-df818b792efa",
   "metadata": {},
   "outputs": [
    {
     "data": {
      "text/plain": [
       "0.7886075949367088"
      ]
     },
     "execution_count": 262,
     "metadata": {},
     "output_type": "execute_result"
    }
   ],
   "source": [
    "y_raw_pca_probs_mlp_sensitivity = sensitivity(y_true_test,y_raw_pca_probs_mlp)\n",
    "y_raw_pca_probs_mlp_sensitivity"
   ]
  },
  {
   "cell_type": "code",
   "execution_count": 263,
   "id": "9d8346a6-404b-4e27-bf87-db827f13552a",
   "metadata": {},
   "outputs": [
    {
     "data": {
      "text/plain": [
       "0.6987359304323434"
      ]
     },
     "execution_count": 263,
     "metadata": {},
     "output_type": "execute_result"
    }
   ],
   "source": [
    "y_raw_pca_probs_mlp_cap = cap(y_true_test,y_raw_pca_probs_mlp)\n",
    "y_raw_pca_probs_mlp_cap"
   ]
  },
  {
   "cell_type": "code",
   "execution_count": 240,
   "id": "46d64aae-37f1-4526-89ca-19363dd2b3e9",
   "metadata": {},
   "outputs": [],
   "source": [
    "y_norm_mlp = dt_model(d_norm_train,  d_norm_test)"
   ]
  },
  {
   "cell_type": "code",
   "execution_count": 429,
   "id": "de3687c2-293b-4085-b1f2-62f523bbbe0e",
   "metadata": {},
   "outputs": [
    {
     "data": {
      "text/plain": [
       "0.8579741970903103"
      ]
     },
     "execution_count": 429,
     "metadata": {},
     "output_type": "execute_result"
    }
   ],
   "source": [
    "y_norm_mlp_f1 = f1(y_true_test,y_norm_mlp)\n",
    "y_norm_mlp_f1"
   ]
  },
  {
   "cell_type": "code",
   "execution_count": 422,
   "id": "92cc870f-f7f9-4c11-9915-84d400be3ff0",
   "metadata": {},
   "outputs": [
    {
     "name": "stdout",
     "output_type": "stream",
     "text": [
      "True Positives (tp): 7814\n",
      "False Negatives (fn): 876\n",
      "Sensitivity Score: 0.8991944764096663\n"
     ]
    },
    {
     "data": {
      "text/plain": [
       "0.8991944764096663"
      ]
     },
     "execution_count": 422,
     "metadata": {},
     "output_type": "execute_result"
    }
   ],
   "source": [
    "y_norm_mlp_sensitivity = sensitivity(y_true_test,y_norm_mlp)\n",
    "y_norm_mlp_sensitivity"
   ]
  },
  {
   "cell_type": "code",
   "execution_count": 423,
   "id": "1ff3784e-43a4-4d1f-8f3b-5de0cc1abb66",
   "metadata": {},
   "outputs": [
    {
     "data": {
      "text/plain": [
       "0.7126166287865505"
      ]
     },
     "execution_count": 423,
     "metadata": {},
     "output_type": "execute_result"
    }
   ],
   "source": [
    "y_norm_mlp_cap = cap(y_true_test,y_norm_mlp)\n",
    "y_norm_mlp_cap"
   ]
  },
  {
   "cell_type": "code",
   "execution_count": 425,
   "id": "2aa95df7-8e69-48c2-8600-f1a554fcadf3",
   "metadata": {},
   "outputs": [],
   "source": [
    "y_norm_probs_mlp = dt_model(d_norm_probs_train,  d_norm_probs_test)"
   ]
  },
  {
   "cell_type": "code",
   "execution_count": 430,
   "id": "66f1cb74-05aa-47d9-832c-5ef63a1fd45c",
   "metadata": {},
   "outputs": [
    {
     "data": {
      "text/plain": [
       "0.8677081057461219"
      ]
     },
     "execution_count": 430,
     "metadata": {},
     "output_type": "execute_result"
    }
   ],
   "source": [
    "y_norm_probs_mlp_f1 = f1(y_true_test,y_norm_probs_mlp)\n",
    "y_norm_probs_mlp_f1"
   ]
  },
  {
   "cell_type": "code",
   "execution_count": 431,
   "id": "e6ee2560-71d2-4dd7-ac79-8be820acf9eb",
   "metadata": {},
   "outputs": [
    {
     "name": "stdout",
     "output_type": "stream",
     "text": [
      "True Positives (tp): 7943\n",
      "False Negatives (fn): 747\n",
      "Sensitivity Score: 0.9140391254315305\n"
     ]
    },
    {
     "data": {
      "text/plain": [
       "0.9140391254315305"
      ]
     },
     "execution_count": 431,
     "metadata": {},
     "output_type": "execute_result"
    }
   ],
   "source": [
    "y_norm_mlp_probs_sensitivity = sensitivity(y_true_test,y_norm_probs_mlp)\n",
    "y_norm_mlp_probs_sensitivity"
   ]
  },
  {
   "cell_type": "code",
   "execution_count": 432,
   "id": "152975fe-8a49-4d4d-924f-3b187e7e32bb",
   "metadata": {},
   "outputs": [
    {
     "data": {
      "text/plain": [
       "0.7250251028819703"
      ]
     },
     "execution_count": 432,
     "metadata": {},
     "output_type": "execute_result"
    }
   ],
   "source": [
    "y_norm_mlp_probs_cap = cap(y_true_test,y_norm_probs_mlp)\n",
    "y_norm_mlp_probs_cap"
   ]
  },
  {
   "cell_type": "code",
   "execution_count": 433,
   "id": "79300629-700a-4af2-8335-d2a766817e2a",
   "metadata": {},
   "outputs": [],
   "source": [
    "y_norm_pca_mlp = dt_model(d_norm_pca_train,  d_norm_pca_test)"
   ]
  },
  {
   "cell_type": "code",
   "execution_count": 434,
   "id": "703c3038-dd39-451b-a806-e7c6cdf162c0",
   "metadata": {},
   "outputs": [
    {
     "data": {
      "text/plain": [
       "0.23976742406854873"
      ]
     },
     "execution_count": 434,
     "metadata": {},
     "output_type": "execute_result"
    }
   ],
   "source": [
    "y_norm_pca_mlp_f1 = f1(y_true_test,y_norm_pca_mlp)\n",
    "y_norm_pca_mlp_f1"
   ]
  },
  {
   "cell_type": "code",
   "execution_count": 435,
   "id": "b95c2ae8-0fde-4561-8007-75529974c974",
   "metadata": {},
   "outputs": [
    {
     "name": "stdout",
     "output_type": "stream",
     "text": [
      "True Positives (tp): 1567\n",
      "False Negatives (fn): 7123\n",
      "Sensitivity Score: 0.18032220943613347\n"
     ]
    },
    {
     "data": {
      "text/plain": [
       "0.18032220943613347"
      ]
     },
     "execution_count": 435,
     "metadata": {},
     "output_type": "execute_result"
    }
   ],
   "source": [
    "y_norm_mlp_pca_sensitivity = sensitivity(y_true_test,y_norm_pca_mlp)\n",
    "y_norm_mlp_pca_sensitivity"
   ]
  },
  {
   "cell_type": "code",
   "execution_count": 436,
   "id": "b88d114d-5571-44dd-b737-0321069a71b2",
   "metadata": {},
   "outputs": [
    {
     "data": {
      "text/plain": [
       "0.2004104121972911"
      ]
     },
     "execution_count": 436,
     "metadata": {},
     "output_type": "execute_result"
    }
   ],
   "source": [
    "y_norm_mlp_pca_cap = cap(y_true_test,y_norm_pca_mlp)\n",
    "y_norm_mlp_pca_cap"
   ]
  },
  {
   "cell_type": "code",
   "execution_count": 243,
   "id": "edabb6ed-e02d-45dd-836e-0b8e72f014bc",
   "metadata": {},
   "outputs": [],
   "source": [
    "y_norm_pca_probs_mlp = dt_model(d_norm_pca_probs_train,  d_norm_pca_probs_test)"
   ]
  },
  {
   "cell_type": "code",
   "execution_count": 437,
   "id": "38428f46-cf29-4d45-aaaa-f74c48773028",
   "metadata": {},
   "outputs": [
    {
     "data": {
      "text/plain": [
       "0.830755889579419"
      ]
     },
     "execution_count": 437,
     "metadata": {},
     "output_type": "execute_result"
    }
   ],
   "source": [
    "y_norm_pca_probs_mlp_f1 = f1(y_true_test,y_norm_pca_probs_mlp)\n",
    "y_norm_pca_probs_mlp_f1"
   ]
  },
  {
   "cell_type": "code",
   "execution_count": 438,
   "id": "d94130ea-58c9-48b5-92f4-192e1e48765f",
   "metadata": {},
   "outputs": [
    {
     "name": "stdout",
     "output_type": "stream",
     "text": [
      "True Positives (tp): 8622\n",
      "False Negatives (fn): 68\n",
      "Sensitivity Score: 0.992174913693901\n"
     ]
    },
    {
     "data": {
      "text/plain": [
       "0.992174913693901"
      ]
     },
     "execution_count": 438,
     "metadata": {},
     "output_type": "execute_result"
    }
   ],
   "source": [
    "y_norm_mlp_pca_probs_sensitivity = sensitivity(y_true_test,y_norm_pca_probs_mlp)\n",
    "y_norm_mlp_pca_probs_sensitivity"
   ]
  },
  {
   "cell_type": "code",
   "execution_count": 439,
   "id": "24cbb25f-ca2d-405c-8562-9ef584e3f632",
   "metadata": {},
   "outputs": [
    {
     "data": {
      "text/plain": [
       "0.5189406424425184"
      ]
     },
     "execution_count": 439,
     "metadata": {},
     "output_type": "execute_result"
    }
   ],
   "source": [
    "y_norm_mlp_pca_probs_cap = cap(y_true_test,y_norm_pca_probs_mlp)\n",
    "y_norm_mlp_pca_probs_cap"
   ]
  },
  {
   "cell_type": "code",
   "execution_count": 507,
   "id": "5f2bc3f0-f5fd-4e64-b50d-ea8f2a137d10",
   "metadata": {},
   "outputs": [
    {
     "data": {
      "text/plain": [
       "{'CAP F1': [0.4714, 0.4972, 0.4797, 0.4958],\n",
       " 'KM - D': [0.4502, 0.3897, 0.4502, 0.0306],\n",
       " 'SVM - 1': [0.3536, 0.2011, 0.3536, 0.3536],\n",
       " 'KM - C': [0.42, 0.5127, 0.4215, 0.4097],\n",
       " 'DT': [0.3801, 0.3456, 0.3396, 0.3347],\n",
       " 'SVM - 2': [0.3144, 0.3557, 0.3144, 0.3144],\n",
       " 'MLP': [0.3505, 0.305, 0.3572, 0.3318]}"
      ]
     },
     "execution_count": 507,
     "metadata": {},
     "output_type": "execute_result"
    }
   ],
   "source": [
    "data = {\n",
    "    \"CAP F1\": [0.4714, 0.4972, 0.4797, 0.4958],\n",
    "    \"KM - D\": [0.4502, 0.3897, 0.4502, 0.0306],\n",
    "    \"SVM - 1\": [0.3536, 0.2011, 0.3536, 0.3536],\n",
    "    \"KM - C\": [0.42, 0.5127, 0.4215, 0.4097],\n",
    "    \"DT\": [0.3801, 0.3456, 0.3396, 0.3347],\n",
    "    \"SVM - 2\": [0.3144, 0.3557, 0.3144, 0.3144],\n",
    "    \"MLP\": [0.3505, 0.305, 0.3572, 0.3318],\n",
    "}\n"
   ]
  },
  {
   "cell_type": "code",
   "execution_count": null,
   "id": "fab2a9d9-428a-4243-b10e-2160dcc3eb07",
   "metadata": {},
   "outputs": [],
   "source": [
    "CAP = "
   ]
  },
  {
   "cell_type": "code",
   "execution_count": 588,
   "id": "78b49bdd-1fe6-43d8-9de3-b8ed69ab0373",
   "metadata": {},
   "outputs": [
    {
     "name": "stdout",
     "output_type": "stream",
     "text": [
      "      CAP        E1        E2        E3        E4        E5        E6  \\\n",
      "0  voting        --  0.513701        --  0.500000        --  0.513701   \n",
      "1     KMD       0.5  0.500000       0.5  0.500000       0.5  0.500000   \n",
      "2   SVM-1  0.795546  0.691476  0.499966  0.853090  0.795546  0.691476   \n",
      "3     KMC  0.203542  0.221914       0.5  0.713864  0.203542  0.778086   \n",
      "4      DT  0.708609  0.725183  0.704434  0.717920  0.709717  0.725532   \n",
      "5     MLP  0.708528  0.723615  0.691945  0.698736  0.712617  0.725025   \n",
      "\n",
      "         E7        E8  \n",
      "0        --  0.513701  \n",
      "1       0.5  0.795546  \n",
      "2       0.5  0.795546  \n",
      "3  0.203542  0.203542  \n",
      "4  0.725532  0.203427  \n",
      "5   0.20041  0.518941  \n"
     ]
    }
   ],
   "source": [
    "# CAP\n",
    "def format_number(num):\n",
    "    return '{:.4f}'.format(num)\n",
    "\n",
    "# Data for the table\n",
    "data = {\n",
    "     'CAP':['voting','KMD','SVM-1','KMC','DT','MLP'],\n",
    "    'E1': ['--', y_raw_kmd_cap , y_raw_svm1_cap, y_raw_kmc_cap, y_raw_dt_cap, y_raw_mlp_cap],\n",
    "    'E2': [y_raw_probs_votingcap, y_raw_probs_kmd_cap, y_raw_probs_SVM1_cap, y_raw_probs_kmc_cap, y_raw_probs_dt_cap, y_raw_probs_mlp_cap],\n",
    "    'E3': ['--', y_raw_pca_kmd_cap, y_raw_pca_SVM1_cap, y_raw_pca_kmc_cap, y_raw_pca_dt_cap, y_raw_pca_mlp_cap],\n",
    "    'E4': [y_raw_pca_probs_votingcap, y__raw_pca_probs_kmd_cap, y_raw_pca_probsSVM1_cap, y_raw_pca_probs_kmc_cap, y_raw_pca_probs_dt_cap, y_raw_pca_probs_mlp_cap],\n",
    "    'E5': ['--', y_norm_kmd_cap, y_norm_svm1_cap, y_norm_kmc_cap, y_norm_dt_cap, y_norm_mlp_cap],\n",
    "    'E6': [y_norm_probs_votingcap, y_norm_probs_kmd_cap, y_norm_probsSVM1_cap, y_norm_probs_kmc_cap, y_norm_probs_dt_cap, y_norm_mlp_probs_cap],\n",
    "    'E7': ['--', y_norm_pca_kmd_cap, y_norm_pca_svm1_cap, y_norm_pca_kmc_cap, y_norm_pca_dt_cap, y_norm_mlp_pca_cap],\n",
    "    'E8': [y_norm_pca_probs_voting_cap,y_norm_pca_probs_kmd_cap, y_norm_pca_probs_svm1_cap, y_norm_pca_probs_kmc_cap, y_norm_pca_probs_dt_cap, y_norm_mlp_pca_probs_cap],\n",
    "    \n",
    "}\n",
    "\n",
    "# Create the table\n",
    "table = pd.DataFrame(data)\n",
    "\n",
    "\n",
    "\n",
    "# Display the table\n",
    "print(table)\n"
   ]
  },
  {
   "cell_type": "code",
   "execution_count": 608,
   "id": "8874a06e-d570-43a1-b57f-ef47548a4104",
   "metadata": {},
   "outputs": [
    {
     "name": "stdout",
     "output_type": "stream",
     "text": [
      "       F1        E1        E2        E3        E4        E5        E6  \\\n",
      "0  voting        --  0.831737        --  0.000000        --  0.831737   \n",
      "1     KMD       0.0  0.828013  0.828013  0.828013  0.828013  0.828013   \n",
      "2   SVM-1    0.8605  0.885060  0.827885  0.928268    0.8605  0.885060   \n",
      "3     KMC   0.22862  0.159396       0.0  0.630339   0.22862  0.877199   \n",
      "4      DT  0.857346  0.868688   0.85216  0.814731  0.857722  0.868050   \n",
      "5     MLP  0.857456  0.867815  0.850871  0.808375  0.857974  0.867708   \n",
      "\n",
      "         E7        E8  \n",
      "0        --  0.831737  \n",
      "1       0.0  0.860500  \n",
      "2  0.828013  0.860500  \n",
      "3   0.22862  0.228620  \n",
      "4  0.830731  0.228346  \n",
      "5  0.239767  0.830756  \n"
     ]
    }
   ],
   "source": [
    "# F1\n",
    "def format_number(num):\n",
    "    return '{:.4f}'.format(num)\n",
    "\n",
    "# Data for the table\n",
    "data = {\n",
    "     'F1':['voting','KMD','SVM-1','KMC','DT','MLP'],\n",
    "    'E1': ['--', y_raw_kmd_f1 , y_raw_svm1_f1, y_raw_kmc_f1, y_raw_dt_f1, y_raw_mlp_f1],\n",
    "    'E2': [y_raw_probs_votingF1, y_raw_probs_kmd_f1, y_raw_probs_SVM1_f1, y_raw_probs_kmc_f1, y_raw_probs_dt_f1, y_raw_probs_mlp_f1],\n",
    "    'E3': ['--', y_raw_pca_kmd_f1, y_raw_pca_SVM1_f1, y_raw_pca_kmc_f1, y_raw_pca_dt_f1, y_raw_pca_mlp_f1],\n",
    "    'E4': [y_raw_pca_probs_votingF1, y__raw_pca_probs_kmd_f1, y_raw_pca_probsSVM1_f1, y_raw_pca_probs_kmc_f1, y_raw_pca_probs_dt_f1, y_raw_pca_probs_probs_mlp_f1],\n",
    "    'E5': ['--', y_norm_kmd_f1, y_norm_svm1_f1, y_norm_kmc_f1, y_norm_dt_f1, y_norm_mlp_f1],\n",
    "    'E6': [y_norm_probs_votingF1, y_norm_probs_kmd_f1, y_norm_probsSVM1_f1, y_norm_probs_kmc_f1, y_norm_probs_dt_f1, y_norm_probs_mlp_f1],\n",
    "    'E7': ['--', y_norm_pca_kmd_f1, y_norm_pca_svm1_f1, y_norm_pca_kmc_f1, y_norm_pca_dt_f1, y_norm_pca_mlp_f1],\n",
    "    'E8': [y_norm_pca_probs_voting_f1,y_norm_pca_probs_kmd_f1, y_norm_pca_probs_svm1_f1, y_norm_pca_probs_kmc_f1, y_norm_pca_probs_dt_f1, y_norm_pca_probs_mlp_f1],\n",
    "    \n",
    "}\n",
    "\n",
    "# Create the table\n",
    "table = pd.DataFrame(data)\n",
    "\n",
    "\n",
    "\n",
    "# Display the table\n",
    "print(table)\n"
   ]
  },
  {
   "cell_type": "code",
   "execution_count": 636,
   "id": "3879f693-981c-489c-ab9a-7f7b70be8cdc",
   "metadata": {},
   "outputs": [
    {
     "name": "stdout",
     "output_type": "stream",
     "text": [
      "  Sensitivity        E1        E2        E3        E4        E5        E6  \\\n",
      "0      voting        --  0.999425        --  0.000000        --  0.999425   \n",
      "1         KMD       0.0  1.000000       1.0  1.000000       1.0  1.000000   \n",
      "2       SVM-1   0.83015  0.995972  0.999655  0.956041   0.83015  0.995972   \n",
      "3         KMC  0.169965  0.110587       0.0  0.467894  0.169965  0.889413   \n",
      "4          DT  0.901151  0.916571  0.891139  0.787917  0.901151  0.914499   \n",
      "5         MLP  0.901266  0.915650  0.898849  0.788608  0.899194  0.914039   \n",
      "\n",
      "         E7        E8  \n",
      "0        --  0.000000  \n",
      "1       0.0  0.830150  \n",
      "2       1.0  0.830150  \n",
      "3  0.169965  0.169965  \n",
      "4  0.997929  0.169735  \n",
      "5  0.180322  0.992175  \n"
     ]
    }
   ],
   "source": [
    "# F1\n",
    "def format_number(num):\n",
    "    return '{:.4f}'.format(num)\n",
    "\n",
    "# Data for the table\n",
    "data = {\n",
    "     'Sensitivity':['voting','KMD','SVM-1','KMC','DT','MLP'],\n",
    "    'E1': ['--', y_raw_kmd_sensitivity , y_raw_svm1_sensitivity, y_raw_kmc_sensitivity, y_raw_dt_sensitivity, y_raw_mlp_sensitivity],\n",
    "    'E2': [y_raw_probs_votingsensivity, y_raw_probs_kmd_sensitivity, y_raw_probs_SVM1_sensitivity, y_raw_probs_kmc_sensitivity, y_raw_probs_dt_sensitivity, y_raw_probs_mlp_sensitivity],\n",
    "    'E3': ['--', y_raw_pca_kmd_sensitivity, y_raw_pca_SVM1_sensitivity, y_raw_pca_kmc_sensitivity, y_raw_pca_dt_sensitivity, y_raw_pca_mlp_sensitivity],\n",
    "    'E4': [y_raw_pca_probs_votingsensitivity, y__raw_pca_probs_kmd_sensitivity, y_raw_pca_probsSVM1_sensitivity, y_raw_pca_probs_kmc_sensitivity, y_raw_pca_probs_dt_sensitivity, y_raw_pca_probs_mlp_sensitivity],\n",
    "    'E5': ['--', y_norm_kmd_sensitivity, y_norm_svm1_sensitivity, y_norm_kmc_sensitivity, y_norm_dt_sensitivity, y_norm_mlp_sensitivity],\n",
    "    'E6': [y_norm_probs_votingsensitivity, y_norm_probs_kmd_sensitivity, y_norm_probsSVM1_sensitivity, y_norm_probs_kmc_sensitivity, y_norm_probs_dt_sensitivity, y_norm_mlp_probs_sensitivity],\n",
    "    'E7': ['--', y_norm_pca_kmd_sensitivity, y_norm_pca_svm1_sensitivity, y_norm_pca_kmc_sensitivity, y_norm_pca_dt_sensitivity, y_norm_mlp_pca_sensitivity],\n",
    "    'E8': [y_norm_pca_probs_voting_sensitivity,y_norm_pca_probs_kmd_sensitivity, y_norm_pca_probs_svm1_sensitivity, y_norm_pca_probs_kmc_sensitivity, y_norm_pca_probs_dt_sensitivity, y_norm_mlp_pca_probs_sensitivity],\n",
    "    \n",
    "}\n",
    "\n",
    "# Create the table\n",
    "table = pd.DataFrame(data)\n",
    "\n",
    "\n",
    "\n",
    "# Display the table\n",
    "print(table)\n"
   ]
  },
  {
   "cell_type": "code",
   "execution_count": null,
   "id": "f2c1c349-345d-45c6-8920-3eb51a6915f8",
   "metadata": {},
   "outputs": [],
   "source": []
  },
  {
   "cell_type": "code",
   "execution_count": null,
   "id": "a29415d2-6d22-498b-8ea9-a38950f56bbf",
   "metadata": {},
   "outputs": [],
   "source": []
  },
  {
   "cell_type": "code",
   "execution_count": null,
   "id": "b8a8da5d-0b66-41db-85aa-4b74c36f65d5",
   "metadata": {},
   "outputs": [],
   "source": []
  },
  {
   "cell_type": "code",
   "execution_count": null,
   "id": "16b02c27-ceff-49cf-b1dd-ecf7ffe2a750",
   "metadata": {},
   "outputs": [],
   "source": []
  },
  {
   "cell_type": "code",
   "execution_count": null,
   "id": "db6563bf-700d-4e7d-bb86-2be598e9a0ce",
   "metadata": {},
   "outputs": [],
   "source": []
  },
  {
   "cell_type": "code",
   "execution_count": null,
   "id": "ce08ee9f-533d-4656-9735-f02020fe9e9c",
   "metadata": {},
   "outputs": [],
   "source": []
  },
  {
   "cell_type": "code",
   "execution_count": null,
   "id": "ed7537ad-f78d-49a5-b599-00568ad05869",
   "metadata": {},
   "outputs": [],
   "source": []
  },
  {
   "cell_type": "code",
   "execution_count": null,
   "id": "35e88505-a3a3-483b-9fb9-60ab8ce78e49",
   "metadata": {},
   "outputs": [],
   "source": []
  }
 ],
 "metadata": {
  "kernelspec": {
   "display_name": "Python 3 (ipykernel)",
   "language": "python",
   "name": "python3"
  },
  "language_info": {
   "codemirror_mode": {
    "name": "ipython",
    "version": 3
   },
   "file_extension": ".py",
   "mimetype": "text/x-python",
   "name": "python",
   "nbconvert_exporter": "python",
   "pygments_lexer": "ipython3",
   "version": "3.11.4"
  }
 },
 "nbformat": 4,
 "nbformat_minor": 5
}
