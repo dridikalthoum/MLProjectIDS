{
 "cells": [
  {
   "cell_type": "markdown",
   "id": "38f2448b",
   "metadata": {},
   "source": [
    "# IDS ML Project\n"
   ]
  },
  {
   "cell_type": "code",
   "execution_count": 1,
   "id": "ecad97e2",
   "metadata": {},
   "outputs": [],
   "source": [
    "import pandas as pd\n",
    "import numpy as np\n",
    "from pandas import read_csv"
   ]
  },
  {
   "cell_type": "code",
   "execution_count": 4,
   "id": "4f64334d",
   "metadata": {},
   "outputs": [
    {
     "name": "stdout",
     "output_type": "stream",
     "text": [
      "        0  tcp  ftp_data   SF   491   0.1  0.2  0.3  0.4  0.5  ...  0.17  \\\n",
      "0       0  udp     other   SF   146     0    0    0    0    0  ...  0.00   \n",
      "1       0  tcp   private   S0     0     0    0    0    0    0  ...  0.10   \n",
      "2       0  tcp      http   SF   232  8153    0    0    0    0  ...  1.00   \n",
      "3       0  tcp      http   SF   199   420    0    0    0    0  ...  1.00   \n",
      "4       0  tcp   private  REJ     0     0    0    0    0    0  ...  0.07   \n",
      "...    ..  ...       ...  ...   ...   ...  ...  ...  ...  ...  ...   ...   \n",
      "125967  0  tcp   private   S0     0     0    0    0    0    0  ...  0.10   \n",
      "125968  8  udp   private   SF   105   145    0    0    0    0  ...  0.96   \n",
      "125969  0  tcp      smtp   SF  2231   384    0    0    0    0  ...  0.12   \n",
      "125970  0  tcp    klogin   S0     0     0    0    0    0    0  ...  0.03   \n",
      "125971  0  tcp  ftp_data   SF   151     0    0    0    0    0  ...  0.30   \n",
      "\n",
      "        0.03  0.17.1  0.00.6  0.00.7  0.00.8  0.05  0.00.9   normal  20  \n",
      "0       0.60    0.88    0.00    0.00    0.00  0.00    0.00   normal  15  \n",
      "1       0.05    0.00    0.00    1.00    1.00  0.00    0.00  neptune  19  \n",
      "2       0.00    0.03    0.04    0.03    0.01  0.00    0.01   normal  21  \n",
      "3       0.00    0.00    0.00    0.00    0.00  0.00    0.00   normal  21  \n",
      "4       0.07    0.00    0.00    0.00    0.00  1.00    1.00  neptune  21  \n",
      "...      ...     ...     ...     ...     ...   ...     ...      ...  ..  \n",
      "125967  0.06    0.00    0.00    1.00    1.00  0.00    0.00  neptune  20  \n",
      "125968  0.01    0.01    0.00    0.00    0.00  0.00    0.00   normal  21  \n",
      "125969  0.06    0.00    0.00    0.72    0.00  0.01    0.00   normal  18  \n",
      "125970  0.05    0.00    0.00    1.00    1.00  0.00    0.00  neptune  20  \n",
      "125971  0.03    0.30    0.00    0.00    0.00  0.00    0.00   normal  21  \n",
      "\n",
      "[125972 rows x 43 columns]\n"
     ]
    }
   ],
   "source": [
    "# Importation data\n",
    "data = pd.read_csv('C:\\\\Users\\\\admin\\\\Desktop\\\\Studies\\\\4ème\\\\MachineLeaning\\\\MLProject\\\\KDDTrain+.txt')\n",
    "print(data)"
   ]
  },
  {
   "cell_type": "markdown",
   "id": "77761492",
   "metadata": {},
   "source": [
    "# Informations sur le dataset"
   ]
  },
  {
   "cell_type": "code",
   "execution_count": 14,
   "id": "8f3d7677",
   "metadata": {},
   "outputs": [
    {
     "name": "stdout",
     "output_type": "stream",
     "text": [
      "Taille initial du dataset: (22543, 43)\n"
     ]
    }
   ],
   "source": [
    "# Nb Lignes et colonnes du data\n",
    "print(\"Taille initial du dataset:\",data.shape)"
   ]
  },
  {
   "cell_type": "code",
   "execution_count": 15,
   "id": "8af99603",
   "metadata": {},
   "outputs": [
    {
     "name": "stdout",
     "output_type": "stream",
     "text": [
      "   0   tcp   private   REJ    0.1    0.2  0.3  0.4  0.5  0.6  ...  0.04.1  \\\n",
      "0  0   tcp   private   REJ      0      0    0    0    0    0  ...    0.00   \n",
      "1  2   tcp  ftp_data    SF  12983      0    0    0    0    0  ...    0.61   \n",
      "2  0  icmp     eco_i    SF     20      0    0    0    0    0  ...    1.00   \n",
      "3  1   tcp    telnet  RSTO      0     15    0    0    0    0  ...    0.31   \n",
      "4  0   tcp      http    SF    267  14515    0    0    0    0  ...    1.00   \n",
      "\n",
      "   0.06.1  0.00.3  0.00.4  0.00.5  0.00.6  1.00.2  1.00.3  neptune  21  \n",
      "0    0.06    0.00    0.00    0.00     0.0    1.00    1.00  neptune  21  \n",
      "1    0.04    0.61    0.02    0.00     0.0    0.00    0.00   normal  21  \n",
      "2    0.00    1.00    0.28    0.00     0.0    0.00    0.00    saint  15  \n",
      "3    0.17    0.03    0.02    0.00     0.0    0.83    0.71    mscan  11  \n",
      "4    0.00    0.01    0.03    0.01     0.0    0.00    0.00   normal  21  \n",
      "\n",
      "[5 rows x 43 columns]\n"
     ]
    }
   ],
   "source": [
    "# Informations sur le DataFrame\n",
    "print(data.info())"
   ]
  },
  {
   "cell_type": "code",
   "execution_count": 17,
   "id": "8b46e814",
   "metadata": {},
   "outputs": [
    {
     "name": "stdout",
     "output_type": "stream",
     "text": [
      "   0   tcp   private   REJ    0.1    0.2  0.3  0.4  0.5  0.6  ...  0.04.1  \\\n",
      "0  0   tcp   private   REJ      0      0    0    0    0    0  ...    0.00   \n",
      "1  2   tcp  ftp_data    SF  12983      0    0    0    0    0  ...    0.61   \n",
      "2  0  icmp     eco_i    SF     20      0    0    0    0    0  ...    1.00   \n",
      "3  1   tcp    telnet  RSTO      0     15    0    0    0    0  ...    0.31   \n",
      "4  0   tcp      http    SF    267  14515    0    0    0    0  ...    1.00   \n",
      "\n",
      "   0.06.1  0.00.3  0.00.4  0.00.5  0.00.6  1.00.2  1.00.3  neptune  21  \n",
      "0    0.06    0.00    0.00    0.00     0.0    1.00    1.00  neptune  21  \n",
      "1    0.04    0.61    0.02    0.00     0.0    0.00    0.00   normal  21  \n",
      "2    0.00    1.00    0.28    0.00     0.0    0.00    0.00    saint  15  \n",
      "3    0.17    0.03    0.02    0.00     0.0    0.83    0.71    mscan  11  \n",
      "4    0.00    0.01    0.03    0.01     0.0    0.00    0.00   normal  21  \n",
      "\n",
      "[5 rows x 43 columns]\n"
     ]
    }
   ],
   "source": [
    "# Afficher les premières 5 lignes du DataFrame\n",
    "print(data.head())"
   ]
  },
  {
   "cell_type": "code",
   "execution_count": 18,
   "id": "b3bc7f9d",
   "metadata": {},
   "outputs": [
    {
     "name": "stdout",
     "output_type": "stream",
     "text": [
      "                  0           0.1           0.2           0.3           0.4  \\\n",
      "count  22543.000000  2.254300e+04  2.254300e+04  22543.000000  22543.000000   \n",
      "mean     218.868784  1.039591e+04  2.056110e+03      0.000311      0.008428   \n",
      "std     1407.207069  4.727969e+05  2.121976e+04      0.017619      0.142602   \n",
      "min        0.000000  0.000000e+00  0.000000e+00      0.000000      0.000000   \n",
      "25%        0.000000  0.000000e+00  0.000000e+00      0.000000      0.000000   \n",
      "50%        0.000000  5.400000e+01  4.600000e+01      0.000000      0.000000   \n",
      "75%        0.000000  2.870000e+02  6.010000e+02      0.000000      0.000000   \n",
      "max    57715.000000  6.282565e+07  1.345927e+06      1.000000      3.000000   \n",
      "\n",
      "                0.5           0.6           0.7           0.8           0.9  \\\n",
      "count  22543.000000  22543.000000  22543.000000  22543.000000  22543.000000   \n",
      "mean       0.000710      0.105399      0.021648      0.442222      0.119904   \n",
      "std        0.036474      0.928448      0.150331      0.496661      7.269758   \n",
      "min        0.000000      0.000000      0.000000      0.000000      0.000000   \n",
      "25%        0.000000      0.000000      0.000000      0.000000      0.000000   \n",
      "50%        0.000000      0.000000      0.000000      0.000000      0.000000   \n",
      "75%        0.000000      0.000000      0.000000      1.000000      0.000000   \n",
      "max        3.000000    101.000000      4.000000      1.000000    796.000000   \n",
      "\n",
      "       ...          10.1        0.04.1        0.06.1        0.00.3  \\\n",
      "count  ...  22543.000000  22543.000000  22543.000000  22543.000000   \n",
      "mean   ...    140.756332      0.608747      0.090541      0.132267   \n",
      "std    ...    111.783059      0.435681      0.220722      0.306274   \n",
      "min    ...      0.000000      0.000000      0.000000      0.000000   \n",
      "25%    ...     15.000000      0.070000      0.000000      0.000000   \n",
      "50%    ...    168.000000      0.920000      0.010000      0.000000   \n",
      "75%    ...    255.000000      1.000000      0.060000      0.030000   \n",
      "max    ...    255.000000      1.000000      1.000000      1.000000   \n",
      "\n",
      "             0.00.4        0.00.5        0.00.6        1.00.2        1.00.3  \\\n",
      "count  22543.000000  22543.000000  22543.000000  22543.000000  22543.000000   \n",
      "mean       0.019639      0.097818      0.099430      0.233351      0.226649   \n",
      "std        0.085396      0.273144      0.281872      0.387204      0.400851   \n",
      "min        0.000000      0.000000      0.000000      0.000000      0.000000   \n",
      "25%        0.000000      0.000000      0.000000      0.000000      0.000000   \n",
      "50%        0.000000      0.000000      0.000000      0.000000      0.000000   \n",
      "75%        0.010000      0.000000      0.000000      0.360000      0.170000   \n",
      "max        1.000000      1.000000      1.000000      1.000000      1.000000   \n",
      "\n",
      "                 21  \n",
      "count  22543.000000  \n",
      "mean      18.017833  \n",
      "std        4.270409  \n",
      "min        0.000000  \n",
      "25%       17.000000  \n",
      "50%       20.000000  \n",
      "75%       21.000000  \n",
      "max       21.000000  \n",
      "\n",
      "[8 rows x 39 columns]\n"
     ]
    }
   ],
   "source": [
    "# Statistiques descriptives sur le data\n",
    "print(data.describe())"
   ]
  },
  {
   "cell_type": "code",
   "execution_count": 22,
   "id": "a9bc4317",
   "metadata": {},
   "outputs": [
    {
     "name": "stdout",
     "output_type": "stream",
     "text": [
      "Nombre total de lignes dupliquées : 0\n"
     ]
    }
   ],
   "source": [
    "# Vérifier les lignes dupliquées dans le DataFrame\n",
    "duplicates = data[data.duplicated()]\n",
    "\n",
    "# Afficher le nombre total de lignes dupliquées\n",
    "print(f\"Nombre total de lignes dupliquées : {len(duplicates)}\")\n"
   ]
  },
  {
   "cell_type": "code",
   "execution_count": 20,
   "id": "6429ce14",
   "metadata": {},
   "outputs": [
    {
     "name": "stdout",
     "output_type": "stream",
     "text": [
      "0           624\n",
      "tcp           3\n",
      "private      64\n",
      "REJ          11\n",
      "0.1        1149\n",
      "0.2        3650\n",
      "0.3           2\n",
      "0.4           3\n",
      "0.5           4\n",
      "0.6          16\n",
      "0.7           5\n",
      "0.8           2\n",
      "0.9          23\n",
      "0.10          2\n",
      "0.11          3\n",
      "0.12         20\n",
      "0.13          9\n",
      "0.14          4\n",
      "0.15          5\n",
      "0.16          1\n",
      "0.17          2\n",
      "0.18          2\n",
      "229         495\n",
      "10          457\n",
      "0.00         88\n",
      "0.00.1       82\n",
      "1.00         90\n",
      "1.00.1       93\n",
      "0.04         75\n",
      "0.06         99\n",
      "0.00.2       84\n",
      "255         256\n",
      "10.1        256\n",
      "0.04.1      101\n",
      "0.06.1      101\n",
      "0.00.3      101\n",
      "0.00.4       58\n",
      "0.00.5       99\n",
      "0.00.6      101\n",
      "1.00.2      101\n",
      "1.00.3      100\n",
      "neptune      38\n",
      "21           22\n",
      "dtype: int64\n"
     ]
    },
    {
     "ename": "AttributeError",
     "evalue": "'DataFrame' object has no attribute 'duplicate'",
     "output_type": "error",
     "traceback": [
      "\u001b[1;31m---------------------------------------------------------------------------\u001b[0m",
      "\u001b[1;31mAttributeError\u001b[0m                            Traceback (most recent call last)",
      "\u001b[1;32m~\\AppData\\Local\\Temp\\ipykernel_6944\\809329148.py\u001b[0m in \u001b[0;36m<module>\u001b[1;34m\u001b[0m\n\u001b[0;32m      1\u001b[0m \u001b[1;31m# Nombre de valeurs uniques dans chaque colonne\u001b[0m\u001b[1;33m\u001b[0m\u001b[1;33m\u001b[0m\u001b[0m\n\u001b[0;32m      2\u001b[0m \u001b[0mprint\u001b[0m\u001b[1;33m(\u001b[0m\u001b[0mdata\u001b[0m\u001b[1;33m.\u001b[0m\u001b[0mnunique\u001b[0m\u001b[1;33m(\u001b[0m\u001b[1;33m)\u001b[0m\u001b[1;33m)\u001b[0m\u001b[1;33m\u001b[0m\u001b[1;33m\u001b[0m\u001b[0m\n\u001b[1;32m----> 3\u001b[1;33m \u001b[0mprint\u001b[0m \u001b[1;33m(\u001b[0m\u001b[0mdata\u001b[0m\u001b[1;33m.\u001b[0m\u001b[0mduplicate\u001b[0m\u001b[1;33m)\u001b[0m\u001b[1;33m\u001b[0m\u001b[1;33m\u001b[0m\u001b[0m\n\u001b[0m",
      "\u001b[1;32mD:\\anaconda\\lib\\site-packages\\pandas\\core\\generic.py\u001b[0m in \u001b[0;36m__getattr__\u001b[1;34m(self, name)\u001b[0m\n\u001b[0;32m   5573\u001b[0m         ):\n\u001b[0;32m   5574\u001b[0m             \u001b[1;32mreturn\u001b[0m \u001b[0mself\u001b[0m\u001b[1;33m[\u001b[0m\u001b[0mname\u001b[0m\u001b[1;33m]\u001b[0m\u001b[1;33m\u001b[0m\u001b[1;33m\u001b[0m\u001b[0m\n\u001b[1;32m-> 5575\u001b[1;33m         \u001b[1;32mreturn\u001b[0m \u001b[0mobject\u001b[0m\u001b[1;33m.\u001b[0m\u001b[0m__getattribute__\u001b[0m\u001b[1;33m(\u001b[0m\u001b[0mself\u001b[0m\u001b[1;33m,\u001b[0m \u001b[0mname\u001b[0m\u001b[1;33m)\u001b[0m\u001b[1;33m\u001b[0m\u001b[1;33m\u001b[0m\u001b[0m\n\u001b[0m\u001b[0;32m   5576\u001b[0m \u001b[1;33m\u001b[0m\u001b[0m\n\u001b[0;32m   5577\u001b[0m     \u001b[1;32mdef\u001b[0m \u001b[0m__setattr__\u001b[0m\u001b[1;33m(\u001b[0m\u001b[0mself\u001b[0m\u001b[1;33m,\u001b[0m \u001b[0mname\u001b[0m\u001b[1;33m:\u001b[0m \u001b[0mstr\u001b[0m\u001b[1;33m,\u001b[0m \u001b[0mvalue\u001b[0m\u001b[1;33m)\u001b[0m \u001b[1;33m->\u001b[0m \u001b[1;32mNone\u001b[0m\u001b[1;33m:\u001b[0m\u001b[1;33m\u001b[0m\u001b[1;33m\u001b[0m\u001b[0m\n",
      "\u001b[1;31mAttributeError\u001b[0m: 'DataFrame' object has no attribute 'duplicate'"
     ]
    }
   ],
   "source": [
    "# Nombre de valeurs uniques dans chaque colonne\n",
    "print(data.nunique())\n"
   ]
  },
  {
   "cell_type": "code",
   "execution_count": 31,
   "id": "fdcc9310",
   "metadata": {},
   "outputs": [
    {
     "name": "stdout",
     "output_type": "stream",
     "text": [
      "Nombre total de valeurs manquantes : 22543\n",
      "Lignes avec des valeurs manquantes :\n",
      "Empty DataFrame\n",
      "Columns: [0, tcp, private, REJ, 0.1, 0.2, 0.3, 0.4, 0.5, 0.6, 0.7, 0.8, 0.9, 0.10, 0.11, 0.12, 0.13, 0.14, 0.15, 0.16, 0.17, 0.18, 229, 10, 0.00, 0.00.1, 1.00, 1.00.1, 0.04, 0.06, 0.00.2, 255, 10.1, 0.04.1, 0.06.1, 0.00.3, 0.00.4, 0.00.5, 0.00.6, 1.00.2, 1.00.3, neptune, 21]\n",
      "Index: []\n",
      "\n",
      "[0 rows x 43 columns]\n",
      "Colonnes avec des valeurs manquantes :\n",
      "Index([], dtype='object')\n"
     ]
    }
   ],
   "source": [
    "# Vérifier les valeurs manquantes\n",
    "null_values=data.isnull()\n",
    "# Afficher le nombre total de valeurs manquantes\n",
    "print(f\"Nombre total de valeurs manquantes : {len(null_values)}\")\n",
    "\n",
    "# Vérifier si des valeurs manquantes existent dans chaque ligne\n",
    "rows_with_missing_values = null_values.any(axis=1)\n",
    "\n",
    "# Afficher les lignes avec des valeurs manquantes\n",
    "rows_with_missing_values = data[rows_with_missing_values]\n",
    "print(\"Lignes avec des valeurs manquantes :\")\n",
    "print(rows_with_missing_values)\n",
    "\n",
    "# Vérifier si des valeurs manquantes existent dans chaque colonne\n",
    "columns_with_missing_values = null_values.any()\n",
    "\n",
    "# Afficher les colonnes avec des valeurs manquantes\n",
    "columns_with_missing_values = data.columns[columns_with_missing_values]\n",
    "print(\"Colonnes avec des valeurs manquantes :\")\n",
    "print(columns_with_missing_values)\n"
   ]
  }
 ],
 "metadata": {
  "kernelspec": {
   "display_name": "Python 3 (ipykernel)",
   "language": "python",
   "name": "python3"
  },
  "language_info": {
   "codemirror_mode": {
    "name": "ipython",
    "version": 3
   },
   "file_extension": ".py",
   "mimetype": "text/x-python",
   "name": "python",
   "nbconvert_exporter": "python",
   "pygments_lexer": "ipython3",
   "version": "3.9.13"
  }
 },
 "nbformat": 4,
 "nbformat_minor": 5
}
