{
 "cells": [
  {
   "cell_type": "code",
   "execution_count": 1,
   "id": "23735f85-01df-4da9-90df-f92a88f71ecc",
   "metadata": {},
   "outputs": [],
   "source": [
    "import pandas as pd\n",
    "import seaborn as sns\n",
    "import matplotlib.pyplot as plt\n",
    "from sklearn.preprocessing import LabelEncoder\n",
    "import pandas as pd\n",
    "import numpy as np\n",
    "from sklearn.feature_selection import f_classif\n",
    "from sklearn.feature_selection import SelectKBest\n",
    "from sklearn.preprocessing import StandardScaler\n",
    "from sklearn.model_selection import GridSearchCV\n",
    "from sklearn.neighbors import KNeighborsClassifier\n",
    "\n"
   ]
  },
  {
   "cell_type": "code",
   "execution_count": 2,
   "id": "955c0afc-31d4-4981-a38b-6ba0efd03512",
   "metadata": {},
   "outputs": [],
   "source": [
    "train = pd.read_csv('KDDTrain+.txt')\n",
    "test = pd.read_csv('KDDTest+.txt')"
   ]
  },
  {
   "cell_type": "code",
   "execution_count": 3,
   "id": "446307f0-cdc0-484f-a253-8148f7905c60",
   "metadata": {},
   "outputs": [],
   "source": [
    "column_names = (['duration','protocol_type','service','flag','src_bytes','dst_bytes','land','wrong_fragment','urgent','hot','num_failed_logins','logged_in','num_compromised','root_shell','su_attempted'\n",
    ",'num_root','num_file_creations','num_shells','num_access_files','num_outbound_cmds','is_host_login','is_guest_login','count','srv_count','serror_rate','srv_serror_rate','rerror_rate','srv_rerror_rate','same_srv_rate','diff_srv_rate'\n",
    ",'srv_diff_host_rate','dst_host_count','dst_host_srv_count','dst_host_same_srv_rate','dst_host_diff_srv_rate','dst_host_same_src_port_rate','dst_host_srv_diff_host_rate','dst_host_serror_rate',\n",
    "'dst_host_srv_serror_rate','dst_host_rerror_rate','dst_host_srv_rerror_rate','attack','level'])\n",
    "train.columns=column_names\n",
    "test.columns=column_names"
   ]
  },
  {
   "cell_type": "code",
   "execution_count": 4,
   "id": "e336397f-5709-4885-9006-4073875b7723",
   "metadata": {},
   "outputs": [],
   "source": [
    "data = pd.concat([train, test], axis=0)\n"
   ]
  },
  {
   "cell_type": "code",
   "execution_count": 5,
   "id": "d25371ec-83f2-4f42-869e-6e70cfaa8a39",
   "metadata": {},
   "outputs": [
    {
     "data": {
      "text/html": [
       "<div>\n",
       "<style scoped>\n",
       "    .dataframe tbody tr th:only-of-type {\n",
       "        vertical-align: middle;\n",
       "    }\n",
       "\n",
       "    .dataframe tbody tr th {\n",
       "        vertical-align: top;\n",
       "    }\n",
       "\n",
       "    .dataframe thead th {\n",
       "        text-align: right;\n",
       "    }\n",
       "</style>\n",
       "<table border=\"1\" class=\"dataframe\">\n",
       "  <thead>\n",
       "    <tr style=\"text-align: right;\">\n",
       "      <th></th>\n",
       "      <th>duration</th>\n",
       "      <th>protocol_type</th>\n",
       "      <th>service</th>\n",
       "      <th>flag</th>\n",
       "      <th>src_bytes</th>\n",
       "      <th>dst_bytes</th>\n",
       "      <th>land</th>\n",
       "      <th>wrong_fragment</th>\n",
       "      <th>urgent</th>\n",
       "      <th>hot</th>\n",
       "      <th>...</th>\n",
       "      <th>dst_host_same_srv_rate</th>\n",
       "      <th>dst_host_diff_srv_rate</th>\n",
       "      <th>dst_host_same_src_port_rate</th>\n",
       "      <th>dst_host_srv_diff_host_rate</th>\n",
       "      <th>dst_host_serror_rate</th>\n",
       "      <th>dst_host_srv_serror_rate</th>\n",
       "      <th>dst_host_rerror_rate</th>\n",
       "      <th>dst_host_srv_rerror_rate</th>\n",
       "      <th>attack</th>\n",
       "      <th>level</th>\n",
       "    </tr>\n",
       "  </thead>\n",
       "  <tbody>\n",
       "    <tr>\n",
       "      <th>0</th>\n",
       "      <td>0</td>\n",
       "      <td>udp</td>\n",
       "      <td>other</td>\n",
       "      <td>SF</td>\n",
       "      <td>146</td>\n",
       "      <td>0</td>\n",
       "      <td>0</td>\n",
       "      <td>0</td>\n",
       "      <td>0</td>\n",
       "      <td>0</td>\n",
       "      <td>...</td>\n",
       "      <td>0.00</td>\n",
       "      <td>0.60</td>\n",
       "      <td>0.88</td>\n",
       "      <td>0.00</td>\n",
       "      <td>0.00</td>\n",
       "      <td>0.00</td>\n",
       "      <td>0.0</td>\n",
       "      <td>0.00</td>\n",
       "      <td>normal</td>\n",
       "      <td>15</td>\n",
       "    </tr>\n",
       "    <tr>\n",
       "      <th>1</th>\n",
       "      <td>0</td>\n",
       "      <td>tcp</td>\n",
       "      <td>private</td>\n",
       "      <td>S0</td>\n",
       "      <td>0</td>\n",
       "      <td>0</td>\n",
       "      <td>0</td>\n",
       "      <td>0</td>\n",
       "      <td>0</td>\n",
       "      <td>0</td>\n",
       "      <td>...</td>\n",
       "      <td>0.10</td>\n",
       "      <td>0.05</td>\n",
       "      <td>0.00</td>\n",
       "      <td>0.00</td>\n",
       "      <td>1.00</td>\n",
       "      <td>1.00</td>\n",
       "      <td>0.0</td>\n",
       "      <td>0.00</td>\n",
       "      <td>neptune</td>\n",
       "      <td>19</td>\n",
       "    </tr>\n",
       "    <tr>\n",
       "      <th>2</th>\n",
       "      <td>0</td>\n",
       "      <td>tcp</td>\n",
       "      <td>http</td>\n",
       "      <td>SF</td>\n",
       "      <td>232</td>\n",
       "      <td>8153</td>\n",
       "      <td>0</td>\n",
       "      <td>0</td>\n",
       "      <td>0</td>\n",
       "      <td>0</td>\n",
       "      <td>...</td>\n",
       "      <td>1.00</td>\n",
       "      <td>0.00</td>\n",
       "      <td>0.03</td>\n",
       "      <td>0.04</td>\n",
       "      <td>0.03</td>\n",
       "      <td>0.01</td>\n",
       "      <td>0.0</td>\n",
       "      <td>0.01</td>\n",
       "      <td>normal</td>\n",
       "      <td>21</td>\n",
       "    </tr>\n",
       "    <tr>\n",
       "      <th>3</th>\n",
       "      <td>0</td>\n",
       "      <td>tcp</td>\n",
       "      <td>http</td>\n",
       "      <td>SF</td>\n",
       "      <td>199</td>\n",
       "      <td>420</td>\n",
       "      <td>0</td>\n",
       "      <td>0</td>\n",
       "      <td>0</td>\n",
       "      <td>0</td>\n",
       "      <td>...</td>\n",
       "      <td>1.00</td>\n",
       "      <td>0.00</td>\n",
       "      <td>0.00</td>\n",
       "      <td>0.00</td>\n",
       "      <td>0.00</td>\n",
       "      <td>0.00</td>\n",
       "      <td>0.0</td>\n",
       "      <td>0.00</td>\n",
       "      <td>normal</td>\n",
       "      <td>21</td>\n",
       "    </tr>\n",
       "    <tr>\n",
       "      <th>4</th>\n",
       "      <td>0</td>\n",
       "      <td>tcp</td>\n",
       "      <td>private</td>\n",
       "      <td>REJ</td>\n",
       "      <td>0</td>\n",
       "      <td>0</td>\n",
       "      <td>0</td>\n",
       "      <td>0</td>\n",
       "      <td>0</td>\n",
       "      <td>0</td>\n",
       "      <td>...</td>\n",
       "      <td>0.07</td>\n",
       "      <td>0.07</td>\n",
       "      <td>0.00</td>\n",
       "      <td>0.00</td>\n",
       "      <td>0.00</td>\n",
       "      <td>0.00</td>\n",
       "      <td>1.0</td>\n",
       "      <td>1.00</td>\n",
       "      <td>neptune</td>\n",
       "      <td>21</td>\n",
       "    </tr>\n",
       "  </tbody>\n",
       "</table>\n",
       "<p>5 rows × 43 columns</p>\n",
       "</div>"
      ],
      "text/plain": [
       "   duration protocol_type  service flag  src_bytes  dst_bytes  land  \\\n",
       "0         0           udp    other   SF        146          0     0   \n",
       "1         0           tcp  private   S0          0          0     0   \n",
       "2         0           tcp     http   SF        232       8153     0   \n",
       "3         0           tcp     http   SF        199        420     0   \n",
       "4         0           tcp  private  REJ          0          0     0   \n",
       "\n",
       "   wrong_fragment  urgent  hot  ...  dst_host_same_srv_rate  \\\n",
       "0               0       0    0  ...                    0.00   \n",
       "1               0       0    0  ...                    0.10   \n",
       "2               0       0    0  ...                    1.00   \n",
       "3               0       0    0  ...                    1.00   \n",
       "4               0       0    0  ...                    0.07   \n",
       "\n",
       "   dst_host_diff_srv_rate  dst_host_same_src_port_rate  \\\n",
       "0                    0.60                         0.88   \n",
       "1                    0.05                         0.00   \n",
       "2                    0.00                         0.03   \n",
       "3                    0.00                         0.00   \n",
       "4                    0.07                         0.00   \n",
       "\n",
       "   dst_host_srv_diff_host_rate  dst_host_serror_rate  \\\n",
       "0                         0.00                  0.00   \n",
       "1                         0.00                  1.00   \n",
       "2                         0.04                  0.03   \n",
       "3                         0.00                  0.00   \n",
       "4                         0.00                  0.00   \n",
       "\n",
       "   dst_host_srv_serror_rate  dst_host_rerror_rate  dst_host_srv_rerror_rate  \\\n",
       "0                      0.00                   0.0                      0.00   \n",
       "1                      1.00                   0.0                      0.00   \n",
       "2                      0.01                   0.0                      0.01   \n",
       "3                      0.00                   0.0                      0.00   \n",
       "4                      0.00                   1.0                      1.00   \n",
       "\n",
       "    attack  level  \n",
       "0   normal     15  \n",
       "1  neptune     19  \n",
       "2   normal     21  \n",
       "3   normal     21  \n",
       "4  neptune     21  \n",
       "\n",
       "[5 rows x 43 columns]"
      ]
     },
     "execution_count": 5,
     "metadata": {},
     "output_type": "execute_result"
    }
   ],
   "source": [
    "data.head()"
   ]
  },
  {
   "cell_type": "code",
   "execution_count": 6,
   "id": "fc7037a3-0a73-4939-85dd-91de4d998332",
   "metadata": {},
   "outputs": [],
   "source": [
    "data = data.drop('num_outbound_cmds', axis=1)\n",
    "data = data.drop('level', axis=1)"
   ]
  },
  {
   "cell_type": "code",
   "execution_count": 7,
   "id": "6bddb9f3-ac5f-4cc9-93db-a38ac6d23823",
   "metadata": {},
   "outputs": [
    {
     "name": "stdout",
     "output_type": "stream",
     "text": [
      "Nombre total de lignes dupliquées : 610\n"
     ]
    }
   ],
   "source": [
    "# Vérifier les lignes dupliquées dans le trainFrame\n",
    "duplicates = data[data.duplicated()]\n",
    "\n",
    "# Afficher le nombre total de lignes dupliquées\n",
    "print(f\"Nombre total de lignes dupliquées : {len(duplicates)}\")"
   ]
  },
  {
   "cell_type": "code",
   "execution_count": 8,
   "id": "b3ac1675-a03a-4350-bfd4-25c07d8039cd",
   "metadata": {},
   "outputs": [],
   "source": [
    "data.drop_duplicates(inplace=True)\n"
   ]
  },
  {
   "cell_type": "code",
   "execution_count": null,
   "id": "3b5d6c35-ad33-48bb-9d41-76ad55b9273a",
   "metadata": {},
   "outputs": [],
   "source": [
    "def detect_outliers_iqr(data, threshold=1.5):\n",
    "    outliers_info = {}\n",
    "\n",
    "    for column in data.columns:\n",
    "        if data[column].dtype in [int, float]:\n",
    "            q1 = data[column].quantile(0.25)\n",
    "            q3 = data[column].quantile(0.75)\n",
    "            iqr = q3 - q1\n",
    "\n",
    "            lower_bound = q1 - threshold * iqr\n",
    "            upper_bound = q3 + threshold * iqr\n",
    "\n",
    "            column_outliers = data[(data[column] < lower_bound) | (data[column] > upper_bound)]\n",
    "\n",
    "            if not column_outliers.empty:\n",
    "                num_outliers = len(column_outliers)\n",
    "                percent_outliers = (num_outliers / len(data)) * 100\n",
    "                outliers_info[column] = {\"outliers_df\": column_outliers, \"num_outliers\": num_outliers, \"percent_outliers\": percent_outliers}\n",
    "\n",
    "    return outliers_info\n",
    "\n"
   ]
  },
  {
   "cell_type": "code",
   "execution_count": null,
   "id": "878b3dcb-aa0a-4bb0-9131-dd267719f5db",
   "metadata": {},
   "outputs": [],
   "source": [
    "outliers_train = detect_outliers_iqr(train)\n",
    "\n",
    "# Afficher les colonnes avec des valeurs aberrantes, le nombre de valeurs aberrantes, et le pourcentage de valeurs aberrantes\n",
    "for column, info in outliers_train.items():\n",
    "    print(f\"Outliers in column '{column}': {info['num_outliers']} outliers ({info['percent_outliers']:.2f}%)\")\n",
    "    #print(info['outliers_df'].head())\n",
    "    #print(\"\\n\")"
   ]
  },
  {
   "cell_type": "code",
   "execution_count": null,
   "id": "ae4f696e-feb2-48e5-920c-3892f941b48b",
   "metadata": {},
   "outputs": [],
   "source": [
    "outliers_test = detect_outliers_iqr(test)\n",
    "\n",
    "# Afficher les colonnes avec des valeurs aberrantes, le nombre de valeurs aberrantes, et le pourcentage de valeurs aberrantes\n",
    "for column, info in outliers_test.items():\n",
    "    print(f\"Outliers in column '{column}': {info['num_outliers']} outliers ({info['percent_outliers']:.2f}%)\")\n",
    "    #print(info['outliers_df'].head())\n",
    "    #print(\"\\n\")"
   ]
  },
  {
   "cell_type": "code",
   "execution_count": null,
   "id": "f699c64b-d8d6-4a28-81a8-e15da4d35e00",
   "metadata": {},
   "outputs": [],
   "source": [
    "#Visualisation des outliers\n",
    "outlier_columns = ['duration', 'src_bytes', 'dst_bytes', 'land', 'wrong_fragment',\n",
    "                    'urgent', 'hot', 'num_failed_logins', 'num_compromised', 'root_shell',\n",
    "                    'su_attempted', 'num_root', 'num_file_creations', 'num_shells',\n",
    "                    'num_access_files', 'is_host_login', 'is_guest_login', 'count',\n",
    "                    'srv_count', 'rerror_rate', 'srv_rerror_rate', 'diff_srv_rate',\n",
    "                    'srv_diff_host_rate', 'dst_host_diff_srv_rate', 'dst_host_same_src_port_rate',\n",
    "                    'dst_host_srv_diff_host_rate', 'dst_host_rerror_rate', 'dst_host_srv_rerror_rate'\n",
    "                    ]\n",
    "\n",
    "# Create subplots for each column\n",
    "fig, axes = plt.subplots(nrows=len(outlier_columns), ncols=1, figsize=(10, 30), sharex=True)\n",
    "\n",
    "# Plot box plots for each column\n",
    "for i, col in enumerate(outlier_columns):\n",
    "    sns.boxplot(x=train[col], ax=axes[i])\n",
    "    axes[i].set_title(f'Box Plot for {col} with Outliers')\n",
    "    axes[i].set_xlabel(col)\n",
    "\n",
    "plt.tight_layout()\n",
    "plt.show()"
   ]
  },
  {
   "cell_type": "code",
   "execution_count": null,
   "id": "91ba81e1-14f2-487a-95c1-d36b194b5296",
   "metadata": {},
   "outputs": [],
   "source": [
    "#Remplacement des outliers\n",
    "def replace_outliers_with_quantile(data, threshold=0.99):\n",
    "    cleaned_data = data.copy()\n",
    "\n",
    "    # Storage des outliers before and after\n",
    "    outliers_count = {'Before': {}, 'After': {}}\n",
    "\n",
    "    for column in data.columns:\n",
    "        if np.issubdtype(data[column].dtype, np.number):\n",
    "            # Determiner la valeur du quantile\n",
    "            quantile_value = data[column].quantile(threshold)\n",
    "\n",
    "            # Compter les outliers avant replacement\n",
    "            outlier_indices_before = data[column] > quantile_value\n",
    "            outliers_count['Before'][column] = outlier_indices_before.sum()\n",
    "\n",
    "            if outlier_indices_before.any():\n",
    "                cleaned_data[column] = np.where(outlier_indices_before, quantile_value, cleaned_data[column])\n",
    "\n",
    "            # Compter les outliers après replacement\n",
    "            outlier_indices_after = cleaned_data[column] > quantile_value\n",
    "            outliers_count['After'][column] = outlier_indices_after.sum()\n",
    "\n",
    "    return cleaned_data, outliers_count\n",
    "\n",
    "before_replacement = train.copy()\n",
    "\n"
   ]
  },
  {
   "cell_type": "code",
   "execution_count": null,
   "id": "de683820-0821-449d-a57a-1216a9926243",
   "metadata": {},
   "outputs": [],
   "source": [
    "#Application de la fonction des outliers\n",
    "train_after, outliers_count = replace_outliers_with_quantile(train)\n",
    "#Affichage des outliers before and after\n",
    "print(\"Outliers Count:\")\n",
    "print(pd.DataFrame(outliers_count))"
   ]
  },
  {
   "cell_type": "code",
   "execution_count": 9,
   "id": "3d80f8a1-5a5d-403a-9ea4-591ae922f5ea",
   "metadata": {},
   "outputs": [],
   "source": [
    "def change_label(train):\n",
    "  train.attack.replace(['apache2','back','land','neptune','mailbomb','pod','processtable','smurf','teardrop','udpstorm','worm'],'Dos',inplace=True)\n",
    "  train.attack.replace(['ftp_write','guess_passwd','httptunnel','imap','multihop','named','phf','sendmail','snmpgetattack','snmpguess','spy','warezclient','warezmaster','xlock','xsnoop'],'R2L',inplace=True)\n",
    "  train.attack.replace(['ipsweep','mscan','nmap','portsweep','saint','satan'],'Probe',inplace=True)\n",
    "  train.attack.replace(['buffer_overflow','loadmodule','perl','ps','rootkit','sqlattack','xterm'],'U2R',inplace=True)\n",
    "\n",
    "\n",
    "change_label(data)"
   ]
  },
  {
   "cell_type": "code",
   "execution_count": 10,
   "id": "faced74d-0ab0-494d-9054-d221a279e42b",
   "metadata": {},
   "outputs": [
    {
     "data": {
      "text/plain": [
       "attack\n",
       "normal    76966\n",
       "Dos       52986\n",
       "Probe     13954\n",
       "R2L        3880\n",
       "U2R         119\n",
       "Name: count, dtype: int64"
      ]
     },
     "execution_count": 10,
     "metadata": {},
     "output_type": "execute_result"
    }
   ],
   "source": [
    "data['attack'].value_counts()"
   ]
  },
  {
   "cell_type": "code",
   "execution_count": 11,
   "id": "09df8f46-3617-47f4-b0d8-f266e3247d6f",
   "metadata": {},
   "outputs": [],
   "source": [
    "data = pd.get_dummies(data, columns=['protocol_type'], prefix='protocol')\n",
    "data = pd.get_dummies(data, columns=['flag'], prefix='flag')\n",
    "data = pd.get_dummies(data, columns=['service'], prefix='serv')\n",
    "bool_columns = data.select_dtypes(include='bool').columns\n",
    "data[bool_columns] = data[bool_columns].astype(int)"
   ]
  },
  {
   "cell_type": "code",
   "execution_count": 12,
   "id": "4db5f017-c964-41dd-afe8-0e8d8e743a03",
   "metadata": {},
   "outputs": [],
   "source": [
    "le = LabelEncoder()\n",
    "data['attack']=le.fit_transform(data['attack'])"
   ]
  },
  {
   "cell_type": "code",
   "execution_count": 13,
   "id": "a056431d-4f77-4df6-bc9f-a87df57bcf1f",
   "metadata": {},
   "outputs": [],
   "source": [
    "std_scaler = StandardScaler()\n",
    "colonnes_a_normaliser = [\n",
    "    'duration', 'src_bytes', 'dst_bytes', 'wrong_fragment', 'hot', 'num_compromised', 'num_root',\n",
    "    'num_file_creations', 'count', 'srv_count', 'dst_host_count', 'dst_host_srv_count'\n",
    "    ]\n",
    "data[colonnes_a_normaliser] = std_scaler.fit_transform(data[colonnes_a_normaliser])"
   ]
  },
  {
   "cell_type": "code",
   "execution_count": 14,
   "id": "8d0fdc75-efbb-4a92-a8e6-8a51d01b3f1b",
   "metadata": {},
   "outputs": [],
   "source": [
    "X =  data.drop(['attack'], axis=1)\n",
    "y = data['attack']\n",
    "#Diviser les données (80% Apprentissage et 20% Test)\n",
    "from sklearn.model_selection import train_test_split\n",
    "X_train, X_test, y_train, y_test = train_test_split(X, y, test_size = 0.2, random_state = 0)"
   ]
  },
  {
   "cell_type": "code",
   "execution_count": 15,
   "id": "aef3baf4-4563-4e3e-81e8-e6488f59795b",
   "metadata": {},
   "outputs": [
    {
     "data": {
      "image/png": "[encoded data removed]",
      "text/plain": [
       "<Figure size 640x480 with 1 Axes>"
      ]
     },
     "metadata": {},
     "output_type": "display_data"
    }
   ],
   "source": [
    "from sklearn.feature_selection import SelectPercentile, f_classif\n",
    "selector = SelectPercentile(f_classif, percentile=50)\n",
    "X_train_selected = selector.fit_transform(X_train, y_train)\n",
    "selected_features = X_train.columns[selector.get_support()]\n",
    "#print(\"Selected Features:\", selected_features)\n",
    "feature_scores = list(zip(selector.scores_, X_train.columns))\n",
    "sorted_feature_scores = sorted(feature_scores, reverse=True)\n",
    "num_list = []\n",
    "col_list = []\n",
    "for i in range(40):\n",
    "    num_list.append((sorted_feature_scores[i])[0])\n",
    "    col_list.append((sorted_feature_scores[i])[1])\n",
    "\n",
    "\n",
    "plt.bar(col_list, num_list)\n",
    "plt.xticks(rotation=90)\n",
    "plt.show()\n",
    "X_train_selected = X_train[selected_features]\n",
    "X_test_selected = X_test[selected_features]"
   ]
  },
  {
   "cell_type": "code",
   "execution_count": 16,
   "id": "b76216f9-7a61-486c-9e4b-2c157fcc09d5",
   "metadata": {},
   "outputs": [],
   "source": [
    "from sklearn.feature_selection import mutual_info_classif\n",
    "mutual_info = mutual_info_classif(X_train, y_train)\n",
    "mutual_info = pd.Series(mutual_info)\n",
    "mutual_info.index = X_train.columns\n",
    "colonnes_pertinentes = mutual_info.sort_values(ascending=False).index\n",
    "\n",
    "n_caracteristiques_pertinentes = 60 \n",
    "X_train_pertinent = X_train[colonnes_pertinentes[:n_caracteristiques_pertinentes]]\n",
    "X_test_pertinent = X_test[colonnes_pertinentes[:n_caracteristiques_pertinentes]]"
   ]
  },
  {
   "cell_type": "code",
   "execution_count": 17,
   "id": "0416a3d0-60bd-4724-9936-39f6f81bbe20",
   "metadata": {},
   "outputs": [
    {
     "data": {
      "text/plain": [
       "(118324, 60)"
      ]
     },
     "execution_count": 17,
     "metadata": {},
     "output_type": "execute_result"
    }
   ],
   "source": [
    "X_train_pertinent.shape"
   ]
  },
  {
   "cell_type": "code",
   "execution_count": 20,
   "id": "857294d9-6c9e-4e44-a795-657b4f7625ef",
   "metadata": {},
   "outputs": [],
   "source": [
    "knn = KNeighborsClassifier(5,p=1)\n",
    "knn_model = knn.fit(X_train_selected, y_train)\n",
    "Y_test = knn_model.predict(X_test_selected)"
   ]
  },
  {
   "cell_type": "code",
   "execution_count": 21,
   "id": "b5ee2bb7-32fd-4576-9191-0df3ac55b9e9",
   "metadata": {},
   "outputs": [
    {
     "name": "stdout",
     "output_type": "stream",
     "text": [
      "Accuracy of K-NN classifier on training set: 0.99\n",
      "Accuracy of K-NN classifier on test set: 0.99\n"
     ]
    }
   ],
   "source": [
    "print('Accuracy of K-NN classifier on training set: {:.2f}'\n",
    "     .format(knn.score(X_train_selected, y_train)))\n",
    "print('Accuracy of K-NN classifier on test set: {:.2f}'\n",
    "     .format(knn.score(X_test_selected, y_test)))"
   ]
  },
  {
   "cell_type": "code",
   "execution_count": 22,
   "id": "8afd8e86-1f82-4a12-b5ab-2655f1d3b01b",
   "metadata": {},
   "outputs": [],
   "source": [
    "knn = KNeighborsClassifier(5,p=1)\n",
    "knn_model = knn.fit(X_train_pertinent, y_train)\n",
    "Y_test = knn_model.predict(X_test_pertinent)"
   ]
  },
  {
   "cell_type": "code",
   "execution_count": 23,
   "id": "d83e9fef-e66d-4e26-8df9-7e338a75c8c5",
   "metadata": {},
   "outputs": [
    {
     "name": "stdout",
     "output_type": "stream",
     "text": [
      "Accuracy of K-NN classifier on training set: 0.99\n",
      "Accuracy of K-NN classifier on test set: 0.99\n"
     ]
    }
   ],
   "source": [
    "print('Accuracy of K-NN classifier on training set: {:.2f}'\n",
    "     .format(knn.score(X_train_pertinent, y_train)))\n",
    "print('Accuracy of K-NN classifier on test set: {:.2f}'\n",
    "     .format(knn.score(X_test_pertinent, y_test)))"
   ]
  },
  {
   "cell_type": "code",
   "execution_count": null,
   "id": "acd3337a-1a97-4d14-827d-1ecfa9ece7a4",
   "metadata": {},
   "outputs": [],
   "source": []
  },
  {
   "cell_type": "code",
   "execution_count": null,
   "id": "62f3674a-1a5d-4ee0-b076-781989bda564",
   "metadata": {},
   "outputs": [],
   "source": []
  },
  {
   "cell_type": "code",
   "execution_count": null,
   "id": "62522525-1e4d-493a-9118-5279a1f5376d",
   "metadata": {},
   "outputs": [],
   "source": []
  },
  {
   "cell_type": "code",
   "execution_count": null,
   "id": "2e19a52c-325f-40c9-ab05-30640ad0723e",
   "metadata": {},
   "outputs": [],
   "source": []
  }
 ],
 "metadata": {
  "kernelspec": {
   "display_name": "Python 3 (ipykernel)",
   "language": "python",
   "name": "python3"
  },
  "language_info": {
   "codemirror_mode": {
    "name": "ipython",
    "version": 3
   },
   "file_extension": ".py",
   "mimetype": "text/x-python",
   "name": "python",
   "nbconvert_exporter": "python",
   "pygments_lexer": "ipython3",
   "version": "3.11.4"
  }
 },
 "nbformat": 4,
 "nbformat_minor": 5
}
