{
 "cells": [
  {
   "cell_type": "code",
   "execution_count": 1,
   "id": "c8546d03-4d13-49a6-91d7-f0a9a1e3b3dd",
   "metadata": {},
   "outputs": [],
   "source": [
    "import pandas as pd\n",
    "import seaborn as sns\n",
    "import matplotlib.pyplot as plt\n",
    "from sklearn.preprocessing import LabelEncoder\n",
    "import pandas as pd\n",
    "import numpy as np\n",
    "from sklearn.feature_selection import f_classif\n",
    "from sklearn.feature_selection import SelectKBest\n",
    "from scipy.io import arff\n",
    "from sklearn.preprocessing import normalize\n",
    "from sklearn.decomposition import PCA\n",
    "from tqdm import tqdm\n",
    "from scipy.stats import norm\n",
    "from sklearn.metrics import f1_score\n",
    "from sklearn.cluster import KMeans\n",
    "from sklearn.metrics import confusion_matrix\n",
    "from sklearn.metrics import roc_curve, roc_auc_score\n",
    "\n",
    "from sklearn import tree"
   ]
  },
  {
   "cell_type": "code",
   "execution_count": 2,
   "id": "aa25725b-4887-4410-b8ef-e4b09c6c1dac",
   "metadata": {},
   "outputs": [
    {
     "name": "stdout",
     "output_type": "stream",
     "text": [
      "Decoding byte strings into ordinary strings. (for train data)\n",
      "Decoding byte strings into ordinary strings. (for test data)\n"
     ]
    }
   ],
   "source": [
    "\n",
    "# importer les données\n",
    "train_df = pd.DataFrame(arff.loadarff('KDDTrain+.arff')[0])\n",
    "test_df = pd.DataFrame(arff.loadarff('KDDTest+.arff')[0])\n",
    "\n",
    "### Decoder byte strings en ordinary strings: pour éviter les b'' sur les valeurs de chaines de caractères\n",
    "print('Decoding byte strings into ordinary strings. (for train data)')\n",
    "strings = train_df.select_dtypes([object])\n",
    "strings = strings.stack().str.decode('utf-8').unstack()\n",
    "for column in strings:\n",
    "    train_df[column] = strings[column]\n",
    "\n",
    "    \n",
    "print('Decoding byte strings into ordinary strings. (for test data)')\n",
    "strings = test_df.select_dtypes([object])\n",
    "strings = strings.stack().str.decode('utf-8').unstack()\n",
    "for column in strings:\n",
    "    test_df[column] = strings[column]\n"
   ]
  },
  {
   "cell_type": "code",
   "execution_count": 3,
   "id": "3a5ad872-05e2-4129-aeec-38b52cb423bb",
   "metadata": {},
   "outputs": [],
   "source": [
    "train_target = pd.read_csv('train_target.csv')"
   ]
  },
  {
   "cell_type": "code",
   "execution_count": 4,
   "id": "692fd7b2-98cb-4e11-9535-d9bb3a8c339c",
   "metadata": {},
   "outputs": [
    {
     "data": {
      "text/plain": [
       "(49610, 1)"
      ]
     },
     "execution_count": 4,
     "metadata": {},
     "output_type": "execute_result"
    }
   ],
   "source": [
    "train_target.shape"
   ]
  },
  {
   "cell_type": "code",
   "execution_count": 5,
   "id": "6d9dd76d-3915-4918-86ee-5557bf397bf2",
   "metadata": {},
   "outputs": [
    {
     "data": {
      "text/plain": [
       "(22544, 42)"
      ]
     },
     "execution_count": 5,
     "metadata": {},
     "output_type": "execute_result"
    }
   ],
   "source": [
    "test_df.shape"
   ]
  },
  {
   "cell_type": "code",
   "execution_count": 6,
   "id": "bd93760a-5439-4c68-a61f-3a1659220348",
   "metadata": {},
   "outputs": [
    {
     "data": {
      "text/plain": [
       "(125973, 42)"
      ]
     },
     "execution_count": 6,
     "metadata": {},
     "output_type": "execute_result"
    }
   ],
   "source": [
    "train_df.shape"
   ]
  },
  {
   "cell_type": "code",
   "execution_count": 7,
   "id": "972869de-4a4b-462d-80a0-07b08d0a5cb8",
   "metadata": {},
   "outputs": [
    {
     "data": {
      "text/plain": [
       "Index(['duration', 'protocol_type', 'service', 'flag', 'src_bytes',\n",
       "       'dst_bytes', 'land', 'wrong_fragment', 'urgent', 'hot',\n",
       "       'num_failed_logins', 'logged_in', 'num_compromised', 'root_shell',\n",
       "       'su_attempted', 'num_root', 'num_file_creations', 'num_shells',\n",
       "       'num_access_files', 'num_outbound_cmds', 'is_host_login',\n",
       "       'is_guest_login', 'count', 'srv_count', 'serror_rate',\n",
       "       'srv_serror_rate', 'rerror_rate', 'srv_rerror_rate', 'same_srv_rate',\n",
       "       'diff_srv_rate', 'srv_diff_host_rate', 'dst_host_count',\n",
       "       'dst_host_srv_count', 'dst_host_same_srv_rate',\n",
       "       'dst_host_diff_srv_rate', 'dst_host_same_src_port_rate',\n",
       "       'dst_host_srv_diff_host_rate', 'dst_host_serror_rate',\n",
       "       'dst_host_srv_serror_rate', 'dst_host_rerror_rate',\n",
       "       'dst_host_srv_rerror_rate', 'class'],\n",
       "      dtype='object')"
      ]
     },
     "execution_count": 7,
     "metadata": {},
     "output_type": "execute_result"
    }
   ],
   "source": [
    "test_df.columns"
   ]
  },
  {
   "cell_type": "code",
   "execution_count": 8,
   "id": "77ed2e6e-f533-40ce-9eef-ae6356421b00",
   "metadata": {},
   "outputs": [
    {
     "data": {
      "text/plain": [
       "Index(['duration', 'protocol_type', 'service', 'flag', 'src_bytes',\n",
       "       'dst_bytes', 'land', 'wrong_fragment', 'urgent', 'hot',\n",
       "       'num_failed_logins', 'logged_in', 'num_compromised', 'root_shell',\n",
       "       'su_attempted', 'num_root', 'num_file_creations', 'num_shells',\n",
       "       'num_access_files', 'num_outbound_cmds', 'is_host_login',\n",
       "       'is_guest_login', 'count', 'srv_count', 'serror_rate',\n",
       "       'srv_serror_rate', 'rerror_rate', 'srv_rerror_rate', 'same_srv_rate',\n",
       "       'diff_srv_rate', 'srv_diff_host_rate', 'dst_host_count',\n",
       "       'dst_host_srv_count', 'dst_host_same_srv_rate',\n",
       "       'dst_host_diff_srv_rate', 'dst_host_same_src_port_rate',\n",
       "       'dst_host_srv_diff_host_rate', 'dst_host_serror_rate',\n",
       "       'dst_host_srv_serror_rate', 'dst_host_rerror_rate',\n",
       "       'dst_host_srv_rerror_rate', 'class'],\n",
       "      dtype='object')"
      ]
     },
     "execution_count": 8,
     "metadata": {},
     "output_type": "execute_result"
    }
   ],
   "source": [
    "train_df.columns"
   ]
  },
  {
   "cell_type": "markdown",
   "id": "f9f78716-baf0-4288-9df4-80d2eb21739f",
   "metadata": {},
   "source": [
    "<h2> 3.2 Data processing </h2>"
   ]
  },
  {
   "cell_type": "code",
   "execution_count": 9,
   "id": "ca054d83-90fc-45cb-8ec7-d13bc976c69a",
   "metadata": {},
   "outputs": [
    {
     "data": {
      "text/html": [
       "<div>\n",
       "<style scoped>\n",
       "    .dataframe tbody tr th:only-of-type {\n",
       "        vertical-align: middle;\n",
       "    }\n",
       "\n",
       "    .dataframe tbody tr th {\n",
       "        vertical-align: top;\n",
       "    }\n",
       "\n",
       "    .dataframe thead th {\n",
       "        text-align: right;\n",
       "    }\n",
       "</style>\n",
       "<table border=\"1\" class=\"dataframe\">\n",
       "  <thead>\n",
       "    <tr style=\"text-align: right;\">\n",
       "      <th></th>\n",
       "      <th>protocol_type</th>\n",
       "      <th>service</th>\n",
       "      <th>flag</th>\n",
       "      <th>land</th>\n",
       "      <th>logged_in</th>\n",
       "      <th>is_host_login</th>\n",
       "      <th>is_guest_login</th>\n",
       "      <th>class</th>\n",
       "    </tr>\n",
       "  </thead>\n",
       "  <tbody>\n",
       "    <tr>\n",
       "      <th>0</th>\n",
       "      <td>tcp</td>\n",
       "      <td>ftp_data</td>\n",
       "      <td>SF</td>\n",
       "      <td>0</td>\n",
       "      <td>0</td>\n",
       "      <td>0</td>\n",
       "      <td>0</td>\n",
       "      <td>normal</td>\n",
       "    </tr>\n",
       "    <tr>\n",
       "      <th>1</th>\n",
       "      <td>udp</td>\n",
       "      <td>other</td>\n",
       "      <td>SF</td>\n",
       "      <td>0</td>\n",
       "      <td>0</td>\n",
       "      <td>0</td>\n",
       "      <td>0</td>\n",
       "      <td>normal</td>\n",
       "    </tr>\n",
       "    <tr>\n",
       "      <th>2</th>\n",
       "      <td>tcp</td>\n",
       "      <td>private</td>\n",
       "      <td>S0</td>\n",
       "      <td>0</td>\n",
       "      <td>0</td>\n",
       "      <td>0</td>\n",
       "      <td>0</td>\n",
       "      <td>anomaly</td>\n",
       "    </tr>\n",
       "    <tr>\n",
       "      <th>3</th>\n",
       "      <td>tcp</td>\n",
       "      <td>http</td>\n",
       "      <td>SF</td>\n",
       "      <td>0</td>\n",
       "      <td>1</td>\n",
       "      <td>0</td>\n",
       "      <td>0</td>\n",
       "      <td>normal</td>\n",
       "    </tr>\n",
       "    <tr>\n",
       "      <th>4</th>\n",
       "      <td>tcp</td>\n",
       "      <td>http</td>\n",
       "      <td>SF</td>\n",
       "      <td>0</td>\n",
       "      <td>1</td>\n",
       "      <td>0</td>\n",
       "      <td>0</td>\n",
       "      <td>normal</td>\n",
       "    </tr>\n",
       "    <tr>\n",
       "      <th>...</th>\n",
       "      <td>...</td>\n",
       "      <td>...</td>\n",
       "      <td>...</td>\n",
       "      <td>...</td>\n",
       "      <td>...</td>\n",
       "      <td>...</td>\n",
       "      <td>...</td>\n",
       "      <td>...</td>\n",
       "    </tr>\n",
       "    <tr>\n",
       "      <th>125968</th>\n",
       "      <td>tcp</td>\n",
       "      <td>private</td>\n",
       "      <td>S0</td>\n",
       "      <td>0</td>\n",
       "      <td>0</td>\n",
       "      <td>0</td>\n",
       "      <td>0</td>\n",
       "      <td>anomaly</td>\n",
       "    </tr>\n",
       "    <tr>\n",
       "      <th>125969</th>\n",
       "      <td>udp</td>\n",
       "      <td>private</td>\n",
       "      <td>SF</td>\n",
       "      <td>0</td>\n",
       "      <td>0</td>\n",
       "      <td>0</td>\n",
       "      <td>0</td>\n",
       "      <td>normal</td>\n",
       "    </tr>\n",
       "    <tr>\n",
       "      <th>125970</th>\n",
       "      <td>tcp</td>\n",
       "      <td>smtp</td>\n",
       "      <td>SF</td>\n",
       "      <td>0</td>\n",
       "      <td>1</td>\n",
       "      <td>0</td>\n",
       "      <td>0</td>\n",
       "      <td>normal</td>\n",
       "    </tr>\n",
       "    <tr>\n",
       "      <th>125971</th>\n",
       "      <td>tcp</td>\n",
       "      <td>klogin</td>\n",
       "      <td>S0</td>\n",
       "      <td>0</td>\n",
       "      <td>0</td>\n",
       "      <td>0</td>\n",
       "      <td>0</td>\n",
       "      <td>anomaly</td>\n",
       "    </tr>\n",
       "    <tr>\n",
       "      <th>125972</th>\n",
       "      <td>tcp</td>\n",
       "      <td>ftp_data</td>\n",
       "      <td>SF</td>\n",
       "      <td>0</td>\n",
       "      <td>1</td>\n",
       "      <td>0</td>\n",
       "      <td>0</td>\n",
       "      <td>normal</td>\n",
       "    </tr>\n",
       "  </tbody>\n",
       "</table>\n",
       "<p>125973 rows × 8 columns</p>\n",
       "</div>"
      ],
      "text/plain": [
       "       protocol_type   service flag land logged_in is_host_login  \\\n",
       "0                tcp  ftp_data   SF    0         0             0   \n",
       "1                udp     other   SF    0         0             0   \n",
       "2                tcp   private   S0    0         0             0   \n",
       "3                tcp      http   SF    0         1             0   \n",
       "4                tcp      http   SF    0         1             0   \n",
       "...              ...       ...  ...  ...       ...           ...   \n",
       "125968           tcp   private   S0    0         0             0   \n",
       "125969           udp   private   SF    0         0             0   \n",
       "125970           tcp      smtp   SF    0         1             0   \n",
       "125971           tcp    klogin   S0    0         0             0   \n",
       "125972           tcp  ftp_data   SF    0         1             0   \n",
       "\n",
       "       is_guest_login    class  \n",
       "0                   0   normal  \n",
       "1                   0   normal  \n",
       "2                   0  anomaly  \n",
       "3                   0   normal  \n",
       "4                   0   normal  \n",
       "...               ...      ...  \n",
       "125968              0  anomaly  \n",
       "125969              0   normal  \n",
       "125970              0   normal  \n",
       "125971              0  anomaly  \n",
       "125972              0   normal  \n",
       "\n",
       "[125973 rows x 8 columns]"
      ]
     },
     "execution_count": 9,
     "metadata": {},
     "output_type": "execute_result"
    }
   ],
   "source": [
    "train_df.select_dtypes([object])\n"
   ]
  },
  {
   "cell_type": "code",
   "execution_count": 10,
   "id": "f8668291-5bb7-4b77-9e67-ee48b8a37196",
   "metadata": {},
   "outputs": [
    {
     "data": {
      "text/html": [
       "<div>\n",
       "<style scoped>\n",
       "    .dataframe tbody tr th:only-of-type {\n",
       "        vertical-align: middle;\n",
       "    }\n",
       "\n",
       "    .dataframe tbody tr th {\n",
       "        vertical-align: top;\n",
       "    }\n",
       "\n",
       "    .dataframe thead th {\n",
       "        text-align: right;\n",
       "    }\n",
       "</style>\n",
       "<table border=\"1\" class=\"dataframe\">\n",
       "  <thead>\n",
       "    <tr style=\"text-align: right;\">\n",
       "      <th></th>\n",
       "      <th>protocol_type</th>\n",
       "      <th>service</th>\n",
       "      <th>flag</th>\n",
       "      <th>land</th>\n",
       "      <th>logged_in</th>\n",
       "      <th>is_host_login</th>\n",
       "      <th>is_guest_login</th>\n",
       "      <th>class</th>\n",
       "    </tr>\n",
       "  </thead>\n",
       "  <tbody>\n",
       "    <tr>\n",
       "      <th>0</th>\n",
       "      <td>tcp</td>\n",
       "      <td>private</td>\n",
       "      <td>REJ</td>\n",
       "      <td>0</td>\n",
       "      <td>0</td>\n",
       "      <td>0</td>\n",
       "      <td>0</td>\n",
       "      <td>anomaly</td>\n",
       "    </tr>\n",
       "    <tr>\n",
       "      <th>1</th>\n",
       "      <td>tcp</td>\n",
       "      <td>private</td>\n",
       "      <td>REJ</td>\n",
       "      <td>0</td>\n",
       "      <td>0</td>\n",
       "      <td>0</td>\n",
       "      <td>0</td>\n",
       "      <td>anomaly</td>\n",
       "    </tr>\n",
       "    <tr>\n",
       "      <th>2</th>\n",
       "      <td>tcp</td>\n",
       "      <td>ftp_data</td>\n",
       "      <td>SF</td>\n",
       "      <td>0</td>\n",
       "      <td>0</td>\n",
       "      <td>0</td>\n",
       "      <td>0</td>\n",
       "      <td>normal</td>\n",
       "    </tr>\n",
       "    <tr>\n",
       "      <th>3</th>\n",
       "      <td>icmp</td>\n",
       "      <td>eco_i</td>\n",
       "      <td>SF</td>\n",
       "      <td>0</td>\n",
       "      <td>0</td>\n",
       "      <td>0</td>\n",
       "      <td>0</td>\n",
       "      <td>anomaly</td>\n",
       "    </tr>\n",
       "    <tr>\n",
       "      <th>4</th>\n",
       "      <td>tcp</td>\n",
       "      <td>telnet</td>\n",
       "      <td>RSTO</td>\n",
       "      <td>0</td>\n",
       "      <td>0</td>\n",
       "      <td>0</td>\n",
       "      <td>0</td>\n",
       "      <td>anomaly</td>\n",
       "    </tr>\n",
       "    <tr>\n",
       "      <th>...</th>\n",
       "      <td>...</td>\n",
       "      <td>...</td>\n",
       "      <td>...</td>\n",
       "      <td>...</td>\n",
       "      <td>...</td>\n",
       "      <td>...</td>\n",
       "      <td>...</td>\n",
       "      <td>...</td>\n",
       "    </tr>\n",
       "    <tr>\n",
       "      <th>22539</th>\n",
       "      <td>tcp</td>\n",
       "      <td>smtp</td>\n",
       "      <td>SF</td>\n",
       "      <td>0</td>\n",
       "      <td>1</td>\n",
       "      <td>0</td>\n",
       "      <td>0</td>\n",
       "      <td>normal</td>\n",
       "    </tr>\n",
       "    <tr>\n",
       "      <th>22540</th>\n",
       "      <td>tcp</td>\n",
       "      <td>http</td>\n",
       "      <td>SF</td>\n",
       "      <td>0</td>\n",
       "      <td>1</td>\n",
       "      <td>0</td>\n",
       "      <td>0</td>\n",
       "      <td>normal</td>\n",
       "    </tr>\n",
       "    <tr>\n",
       "      <th>22541</th>\n",
       "      <td>tcp</td>\n",
       "      <td>http</td>\n",
       "      <td>SF</td>\n",
       "      <td>0</td>\n",
       "      <td>1</td>\n",
       "      <td>0</td>\n",
       "      <td>0</td>\n",
       "      <td>anomaly</td>\n",
       "    </tr>\n",
       "    <tr>\n",
       "      <th>22542</th>\n",
       "      <td>udp</td>\n",
       "      <td>domain_u</td>\n",
       "      <td>SF</td>\n",
       "      <td>0</td>\n",
       "      <td>0</td>\n",
       "      <td>0</td>\n",
       "      <td>0</td>\n",
       "      <td>normal</td>\n",
       "    </tr>\n",
       "    <tr>\n",
       "      <th>22543</th>\n",
       "      <td>tcp</td>\n",
       "      <td>sunrpc</td>\n",
       "      <td>REJ</td>\n",
       "      <td>0</td>\n",
       "      <td>0</td>\n",
       "      <td>0</td>\n",
       "      <td>0</td>\n",
       "      <td>anomaly</td>\n",
       "    </tr>\n",
       "  </tbody>\n",
       "</table>\n",
       "<p>22544 rows × 8 columns</p>\n",
       "</div>"
      ],
      "text/plain": [
       "      protocol_type   service  flag land logged_in is_host_login  \\\n",
       "0               tcp   private   REJ    0         0             0   \n",
       "1               tcp   private   REJ    0         0             0   \n",
       "2               tcp  ftp_data    SF    0         0             0   \n",
       "3              icmp     eco_i    SF    0         0             0   \n",
       "4               tcp    telnet  RSTO    0         0             0   \n",
       "...             ...       ...   ...  ...       ...           ...   \n",
       "22539           tcp      smtp    SF    0         1             0   \n",
       "22540           tcp      http    SF    0         1             0   \n",
       "22541           tcp      http    SF    0         1             0   \n",
       "22542           udp  domain_u    SF    0         0             0   \n",
       "22543           tcp    sunrpc   REJ    0         0             0   \n",
       "\n",
       "      is_guest_login    class  \n",
       "0                  0  anomaly  \n",
       "1                  0  anomaly  \n",
       "2                  0   normal  \n",
       "3                  0  anomaly  \n",
       "4                  0  anomaly  \n",
       "...              ...      ...  \n",
       "22539              0   normal  \n",
       "22540              0   normal  \n",
       "22541              0  anomaly  \n",
       "22542              0   normal  \n",
       "22543              0  anomaly  \n",
       "\n",
       "[22544 rows x 8 columns]"
      ]
     },
     "execution_count": 10,
     "metadata": {},
     "output_type": "execute_result"
    }
   ],
   "source": [
    "test_df.select_dtypes([object])\n"
   ]
  },
  {
   "cell_type": "markdown",
   "id": "52e23ccb-65d1-4fa4-b3b3-d6ea23a27167",
   "metadata": {},
   "source": [
    "<h1>Convertir les valeurs chaines de caractère en numeric </h1>"
   ]
  },
  {
   "cell_type": "markdown",
   "id": "f004d229-9603-407e-8667-20d6914cf9aa",
   "metadata": {},
   "source": [
    "convertir les features land, logged_in, is_host_login et is_guest_login de chaine de caractère a numerique"
   ]
  },
  {
   "cell_type": "code",
   "execution_count": 11,
   "id": "db1506d6-66ef-4196-b476-77a90b0cfe2e",
   "metadata": {},
   "outputs": [
    {
     "name": "stdout",
     "output_type": "stream",
     "text": [
      "<class 'pandas.core.frame.DataFrame'>\n",
      "RangeIndex: 125973 entries, 0 to 125972\n",
      "Data columns (total 42 columns):\n",
      " #   Column                       Non-Null Count   Dtype  \n",
      "---  ------                       --------------   -----  \n",
      " 0   duration                     125973 non-null  float64\n",
      " 1   protocol_type                125973 non-null  object \n",
      " 2   service                      125973 non-null  object \n",
      " 3   flag                         125973 non-null  object \n",
      " 4   src_bytes                    125973 non-null  float64\n",
      " 5   dst_bytes                    125973 non-null  float64\n",
      " 6   land                         125973 non-null  object \n",
      " 7   wrong_fragment               125973 non-null  float64\n",
      " 8   urgent                       125973 non-null  float64\n",
      " 9   hot                          125973 non-null  float64\n",
      " 10  num_failed_logins            125973 non-null  float64\n",
      " 11  logged_in                    125973 non-null  object \n",
      " 12  num_compromised              125973 non-null  float64\n",
      " 13  root_shell                   125973 non-null  float64\n",
      " 14  su_attempted                 125973 non-null  float64\n",
      " 15  num_root                     125973 non-null  float64\n",
      " 16  num_file_creations           125973 non-null  float64\n",
      " 17  num_shells                   125973 non-null  float64\n",
      " 18  num_access_files             125973 non-null  float64\n",
      " 19  num_outbound_cmds            125973 non-null  float64\n",
      " 20  is_host_login                125973 non-null  object \n",
      " 21  is_guest_login               125973 non-null  object \n",
      " 22  count                        125973 non-null  float64\n",
      " 23  srv_count                    125973 non-null  float64\n",
      " 24  serror_rate                  125973 non-null  float64\n",
      " 25  srv_serror_rate              125973 non-null  float64\n",
      " 26  rerror_rate                  125973 non-null  float64\n",
      " 27  srv_rerror_rate              125973 non-null  float64\n",
      " 28  same_srv_rate                125973 non-null  float64\n",
      " 29  diff_srv_rate                125973 non-null  float64\n",
      " 30  srv_diff_host_rate           125973 non-null  float64\n",
      " 31  dst_host_count               125973 non-null  float64\n",
      " 32  dst_host_srv_count           125973 non-null  float64\n",
      " 33  dst_host_same_srv_rate       125973 non-null  float64\n",
      " 34  dst_host_diff_srv_rate       125973 non-null  float64\n",
      " 35  dst_host_same_src_port_rate  125973 non-null  float64\n",
      " 36  dst_host_srv_diff_host_rate  125973 non-null  float64\n",
      " 37  dst_host_serror_rate         125973 non-null  float64\n",
      " 38  dst_host_srv_serror_rate     125973 non-null  float64\n",
      " 39  dst_host_rerror_rate         125973 non-null  float64\n",
      " 40  dst_host_srv_rerror_rate     125973 non-null  float64\n",
      " 41  class                        125973 non-null  object \n",
      "dtypes: float64(34), object(8)\n",
      "memory usage: 40.4+ MB\n"
     ]
    }
   ],
   "source": [
    "train_df.info()"
   ]
  },
  {
   "cell_type": "code",
   "execution_count": 12,
   "id": "ff048605-d959-4477-8ae7-0cb72a9d9b53",
   "metadata": {},
   "outputs": [
    {
     "name": "stdout",
     "output_type": "stream",
     "text": [
      "<class 'pandas.core.frame.DataFrame'>\n",
      "RangeIndex: 22544 entries, 0 to 22543\n",
      "Data columns (total 42 columns):\n",
      " #   Column                       Non-Null Count  Dtype  \n",
      "---  ------                       --------------  -----  \n",
      " 0   duration                     22544 non-null  float64\n",
      " 1   protocol_type                22544 non-null  object \n",
      " 2   service                      22544 non-null  object \n",
      " 3   flag                         22544 non-null  object \n",
      " 4   src_bytes                    22544 non-null  float64\n",
      " 5   dst_bytes                    22544 non-null  float64\n",
      " 6   land                         22544 non-null  object \n",
      " 7   wrong_fragment               22544 non-null  float64\n",
      " 8   urgent                       22544 non-null  float64\n",
      " 9   hot                          22544 non-null  float64\n",
      " 10  num_failed_logins            22544 non-null  float64\n",
      " 11  logged_in                    22544 non-null  object \n",
      " 12  num_compromised              22544 non-null  float64\n",
      " 13  root_shell                   22544 non-null  float64\n",
      " 14  su_attempted                 22544 non-null  float64\n",
      " 15  num_root                     22544 non-null  float64\n",
      " 16  num_file_creations           22544 non-null  float64\n",
      " 17  num_shells                   22544 non-null  float64\n",
      " 18  num_access_files             22544 non-null  float64\n",
      " 19  num_outbound_cmds            22544 non-null  float64\n",
      " 20  is_host_login                22544 non-null  object \n",
      " 21  is_guest_login               22544 non-null  object \n",
      " 22  count                        22544 non-null  float64\n",
      " 23  srv_count                    22544 non-null  float64\n",
      " 24  serror_rate                  22544 non-null  float64\n",
      " 25  srv_serror_rate              22544 non-null  float64\n",
      " 26  rerror_rate                  22544 non-null  float64\n",
      " 27  srv_rerror_rate              22544 non-null  float64\n",
      " 28  same_srv_rate                22544 non-null  float64\n",
      " 29  diff_srv_rate                22544 non-null  float64\n",
      " 30  srv_diff_host_rate           22544 non-null  float64\n",
      " 31  dst_host_count               22544 non-null  float64\n",
      " 32  dst_host_srv_count           22544 non-null  float64\n",
      " 33  dst_host_same_srv_rate       22544 non-null  float64\n",
      " 34  dst_host_diff_srv_rate       22544 non-null  float64\n",
      " 35  dst_host_same_src_port_rate  22544 non-null  float64\n",
      " 36  dst_host_srv_diff_host_rate  22544 non-null  float64\n",
      " 37  dst_host_serror_rate         22544 non-null  float64\n",
      " 38  dst_host_srv_serror_rate     22544 non-null  float64\n",
      " 39  dst_host_rerror_rate         22544 non-null  float64\n",
      " 40  dst_host_srv_rerror_rate     22544 non-null  float64\n",
      " 41  class                        22544 non-null  object \n",
      "dtypes: float64(34), object(8)\n",
      "memory usage: 7.2+ MB\n"
     ]
    }
   ],
   "source": [
    "test_df.info()"
   ]
  },
  {
   "cell_type": "code",
   "execution_count": 13,
   "id": "ed933a57-1c6e-48d5-9d08-917aee33c231",
   "metadata": {},
   "outputs": [
    {
     "data": {
      "text/html": [
       "<div>\n",
       "<style scoped>\n",
       "    .dataframe tbody tr th:only-of-type {\n",
       "        vertical-align: middle;\n",
       "    }\n",
       "\n",
       "    .dataframe tbody tr th {\n",
       "        vertical-align: top;\n",
       "    }\n",
       "\n",
       "    .dataframe thead th {\n",
       "        text-align: right;\n",
       "    }\n",
       "</style>\n",
       "<table border=\"1\" class=\"dataframe\">\n",
       "  <thead>\n",
       "    <tr style=\"text-align: right;\">\n",
       "      <th></th>\n",
       "      <th>protocol_type</th>\n",
       "      <th>service</th>\n",
       "      <th>flag</th>\n",
       "      <th>class</th>\n",
       "    </tr>\n",
       "  </thead>\n",
       "  <tbody>\n",
       "    <tr>\n",
       "      <th>0</th>\n",
       "      <td>tcp</td>\n",
       "      <td>ftp_data</td>\n",
       "      <td>SF</td>\n",
       "      <td>normal</td>\n",
       "    </tr>\n",
       "    <tr>\n",
       "      <th>1</th>\n",
       "      <td>udp</td>\n",
       "      <td>other</td>\n",
       "      <td>SF</td>\n",
       "      <td>normal</td>\n",
       "    </tr>\n",
       "    <tr>\n",
       "      <th>2</th>\n",
       "      <td>tcp</td>\n",
       "      <td>private</td>\n",
       "      <td>S0</td>\n",
       "      <td>anomaly</td>\n",
       "    </tr>\n",
       "    <tr>\n",
       "      <th>3</th>\n",
       "      <td>tcp</td>\n",
       "      <td>http</td>\n",
       "      <td>SF</td>\n",
       "      <td>normal</td>\n",
       "    </tr>\n",
       "    <tr>\n",
       "      <th>4</th>\n",
       "      <td>tcp</td>\n",
       "      <td>http</td>\n",
       "      <td>SF</td>\n",
       "      <td>normal</td>\n",
       "    </tr>\n",
       "    <tr>\n",
       "      <th>...</th>\n",
       "      <td>...</td>\n",
       "      <td>...</td>\n",
       "      <td>...</td>\n",
       "      <td>...</td>\n",
       "    </tr>\n",
       "    <tr>\n",
       "      <th>125968</th>\n",
       "      <td>tcp</td>\n",
       "      <td>private</td>\n",
       "      <td>S0</td>\n",
       "      <td>anomaly</td>\n",
       "    </tr>\n",
       "    <tr>\n",
       "      <th>125969</th>\n",
       "      <td>udp</td>\n",
       "      <td>private</td>\n",
       "      <td>SF</td>\n",
       "      <td>normal</td>\n",
       "    </tr>\n",
       "    <tr>\n",
       "      <th>125970</th>\n",
       "      <td>tcp</td>\n",
       "      <td>smtp</td>\n",
       "      <td>SF</td>\n",
       "      <td>normal</td>\n",
       "    </tr>\n",
       "    <tr>\n",
       "      <th>125971</th>\n",
       "      <td>tcp</td>\n",
       "      <td>klogin</td>\n",
       "      <td>S0</td>\n",
       "      <td>anomaly</td>\n",
       "    </tr>\n",
       "    <tr>\n",
       "      <th>125972</th>\n",
       "      <td>tcp</td>\n",
       "      <td>ftp_data</td>\n",
       "      <td>SF</td>\n",
       "      <td>normal</td>\n",
       "    </tr>\n",
       "  </tbody>\n",
       "</table>\n",
       "<p>125973 rows × 4 columns</p>\n",
       "</div>"
      ],
      "text/plain": [
       "       protocol_type   service flag    class\n",
       "0                tcp  ftp_data   SF   normal\n",
       "1                udp     other   SF   normal\n",
       "2                tcp   private   S0  anomaly\n",
       "3                tcp      http   SF   normal\n",
       "4                tcp      http   SF   normal\n",
       "...              ...       ...  ...      ...\n",
       "125968           tcp   private   S0  anomaly\n",
       "125969           udp   private   SF   normal\n",
       "125970           tcp      smtp   SF   normal\n",
       "125971           tcp    klogin   S0  anomaly\n",
       "125972           tcp  ftp_data   SF   normal\n",
       "\n",
       "[125973 rows x 4 columns]"
      ]
     },
     "execution_count": 13,
     "metadata": {},
     "output_type": "execute_result"
    }
   ],
   "source": [
    "#convertier les chaine en numeric\n",
    "train_df[\"land\"] = pd.to_numeric(train_df[\"land\"])\n",
    "train_df[\"logged_in\"] = pd.to_numeric(train_df[\"logged_in\"])\n",
    "train_df[\"is_host_login\"] = pd.to_numeric(train_df[\"is_host_login\"])\n",
    "train_df[\"is_guest_login\"] = pd.to_numeric(train_df[\"is_guest_login\"])\n",
    "\n",
    "test_df[\"land\"] = pd.to_numeric(test_df[\"land\"])\n",
    "test_df[\"logged_in\"] = pd.to_numeric(test_df[\"logged_in\"])\n",
    "test_df[\"is_host_login\"] = pd.to_numeric(test_df[\"is_host_login\"])\n",
    "test_df[\"is_guest_login\"] = pd.to_numeric(test_df[\"is_guest_login\"])\n",
    "\n",
    "train_df.select_dtypes([object])\n"
   ]
  },
  {
   "cell_type": "code",
   "execution_count": 14,
   "id": "49ece2e4-f726-4d58-bc96-12316cc571ba",
   "metadata": {},
   "outputs": [],
   "source": [
    "train_df=train_df.drop(\"flag\",axis=1)\n",
    "train_df=train_df.drop(\"service\",axis=1)"
   ]
  },
  {
   "cell_type": "code",
   "execution_count": 15,
   "id": "d88fcec4-0bfd-446f-96f7-79abc099b76b",
   "metadata": {},
   "outputs": [],
   "source": [
    "test_df=test_df.drop(\"flag\",axis=1)\n",
    "test_df=test_df.drop(\"service\",axis=1)"
   ]
  },
  {
   "cell_type": "code",
   "execution_count": 16,
   "id": "cc9b0461-ac5b-419a-88b4-eac08c1347d2",
   "metadata": {},
   "outputs": [
    {
     "data": {
      "text/plain": [
       "array(['tcp', 'icmp', 'udp'], dtype=object)"
      ]
     },
     "execution_count": 16,
     "metadata": {},
     "output_type": "execute_result"
    }
   ],
   "source": [
    "test_df[\"protocol_type\"].unique()"
   ]
  },
  {
   "cell_type": "code",
   "execution_count": 17,
   "id": "73bc9474-ca20-40b7-9dea-5ca0a4a2efad",
   "metadata": {},
   "outputs": [],
   "source": [
    "train_df = train_df.drop(train_df[train_df.protocol_type != 'tcp'].index)"
   ]
  },
  {
   "cell_type": "code",
   "execution_count": 18,
   "id": "cb537c2c-6f91-44a3-82dc-8e4d070c3815",
   "metadata": {},
   "outputs": [],
   "source": [
    "test_df = test_df.drop(train_df[train_df.protocol_type != 'tcp'].index)"
   ]
  },
  {
   "cell_type": "code",
   "execution_count": 19,
   "id": "b6fbbff0-afda-4a79-b549-190edf945ab8",
   "metadata": {},
   "outputs": [
    {
     "data": {
      "text/plain": [
       "(102689, 40)"
      ]
     },
     "execution_count": 19,
     "metadata": {},
     "output_type": "execute_result"
    }
   ],
   "source": [
    "train_df.shape"
   ]
  },
  {
   "cell_type": "code",
   "execution_count": 20,
   "id": "57c6c429-8905-49c5-960e-658073d68e72",
   "metadata": {},
   "outputs": [
    {
     "data": {
      "text/plain": [
       "(22544, 40)"
      ]
     },
     "execution_count": 20,
     "metadata": {},
     "output_type": "execute_result"
    }
   ],
   "source": [
    "test_df.shape"
   ]
  },
  {
   "cell_type": "code",
   "execution_count": 21,
   "id": "463e9b59-762a-4659-aae7-b70f2985067c",
   "metadata": {},
   "outputs": [
    {
     "name": "stdout",
     "output_type": "stream",
     "text": [
      "<class 'pandas.core.frame.DataFrame'>\n",
      "Int64Index: 102689 entries, 0 to 125972\n",
      "Data columns (total 40 columns):\n",
      " #   Column                       Non-Null Count   Dtype  \n",
      "---  ------                       --------------   -----  \n",
      " 0   duration                     102689 non-null  float64\n",
      " 1   protocol_type                102689 non-null  object \n",
      " 2   src_bytes                    102689 non-null  float64\n",
      " 3   dst_bytes                    102689 non-null  float64\n",
      " 4   land                         102689 non-null  int64  \n",
      " 5   wrong_fragment               102689 non-null  float64\n",
      " 6   urgent                       102689 non-null  float64\n",
      " 7   hot                          102689 non-null  float64\n",
      " 8   num_failed_logins            102689 non-null  float64\n",
      " 9   logged_in                    102689 non-null  int64  \n",
      " 10  num_compromised              102689 non-null  float64\n",
      " 11  root_shell                   102689 non-null  float64\n",
      " 12  su_attempted                 102689 non-null  float64\n",
      " 13  num_root                     102689 non-null  float64\n",
      " 14  num_file_creations           102689 non-null  float64\n",
      " 15  num_shells                   102689 non-null  float64\n",
      " 16  num_access_files             102689 non-null  float64\n",
      " 17  num_outbound_cmds            102689 non-null  float64\n",
      " 18  is_host_login                102689 non-null  int64  \n",
      " 19  is_guest_login               102689 non-null  int64  \n",
      " 20  count                        102689 non-null  float64\n",
      " 21  srv_count                    102689 non-null  float64\n",
      " 22  serror_rate                  102689 non-null  float64\n",
      " 23  srv_serror_rate              102689 non-null  float64\n",
      " 24  rerror_rate                  102689 non-null  float64\n",
      " 25  srv_rerror_rate              102689 non-null  float64\n",
      " 26  same_srv_rate                102689 non-null  float64\n",
      " 27  diff_srv_rate                102689 non-null  float64\n",
      " 28  srv_diff_host_rate           102689 non-null  float64\n",
      " 29  dst_host_count               102689 non-null  float64\n",
      " 30  dst_host_srv_count           102689 non-null  float64\n",
      " 31  dst_host_same_srv_rate       102689 non-null  float64\n",
      " 32  dst_host_diff_srv_rate       102689 non-null  float64\n",
      " 33  dst_host_same_src_port_rate  102689 non-null  float64\n",
      " 34  dst_host_srv_diff_host_rate  102689 non-null  float64\n",
      " 35  dst_host_serror_rate         102689 non-null  float64\n",
      " 36  dst_host_srv_serror_rate     102689 non-null  float64\n",
      " 37  dst_host_rerror_rate         102689 non-null  float64\n",
      " 38  dst_host_srv_rerror_rate     102689 non-null  float64\n",
      " 39  class                        102689 non-null  object \n",
      "dtypes: float64(34), int64(4), object(2)\n",
      "memory usage: 32.1+ MB\n"
     ]
    }
   ],
   "source": [
    "train_df.info()"
   ]
  },
  {
   "cell_type": "code",
   "execution_count": 22,
   "id": "323e173f-19ac-4c38-a7e1-ebbec688a277",
   "metadata": {},
   "outputs": [
    {
     "name": "stdout",
     "output_type": "stream",
     "text": [
      "<class 'pandas.core.frame.DataFrame'>\n",
      "RangeIndex: 22544 entries, 0 to 22543\n",
      "Data columns (total 40 columns):\n",
      " #   Column                       Non-Null Count  Dtype  \n",
      "---  ------                       --------------  -----  \n",
      " 0   duration                     22544 non-null  float64\n",
      " 1   protocol_type                22544 non-null  object \n",
      " 2   src_bytes                    22544 non-null  float64\n",
      " 3   dst_bytes                    22544 non-null  float64\n",
      " 4   land                         22544 non-null  int64  \n",
      " 5   wrong_fragment               22544 non-null  float64\n",
      " 6   urgent                       22544 non-null  float64\n",
      " 7   hot                          22544 non-null  float64\n",
      " 8   num_failed_logins            22544 non-null  float64\n",
      " 9   logged_in                    22544 non-null  int64  \n",
      " 10  num_compromised              22544 non-null  float64\n",
      " 11  root_shell                   22544 non-null  float64\n",
      " 12  su_attempted                 22544 non-null  float64\n",
      " 13  num_root                     22544 non-null  float64\n",
      " 14  num_file_creations           22544 non-null  float64\n",
      " 15  num_shells                   22544 non-null  float64\n",
      " 16  num_access_files             22544 non-null  float64\n",
      " 17  num_outbound_cmds            22544 non-null  float64\n",
      " 18  is_host_login                22544 non-null  int64  \n",
      " 19  is_guest_login               22544 non-null  int64  \n",
      " 20  count                        22544 non-null  float64\n",
      " 21  srv_count                    22544 non-null  float64\n",
      " 22  serror_rate                  22544 non-null  float64\n",
      " 23  srv_serror_rate              22544 non-null  float64\n",
      " 24  rerror_rate                  22544 non-null  float64\n",
      " 25  srv_rerror_rate              22544 non-null  float64\n",
      " 26  same_srv_rate                22544 non-null  float64\n",
      " 27  diff_srv_rate                22544 non-null  float64\n",
      " 28  srv_diff_host_rate           22544 non-null  float64\n",
      " 29  dst_host_count               22544 non-null  float64\n",
      " 30  dst_host_srv_count           22544 non-null  float64\n",
      " 31  dst_host_same_srv_rate       22544 non-null  float64\n",
      " 32  dst_host_diff_srv_rate       22544 non-null  float64\n",
      " 33  dst_host_same_src_port_rate  22544 non-null  float64\n",
      " 34  dst_host_srv_diff_host_rate  22544 non-null  float64\n",
      " 35  dst_host_serror_rate         22544 non-null  float64\n",
      " 36  dst_host_srv_serror_rate     22544 non-null  float64\n",
      " 37  dst_host_rerror_rate         22544 non-null  float64\n",
      " 38  dst_host_srv_rerror_rate     22544 non-null  float64\n",
      " 39  class                        22544 non-null  object \n",
      "dtypes: float64(34), int64(4), object(2)\n",
      "memory usage: 6.9+ MB\n"
     ]
    }
   ],
   "source": [
    "test_df.info()"
   ]
  },
  {
   "cell_type": "code",
   "execution_count": null,
   "id": "22459645-4735-443a-920f-5cc3921ec462",
   "metadata": {},
   "outputs": [],
   "source": []
  },
  {
   "cell_type": "code",
   "execution_count": null,
   "id": "7d60f8c7-2598-40b9-b85c-9a8b4c9bfb28",
   "metadata": {},
   "outputs": [],
   "source": []
  },
  {
   "cell_type": "code",
   "execution_count": null,
   "id": "0356ef21-55ee-44cb-905b-e68a459bba8d",
   "metadata": {},
   "outputs": [],
   "source": []
  },
  {
   "cell_type": "code",
   "execution_count": null,
   "id": "c602b598-caec-4298-8ffd-46a71698efa1",
   "metadata": {},
   "outputs": [],
   "source": []
  },
  {
   "cell_type": "code",
   "execution_count": null,
   "id": "e94bb6d2-0403-42b7-b61d-d0a782d7b005",
   "metadata": {},
   "outputs": [],
   "source": []
  },
  {
   "cell_type": "code",
   "execution_count": null,
   "id": "cb89b30e-5460-484b-b7fb-4983ce656a05",
   "metadata": {},
   "outputs": [],
   "source": []
  },
  {
   "cell_type": "code",
   "execution_count": null,
   "id": "49f28dd3-068f-421a-90d8-4bc95ad6253b",
   "metadata": {},
   "outputs": [],
   "source": []
  },
  {
   "cell_type": "code",
   "execution_count": 23,
   "id": "3341dc45-93cb-4b97-92c0-2297f1680d82",
   "metadata": {},
   "outputs": [],
   "source": [
    "train_df=train_df.drop(\"dst_host_srv_rerror_rate\",axis=1)\n",
    "train_df=train_df.drop(\"dst_host_rerror_rate\",axis=1)\n",
    "train_df=train_df.drop(\"dst_host_srv_serror_rate\",axis=1)\n",
    "train_df=train_df.drop(\"dst_host_serror_rate\",axis=1)\n",
    "train_df=train_df.drop(\"dst_host_srv_diff_host_rate\",axis=1)\n",
    "train_df=train_df.drop(\"dst_host_same_src_port_rate\",axis=1)\n",
    "train_df=train_df.drop(\"dst_host_diff_srv_rate\",axis=1)\n",
    "train_df=train_df.drop(\"dst_host_same_srv_rate\",axis=1)\n",
    "train_df=train_df.drop(\"dst_host_srv_count\",axis=1)\n",
    "train_df=train_df.drop(\"dst_host_count\",axis=1)\n",
    "train_df=train_df.drop(\"srv_diff_host_rate\",axis=1)\n",
    "train_df=train_df.drop(\"diff_srv_rate\",axis=1)\n",
    "train_df=train_df.drop(\"same_srv_rate\",axis=1)\n",
    "train_df=train_df.drop(\"srv_rerror_rate\",axis=1)\n",
    "train_df=train_df.drop(\"srv_count\",axis=1)\n",
    "train_df=train_df.drop(\"srv_serror_rate\",axis=1)"
   ]
  },
  {
   "cell_type": "code",
   "execution_count": 24,
   "id": "eacca543-da5f-4508-9833-3f8e2ea13f95",
   "metadata": {},
   "outputs": [],
   "source": [
    "test_df=test_df.drop(\"dst_host_srv_rerror_rate\",axis=1)\n",
    "test_df=test_df.drop(\"dst_host_rerror_rate\",axis=1)\n",
    "test_df=test_df.drop(\"dst_host_srv_serror_rate\",axis=1)\n",
    "test_df=test_df.drop(\"dst_host_serror_rate\",axis=1)\n",
    "test_df=test_df.drop(\"dst_host_srv_diff_host_rate\",axis=1)\n",
    "test_df=test_df.drop(\"dst_host_same_src_port_rate\",axis=1)\n",
    "test_df=test_df.drop(\"dst_host_diff_srv_rate\",axis=1)\n",
    "test_df=test_df.drop(\"dst_host_same_srv_rate\",axis=1)\n",
    "test_df=test_df.drop(\"dst_host_srv_count\",axis=1)\n",
    "test_df=test_df.drop(\"dst_host_count\",axis=1)\n",
    "test_df=test_df.drop(\"srv_diff_host_rate\",axis=1)\n",
    "test_df=test_df.drop(\"diff_srv_rate\",axis=1)\n",
    "test_df=test_df.drop(\"same_srv_rate\",axis=1)\n",
    "test_df=test_df.drop(\"srv_rerror_rate\",axis=1)\n",
    "test_df=test_df.drop(\"srv_count\",axis=1)\n",
    "test_df=test_df.drop(\"srv_serror_rate\",axis=1)"
   ]
  },
  {
   "cell_type": "code",
   "execution_count": 91,
   "id": "81d27697-f3f8-42e2-a6d9-f255042892ea",
   "metadata": {},
   "outputs": [],
   "source": [
    "# y_true_test = test_df['class']"
   ]
  },
  {
   "cell_type": "code",
   "execution_count": 92,
   "id": "1c0cd218-f06c-40ab-b085-5d7acbc89d16",
   "metadata": {},
   "outputs": [],
   "source": [
    "# y_true_test.head()"
   ]
  },
  {
   "cell_type": "code",
   "execution_count": 93,
   "id": "8fd8c244-6b5e-4e83-b0be-ee7f2a3c3d36",
   "metadata": {},
   "outputs": [],
   "source": [
    "# test_df=test_df.drop(\"class\",axis=1)\n",
    "# train_df=train_df.drop(\"class\",axis=1)"
   ]
  },
  {
   "cell_type": "code",
   "execution_count": 25,
   "id": "3bef62d7-9e1b-4121-9498-a4371a3724a8",
   "metadata": {},
   "outputs": [
    {
     "data": {
      "text/plain": [
       "duration              1796\n",
       "protocol_type            1\n",
       "src_bytes             3326\n",
       "dst_bytes             9282\n",
       "land                     2\n",
       "wrong_fragment           1\n",
       "urgent                   4\n",
       "hot                     28\n",
       "num_failed_logins        6\n",
       "logged_in                2\n",
       "num_compromised         88\n",
       "root_shell               2\n",
       "su_attempted             3\n",
       "num_root                82\n",
       "num_file_creations      35\n",
       "num_shells               3\n",
       "num_access_files        10\n",
       "num_outbound_cmds        1\n",
       "is_host_login            2\n",
       "is_guest_login           2\n",
       "count                  512\n",
       "serror_rate             81\n",
       "rerror_rate             82\n",
       "class                    2\n",
       "dtype: int64"
      ]
     },
     "execution_count": 25,
     "metadata": {},
     "output_type": "execute_result"
    }
   ],
   "source": [
    "train_df.nunique()"
   ]
  },
  {
   "cell_type": "code",
   "execution_count": 26,
   "id": "50fa857f-af75-4872-b097-f36b140860a3",
   "metadata": {},
   "outputs": [
    {
     "data": {
      "text/plain": [
       "duration               624\n",
       "protocol_type            3\n",
       "src_bytes             1149\n",
       "dst_bytes             3650\n",
       "land                     2\n",
       "wrong_fragment           3\n",
       "urgent                   4\n",
       "hot                     16\n",
       "num_failed_logins        5\n",
       "logged_in                2\n",
       "num_compromised         23\n",
       "root_shell               2\n",
       "su_attempted             3\n",
       "num_root                20\n",
       "num_file_creations       9\n",
       "num_shells               4\n",
       "num_access_files         5\n",
       "num_outbound_cmds        1\n",
       "is_host_login            2\n",
       "is_guest_login           2\n",
       "count                  495\n",
       "serror_rate             88\n",
       "rerror_rate             90\n",
       "class                    2\n",
       "dtype: int64"
      ]
     },
     "execution_count": 26,
     "metadata": {},
     "output_type": "execute_result"
    }
   ],
   "source": [
    "test_df.nunique()"
   ]
  },
  {
   "cell_type": "markdown",
   "id": "53afcaef-d9e8-4845-82ae-d92e575dbf62",
   "metadata": {},
   "source": [
    "<h1>Supprimer les colonnes qui n'ont pas de valeurs ajoutée </h1>"
   ]
  },
  {
   "cell_type": "code",
   "execution_count": 27,
   "id": "bef67f48-8618-4327-be3d-25fa38b69fe7",
   "metadata": {},
   "outputs": [],
   "source": [
    "#for train data\n",
    "train_df=train_df.drop(\"protocol_type\",axis=1)\n",
    "train_df=train_df.drop(\"wrong_fragment\",axis=1)\n",
    "train_df=train_df.drop(\"num_outbound_cmds\",axis=1)\n",
    "\n",
    "\n",
    "#for test data\n",
    "test_df=test_df.drop(\"protocol_type\",axis=1)\n",
    "test_df=test_df.drop(\"wrong_fragment\",axis=1)\n",
    "test_df=test_df.drop(\"num_outbound_cmds\",axis=1)"
   ]
  },
  {
   "cell_type": "code",
   "execution_count": 28,
   "id": "be26fcea-013a-4ba9-9662-3b1a428fb701",
   "metadata": {},
   "outputs": [
    {
     "data": {
      "text/plain": [
       "53079"
      ]
     },
     "execution_count": 28,
     "metadata": {},
     "output_type": "execute_result"
    }
   ],
   "source": [
    "train_df.duplicated().sum()"
   ]
  },
  {
   "cell_type": "code",
   "execution_count": 29,
   "id": "65ed2bf2-213b-4505-a5a6-7a9b240a341b",
   "metadata": {},
   "outputs": [
    {
     "data": {
      "text/plain": [
       "(49610, 21)"
      ]
     },
     "execution_count": 29,
     "metadata": {},
     "output_type": "execute_result"
    }
   ],
   "source": [
    "train_df=train_df.drop_duplicates(keep='first')\n",
    "train_df.shape\n"
   ]
  },
  {
   "cell_type": "code",
   "execution_count": 30,
   "id": "6ed0d445-5e56-459f-ac25-2926aa65a1e3",
   "metadata": {},
   "outputs": [
    {
     "data": {
      "text/plain": [
       "(12300, 21)"
      ]
     },
     "execution_count": 30,
     "metadata": {},
     "output_type": "execute_result"
    }
   ],
   "source": [
    "test_df=test_df.drop_duplicates(keep='first')\n",
    "test_df.shape\n"
   ]
  },
  {
   "cell_type": "code",
   "execution_count": 31,
   "id": "5ea7e9db-92e9-4001-a124-b2d260d2f5c1",
   "metadata": {},
   "outputs": [],
   "source": [
    "labelencoder = LabelEncoder()\n",
    "test_df['class'] = labelencoder.fit_transform(test_df['class'])"
   ]
  },
  {
   "cell_type": "code",
   "execution_count": 32,
   "id": "1d90e227-1936-4bd5-8166-541fd0a20274",
   "metadata": {},
   "outputs": [
    {
     "data": {
      "text/plain": [
       "0        0\n",
       "1        0\n",
       "2        1\n",
       "3        0\n",
       "4        0\n",
       "        ..\n",
       "22533    1\n",
       "22535    1\n",
       "22538    0\n",
       "22539    1\n",
       "22540    1\n",
       "Name: class, Length: 12300, dtype: int32"
      ]
     },
     "execution_count": 32,
     "metadata": {},
     "output_type": "execute_result"
    }
   ],
   "source": [
    "test_df['class']"
   ]
  },
  {
   "cell_type": "code",
   "execution_count": 33,
   "id": "85987809-9caf-4188-b15d-0fdafb1d8276",
   "metadata": {},
   "outputs": [],
   "source": [
    "y_true_test = test_df['class']"
   ]
  },
  {
   "cell_type": "code",
   "execution_count": 34,
   "id": "6cb44123-2c89-473c-be09-0dbea600a580",
   "metadata": {},
   "outputs": [],
   "source": [
    "test_df=test_df.drop(\"class\",axis=1)\n",
    "train_df=train_df.drop(\"class\",axis=1)"
   ]
  },
  {
   "cell_type": "code",
   "execution_count": 35,
   "id": "ab07ad2e-4754-43f8-be0f-312a125c9411",
   "metadata": {},
   "outputs": [
    {
     "data": {
      "text/plain": [
       "0    0\n",
       "1    0\n",
       "2    1\n",
       "3    0\n",
       "4    0\n",
       "Name: class, dtype: int32"
      ]
     },
     "execution_count": 35,
     "metadata": {},
     "output_type": "execute_result"
    }
   ],
   "source": [
    "y_true_test.head()"
   ]
  },
  {
   "cell_type": "code",
   "execution_count": 36,
   "id": "ea247447-87f1-4412-8f8c-d55ceaadf8e9",
   "metadata": {},
   "outputs": [
    {
     "data": {
      "text/plain": [
       "(49610, 20)"
      ]
     },
     "execution_count": 36,
     "metadata": {},
     "output_type": "execute_result"
    }
   ],
   "source": [
    "train_df.shape\n"
   ]
  },
  {
   "cell_type": "markdown",
   "id": "b98a31aa-1cb5-4f3d-8985-9af558d3451f",
   "metadata": {},
   "source": [
    "<h2>Normalization</h2>"
   ]
  },
  {
   "cell_type": "code",
   "execution_count": 37,
   "id": "a8d2e14a-b75a-4aa4-9b63-5723f4d763b9",
   "metadata": {},
   "outputs": [],
   "source": [
    "def normalizing(data):\n",
    "    for idx in range(len(data.columns)):\n",
    "        if data.nunique()[idx] != 2:\n",
    "            data.iloc[:,idx] = normalize([np.array(data.iloc[:,idx])]).reshape(-1)\n",
    "    return data"
   ]
  },
  {
   "cell_type": "code",
   "execution_count": 38,
   "id": "7e5650ba-1f00-4166-923b-182349f88085",
   "metadata": {},
   "outputs": [],
   "source": [
    "def PCA_transformation(data, dim = None):\n",
    "    pca = PCA()\n",
    "    pca.fit(data)\n",
    "    cum_vars = np.cumsum(pca.explained_variance_ratio_)\n",
    "    for i in range(len(cum_vars)):\n",
    "        if cum_vars[i] == 0.999:\n",
    "            break\n",
    "    if dim:\n",
    "        pca = PCA(dim)\n",
    "        data = pca.fit_transform(data)\n",
    "        return pd.DataFrame(data)\n",
    "    \n",
    "    pca = PCA(i)\n",
    "    data = pca.fit_transform(data)\n",
    "    return pd.DataFrame(data) , i\n"
   ]
  },
  {
   "cell_type": "code",
   "execution_count": 39,
   "id": "e2e6966b-368e-407e-9acd-578d094ed5a3",
   "metadata": {},
   "outputs": [],
   "source": [
    "def GMM_Row_Transform(data, values, threshold):\n",
    "    probs = []\n",
    "    for idx in range(len(data.columns)):\n",
    "        mean = np.array(data.iloc[:,idx]).mean()\n",
    "        std = np.array(data.iloc[:,idx]).std()\n",
    "\n",
    "        z_score = (values[idx] - mean)/std\n",
    "        prob = (1-norm.cdf(z_score))*100\n",
    "        probs.append(prob)\n",
    "    return probs\n"
   ]
  },
  {
   "cell_type": "code",
   "execution_count": 40,
   "id": "99752458-0f99-4ce6-a2db-bee9412bccb9",
   "metadata": {},
   "outputs": [],
   "source": [
    "def GMM_Matrix_Transform(origin_data, data, threshold):\n",
    "    matrix = []\n",
    "    for i in tqdm(range(len(data))):\n",
    "        row = GMM_Row_Transform(origin_data, data.iloc[i,:], threshold)\n",
    "        \n",
    "        matrix.append(row)\n",
    "    return matrix"
   ]
  },
  {
   "cell_type": "markdown",
   "id": "f1e3f375-f27f-4d41-8116-05cdea6528ef",
   "metadata": {},
   "source": [
    "## d_raw: The originalNSL dataset without any transformation of the numerical values"
   ]
  },
  {
   "cell_type": "code",
   "execution_count": 41,
   "id": "7fe2b981-737a-43ec-bbd4-1d987da4bb2f",
   "metadata": {},
   "outputs": [
    {
     "data": {
      "text/html": [
       "<div>\n",
       "<style scoped>\n",
       "    .dataframe tbody tr th:only-of-type {\n",
       "        vertical-align: middle;\n",
       "    }\n",
       "\n",
       "    .dataframe tbody tr th {\n",
       "        vertical-align: top;\n",
       "    }\n",
       "\n",
       "    .dataframe thead th {\n",
       "        text-align: right;\n",
       "    }\n",
       "</style>\n",
       "<table border=\"1\" class=\"dataframe\">\n",
       "  <thead>\n",
       "    <tr style=\"text-align: right;\">\n",
       "      <th></th>\n",
       "      <th>duration</th>\n",
       "      <th>src_bytes</th>\n",
       "      <th>dst_bytes</th>\n",
       "      <th>land</th>\n",
       "      <th>urgent</th>\n",
       "      <th>hot</th>\n",
       "      <th>num_failed_logins</th>\n",
       "      <th>logged_in</th>\n",
       "      <th>num_compromised</th>\n",
       "      <th>root_shell</th>\n",
       "      <th>su_attempted</th>\n",
       "      <th>num_root</th>\n",
       "      <th>num_file_creations</th>\n",
       "      <th>num_shells</th>\n",
       "      <th>num_access_files</th>\n",
       "      <th>is_host_login</th>\n",
       "      <th>is_guest_login</th>\n",
       "      <th>count</th>\n",
       "      <th>serror_rate</th>\n",
       "      <th>rerror_rate</th>\n",
       "    </tr>\n",
       "  </thead>\n",
       "  <tbody>\n",
       "    <tr>\n",
       "      <th>0</th>\n",
       "      <td>0.0</td>\n",
       "      <td>491.0</td>\n",
       "      <td>0.0</td>\n",
       "      <td>0</td>\n",
       "      <td>0.0</td>\n",
       "      <td>0.0</td>\n",
       "      <td>0.0</td>\n",
       "      <td>0</td>\n",
       "      <td>0.0</td>\n",
       "      <td>0.0</td>\n",
       "      <td>0.0</td>\n",
       "      <td>0.0</td>\n",
       "      <td>0.0</td>\n",
       "      <td>0.0</td>\n",
       "      <td>0.0</td>\n",
       "      <td>0</td>\n",
       "      <td>0</td>\n",
       "      <td>2.0</td>\n",
       "      <td>0.0</td>\n",
       "      <td>0.0</td>\n",
       "    </tr>\n",
       "    <tr>\n",
       "      <th>2</th>\n",
       "      <td>0.0</td>\n",
       "      <td>0.0</td>\n",
       "      <td>0.0</td>\n",
       "      <td>0</td>\n",
       "      <td>0.0</td>\n",
       "      <td>0.0</td>\n",
       "      <td>0.0</td>\n",
       "      <td>0</td>\n",
       "      <td>0.0</td>\n",
       "      <td>0.0</td>\n",
       "      <td>0.0</td>\n",
       "      <td>0.0</td>\n",
       "      <td>0.0</td>\n",
       "      <td>0.0</td>\n",
       "      <td>0.0</td>\n",
       "      <td>0</td>\n",
       "      <td>0</td>\n",
       "      <td>123.0</td>\n",
       "      <td>1.0</td>\n",
       "      <td>0.0</td>\n",
       "    </tr>\n",
       "    <tr>\n",
       "      <th>3</th>\n",
       "      <td>0.0</td>\n",
       "      <td>232.0</td>\n",
       "      <td>8153.0</td>\n",
       "      <td>0</td>\n",
       "      <td>0.0</td>\n",
       "      <td>0.0</td>\n",
       "      <td>0.0</td>\n",
       "      <td>1</td>\n",
       "      <td>0.0</td>\n",
       "      <td>0.0</td>\n",
       "      <td>0.0</td>\n",
       "      <td>0.0</td>\n",
       "      <td>0.0</td>\n",
       "      <td>0.0</td>\n",
       "      <td>0.0</td>\n",
       "      <td>0</td>\n",
       "      <td>0</td>\n",
       "      <td>5.0</td>\n",
       "      <td>0.2</td>\n",
       "      <td>0.0</td>\n",
       "    </tr>\n",
       "    <tr>\n",
       "      <th>4</th>\n",
       "      <td>0.0</td>\n",
       "      <td>199.0</td>\n",
       "      <td>420.0</td>\n",
       "      <td>0</td>\n",
       "      <td>0.0</td>\n",
       "      <td>0.0</td>\n",
       "      <td>0.0</td>\n",
       "      <td>1</td>\n",
       "      <td>0.0</td>\n",
       "      <td>0.0</td>\n",
       "      <td>0.0</td>\n",
       "      <td>0.0</td>\n",
       "      <td>0.0</td>\n",
       "      <td>0.0</td>\n",
       "      <td>0.0</td>\n",
       "      <td>0</td>\n",
       "      <td>0</td>\n",
       "      <td>30.0</td>\n",
       "      <td>0.0</td>\n",
       "      <td>0.0</td>\n",
       "    </tr>\n",
       "    <tr>\n",
       "      <th>5</th>\n",
       "      <td>0.0</td>\n",
       "      <td>0.0</td>\n",
       "      <td>0.0</td>\n",
       "      <td>0</td>\n",
       "      <td>0.0</td>\n",
       "      <td>0.0</td>\n",
       "      <td>0.0</td>\n",
       "      <td>0</td>\n",
       "      <td>0.0</td>\n",
       "      <td>0.0</td>\n",
       "      <td>0.0</td>\n",
       "      <td>0.0</td>\n",
       "      <td>0.0</td>\n",
       "      <td>0.0</td>\n",
       "      <td>0.0</td>\n",
       "      <td>0</td>\n",
       "      <td>0</td>\n",
       "      <td>121.0</td>\n",
       "      <td>0.0</td>\n",
       "      <td>1.0</td>\n",
       "    </tr>\n",
       "  </tbody>\n",
       "</table>\n",
       "</div>"
      ],
      "text/plain": [
       "   duration  src_bytes  dst_bytes  land  urgent  hot  num_failed_logins  \\\n",
       "0       0.0      491.0        0.0     0     0.0  0.0                0.0   \n",
       "2       0.0        0.0        0.0     0     0.0  0.0                0.0   \n",
       "3       0.0      232.0     8153.0     0     0.0  0.0                0.0   \n",
       "4       0.0      199.0      420.0     0     0.0  0.0                0.0   \n",
       "5       0.0        0.0        0.0     0     0.0  0.0                0.0   \n",
       "\n",
       "   logged_in  num_compromised  root_shell  su_attempted  num_root  \\\n",
       "0          0              0.0         0.0           0.0       0.0   \n",
       "2          0              0.0         0.0           0.0       0.0   \n",
       "3          1              0.0         0.0           0.0       0.0   \n",
       "4          1              0.0         0.0           0.0       0.0   \n",
       "5          0              0.0         0.0           0.0       0.0   \n",
       "\n",
       "   num_file_creations  num_shells  num_access_files  is_host_login  \\\n",
       "0                 0.0         0.0               0.0              0   \n",
       "2                 0.0         0.0               0.0              0   \n",
       "3                 0.0         0.0               0.0              0   \n",
       "4                 0.0         0.0               0.0              0   \n",
       "5                 0.0         0.0               0.0              0   \n",
       "\n",
       "   is_guest_login  count  serror_rate  rerror_rate  \n",
       "0               0    2.0          0.0          0.0  \n",
       "2               0  123.0          1.0          0.0  \n",
       "3               0    5.0          0.2          0.0  \n",
       "4               0   30.0          0.0          0.0  \n",
       "5               0  121.0          0.0          1.0  "
      ]
     },
     "execution_count": 41,
     "metadata": {},
     "output_type": "execute_result"
    }
   ],
   "source": [
    "d_raw_train = train_df\n",
    "d_raw_train.head()"
   ]
  },
  {
   "cell_type": "code",
   "execution_count": 42,
   "id": "fd46a08f-ae3d-4965-bed3-a7945b253c39",
   "metadata": {},
   "outputs": [
    {
     "data": {
      "text/html": [
       "<div>\n",
       "<style scoped>\n",
       "    .dataframe tbody tr th:only-of-type {\n",
       "        vertical-align: middle;\n",
       "    }\n",
       "\n",
       "    .dataframe tbody tr th {\n",
       "        vertical-align: top;\n",
       "    }\n",
       "\n",
       "    .dataframe thead th {\n",
       "        text-align: right;\n",
       "    }\n",
       "</style>\n",
       "<table border=\"1\" class=\"dataframe\">\n",
       "  <thead>\n",
       "    <tr style=\"text-align: right;\">\n",
       "      <th></th>\n",
       "      <th>duration</th>\n",
       "      <th>src_bytes</th>\n",
       "      <th>dst_bytes</th>\n",
       "      <th>land</th>\n",
       "      <th>urgent</th>\n",
       "      <th>hot</th>\n",
       "      <th>num_failed_logins</th>\n",
       "      <th>logged_in</th>\n",
       "      <th>num_compromised</th>\n",
       "      <th>root_shell</th>\n",
       "      <th>su_attempted</th>\n",
       "      <th>num_root</th>\n",
       "      <th>num_file_creations</th>\n",
       "      <th>num_shells</th>\n",
       "      <th>num_access_files</th>\n",
       "      <th>is_host_login</th>\n",
       "      <th>is_guest_login</th>\n",
       "      <th>count</th>\n",
       "      <th>serror_rate</th>\n",
       "      <th>rerror_rate</th>\n",
       "    </tr>\n",
       "  </thead>\n",
       "  <tbody>\n",
       "    <tr>\n",
       "      <th>0</th>\n",
       "      <td>0.0</td>\n",
       "      <td>0.0</td>\n",
       "      <td>0.0</td>\n",
       "      <td>0</td>\n",
       "      <td>0.0</td>\n",
       "      <td>0.0</td>\n",
       "      <td>0.0</td>\n",
       "      <td>0</td>\n",
       "      <td>0.0</td>\n",
       "      <td>0.0</td>\n",
       "      <td>0.0</td>\n",
       "      <td>0.0</td>\n",
       "      <td>0.0</td>\n",
       "      <td>0.0</td>\n",
       "      <td>0.0</td>\n",
       "      <td>0</td>\n",
       "      <td>0</td>\n",
       "      <td>229.0</td>\n",
       "      <td>0.0</td>\n",
       "      <td>1.0</td>\n",
       "    </tr>\n",
       "    <tr>\n",
       "      <th>1</th>\n",
       "      <td>0.0</td>\n",
       "      <td>0.0</td>\n",
       "      <td>0.0</td>\n",
       "      <td>0</td>\n",
       "      <td>0.0</td>\n",
       "      <td>0.0</td>\n",
       "      <td>0.0</td>\n",
       "      <td>0</td>\n",
       "      <td>0.0</td>\n",
       "      <td>0.0</td>\n",
       "      <td>0.0</td>\n",
       "      <td>0.0</td>\n",
       "      <td>0.0</td>\n",
       "      <td>0.0</td>\n",
       "      <td>0.0</td>\n",
       "      <td>0</td>\n",
       "      <td>0</td>\n",
       "      <td>136.0</td>\n",
       "      <td>0.0</td>\n",
       "      <td>1.0</td>\n",
       "    </tr>\n",
       "    <tr>\n",
       "      <th>2</th>\n",
       "      <td>2.0</td>\n",
       "      <td>12983.0</td>\n",
       "      <td>0.0</td>\n",
       "      <td>0</td>\n",
       "      <td>0.0</td>\n",
       "      <td>0.0</td>\n",
       "      <td>0.0</td>\n",
       "      <td>0</td>\n",
       "      <td>0.0</td>\n",
       "      <td>0.0</td>\n",
       "      <td>0.0</td>\n",
       "      <td>0.0</td>\n",
       "      <td>0.0</td>\n",
       "      <td>0.0</td>\n",
       "      <td>0.0</td>\n",
       "      <td>0</td>\n",
       "      <td>0</td>\n",
       "      <td>1.0</td>\n",
       "      <td>0.0</td>\n",
       "      <td>0.0</td>\n",
       "    </tr>\n",
       "    <tr>\n",
       "      <th>3</th>\n",
       "      <td>0.0</td>\n",
       "      <td>20.0</td>\n",
       "      <td>0.0</td>\n",
       "      <td>0</td>\n",
       "      <td>0.0</td>\n",
       "      <td>0.0</td>\n",
       "      <td>0.0</td>\n",
       "      <td>0</td>\n",
       "      <td>0.0</td>\n",
       "      <td>0.0</td>\n",
       "      <td>0.0</td>\n",
       "      <td>0.0</td>\n",
       "      <td>0.0</td>\n",
       "      <td>0.0</td>\n",
       "      <td>0.0</td>\n",
       "      <td>0</td>\n",
       "      <td>0</td>\n",
       "      <td>1.0</td>\n",
       "      <td>0.0</td>\n",
       "      <td>0.0</td>\n",
       "    </tr>\n",
       "    <tr>\n",
       "      <th>4</th>\n",
       "      <td>1.0</td>\n",
       "      <td>0.0</td>\n",
       "      <td>15.0</td>\n",
       "      <td>0</td>\n",
       "      <td>0.0</td>\n",
       "      <td>0.0</td>\n",
       "      <td>0.0</td>\n",
       "      <td>0</td>\n",
       "      <td>0.0</td>\n",
       "      <td>0.0</td>\n",
       "      <td>0.0</td>\n",
       "      <td>0.0</td>\n",
       "      <td>0.0</td>\n",
       "      <td>0.0</td>\n",
       "      <td>0.0</td>\n",
       "      <td>0</td>\n",
       "      <td>0</td>\n",
       "      <td>1.0</td>\n",
       "      <td>0.0</td>\n",
       "      <td>1.0</td>\n",
       "    </tr>\n",
       "  </tbody>\n",
       "</table>\n",
       "</div>"
      ],
      "text/plain": [
       "   duration  src_bytes  dst_bytes  land  urgent  hot  num_failed_logins  \\\n",
       "0       0.0        0.0        0.0     0     0.0  0.0                0.0   \n",
       "1       0.0        0.0        0.0     0     0.0  0.0                0.0   \n",
       "2       2.0    12983.0        0.0     0     0.0  0.0                0.0   \n",
       "3       0.0       20.0        0.0     0     0.0  0.0                0.0   \n",
       "4       1.0        0.0       15.0     0     0.0  0.0                0.0   \n",
       "\n",
       "   logged_in  num_compromised  root_shell  su_attempted  num_root  \\\n",
       "0          0              0.0         0.0           0.0       0.0   \n",
       "1          0              0.0         0.0           0.0       0.0   \n",
       "2          0              0.0         0.0           0.0       0.0   \n",
       "3          0              0.0         0.0           0.0       0.0   \n",
       "4          0              0.0         0.0           0.0       0.0   \n",
       "\n",
       "   num_file_creations  num_shells  num_access_files  is_host_login  \\\n",
       "0                 0.0         0.0               0.0              0   \n",
       "1                 0.0         0.0               0.0              0   \n",
       "2                 0.0         0.0               0.0              0   \n",
       "3                 0.0         0.0               0.0              0   \n",
       "4                 0.0         0.0               0.0              0   \n",
       "\n",
       "   is_guest_login  count  serror_rate  rerror_rate  \n",
       "0               0  229.0          0.0          1.0  \n",
       "1               0  136.0          0.0          1.0  \n",
       "2               0    1.0          0.0          0.0  \n",
       "3               0    1.0          0.0          0.0  \n",
       "4               0    1.0          0.0          1.0  "
      ]
     },
     "execution_count": 42,
     "metadata": {},
     "output_type": "execute_result"
    }
   ],
   "source": [
    "d_raw_test = test_df\n",
    "d_raw_test.head()"
   ]
  },
  {
   "cell_type": "markdown",
   "id": "423baf52-0ba1-4e35-91e7-6424cf22ea31",
   "metadata": {},
   "source": [
    "## d_raw_probs: The originalNSL dataset with GMM"
   ]
  },
  {
   "cell_type": "code",
   "execution_count": 43,
   "id": "60b3f7f7-be70-49ce-8299-9af6b9c4f633",
   "metadata": {},
   "outputs": [
    {
     "name": "stderr",
     "output_type": "stream",
     "text": [
      "100%|██████████| 49610/49610 [23:16<00:00, 35.52it/s]\n",
      "100%|██████████| 12300/12300 [03:54<00:00, 52.55it/s]\n"
     ]
    }
   ],
   "source": [
    "d_raw_probs_train = pd.DataFrame(GMM_Matrix_Transform(d_raw_train, d_raw_train, 50))\n",
    "d_raw_probs_test =  pd.DataFrame(GMM_Matrix_Transform(d_raw_test, d_raw_test, 50))"
   ]
  },
  {
   "cell_type": "markdown",
   "id": "f278fbfc-565f-4ba6-a38e-01ccb373acdb",
   "metadata": {},
   "source": [
    "## d_raw_pca: The originalNSL dataset with PCA"
   ]
  },
  {
   "cell_type": "code",
   "execution_count": 44,
   "id": "295f6983-37e8-44ad-ae3c-efd79d7e1cff",
   "metadata": {},
   "outputs": [],
   "source": [
    "d_raw_pca_train = PCA_transformation(d_raw_train , 4)\n",
    "d_raw_pca_test = PCA_transformation(d_raw_test , 4)"
   ]
  },
  {
   "cell_type": "code",
   "execution_count": 45,
   "id": "499fb06d-ddee-4e87-ac97-02967fad9f23",
   "metadata": {},
   "outputs": [
    {
     "data": {
      "text/html": [
       "<div>\n",
       "<style scoped>\n",
       "    .dataframe tbody tr th:only-of-type {\n",
       "        vertical-align: middle;\n",
       "    }\n",
       "\n",
       "    .dataframe tbody tr th {\n",
       "        vertical-align: top;\n",
       "    }\n",
       "\n",
       "    .dataframe thead th {\n",
       "        text-align: right;\n",
       "    }\n",
       "</style>\n",
       "<table border=\"1\" class=\"dataframe\">\n",
       "  <thead>\n",
       "    <tr style=\"text-align: right;\">\n",
       "      <th></th>\n",
       "      <th>0</th>\n",
       "      <th>1</th>\n",
       "      <th>2</th>\n",
       "      <th>3</th>\n",
       "    </tr>\n",
       "  </thead>\n",
       "  <tbody>\n",
       "    <tr>\n",
       "      <th>0</th>\n",
       "      <td>-103787.268303</td>\n",
       "      <td>-49919.572480</td>\n",
       "      <td>-577.286942</td>\n",
       "      <td>-18.741117</td>\n",
       "    </tr>\n",
       "    <tr>\n",
       "      <th>1</th>\n",
       "      <td>-104278.268295</td>\n",
       "      <td>-49919.474158</td>\n",
       "      <td>-577.353779</td>\n",
       "      <td>102.250441</td>\n",
       "    </tr>\n",
       "    <tr>\n",
       "      <th>2</th>\n",
       "      <td>-104044.635643</td>\n",
       "      <td>-41766.520780</td>\n",
       "      <td>-577.462185</td>\n",
       "      <td>-15.743917</td>\n",
       "    </tr>\n",
       "    <tr>\n",
       "      <th>3</th>\n",
       "      <td>-104079.184191</td>\n",
       "      <td>-49499.514015</td>\n",
       "      <td>-577.306236</td>\n",
       "      <td>9.254087</td>\n",
       "    </tr>\n",
       "    <tr>\n",
       "      <th>4</th>\n",
       "      <td>-104278.268295</td>\n",
       "      <td>-49919.474158</td>\n",
       "      <td>-577.352391</td>\n",
       "      <td>100.252405</td>\n",
       "    </tr>\n",
       "  </tbody>\n",
       "</table>\n",
       "</div>"
      ],
      "text/plain": [
       "               0             1           2           3\n",
       "0 -103787.268303 -49919.572480 -577.286942  -18.741117\n",
       "1 -104278.268295 -49919.474158 -577.353779  102.250441\n",
       "2 -104044.635643 -41766.520780 -577.462185  -15.743917\n",
       "3 -104079.184191 -49499.514015 -577.306236    9.254087\n",
       "4 -104278.268295 -49919.474158 -577.352391  100.252405"
      ]
     },
     "execution_count": 45,
     "metadata": {},
     "output_type": "execute_result"
    }
   ],
   "source": [
    "d_raw_pca_train.head()"
   ]
  },
  {
   "cell_type": "code",
   "execution_count": 46,
   "id": "576e3bd9-3423-48d6-b60d-cbbe8250547e",
   "metadata": {},
   "outputs": [
    {
     "data": {
      "text/html": [
       "<div>\n",
       "<style scoped>\n",
       "    .dataframe tbody tr th:only-of-type {\n",
       "        vertical-align: middle;\n",
       "    }\n",
       "\n",
       "    .dataframe tbody tr th {\n",
       "        vertical-align: top;\n",
       "    }\n",
       "\n",
       "    .dataframe thead th {\n",
       "        text-align: right;\n",
       "    }\n",
       "</style>\n",
       "<table border=\"1\" class=\"dataframe\">\n",
       "  <thead>\n",
       "    <tr style=\"text-align: right;\">\n",
       "      <th></th>\n",
       "      <th>0</th>\n",
       "      <th>1</th>\n",
       "      <th>2</th>\n",
       "      <th>3</th>\n",
       "    </tr>\n",
       "  </thead>\n",
       "  <tbody>\n",
       "    <tr>\n",
       "      <th>0</th>\n",
       "      <td>-12637.294053</td>\n",
       "      <td>-3472.268200</td>\n",
       "      <td>-303.115512</td>\n",
       "      <td>166.821621</td>\n",
       "    </tr>\n",
       "    <tr>\n",
       "      <th>1</th>\n",
       "      <td>-12637.293904</td>\n",
       "      <td>-3472.246756</td>\n",
       "      <td>-302.613810</td>\n",
       "      <td>73.823282</td>\n",
       "    </tr>\n",
       "    <tr>\n",
       "      <th>2</th>\n",
       "      <td>345.669508</td>\n",
       "      <td>-3503.123222</td>\n",
       "      <td>-299.793979</td>\n",
       "      <td>-61.150153</td>\n",
       "    </tr>\n",
       "    <tr>\n",
       "      <th>3</th>\n",
       "      <td>-12617.293744</td>\n",
       "      <td>-3472.263254</td>\n",
       "      <td>-301.885397</td>\n",
       "      <td>-61.175117</td>\n",
       "    </tr>\n",
       "    <tr>\n",
       "      <th>4</th>\n",
       "      <td>-12637.257962</td>\n",
       "      <td>-3457.210914</td>\n",
       "      <td>-300.959656</td>\n",
       "      <td>-61.165853</td>\n",
       "    </tr>\n",
       "  </tbody>\n",
       "</table>\n",
       "</div>"
      ],
      "text/plain": [
       "              0            1           2           3\n",
       "0 -12637.294053 -3472.268200 -303.115512  166.821621\n",
       "1 -12637.293904 -3472.246756 -302.613810   73.823282\n",
       "2    345.669508 -3503.123222 -299.793979  -61.150153\n",
       "3 -12617.293744 -3472.263254 -301.885397  -61.175117\n",
       "4 -12637.257962 -3457.210914 -300.959656  -61.165853"
      ]
     },
     "execution_count": 46,
     "metadata": {},
     "output_type": "execute_result"
    }
   ],
   "source": [
    "d_raw_pca_test.head()"
   ]
  },
  {
   "cell_type": "markdown",
   "id": "a751dde5-d87d-4fff-ac3e-19376e416883",
   "metadata": {},
   "source": [
    "# # d_raw_pca_probs: The originalNSL dataset with PCA and GMM"
   ]
  },
  {
   "cell_type": "code",
   "execution_count": 47,
   "id": "56637503-8e26-48d2-953d-190133d1c1eb",
   "metadata": {},
   "outputs": [
    {
     "name": "stderr",
     "output_type": "stream",
     "text": [
      "100%|██████████| 49610/49610 [09:33<00:00, 86.50it/s] \n",
      "100%|██████████| 12300/12300 [01:09<00:00, 178.24it/s]\n"
     ]
    }
   ],
   "source": [
    "d_raw_pca_probs_train = pd.DataFrame(GMM_Matrix_Transform(d_raw_pca_train, d_raw_train, 50))\n",
    "d_raw_pca_probs_test =  pd.DataFrame(GMM_Matrix_Transform(d_raw_pca_test, d_raw_test, 50))"
   ]
  },
  {
   "cell_type": "markdown",
   "id": "3d2efc98-90c1-463a-bb23-8ef9c62357bf",
   "metadata": {},
   "source": [
    "# # d_norm: The Normalised dataset "
   ]
  },
  {
   "cell_type": "code",
   "execution_count": 48,
   "id": "84b8e228-3853-45ac-a7a4-41051bf728b2",
   "metadata": {},
   "outputs": [],
   "source": [
    "d_norm_train = normalizing(train_df)\n",
    "d_norm_test = normalizing(test_df)"
   ]
  },
  {
   "cell_type": "markdown",
   "id": "18c61148-3c5e-418c-9747-ce6e3480295e",
   "metadata": {},
   "source": [
    "# # d_norm_probs : The Normalised dataset with GMM "
   ]
  },
  {
   "cell_type": "code",
   "execution_count": 49,
   "id": "519579e6-b381-4e16-a8bd-b96343dbeafe",
   "metadata": {},
   "outputs": [
    {
     "name": "stderr",
     "output_type": "stream",
     "text": [
      "100%|██████████| 49610/49610 [23:14<00:00, 35.57it/s]\n",
      "100%|██████████| 12300/12300 [03:52<00:00, 52.92it/s]\n"
     ]
    }
   ],
   "source": [
    "d_norm_probs_train = pd.DataFrame(GMM_Matrix_Transform(d_norm_train, d_norm_train, 50))\n",
    "d_norm_probs_test = pd.DataFrame(GMM_Matrix_Transform(d_norm_test, d_norm_test, 50))"
   ]
  },
  {
   "cell_type": "markdown",
   "id": "957774de-fde1-421b-bbd2-bd5865a3fbfb",
   "metadata": {},
   "source": [
    "# # d_norm_pca : The Normalised dataset with PCA"
   ]
  },
  {
   "cell_type": "code",
   "execution_count": 50,
   "id": "ce7e2d7a-dfd9-43e6-8193-01ea8f57affd",
   "metadata": {},
   "outputs": [],
   "source": [
    "d_norm_pca_train = PCA_transformation(d_norm_train , 4)\n",
    "d_norm_pca_test = PCA_transformation(d_norm_test , 4)"
   ]
  },
  {
   "cell_type": "markdown",
   "id": "6198a522-1ac2-40c2-a605-54daca8a607a",
   "metadata": {},
   "source": [
    "# # d_norm_pca_probs : The Normalised dataset with PCA & GMM"
   ]
  },
  {
   "cell_type": "code",
   "execution_count": 51,
   "id": "b7b182a7-0927-428b-b72a-6db6c0d8c7b1",
   "metadata": {
    "scrolled": true
   },
   "outputs": [
    {
     "name": "stderr",
     "output_type": "stream",
     "text": [
      "100%|██████████| 49610/49610 [09:35<00:00, 86.22it/s] \n",
      "100%|██████████| 12300/12300 [01:05<00:00, 188.26it/s]\n"
     ]
    }
   ],
   "source": [
    "d_norm_pca_probs_train = pd.DataFrame(GMM_Matrix_Transform(d_norm_pca_train ,  d_norm_pca_train , 50))\n",
    "d_norm_pca_probs_test =  pd.DataFrame(GMM_Matrix_Transform(d_norm_pca_test , d_norm_pca_test , 50))"
   ]
  },
  {
   "cell_type": "code",
   "execution_count": null,
   "id": "df1001c2-6773-4568-abc8-2eb32a6ae471",
   "metadata": {},
   "outputs": [],
   "source": []
  },
  {
   "cell_type": "markdown",
   "id": "2c8139d4-c699-446a-8fe5-dc52863eb765",
   "metadata": {},
   "source": [
    "## Modeling"
   ]
  },
  {
   "cell_type": "code",
   "execution_count": 52,
   "id": "d202ada9-269e-4d47-8bf2-8f40b26e614b",
   "metadata": {},
   "outputs": [],
   "source": [
    "def GMM_vote(data, values, threshold):\n",
    "    no = 0\n",
    "    for idx in range(len(data.columns)):\n",
    "        mean = np.array(data.iloc[:,idx]).mean()\n",
    "        std = np.array(data.iloc[:,idx]).std()\n",
    "\n",
    "        z_score = (values[idx] - mean)/std\n",
    "        prob = (1-norm.cdf(z_score))*100\n",
    "        if prob <= threshold:\n",
    "            no += 1  \n",
    "    return no\n"
   ]
  },
  {
   "cell_type": "code",
   "execution_count": 53,
   "id": "90f97211-cda4-4eb6-9699-50029285428b",
   "metadata": {},
   "outputs": [],
   "source": [
    "def voting(data_train, data_test, min_abnormal_features = 10, threshold = 50):\n",
    "    preds = []\n",
    "    for idx in tqdm(range(len(data_test))):\n",
    "        values = list(data_test.iloc[idx,:])\n",
    "        no = GMM_vote(data_train, values, threshold)\n",
    "        if no > min_abnormal_features:\n",
    "            preds.append(1)\n",
    "        else:\n",
    "            preds.append(0)\n",
    "    return preds"
   ]
  },
  {
   "cell_type": "code",
   "execution_count": 99,
   "id": "a9e57324-fc13-4750-800a-1ec0518989bf",
   "metadata": {},
   "outputs": [],
   "source": [
    "def K_means_Distance(test_idx, test_data, model):\n",
    "    c1 = np.array(test_data.iloc[test_idx, :])\n",
    "    c2 = model.cluster_centers_[0]\n",
    "    temp = c1 - c2\n",
    "    euclid_dist = np.sqrt(np.dot(temp.T, temp))\n",
    "    return euclid_dist"
   ]
  },
  {
   "cell_type": "code",
   "execution_count": 100,
   "id": "e7d87b7f-0928-4894-a9a1-e5aaeb77bc9c",
   "metadata": {},
   "outputs": [],
   "source": [
    "def kmd_model(test_data, train_data, model, threshold_dis):\n",
    "    kmd_d_raw_preds  = [] \n",
    "    for idx in tqdm(range(len(test_data))):\n",
    "        dis = K_means_Distance(idx, test_data, model)\n",
    "        if dis > threshold_dis:\n",
    "            kmd_d_raw_preds.append(1)\n",
    "        else:\n",
    "            kmd_d_raw_preds.append(0)\n",
    "    return kmd_d_raw_preds\n"
   ]
  },
  {
   "cell_type": "code",
   "execution_count": 56,
   "id": "a7efe07b-d97f-4e2c-8a9b-f71c279a2eba",
   "metadata": {},
   "outputs": [],
   "source": [
    "def SVM_model(train_data, train_target, test_data):\n",
    "    model = SVC()\n",
    "    model.fit(train_data, train_target)\n",
    "    preds = model.predict(test_data)\n",
    "    return preds\n"
   ]
  },
  {
   "cell_type": "code",
   "execution_count": 57,
   "id": "726c5d97-3267-46a4-b415-365e438f3c8c",
   "metadata": {},
   "outputs": [],
   "source": [
    "def dt_model(train_data, test_data):\n",
    "    model = tree.DecisionTreeClassifier()\n",
    "    model.fit(train_data, train_target)\n",
    "    preds = model.predict(test_data)\n",
    "    return preds\n"
   ]
  },
  {
   "cell_type": "code",
   "execution_count": 58,
   "id": "ad2ee27a-e48d-4673-afbc-47e86c6db236",
   "metadata": {},
   "outputs": [],
   "source": [
    "def kmean_C_model(train_data, test_data):\n",
    "    kmeans = KMeans(n_clusters=2, n_init=\"auto\").fit(train_data)\n",
    "    preds = kmeans.predict(test_data)\n",
    "    return preds\n"
   ]
  },
  {
   "cell_type": "code",
   "execution_count": 59,
   "id": "8716e7eb-df4a-48c0-a2fc-d390e685af13",
   "metadata": {},
   "outputs": [],
   "source": [
    "def mlp_model(train_data, test_data):\n",
    "    model = MLPClassifier(max_iter=300).fit(train_data, train_target)\n",
    "    preds = model.predict(test_data)\n",
    "    return preds"
   ]
  },
  {
   "cell_type": "code",
   "execution_count": null,
   "id": "4424137f-05d0-4540-ab17-3f4157fe03dc",
   "metadata": {},
   "outputs": [],
   "source": []
  },
  {
   "cell_type": "code",
   "execution_count": 60,
   "id": "16324256-375a-4601-95e7-cd0940f04fd1",
   "metadata": {},
   "outputs": [],
   "source": [
    "def sensitivity(y_true, y_pred):\n",
    "    y_true = np.array(y_true)\n",
    "    y_pred = np.array(y_pred)\n",
    "\n",
    "    tp = np.sum((y_true == 1) & (y_pred == 1))\n",
    "    fn = np.sum((y_true == 1) & (y_pred == 0))\n",
    "\n",
    "    sensitivity_score = tp / (tp + fn) if (tp + fn) > 0 else 0.0\n",
    "\n",
    "    print(f'True Positives (tp): {tp}')\n",
    "    print(f'False Negatives (fn): {fn}')\n",
    "    print(f'Sensitivity Score: {sensitivity_score}')\n",
    "\n",
    "    return sensitivity_score"
   ]
  },
  {
   "cell_type": "code",
   "execution_count": 61,
   "id": "6df4d85e-f1b8-4e10-95b1-a2cb11911b8c",
   "metadata": {},
   "outputs": [],
   "source": [
    "def f1(y_true, y_pred):\n",
    "    return f1_score(y_true, y_pred)\n"
   ]
  },
  {
   "cell_type": "code",
   "execution_count": 62,
   "id": "3290beef-bd41-4334-9d17-827876122dcb",
   "metadata": {},
   "outputs": [],
   "source": [
    "def cap(y_true, y_pred):\n",
    "    y_true_binaire = (y_true > 0.5).astype(int)\n",
    "    fpr, tpr, _ = roc_curve(y_true_binaire, y_pred)\n",
    "    return roc_auc_score(y_true_binaire, y_pred)\n",
    "\n",
    "\n",
    "def auc(x, y):\n",
    "    return roc_auc_score(x, y)\n"
   ]
  },
  {
   "cell_type": "markdown",
   "id": "88e31479-1c8b-499c-a7f4-bcee949aeec0",
   "metadata": {},
   "source": [
    "## VOTING"
   ]
  },
  {
   "cell_type": "markdown",
   "id": "ff1cf7c5",
   "metadata": {},
   "source": [
    "d_raw_probs"
   ]
  },
  {
   "cell_type": "code",
   "execution_count": 71,
   "id": "d9ea2b14-262f-4c61-bbdc-f7a4e15cea0f",
   "metadata": {},
   "outputs": [
    {
     "name": "stderr",
     "output_type": "stream",
     "text": [
      "100%|██████████| 12300/12300 [05:32<00:00, 36.94it/s]\n"
     ]
    }
   ],
   "source": [
    "y_raw_probs_voting = voting(d_raw_probs_train, d_raw_probs_test, min_abnormal_features = 10, threshold = 50)\n"
   ]
  },
  {
   "cell_type": "code",
   "execution_count": 265,
   "id": "367d42e7-e210-4172-ae15-eba46fbb422c",
   "metadata": {},
   "outputs": [
    {
     "data": {
      "text/plain": [
       "0.8317372150928941"
      ]
     },
     "execution_count": 265,
     "metadata": {},
     "output_type": "execute_result"
    }
   ],
   "source": [
    "y_raw_probs_votingF1=f1(y_true_test, y_raw_probs_voting)\n",
    "y_raw_probs_votingF1"
   ]
  },
  {
   "cell_type": "code",
   "execution_count": 266,
   "id": "8f6b256d-c410-4e4b-ae52-d9381d99184f",
   "metadata": {},
   "outputs": [
    {
     "data": {
      "text/plain": [
       "0.5137012326710423"
      ]
     },
     "execution_count": 266,
     "metadata": {},
     "output_type": "execute_result"
    }
   ],
   "source": [
    "y_raw_probs_votingcap=cap(y_true_test, y_raw_probs_voting)\n",
    "y_raw_probs_votingcap"
   ]
  },
  {
   "cell_type": "code",
   "execution_count": 292,
   "id": "f4f7d2b6-319a-445d-9812-24d0d007d996",
   "metadata": {},
   "outputs": [
    {
     "name": "stdout",
     "output_type": "stream",
     "text": [
      "True Positives (tp): 8685\n",
      "False Negatives (fn): 5\n",
      "Sensitivity Score: 0.9994246260069045\n"
     ]
    },
    {
     "data": {
      "text/plain": [
       "0.9994246260069045"
      ]
     },
     "execution_count": 292,
     "metadata": {},
     "output_type": "execute_result"
    }
   ],
   "source": [
    "y_raw_probs_votingsensivity=sensitivity(y_true_test, y_raw_probs_voting)\n",
    "y_raw_probs_votingsensivity"
   ]
  },
  {
   "cell_type": "markdown",
   "id": "b70895eb",
   "metadata": {},
   "source": [
    "d_raw_pca_probs"
   ]
  },
  {
   "cell_type": "code",
   "execution_count": 274,
   "id": "3aa2b246-3e4a-4566-8e34-9fb5b3f43ed4",
   "metadata": {},
   "outputs": [
    {
     "name": "stderr",
     "output_type": "stream",
     "text": [
      "100%|███████████████████████████████████████████████████████████████████████████| 12300/12300 [00:18<00:00, 671.53it/s]\n"
     ]
    }
   ],
   "source": [
    "y_raw_pca_probs_voting = voting(d_raw_pca_probs_train, d_raw_pca_probs_test, min_abnormal_features = 10, threshold = 50)"
   ]
  },
  {
   "cell_type": "code",
   "execution_count": 275,
   "id": "9a77704c-d187-413c-86e8-f3861734730e",
   "metadata": {},
   "outputs": [
    {
     "data": {
      "text/plain": [
       "0.0"
      ]
     },
     "execution_count": 275,
     "metadata": {},
     "output_type": "execute_result"
    }
   ],
   "source": [
    "y_raw_pca_probs_votingF1=f1(y_true_test,y_raw_pca_probs_voting )\n",
    "y_raw_pca_probs_votingF1"
   ]
  },
  {
   "cell_type": "code",
   "execution_count": 276,
   "id": "5336e82b-235d-4026-86be-db95d17a128c",
   "metadata": {},
   "outputs": [
    {
     "data": {
      "text/plain": [
       "0.5"
      ]
     },
     "execution_count": 276,
     "metadata": {},
     "output_type": "execute_result"
    }
   ],
   "source": [
    "y_raw_pca_probs_votingcap=cap(y_true_test, y_raw_pca_probs_voting)\n",
    "y_raw_pca_probs_votingcap"
   ]
  },
  {
   "cell_type": "code",
   "execution_count": 290,
   "id": "45a36800-8831-46aa-bb72-938fd0320c0e",
   "metadata": {},
   "outputs": [
    {
     "name": "stdout",
     "output_type": "stream",
     "text": [
      "True Positives (tp): 0\n",
      "False Negatives (fn): 8690\n",
      "Sensitivity Score: 0.0\n"
     ]
    },
    {
     "data": {
      "text/plain": [
       "0.0"
      ]
     },
     "execution_count": 290,
     "metadata": {},
     "output_type": "execute_result"
    }
   ],
   "source": [
    "y_raw_pca_probs_votingsensitivity=sensitivity(y_true_test, y_raw_pca_probs_voting)\n",
    "y_raw_pca_probs_votingsensitivity"
   ]
  },
  {
   "cell_type": "markdown",
   "id": "1e6a7d7e",
   "metadata": {},
   "source": [
    "d_norm_probs"
   ]
  },
  {
   "cell_type": "code",
   "execution_count": 146,
   "id": "0a0253e3-45c7-4d7a-babe-6e269bade952",
   "metadata": {},
   "outputs": [
    {
     "name": "stderr",
     "output_type": "stream",
     "text": [
      "100%|███████████████████████████████████████████████████████████████████████████| 12300/12300 [01:32<00:00, 133.52it/s]\n"
     ]
    }
   ],
   "source": [
    "y_norm_probs_voting = voting(d_norm_probs_train, d_norm_probs_test, min_abnormal_features = 10, threshold = 50)"
   ]
  },
  {
   "cell_type": "code",
   "execution_count": 282,
   "id": "96cb0c76-298c-43c2-ab1c-e000660e494e",
   "metadata": {},
   "outputs": [
    {
     "data": {
      "text/plain": [
       "0.8317372150928941"
      ]
     },
     "execution_count": 282,
     "metadata": {},
     "output_type": "execute_result"
    }
   ],
   "source": [
    "y_norm_probs_votingF1=f1(y_true_test,y_norm_probs_voting )\n",
    "y_norm_probs_votingF1"
   ]
  },
  {
   "cell_type": "code",
   "execution_count": 283,
   "id": "1447c9ab-5046-40fc-9d92-59ed13624626",
   "metadata": {},
   "outputs": [
    {
     "data": {
      "text/plain": [
       "0.5137012326710423"
      ]
     },
     "execution_count": 283,
     "metadata": {},
     "output_type": "execute_result"
    }
   ],
   "source": [
    "y_norm_probs_votingcap=cap(y_true_test,y_norm_probs_voting )\n",
    "y_norm_probs_votingcap"
   ]
  },
  {
   "cell_type": "code",
   "execution_count": 289,
   "id": "813f7154-4ddb-4146-8bad-6288ee7750d7",
   "metadata": {},
   "outputs": [
    {
     "name": "stdout",
     "output_type": "stream",
     "text": [
      "True Positives (tp): 8685\n",
      "False Negatives (fn): 5\n",
      "Sensitivity Score: 0.9994246260069045\n"
     ]
    },
    {
     "data": {
      "text/plain": [
       "0.9994246260069045"
      ]
     },
     "execution_count": 289,
     "metadata": {},
     "output_type": "execute_result"
    }
   ],
   "source": [
    "y_norm_probs_votingsensitivity=sensitivity(y_true_test,y_norm_probs_voting )\n",
    "y_norm_probs_votingsensitivity"
   ]
  },
  {
   "cell_type": "markdown",
   "id": "0ffb11e3",
   "metadata": {},
   "source": [
    "d_norm_pca_prob"
   ]
  },
  {
   "cell_type": "code",
   "execution_count": 147,
   "id": "d8cc4eb0-c1d6-4618-8b3a-675530296868",
   "metadata": {},
   "outputs": [
    {
     "name": "stderr",
     "output_type": "stream",
     "text": [
      "100%|███████████████████████████████████████████████████████████████████████████| 12300/12300 [00:19<00:00, 633.36it/s]\n"
     ]
    }
   ],
   "source": [
    "y_norm_pca_probs_voting = voting(d_norm_pca_probs_train, d_norm_pca_probs_test , min_abnormal_features = 10, threshold = 50)"
   ]
  },
  {
   "cell_type": "code",
   "execution_count": 293,
   "id": "6803a9d2-1413-4874-84e1-f3ed77ac0ed4",
   "metadata": {},
   "outputs": [
    {
     "name": "stdout",
     "output_type": "stream",
     "text": [
      "True Positives (tp): 0\n",
      "False Negatives (fn): 8690\n",
      "Sensitivity Score: 0.0\n"
     ]
    },
    {
     "data": {
      "text/plain": [
       "0.0"
      ]
     },
     "execution_count": 293,
     "metadata": {},
     "output_type": "execute_result"
    }
   ],
   "source": [
    "sensitivity(y_true_test,y_norm_pca_probs_voting )"
   ]
  },
  {
   "cell_type": "code",
   "execution_count": 150,
   "id": "c0ce8077-898f-4ee7-b7c1-e18c01fd3b33",
   "metadata": {},
   "outputs": [
    {
     "data": {
      "text/plain": [
       "0.8317372150928941"
      ]
     },
     "execution_count": 150,
     "metadata": {},
     "output_type": "execute_result"
    }
   ],
   "source": [
    "f1(y_true_test, y_raw_probs_voting)"
   ]
  },
  {
   "cell_type": "code",
   "execution_count": 170,
   "id": "e08e58b1-91b7-45ba-a161-022f595bc4a4",
   "metadata": {},
   "outputs": [
    {
     "data": {
      "text/plain": [
       "0.5137012326710423"
      ]
     },
     "execution_count": 170,
     "metadata": {},
     "output_type": "execute_result"
    }
   ],
   "source": [
    "cap(y_true_test, y_raw_probs_voting)"
   ]
  },
  {
   "cell_type": "markdown",
   "id": "27f33795-690c-474d-9360-aa3873853366",
   "metadata": {},
   "source": [
    "## KM-D"
   ]
  },
  {
   "cell_type": "markdown",
   "id": "5936400e",
   "metadata": {},
   "source": [
    "d_raw"
   ]
  },
  {
   "cell_type": "code",
   "execution_count": 72,
   "id": "90e4c8cf-f345-46d1-aa3d-128de10fbd57",
   "metadata": {},
   "outputs": [
    {
     "name": "stderr",
     "output_type": "stream",
     "text": [
      "100%|██████████| 12300/12300 [00:04<00:00, 2600.78it/s]\n"
     ]
    }
   ],
   "source": [
    "kmeans_model = KMeans(n_clusters=2)\n",
    "kmeans_model.fit(d_raw_train)\n",
    "y_raw_kmd = kmd_model(d_raw_test, d_raw_train, kmeans_model, 10)"
   ]
  },
  {
   "cell_type": "code",
   "execution_count": 189,
   "id": "bb8d8e4f-e5ab-4c27-ab90-5aab348aaf3e",
   "metadata": {},
   "outputs": [],
   "source": [
    "# sensitivity(d_raw_train, y_raw_kmd)"
   ]
  },
  {
   "cell_type": "code",
   "execution_count": 78,
   "id": "c7f93d3c-aef0-4358-b3ce-3f9dc52571a0",
   "metadata": {},
   "outputs": [
    {
     "data": {
      "text/plain": [
       "0.0"
      ]
     },
     "execution_count": 78,
     "metadata": {},
     "output_type": "execute_result"
    }
   ],
   "source": [
    "f1(y_true_test, y_raw_kmd)"
   ]
  },
  {
   "cell_type": "code",
   "execution_count": 188,
   "id": "82e5788b-8e44-4843-918f-98b1ad34d4ee",
   "metadata": {},
   "outputs": [
    {
     "data": {
      "text/plain": [
       "0.5"
      ]
     },
     "execution_count": 188,
     "metadata": {},
     "output_type": "execute_result"
    }
   ],
   "source": [
    "cap(y_true_test,y_raw_kmd)"
   ]
  },
  {
   "cell_type": "markdown",
   "id": "393b8a77",
   "metadata": {},
   "source": [
    "d_raw_probs"
   ]
  },
  {
   "cell_type": "code",
   "execution_count": 73,
   "id": "3988dfbd-18f8-4d9e-98c1-e1a3cdd09a66",
   "metadata": {},
   "outputs": [
    {
     "name": "stderr",
     "output_type": "stream",
     "text": [
      "100%|██████████| 12300/12300 [00:02<00:00, 4473.25it/s]\n"
     ]
    }
   ],
   "source": [
    "kmeans_model = KMeans(n_clusters=2)\n",
    "kmeans_model.fit(d_raw_probs_train)\n",
    "y_raw_probs_kmd = kmd_model(d_raw_probs_test, d_raw_probs_train, kmeans_model, 10)"
   ]
  },
  {
   "cell_type": "code",
   "execution_count": 76,
   "id": "a83c3a6a-612e-4681-8e22-1aa1ea1f2463",
   "metadata": {},
   "outputs": [
    {
     "name": "stdout",
     "output_type": "stream",
     "text": [
      "True Positives (tp): 8690\n",
      "False Negatives (fn): 0\n",
      "Sensitivity Score: 1.0\n"
     ]
    },
    {
     "data": {
      "text/plain": [
       "1.0"
      ]
     },
     "execution_count": 76,
     "metadata": {},
     "output_type": "execute_result"
    }
   ],
   "source": [
    "sensitivity(y_true_test, y_raw_probs_kmd)"
   ]
  },
  {
   "cell_type": "code",
   "execution_count": 79,
   "id": "7d251f55-6e14-426d-9ae2-d09db590ba2b",
   "metadata": {},
   "outputs": [
    {
     "data": {
      "text/plain": [
       "0.8280133396855646"
      ]
     },
     "execution_count": 79,
     "metadata": {},
     "output_type": "execute_result"
    }
   ],
   "source": [
    "f1(y_true_test, y_raw_probs_kmd)"
   ]
  },
  {
   "cell_type": "code",
   "execution_count": 80,
   "id": "f3be5c1e-5aa9-447f-9da7-cc84b5493547",
   "metadata": {},
   "outputs": [
    {
     "data": {
      "text/plain": [
       "0.5"
      ]
     },
     "execution_count": 80,
     "metadata": {},
     "output_type": "execute_result"
    }
   ],
   "source": [
    "cap(y_true_test,y_raw_probs_kmd)"
   ]
  },
  {
   "cell_type": "markdown",
   "id": "36fcb3be",
   "metadata": {},
   "source": [
    "d_raw_pca"
   ]
  },
  {
   "cell_type": "code",
   "execution_count": 86,
   "id": "304de20d",
   "metadata": {},
   "outputs": [
    {
     "name": "stderr",
     "output_type": "stream",
     "text": [
      "100%|██████████| 12300/12300 [00:02<00:00, 4905.68it/s]\n"
     ]
    }
   ],
   "source": [
    "kmeans_model1 = KMeans(n_clusters=2)\n",
    "kmeans_model1.fit(d_raw_pca_train)\n",
    "y_raw_pca_kmd = kmd_model(d_raw_pca_test, d_raw_pca_train, kmeans_model1, 10)"
   ]
  },
  {
   "cell_type": "code",
   "execution_count": 87,
   "id": "8215c47f",
   "metadata": {},
   "outputs": [
    {
     "name": "stdout",
     "output_type": "stream",
     "text": [
      "True Positives (tp): 8690\n",
      "False Negatives (fn): 0\n",
      "Sensitivity Score: 1.0\n"
     ]
    },
    {
     "data": {
      "text/plain": [
       "1.0"
      ]
     },
     "execution_count": 87,
     "metadata": {},
     "output_type": "execute_result"
    }
   ],
   "source": [
    "sensitivity(y_true_test, y_raw_pca_kmd)"
   ]
  },
  {
   "cell_type": "code",
   "execution_count": 88,
   "id": "6b90ec6c",
   "metadata": {},
   "outputs": [
    {
     "data": {
      "text/plain": [
       "0.8280133396855646"
      ]
     },
     "execution_count": 88,
     "metadata": {},
     "output_type": "execute_result"
    }
   ],
   "source": [
    "f1(y_true_test, y_raw_pca_kmd)"
   ]
  },
  {
   "cell_type": "code",
   "execution_count": 89,
   "id": "5cdcc456",
   "metadata": {},
   "outputs": [
    {
     "data": {
      "text/plain": [
       "0.5"
      ]
     },
     "execution_count": 89,
     "metadata": {},
     "output_type": "execute_result"
    }
   ],
   "source": [
    "cap(y_true_test,y_raw_pca_kmd)"
   ]
  },
  {
   "cell_type": "markdown",
   "id": "e0a06476",
   "metadata": {},
   "source": [
    "d_raw_pca_probs."
   ]
  },
  {
   "cell_type": "code",
   "execution_count": 90,
   "id": "6d954510",
   "metadata": {},
   "outputs": [
    {
     "name": "stderr",
     "output_type": "stream",
     "text": [
      "100%|██████████| 12300/12300 [00:02<00:00, 4620.79it/s]\n"
     ]
    }
   ],
   "source": [
    "kmeans_model2 = KMeans(n_clusters=2)\n",
    "kmeans_model2.fit(d_raw_pca_train)\n",
    "y__raw_pca_probs_kmd = kmd_model(d_raw_pca_probs_test, d_raw_pca_probs_train, kmeans_model2, 10)"
   ]
  },
  {
   "cell_type": "code",
   "execution_count": 91,
   "id": "45d05881",
   "metadata": {},
   "outputs": [
    {
     "name": "stdout",
     "output_type": "stream",
     "text": [
      "True Positives (tp): 8690\n",
      "False Negatives (fn): 0\n",
      "Sensitivity Score: 1.0\n"
     ]
    },
    {
     "data": {
      "text/plain": [
       "1.0"
      ]
     },
     "execution_count": 91,
     "metadata": {},
     "output_type": "execute_result"
    }
   ],
   "source": [
    "sensitivity(y_true_test, y__raw_pca_probs_kmd)"
   ]
  },
  {
   "cell_type": "code",
   "execution_count": 92,
   "id": "d639a700",
   "metadata": {},
   "outputs": [
    {
     "data": {
      "text/plain": [
       "0.8280133396855646"
      ]
     },
     "execution_count": 92,
     "metadata": {},
     "output_type": "execute_result"
    }
   ],
   "source": [
    "f1(y_true_test, y__raw_pca_probs_kmd)"
   ]
  },
  {
   "cell_type": "code",
   "execution_count": 93,
   "id": "7402baee",
   "metadata": {},
   "outputs": [
    {
     "data": {
      "text/plain": [
       "0.5"
      ]
     },
     "execution_count": 93,
     "metadata": {},
     "output_type": "execute_result"
    }
   ],
   "source": [
    "cap(y_true_test,y__raw_pca_probs_kmd)"
   ]
  },
  {
   "cell_type": "markdown",
   "id": "f5dba745",
   "metadata": {},
   "source": [
    "d_norm"
   ]
  },
  {
   "cell_type": "code",
   "execution_count": 106,
   "id": "a20fd2c6",
   "metadata": {},
   "outputs": [
    {
     "data": {
      "text/plain": [
       "(49610, 20)"
      ]
     },
     "execution_count": 106,
     "metadata": {},
     "output_type": "execute_result"
    }
   ],
   "source": [
    "d_norm_train.shape"
   ]
  },
  {
   "cell_type": "code",
   "execution_count": 107,
   "id": "98fb148e",
   "metadata": {},
   "outputs": [
    {
     "name": "stderr",
     "output_type": "stream",
     "text": [
      "100%|██████████| 12300/12300 [00:04<00:00, 2811.23it/s]\n"
     ]
    }
   ],
   "source": [
    "kmeans_model = KMeans(n_clusters=2)\n",
    "kmeans_model.fit(d_norm_train)\n",
    "y_norm_kmd = kmd_model(d_norm_test, d_norm_train, kmeans_model, 10)"
   ]
  },
  {
   "cell_type": "code",
   "execution_count": 108,
   "id": "3a2a962b",
   "metadata": {},
   "outputs": [
    {
     "name": "stdout",
     "output_type": "stream",
     "text": [
      "True Positives (tp): 0\n",
      "False Negatives (fn): 8690\n",
      "Sensitivity Score: 0.0\n"
     ]
    },
    {
     "data": {
      "text/plain": [
       "0.0"
      ]
     },
     "execution_count": 108,
     "metadata": {},
     "output_type": "execute_result"
    }
   ],
   "source": [
    "sensitivity(y_true_test, y_norm_kmd)"
   ]
  },
  {
   "cell_type": "code",
   "execution_count": 110,
   "id": "85190dd7",
   "metadata": {},
   "outputs": [
    {
     "data": {
      "text/plain": [
       "0.0"
      ]
     },
     "execution_count": 110,
     "metadata": {},
     "output_type": "execute_result"
    }
   ],
   "source": [
    "f1(y_true_test, y_norm_kmd)"
   ]
  },
  {
   "cell_type": "code",
   "execution_count": 111,
   "id": "eefb0260",
   "metadata": {},
   "outputs": [
    {
     "data": {
      "text/plain": [
       "0.5"
      ]
     },
     "execution_count": 111,
     "metadata": {},
     "output_type": "execute_result"
    }
   ],
   "source": [
    "cap(y_true_test,y_norm_kmd)"
   ]
  },
  {
   "cell_type": "markdown",
   "id": "811091ee",
   "metadata": {},
   "source": [
    "d_norm_pca"
   ]
  },
  {
   "cell_type": "code",
   "execution_count": 112,
   "id": "a70573d6",
   "metadata": {},
   "outputs": [
    {
     "name": "stderr",
     "output_type": "stream",
     "text": [
      "100%|██████████| 12300/12300 [00:02<00:00, 4396.75it/s]\n"
     ]
    }
   ],
   "source": [
    "kmeans_model = KMeans(n_clusters=2)\n",
    "kmeans_model.fit(d_norm_pca_train)\n",
    "y_norm_pca_kmd = kmd_model(d_norm_pca_test, d_norm_pca_train, kmeans_model, 10)"
   ]
  },
  {
   "cell_type": "code",
   "execution_count": 113,
   "id": "9fccd955",
   "metadata": {},
   "outputs": [
    {
     "name": "stdout",
     "output_type": "stream",
     "text": [
      "True Positives (tp): 0\n",
      "False Negatives (fn): 8690\n",
      "Sensitivity Score: 0.0\n"
     ]
    },
    {
     "data": {
      "text/plain": [
       "0.0"
      ]
     },
     "execution_count": 113,
     "metadata": {},
     "output_type": "execute_result"
    }
   ],
   "source": [
    "sensitivity(y_true_test, y_norm_pca_kmd)"
   ]
  },
  {
   "cell_type": "code",
   "execution_count": 114,
   "id": "4b30e8c1",
   "metadata": {},
   "outputs": [
    {
     "data": {
      "text/plain": [
       "0.0"
      ]
     },
     "execution_count": 114,
     "metadata": {},
     "output_type": "execute_result"
    }
   ],
   "source": [
    "f1(y_true_test, y_norm_pca_kmd)"
   ]
  },
  {
   "cell_type": "code",
   "execution_count": 115,
   "id": "0ed8b6e1",
   "metadata": {},
   "outputs": [
    {
     "data": {
      "text/plain": [
       "0.5"
      ]
     },
     "execution_count": 115,
     "metadata": {},
     "output_type": "execute_result"
    }
   ],
   "source": [
    "cap(y_true_test,y_norm_pca_kmd)"
   ]
  },
  {
   "cell_type": "markdown",
   "id": "96813f1c-8e26-4d9a-b05a-f2a1903ca4d1",
   "metadata": {},
   "source": [
    "## SVM-1"
   ]
  },
  {
   "cell_type": "code",
   "execution_count": 199,
   "id": "dcab53cb-87f8-4834-a3d4-6239dbeb87ad",
   "metadata": {},
   "outputs": [
    {
     "name": "stderr",
     "output_type": "stream",
     "text": [
      "C:\\Python311\\Lib\\site-packages\\sklearn\\utils\\validation.py:1183: DataConversionWarning: A column-vector y was passed when a 1d array was expected. Please change the shape of y to (n_samples, ), for example using ravel().\n",
      "  y = column_or_1d(y, warn=True)\n"
     ]
    }
   ],
   "source": [
    "y_raw_svm1 = SVM_model(d_raw_train, train_target ,  d_raw_test)"
   ]
  },
  {
   "cell_type": "code",
   "execution_count": 203,
   "id": "f6d6e1f4-3ff4-4ad3-a1f4-5b61e0f97855",
   "metadata": {},
   "outputs": [
    {
     "name": "stderr",
     "output_type": "stream",
     "text": [
      "C:\\Python311\\Lib\\site-packages\\sklearn\\utils\\validation.py:1183: DataConversionWarning: A column-vector y was passed when a 1d array was expected. Please change the shape of y to (n_samples, ), for example using ravel().\n",
      "  y = column_or_1d(y, warn=True)\n"
     ]
    }
   ],
   "source": [
    "y_raw_probs_SVM1=SVM_model(d_raw_probs_train,train_target,d_raw_probs_test)"
   ]
  },
  {
   "cell_type": "code",
   "execution_count": 204,
   "id": "6dcabd5e-0e17-4645-9c42-f1e387ad7fc8",
   "metadata": {},
   "outputs": [
    {
     "name": "stderr",
     "output_type": "stream",
     "text": [
      "C:\\Python311\\Lib\\site-packages\\sklearn\\utils\\validation.py:1183: DataConversionWarning: A column-vector y was passed when a 1d array was expected. Please change the shape of y to (n_samples, ), for example using ravel().\n",
      "  y = column_or_1d(y, warn=True)\n"
     ]
    }
   ],
   "source": [
    "y_raw_pca_SVM1=SVM_model(d_raw_pca_train,train_target,d_raw_pca_test)"
   ]
  },
  {
   "cell_type": "code",
   "execution_count": 205,
   "id": "32f5b300-2dec-4967-9174-5c200c22c1c4",
   "metadata": {},
   "outputs": [
    {
     "name": "stderr",
     "output_type": "stream",
     "text": [
      "C:\\Python311\\Lib\\site-packages\\sklearn\\utils\\validation.py:1183: DataConversionWarning: A column-vector y was passed when a 1d array was expected. Please change the shape of y to (n_samples, ), for example using ravel().\n",
      "  y = column_or_1d(y, warn=True)\n"
     ]
    }
   ],
   "source": [
    "y_raw_pca_probsSVM1=SVM_model(d_raw_pca_probs_train,train_target,d_raw_pca_probs_test)"
   ]
  },
  {
   "cell_type": "code",
   "execution_count": 206,
   "id": "5f26e981-5574-4fc9-b8c3-5b8eead26d72",
   "metadata": {},
   "outputs": [
    {
     "name": "stderr",
     "output_type": "stream",
     "text": [
      "C:\\Python311\\Lib\\site-packages\\sklearn\\utils\\validation.py:1183: DataConversionWarning: A column-vector y was passed when a 1d array was expected. Please change the shape of y to (n_samples, ), for example using ravel().\n",
      "  y = column_or_1d(y, warn=True)\n"
     ]
    }
   ],
   "source": [
    "y_norm_svm1 = SVM_model(d_norm_train, train_target ,  d_norm_test)"
   ]
  },
  {
   "cell_type": "code",
   "execution_count": 207,
   "id": "bdebc561-572c-4d85-b6cb-4d8d2c874a89",
   "metadata": {},
   "outputs": [
    {
     "name": "stderr",
     "output_type": "stream",
     "text": [
      "C:\\Python311\\Lib\\site-packages\\sklearn\\utils\\validation.py:1183: DataConversionWarning: A column-vector y was passed when a 1d array was expected. Please change the shape of y to (n_samples, ), for example using ravel().\n",
      "  y = column_or_1d(y, warn=True)\n"
     ]
    }
   ],
   "source": [
    "y_norm_probsSVM1=SVM_model(d_norm_probs_train, train_target ,  d_norm_probs_test)"
   ]
  },
  {
   "cell_type": "code",
   "execution_count": 208,
   "id": "0265b3dd-46ef-4576-ba2f-aced91945a21",
   "metadata": {},
   "outputs": [
    {
     "name": "stderr",
     "output_type": "stream",
     "text": [
      "C:\\Python311\\Lib\\site-packages\\sklearn\\utils\\validation.py:1183: DataConversionWarning: A column-vector y was passed when a 1d array was expected. Please change the shape of y to (n_samples, ), for example using ravel().\n",
      "  y = column_or_1d(y, warn=True)\n"
     ]
    }
   ],
   "source": [
    "y_norm_pca_svm1 = SVM_model(d_norm_pca_train, train_target ,  d_norm_pca_test)"
   ]
  },
  {
   "cell_type": "code",
   "execution_count": 209,
   "id": "5b6052a5-e390-4307-8ac5-8e05db81fb07",
   "metadata": {},
   "outputs": [
    {
     "name": "stderr",
     "output_type": "stream",
     "text": [
      "C:\\Python311\\Lib\\site-packages\\sklearn\\utils\\validation.py:1183: DataConversionWarning: A column-vector y was passed when a 1d array was expected. Please change the shape of y to (n_samples, ), for example using ravel().\n",
      "  y = column_or_1d(y, warn=True)\n"
     ]
    }
   ],
   "source": [
    "y_norm_pca_probs_svm1 = SVM_model(d_norm_pca_probs_train, train_target ,  d_norm_pca_probs_test)"
   ]
  },
  {
   "cell_type": "code",
   "execution_count": 200,
   "id": "96e89e25-c2a2-46ec-963b-e98e61a199d6",
   "metadata": {},
   "outputs": [
    {
     "data": {
      "text/plain": [
       "0.8604997912566351"
      ]
     },
     "execution_count": 200,
     "metadata": {},
     "output_type": "execute_result"
    }
   ],
   "source": [
    "f1(y_true_test,y_raw_svm1)"
   ]
  },
  {
   "cell_type": "code",
   "execution_count": 201,
   "id": "5229fa35-de93-47b8-a362-ff4c777019fb",
   "metadata": {},
   "outputs": [
    {
     "data": {
      "text/plain": [
       "0.7955457127465262"
      ]
     },
     "execution_count": 201,
     "metadata": {},
     "output_type": "execute_result"
    }
   ],
   "source": [
    "cap(y_true_test,y_raw_svm1)"
   ]
  },
  {
   "cell_type": "code",
   "execution_count": 202,
   "id": "cf9c9b3f-f9a3-4a08-b401-1c231d0e23e9",
   "metadata": {},
   "outputs": [
    {
     "data": {
      "text/plain": [
       "0.8301495972382048"
      ]
     },
     "execution_count": 202,
     "metadata": {},
     "output_type": "execute_result"
    }
   ],
   "source": [
    "sensitivity(y_true_test,y_raw_svm1)"
   ]
  },
  {
   "cell_type": "code",
   "execution_count": null,
   "id": "dfe0974a-46f3-48c5-856d-9da5f1b169cc",
   "metadata": {},
   "outputs": [],
   "source": []
  },
  {
   "cell_type": "code",
   "execution_count": null,
   "id": "73fb774e-be37-4fed-9a34-028e5abf1c04",
   "metadata": {},
   "outputs": [],
   "source": [
    "from sklearn.svm import SVC\n"
   ]
  },
  {
   "cell_type": "code",
   "execution_count": null,
   "id": "7e9c3b94-d3df-48da-82f9-d93f61a033f8",
   "metadata": {},
   "outputs": [],
   "source": []
  },
  {
   "cell_type": "code",
   "execution_count": null,
   "id": "0acb7236-bea3-4325-a3a0-ebd42d5e1b29",
   "metadata": {},
   "outputs": [],
   "source": []
  },
  {
   "cell_type": "markdown",
   "id": "513f18ba-1c18-4b43-a2d9-171b6c489997",
   "metadata": {},
   "source": [
    "## KM-C"
   ]
  },
  {
   "cell_type": "code",
   "execution_count": 118,
   "id": "57e97873-23e4-4e8b-bd7b-b5aa47fd0f7b",
   "metadata": {},
   "outputs": [
    {
     "ename": "TypeError",
     "evalue": "'<=' not supported between instances of 'str' and 'int'",
     "output_type": "error",
     "traceback": [
      "\u001b[1;31m---------------------------------------------------------------------------\u001b[0m",
      "\u001b[1;31mTypeError\u001b[0m                                 Traceback (most recent call last)",
      "\u001b[1;32m~\\AppData\\Local\\Temp\\ipykernel_8104\\1652350073.py\u001b[0m in \u001b[0;36m<module>\u001b[1;34m\u001b[0m\n\u001b[1;32m----> 1\u001b[1;33m \u001b[0my_raw_kmc\u001b[0m \u001b[1;33m=\u001b[0m \u001b[0mkmean_C_model\u001b[0m\u001b[1;33m(\u001b[0m\u001b[0md_raw_train\u001b[0m\u001b[1;33m,\u001b[0m  \u001b[0md_raw_test\u001b[0m\u001b[1;33m)\u001b[0m\u001b[1;33m\u001b[0m\u001b[1;33m\u001b[0m\u001b[0m\n\u001b[0m",
      "\u001b[1;32m~\\AppData\\Local\\Temp\\ipykernel_8104\\381256819.py\u001b[0m in \u001b[0;36mkmean_C_model\u001b[1;34m(train_data, test_data)\u001b[0m\n\u001b[0;32m      1\u001b[0m \u001b[1;32mdef\u001b[0m \u001b[0mkmean_C_model\u001b[0m\u001b[1;33m(\u001b[0m\u001b[0mtrain_data\u001b[0m\u001b[1;33m,\u001b[0m \u001b[0mtest_data\u001b[0m\u001b[1;33m)\u001b[0m\u001b[1;33m:\u001b[0m\u001b[1;33m\u001b[0m\u001b[1;33m\u001b[0m\u001b[0m\n\u001b[1;32m----> 2\u001b[1;33m     \u001b[0mkmeans\u001b[0m \u001b[1;33m=\u001b[0m \u001b[0mKMeans\u001b[0m\u001b[1;33m(\u001b[0m\u001b[0mn_clusters\u001b[0m\u001b[1;33m=\u001b[0m\u001b[1;36m2\u001b[0m\u001b[1;33m,\u001b[0m \u001b[0mn_init\u001b[0m\u001b[1;33m=\u001b[0m\u001b[1;34m\"auto\"\u001b[0m\u001b[1;33m)\u001b[0m\u001b[1;33m.\u001b[0m\u001b[0mfit\u001b[0m\u001b[1;33m(\u001b[0m\u001b[0mtrain_data\u001b[0m\u001b[1;33m)\u001b[0m\u001b[1;33m\u001b[0m\u001b[1;33m\u001b[0m\u001b[0m\n\u001b[0m\u001b[0;32m      3\u001b[0m     \u001b[0mpreds\u001b[0m \u001b[1;33m=\u001b[0m \u001b[0mkmeans\u001b[0m\u001b[1;33m.\u001b[0m\u001b[0mpredict\u001b[0m\u001b[1;33m(\u001b[0m\u001b[0mtest_data\u001b[0m\u001b[1;33m)\u001b[0m\u001b[1;33m\u001b[0m\u001b[1;33m\u001b[0m\u001b[0m\n\u001b[0;32m      4\u001b[0m     \u001b[1;32mreturn\u001b[0m \u001b[0mpreds\u001b[0m\u001b[1;33m\u001b[0m\u001b[1;33m\u001b[0m\u001b[0m\n",
      "\u001b[1;32m~\\anaconda3\\lib\\site-packages\\sklearn\\cluster\\_kmeans.py\u001b[0m in \u001b[0;36mfit\u001b[1;34m(self, X, y, sample_weight)\u001b[0m\n\u001b[0;32m   1144\u001b[0m         )\n\u001b[0;32m   1145\u001b[0m \u001b[1;33m\u001b[0m\u001b[0m\n\u001b[1;32m-> 1146\u001b[1;33m         \u001b[0mself\u001b[0m\u001b[1;33m.\u001b[0m\u001b[0m_check_params\u001b[0m\u001b[1;33m(\u001b[0m\u001b[0mX\u001b[0m\u001b[1;33m)\u001b[0m\u001b[1;33m\u001b[0m\u001b[1;33m\u001b[0m\u001b[0m\n\u001b[0m\u001b[0;32m   1147\u001b[0m         \u001b[0mrandom_state\u001b[0m \u001b[1;33m=\u001b[0m \u001b[0mcheck_random_state\u001b[0m\u001b[1;33m(\u001b[0m\u001b[0mself\u001b[0m\u001b[1;33m.\u001b[0m\u001b[0mrandom_state\u001b[0m\u001b[1;33m)\u001b[0m\u001b[1;33m\u001b[0m\u001b[1;33m\u001b[0m\u001b[0m\n\u001b[0;32m   1148\u001b[0m         \u001b[0msample_weight\u001b[0m \u001b[1;33m=\u001b[0m \u001b[0m_check_sample_weight\u001b[0m\u001b[1;33m(\u001b[0m\u001b[0msample_weight\u001b[0m\u001b[1;33m,\u001b[0m \u001b[0mX\u001b[0m\u001b[1;33m,\u001b[0m \u001b[0mdtype\u001b[0m\u001b[1;33m=\u001b[0m\u001b[0mX\u001b[0m\u001b[1;33m.\u001b[0m\u001b[0mdtype\u001b[0m\u001b[1;33m)\u001b[0m\u001b[1;33m\u001b[0m\u001b[1;33m\u001b[0m\u001b[0m\n",
      "\u001b[1;32m~\\anaconda3\\lib\\site-packages\\sklearn\\cluster\\_kmeans.py\u001b[0m in \u001b[0;36m_check_params\u001b[1;34m(self, X)\u001b[0m\n\u001b[0;32m    935\u001b[0m     \u001b[1;32mdef\u001b[0m \u001b[0m_check_params\u001b[0m\u001b[1;33m(\u001b[0m\u001b[0mself\u001b[0m\u001b[1;33m,\u001b[0m \u001b[0mX\u001b[0m\u001b[1;33m)\u001b[0m\u001b[1;33m:\u001b[0m\u001b[1;33m\u001b[0m\u001b[1;33m\u001b[0m\u001b[0m\n\u001b[0;32m    936\u001b[0m         \u001b[1;31m# n_init\u001b[0m\u001b[1;33m\u001b[0m\u001b[1;33m\u001b[0m\u001b[0m\n\u001b[1;32m--> 937\u001b[1;33m         \u001b[1;32mif\u001b[0m \u001b[0mself\u001b[0m\u001b[1;33m.\u001b[0m\u001b[0mn_init\u001b[0m \u001b[1;33m<=\u001b[0m \u001b[1;36m0\u001b[0m\u001b[1;33m:\u001b[0m\u001b[1;33m\u001b[0m\u001b[1;33m\u001b[0m\u001b[0m\n\u001b[0m\u001b[0;32m    938\u001b[0m             \u001b[1;32mraise\u001b[0m \u001b[0mValueError\u001b[0m\u001b[1;33m(\u001b[0m\u001b[1;34mf\"n_init should be > 0, got {self.n_init} instead.\"\u001b[0m\u001b[1;33m)\u001b[0m\u001b[1;33m\u001b[0m\u001b[1;33m\u001b[0m\u001b[0m\n\u001b[0;32m    939\u001b[0m         \u001b[0mself\u001b[0m\u001b[1;33m.\u001b[0m\u001b[0m_n_init\u001b[0m \u001b[1;33m=\u001b[0m \u001b[0mself\u001b[0m\u001b[1;33m.\u001b[0m\u001b[0mn_init\u001b[0m\u001b[1;33m\u001b[0m\u001b[1;33m\u001b[0m\u001b[0m\n",
      "\u001b[1;31mTypeError\u001b[0m: '<=' not supported between instances of 'str' and 'int'"
     ]
    }
   ],
   "source": [
    "y_raw_kmc = kmean_C_model(d_raw_train,  d_raw_test)"
   ]
  },
  {
   "cell_type": "code",
   "execution_count": 116,
   "id": "309f2335-092f-49f8-8f78-533fc6ffd57f",
   "metadata": {},
   "outputs": [
    {
     "ename": "NameError",
     "evalue": "name 'y_raw_kmc' is not defined",
     "output_type": "error",
     "traceback": [
      "\u001b[1;31m---------------------------------------------------------------------------\u001b[0m",
      "\u001b[1;31mNameError\u001b[0m                                 Traceback (most recent call last)",
      "\u001b[1;32m~\\AppData\\Local\\Temp\\ipykernel_8104\\3031696439.py\u001b[0m in \u001b[0;36m<module>\u001b[1;34m\u001b[0m\n\u001b[1;32m----> 1\u001b[1;33m \u001b[0mf1\u001b[0m\u001b[1;33m(\u001b[0m\u001b[0my_true_test\u001b[0m\u001b[1;33m,\u001b[0m\u001b[0my_raw_kmc\u001b[0m\u001b[1;33m)\u001b[0m\u001b[1;33m\u001b[0m\u001b[1;33m\u001b[0m\u001b[0m\n\u001b[0m",
      "\u001b[1;31mNameError\u001b[0m: name 'y_raw_kmc' is not defined"
     ]
    }
   ],
   "source": [
    "f1(y_true_test,y_raw_kmc)"
   ]
  },
  {
   "cell_type": "code",
   "execution_count": null,
   "id": "34a67164-b58e-4e5f-86ef-a55a77e831f2",
   "metadata": {},
   "outputs": [],
   "source": [
    "cap(y_true_test,y_raw_kmc)"
   ]
  },
  {
   "cell_type": "code",
   "execution_count": null,
   "id": "89f29a27-d4de-4701-8bf8-f9c7ed49b2e7",
   "metadata": {},
   "outputs": [],
   "source": [
    "sensitivity(y_true_test,y_raw_kmc)"
   ]
  },
  {
   "cell_type": "code",
   "execution_count": 213,
   "id": "369380f6-0b48-4fba-892d-317c69e8742a",
   "metadata": {},
   "outputs": [
    {
     "data": {
      "text/plain": [
       "0.0097131240117461"
      ]
     },
     "execution_count": 213,
     "metadata": {},
     "output_type": "execute_result"
    }
   ],
   "source": []
  },
  {
   "cell_type": "code",
   "execution_count": 214,
   "id": "acd7127b-8db0-4eec-a3c2-9f18db5703a6",
   "metadata": {},
   "outputs": [
    {
     "data": {
      "text/plain": [
       "0.48571510540022755"
      ]
     },
     "execution_count": 214,
     "metadata": {},
     "output_type": "execute_result"
    }
   ],
   "source": []
  },
  {
   "cell_type": "code",
   "execution_count": 215,
   "id": "44e7e0cd-8d22-4116-9bc8-f04da1e2b552",
   "metadata": {},
   "outputs": [
    {
     "data": {
      "text/plain": [
       "0.0049482163406214036"
      ]
     },
     "execution_count": 215,
     "metadata": {},
     "output_type": "execute_result"
    }
   ],
   "source": []
  },
  {
   "cell_type": "code",
   "execution_count": null,
   "id": "c346c605-4a40-4e73-b359-f5423c00bc3b",
   "metadata": {},
   "outputs": [],
   "source": []
  },
  {
   "cell_type": "code",
   "execution_count": null,
   "id": "d3a09857-f4ed-413f-9ee5-5a9e9c7fd383",
   "metadata": {},
   "outputs": [],
   "source": []
  },
  {
   "cell_type": "markdown",
   "id": "d9a1992c-37db-433e-8a58-6f148a585edc",
   "metadata": {},
   "source": [
    "## DT"
   ]
  },
  {
   "cell_type": "code",
   "execution_count": 119,
   "id": "c51af9f9-b4fd-43aa-9beb-ad4f93fe0660",
   "metadata": {},
   "outputs": [],
   "source": [
    "y_raw_dt = dt_model(d_raw_train,  d_raw_test)"
   ]
  },
  {
   "cell_type": "code",
   "execution_count": 120,
   "id": "1864d8f1",
   "metadata": {},
   "outputs": [
    {
     "data": {
      "text/plain": [
       "0.8576122672508215"
      ]
     },
     "execution_count": 120,
     "metadata": {},
     "output_type": "execute_result"
    }
   ],
   "source": [
    "f1(y_true_test,y_raw_dt)"
   ]
  },
  {
   "cell_type": "code",
   "execution_count": 121,
   "id": "aece213b",
   "metadata": {},
   "outputs": [
    {
     "name": "stdout",
     "output_type": "stream",
     "text": [
      "True Positives (tp): 7830\n",
      "False Negatives (fn): 860\n",
      "Sensitivity Score: 0.9010356731875719\n"
     ]
    },
    {
     "data": {
      "text/plain": [
       "0.9010356731875719"
      ]
     },
     "execution_count": 121,
     "metadata": {},
     "output_type": "execute_result"
    }
   ],
   "source": [
    "sensitivity(y_true_test,y_raw_dt)"
   ]
  },
  {
   "cell_type": "code",
   "execution_count": 122,
   "id": "2964f959",
   "metadata": {},
   "outputs": [
    {
     "data": {
      "text/plain": [
       "0.7095206066768884"
      ]
     },
     "execution_count": 122,
     "metadata": {},
     "output_type": "execute_result"
    }
   ],
   "source": [
    "cap(y_true_test,y_raw_dt)"
   ]
  },
  {
   "cell_type": "code",
   "execution_count": 123,
   "id": "71db43e2-b519-440e-80dc-4915600949be",
   "metadata": {},
   "outputs": [],
   "source": [
    "y_raw_probs_dt = dt_model(d_raw_probs_train,  d_raw_probs_test)"
   ]
  },
  {
   "cell_type": "code",
   "execution_count": 125,
   "id": "4e5298e2",
   "metadata": {},
   "outputs": [
    {
     "data": {
      "text/plain": [
       "0.8657597115227013"
      ]
     },
     "execution_count": 125,
     "metadata": {},
     "output_type": "execute_result"
    }
   ],
   "source": [
    "f1(y_true_test,y_raw_probs_dt)"
   ]
  },
  {
   "cell_type": "code",
   "execution_count": 126,
   "id": "128e1626",
   "metadata": {},
   "outputs": [
    {
     "name": "stdout",
     "output_type": "stream",
     "text": [
      "True Positives (tp): 7923\n",
      "False Negatives (fn): 767\n",
      "Sensitivity Score: 0.9117376294591485\n"
     ]
    },
    {
     "data": {
      "text/plain": [
       "0.9117376294591485"
      ]
     },
     "execution_count": 126,
     "metadata": {},
     "output_type": "execute_result"
    }
   ],
   "source": [
    "sensitivity(y_true_test,y_raw_probs_dt)"
   ]
  },
  {
   "cell_type": "code",
   "execution_count": 127,
   "id": "28379d49",
   "metadata": {},
   "outputs": [
    {
     "data": {
      "text/plain": [
       "0.7217967925689094"
      ]
     },
     "execution_count": 127,
     "metadata": {},
     "output_type": "execute_result"
    }
   ],
   "source": [
    "cap(y_true_test,y_raw_probs_dt)"
   ]
  },
  {
   "cell_type": "code",
   "execution_count": 128,
   "id": "c64389f5-4d7c-4472-bdb2-419a8eed1dcc",
   "metadata": {},
   "outputs": [],
   "source": [
    "y_raw_pca_dt = dt_model(d_raw_pca_train,  d_raw_pca_test)"
   ]
  },
  {
   "cell_type": "code",
   "execution_count": 129,
   "id": "973fcf29",
   "metadata": {},
   "outputs": [
    {
     "data": {
      "text/plain": [
       "0.8274382686624083"
      ]
     },
     "execution_count": 129,
     "metadata": {},
     "output_type": "execute_result"
    }
   ],
   "source": [
    "f1(y_true_test,y_raw_pca_dt)"
   ]
  },
  {
   "cell_type": "code",
   "execution_count": 130,
   "id": "a58c89ad",
   "metadata": {},
   "outputs": [
    {
     "name": "stdout",
     "output_type": "stream",
     "text": [
      "True Positives (tp): 8679\n",
      "False Negatives (fn): 11\n",
      "Sensitivity Score: 0.9987341772151899\n"
     ]
    },
    {
     "data": {
      "text/plain": [
       "0.9987341772151899"
      ]
     },
     "execution_count": 130,
     "metadata": {},
     "output_type": "execute_result"
    }
   ],
   "source": [
    "sensitivity(y_true_test,y_raw_pca_dt)"
   ]
  },
  {
   "cell_type": "code",
   "execution_count": 135,
   "id": "ed88885c",
   "metadata": {},
   "outputs": [
    {
     "data": {
      "text/plain": [
       "0.4995055927627196"
      ]
     },
     "execution_count": 135,
     "metadata": {},
     "output_type": "execute_result"
    }
   ],
   "source": [
    "cap(y_true_test,y_raw_pca_dt)"
   ]
  },
  {
   "cell_type": "code",
   "execution_count": 132,
   "id": "39f4980c-e009-4e95-b4b4-5db35a615018",
   "metadata": {},
   "outputs": [],
   "source": [
    "y_raw_pca_probs_dt = dt_model(d_raw_pca_probs_train,  d_raw_pca_probs_test)"
   ]
  },
  {
   "cell_type": "code",
   "execution_count": 133,
   "id": "749be569",
   "metadata": {},
   "outputs": [
    {
     "data": {
      "text/plain": [
       "0.8141330166270783"
      ]
     },
     "execution_count": 133,
     "metadata": {},
     "output_type": "execute_result"
    }
   ],
   "source": [
    "f1(y_true_test,y_raw_pca_probs_dt)"
   ]
  },
  {
   "cell_type": "code",
   "execution_count": 136,
   "id": "ad5fdf41",
   "metadata": {},
   "outputs": [
    {
     "name": "stdout",
     "output_type": "stream",
     "text": [
      "True Positives (tp): 6855\n",
      "False Negatives (fn): 1835\n",
      "Sensitivity Score: 0.7888377445339471\n"
     ]
    },
    {
     "data": {
      "text/plain": [
       "0.7888377445339471"
      ]
     },
     "execution_count": 136,
     "metadata": {},
     "output_type": "execute_result"
    }
   ],
   "source": [
    "sensitivity(y_true_test,y_raw_pca_probs_dt)"
   ]
  },
  {
   "cell_type": "code",
   "execution_count": 137,
   "id": "d1cc0b62",
   "metadata": {},
   "outputs": [
    {
     "data": {
      "text/plain": [
       "0.7150559913805469"
      ]
     },
     "execution_count": 137,
     "metadata": {},
     "output_type": "execute_result"
    }
   ],
   "source": [
    "cap(y_true_test,y_raw_pca_probs_dt)"
   ]
  },
  {
   "cell_type": "code",
   "execution_count": 138,
   "id": "06dfd202-8fe0-4d55-b837-ce87a9f0bfa3",
   "metadata": {},
   "outputs": [],
   "source": [
    "y_norm_dt = dt_model(d_norm_train,  d_norm_test)"
   ]
  },
  {
   "cell_type": "code",
   "execution_count": 139,
   "id": "81e728a2",
   "metadata": {},
   "outputs": [
    {
     "data": {
      "text/plain": [
       "0.8562603419746277"
      ]
     },
     "execution_count": 139,
     "metadata": {},
     "output_type": "execute_result"
    }
   ],
   "source": [
    "f1(y_true_test,y_norm_dt)"
   ]
  },
  {
   "cell_type": "code",
   "execution_count": 140,
   "id": "e4ddbf3d",
   "metadata": {},
   "outputs": [
    {
     "name": "stdout",
     "output_type": "stream",
     "text": [
      "True Positives (tp): 7762\n",
      "False Negatives (fn): 928\n",
      "Sensitivity Score: 0.8932105868814729\n"
     ]
    },
    {
     "data": {
      "text/plain": [
       "0.8932105868814729"
      ]
     },
     "execution_count": 140,
     "metadata": {},
     "output_type": "execute_result"
    }
   ],
   "source": [
    "sensitivity(y_true_test,y_norm_dt)"
   ]
  },
  {
   "cell_type": "code",
   "execution_count": 141,
   "id": "ab6b8097",
   "metadata": {},
   "outputs": [
    {
     "data": {
      "text/plain": [
       "0.7141953211415675"
      ]
     },
     "execution_count": 141,
     "metadata": {},
     "output_type": "execute_result"
    }
   ],
   "source": [
    "cap(y_true_test,y_norm_dt)"
   ]
  },
  {
   "cell_type": "code",
   "execution_count": 142,
   "id": "fe29fd6e-6a10-4b92-b0ec-bb653aef1380",
   "metadata": {},
   "outputs": [],
   "source": [
    "y_norm_probs_dt = dt_model(d_norm_probs_train,  d_norm_probs_test)"
   ]
  },
  {
   "cell_type": "code",
   "execution_count": 143,
   "id": "863cbc1f",
   "metadata": {},
   "outputs": [
    {
     "data": {
      "text/plain": [
       "0.8656014008974499"
      ]
     },
     "execution_count": 143,
     "metadata": {},
     "output_type": "execute_result"
    }
   ],
   "source": [
    "f1(y_true_test,y_norm_probs_dt)"
   ]
  },
  {
   "cell_type": "code",
   "execution_count": 144,
   "id": "75c91a03",
   "metadata": {},
   "outputs": [
    {
     "name": "stdout",
     "output_type": "stream",
     "text": [
      "True Positives (tp): 7909\n",
      "False Negatives (fn): 781\n",
      "Sensitivity Score: 0.910126582278481\n"
     ]
    },
    {
     "data": {
      "text/plain": [
       "0.910126582278481"
      ]
     },
     "execution_count": 144,
     "metadata": {},
     "output_type": "execute_result"
    }
   ],
   "source": [
    "sensitivity(y_true_test,y_norm_probs_dt)"
   ]
  },
  {
   "cell_type": "code",
   "execution_count": 145,
   "id": "b116b01d",
   "metadata": {},
   "outputs": [
    {
     "data": {
      "text/plain": [
       "0.7230688313054454"
      ]
     },
     "execution_count": 145,
     "metadata": {},
     "output_type": "execute_result"
    }
   ],
   "source": [
    "cap(y_true_test,y_norm_probs_dt)"
   ]
  },
  {
   "cell_type": "code",
   "execution_count": 147,
   "id": "2c216b37-4188-4138-8ad3-73531fb17ca5",
   "metadata": {},
   "outputs": [],
   "source": [
    "y_norm_pca_dt = dt_model(d_norm_pca_train,  d_norm_pca_test)"
   ]
  },
  {
   "cell_type": "code",
   "execution_count": 148,
   "id": "b9164ca7",
   "metadata": {},
   "outputs": [
    {
     "data": {
      "text/plain": [
       "0.23317289326915733"
      ]
     },
     "execution_count": 148,
     "metadata": {},
     "output_type": "execute_result"
    }
   ],
   "source": [
    "f1(y_true_test,y_norm_pca_dt)"
   ]
  },
  {
   "cell_type": "code",
   "execution_count": 149,
   "id": "9dd1e311",
   "metadata": {},
   "outputs": [
    {
     "name": "stdout",
     "output_type": "stream",
     "text": [
      "True Positives (tp): 1526\n",
      "False Negatives (fn): 7164\n",
      "Sensitivity Score: 0.1756041426927503\n"
     ]
    },
    {
     "data": {
      "text/plain": [
       "0.1756041426927503"
      ]
     },
     "execution_count": 149,
     "metadata": {},
     "output_type": "execute_result"
    }
   ],
   "source": [
    "sensitivity(y_true_test,y_norm_pca_dt)"
   ]
  },
  {
   "cell_type": "code",
   "execution_count": 150,
   "id": "8a2d1a96",
   "metadata": {},
   "outputs": [
    {
     "data": {
      "text/plain": [
       "0.7230688313054454"
      ]
     },
     "execution_count": 150,
     "metadata": {},
     "output_type": "execute_result"
    }
   ],
   "source": [
    "cap(y_true_test,y_norm_probs_dt)"
   ]
  },
  {
   "cell_type": "code",
   "execution_count": 232,
   "id": "b02e92a6-5219-4857-8d3a-28ae2d35d1e1",
   "metadata": {},
   "outputs": [],
   "source": [
    "y_norm_pca_probs_dt = dt_model(d_norm_pca_probs_train,  d_norm_pca_probs_test)"
   ]
  },
  {
   "cell_type": "code",
   "execution_count": 224,
   "id": "7c66986a-8fef-454c-a020-2c7ae34ed5ad",
   "metadata": {},
   "outputs": [
    {
     "data": {
      "text/plain": [
       "0.868978382530451"
      ]
     },
     "execution_count": 224,
     "metadata": {},
     "output_type": "execute_result"
    }
   ],
   "source": [
    "f1(y_true_test,y_raw_probs_dt)"
   ]
  },
  {
   "cell_type": "code",
   "execution_count": 226,
   "id": "b337aece-9738-44d4-b597-d88ca53f2839",
   "metadata": {},
   "outputs": [
    {
     "data": {
      "text/plain": [
       "0.9112773302646721"
      ]
     },
     "execution_count": 226,
     "metadata": {},
     "output_type": "execute_result"
    }
   ],
   "source": [
    "sensitivity(y_true_test,y_raw_probs_dt)"
   ]
  },
  {
   "cell_type": "code",
   "execution_count": 225,
   "id": "5f06efda-fce0-4c20-be22-bfd659fe84d3",
   "metadata": {},
   "outputs": [
    {
     "data": {
      "text/plain": [
       "0.731677446295771"
      ]
     },
     "execution_count": 225,
     "metadata": {},
     "output_type": "execute_result"
    }
   ],
   "source": [
    "cap(y_true_test,y_raw_probs_dt)"
   ]
  },
  {
   "cell_type": "markdown",
   "id": "b5366cbd-89ef-4186-b008-83efd8e059e8",
   "metadata": {},
   "source": [
    "## MLP"
   ]
  },
  {
   "cell_type": "code",
   "execution_count": 233,
   "id": "88e4890c-8a70-427e-8b7c-c1bbf0976d8b",
   "metadata": {},
   "outputs": [],
   "source": [
    "y_raw_mlp = dt_model(d_raw_train,  d_raw_test)"
   ]
  },
  {
   "cell_type": "code",
   "execution_count": 248,
   "id": "ae5b0912-7a47-4217-a998-c8a947b3766d",
   "metadata": {},
   "outputs": [
    {
     "data": {
      "text/plain": [
       "0.8573617952928299"
      ]
     },
     "execution_count": 248,
     "metadata": {},
     "output_type": "execute_result"
    }
   ],
   "source": [
    "y_raw_mlp_f1 = f1(y_true_test,y_raw_mlp)\n",
    "y_raw_mlp_f1"
   ]
  },
  {
   "cell_type": "code",
   "execution_count": 250,
   "id": "f2389160-213c-4ade-915f-5d7b8cd493f1",
   "metadata": {},
   "outputs": [
    {
     "data": {
      "text/plain": [
       "0.9012658227848102"
      ]
     },
     "execution_count": 250,
     "metadata": {},
     "output_type": "execute_result"
    }
   ],
   "source": [
    "y_raw_mlp_sensitivity = sensitivity(y_true_test,y_raw_mlp)\n",
    "y_raw_mlp_sensitivity"
   ]
  },
  {
   "cell_type": "code",
   "execution_count": 247,
   "id": "7f75ebac-b135-4803-861c-f87d462171d1",
   "metadata": {},
   "outputs": [
    {
     "data": {
      "text/plain": [
       "0.7085276482345104"
      ]
     },
     "execution_count": 247,
     "metadata": {},
     "output_type": "execute_result"
    }
   ],
   "source": [
    "y_raw_mlp_cap = cap(y_true_test,y_raw_mlp)\n",
    "y_raw_mlp_cap"
   ]
  },
  {
   "cell_type": "code",
   "execution_count": 237,
   "id": "bff4b809-ee2a-4bd1-8834-f8db1b271ba8",
   "metadata": {},
   "outputs": [],
   "source": [
    "y_raw_probs_mlp = dt_model(d_raw_probs_train,  d_raw_probs_test)"
   ]
  },
  {
   "cell_type": "code",
   "execution_count": 254,
   "id": "8222c440-3fa7-43a2-9611-187e24049ea2",
   "metadata": {},
   "outputs": [
    {
     "data": {
      "text/plain": [
       "0.8678154651543244"
      ]
     },
     "execution_count": 254,
     "metadata": {},
     "output_type": "execute_result"
    }
   ],
   "source": [
    "y_raw_probs_mlp_f1 = f1(y_true_test,y_raw_probs_mlp)\n",
    "y_raw_probs_mlp_f1"
   ]
  },
  {
   "cell_type": "code",
   "execution_count": 255,
   "id": "476033a2-1b63-46f8-9e12-9bc70ac6904a",
   "metadata": {},
   "outputs": [
    {
     "data": {
      "text/plain": [
       "0.9156501726121979"
      ]
     },
     "execution_count": 255,
     "metadata": {},
     "output_type": "execute_result"
    }
   ],
   "source": [
    "y_raw_probs_mlp_sensitivity = sensitivity(y_true_test,y_raw_probs_mlp)\n",
    "y_raw_probs_mlp_sensitivity"
   ]
  },
  {
   "cell_type": "code",
   "execution_count": 256,
   "id": "3fa41ae8-c1f0-4a4c-bf7c-ad9961f202fb",
   "metadata": {},
   "outputs": [
    {
     "data": {
      "text/plain": [
       "0.7236145599903095"
      ]
     },
     "execution_count": 256,
     "metadata": {},
     "output_type": "execute_result"
    }
   ],
   "source": [
    "y_raw_probs_mlp_cap = cap(y_true_test,y_raw_probs_mlp)\n",
    "y_raw_probs_mlp_cap"
   ]
  },
  {
   "cell_type": "code",
   "execution_count": 238,
   "id": "e1d0251d-04c5-4ab7-9472-654dce9abaf9",
   "metadata": {},
   "outputs": [],
   "source": [
    "y_raw_pca_mlp = dt_model(d_raw_pca_train,  d_raw_pca_test)"
   ]
  },
  {
   "cell_type": "code",
   "execution_count": 257,
   "id": "37b70c39-a41d-4ed2-b73a-d72cfc82bfe2",
   "metadata": {},
   "outputs": [
    {
     "data": {
      "text/plain": [
       "0.8508714596949892"
      ]
     },
     "execution_count": 257,
     "metadata": {},
     "output_type": "execute_result"
    }
   ],
   "source": [
    "y_raw_pca_mlp_f1 = f1(y_true_test,y_raw_pca_mlp)\n",
    "y_raw_pca_mlp_f1"
   ]
  },
  {
   "cell_type": "code",
   "execution_count": 258,
   "id": "574ab59f-47b3-46d9-bbe5-a1e27f8d7ee4",
   "metadata": {},
   "outputs": [
    {
     "data": {
      "text/plain": [
       "0.8988492520138089"
      ]
     },
     "execution_count": 258,
     "metadata": {},
     "output_type": "execute_result"
    }
   ],
   "source": [
    "y_raw_pca_mlp_sensitivity = sensitivity(y_true_test,y_raw_pca_mlp)\n",
    "y_raw_pca_mlp_sensitivity"
   ]
  },
  {
   "cell_type": "code",
   "execution_count": 259,
   "id": "c6d748d8-395f-44cf-97cf-107b8360dcf4",
   "metadata": {},
   "outputs": [
    {
     "data": {
      "text/plain": [
       "0.6919454016301732"
      ]
     },
     "execution_count": 259,
     "metadata": {},
     "output_type": "execute_result"
    }
   ],
   "source": [
    "y_raw_pca_mlp_cap = cap(y_true_test,y_raw_pca_mlp)\n",
    "y_raw_pca_mlp_cap"
   ]
  },
  {
   "cell_type": "code",
   "execution_count": 239,
   "id": "cffd1046-ffda-4284-b2da-f127d7356712",
   "metadata": {},
   "outputs": [],
   "source": [
    "y_raw_pca_probs_mlp = dt_model(d_raw_pca_probs_train,  d_raw_pca_probs_test)"
   ]
  },
  {
   "cell_type": "code",
   "execution_count": 261,
   "id": "3fc825ea-d6be-4d6c-9ce3-81c98559b566",
   "metadata": {},
   "outputs": [
    {
     "data": {
      "text/plain": [
       "0.8083751105868475"
      ]
     },
     "execution_count": 261,
     "metadata": {},
     "output_type": "execute_result"
    }
   ],
   "source": [
    "y_raw_pca_probs_probs_mlp_f1 = f1(y_true_test,y_raw_pca_probs_mlp)\n",
    "y_raw_pca_probs_probs_mlp_f1"
   ]
  },
  {
   "cell_type": "code",
   "execution_count": 262,
   "id": "c5695866-dc23-4c92-a276-df818b792efa",
   "metadata": {},
   "outputs": [
    {
     "data": {
      "text/plain": [
       "0.7886075949367088"
      ]
     },
     "execution_count": 262,
     "metadata": {},
     "output_type": "execute_result"
    }
   ],
   "source": [
    "y_raw_pca_probs_mlp_sensitivity = sensitivity(y_true_test,y_raw_pca_probs_mlp)\n",
    "y_raw_pca_probs_mlp_sensitivity"
   ]
  },
  {
   "cell_type": "code",
   "execution_count": 263,
   "id": "9d8346a6-404b-4e27-bf87-db827f13552a",
   "metadata": {},
   "outputs": [
    {
     "data": {
      "text/plain": [
       "0.6987359304323434"
      ]
     },
     "execution_count": 263,
     "metadata": {},
     "output_type": "execute_result"
    }
   ],
   "source": [
    "y_raw_pca_probs_mlp_cap = cap(y_true_test,y_raw_pca_probs_mlp)\n",
    "y_raw_pca_probs_mlp_cap"
   ]
  },
  {
   "cell_type": "code",
   "execution_count": 240,
   "id": "46d64aae-37f1-4526-89ca-19363dd2b3e9",
   "metadata": {},
   "outputs": [],
   "source": [
    "y_norm_mlp = dt_model(d_norm_train,  d_norm_test)"
   ]
  },
  {
   "cell_type": "code",
   "execution_count": null,
   "id": "de3687c2-293b-4085-b1f2-62f523bbbe0e",
   "metadata": {},
   "outputs": [],
   "source": [
    "y_norm_f1 = f1(y_true_test,y_norm_mlp)\n",
    "y_norm_f1"
   ]
  },
  {
   "cell_type": "code",
   "execution_count": null,
   "id": "19b0cf81-6179-48ea-9ddc-9095bb15aa44",
   "metadata": {},
   "outputs": [],
   "source": [
    "y_raw_pca_probs_mlp_sensitivity = sensitivity(y_true_test,y_raw_pca_probs_mlp)\n",
    "y_raw_pca_probs_mlp_sensitivity"
   ]
  },
  {
   "cell_type": "code",
   "execution_count": null,
   "id": "08dcbdfd-fae2-481d-9547-6dac95cb37b2",
   "metadata": {},
   "outputs": [],
   "source": [
    "y_raw_pca_probs_mlp_cap = cap(y_true_test,y_raw_pca_probs_mlp)\n",
    "y_raw_pca_probs_mlp_cap"
   ]
  },
  {
   "cell_type": "code",
   "execution_count": 241,
   "id": "2aa95df7-8e69-48c2-8600-f1a554fcadf3",
   "metadata": {},
   "outputs": [],
   "source": [
    "y_norm_probs_mlp = dt_model(d_norm_probs_train,  d_norm_probs_test)"
   ]
  },
  {
   "cell_type": "code",
   "execution_count": 242,
   "id": "79300629-700a-4af2-8335-d2a766817e2a",
   "metadata": {},
   "outputs": [],
   "source": [
    "y_norm_pca_mlp = dt_model(d_norm_pca_train,  d_norm_pca_test)"
   ]
  },
  {
   "cell_type": "code",
   "execution_count": 243,
   "id": "edabb6ed-e02d-45dd-836e-0b8e72f014bc",
   "metadata": {},
   "outputs": [],
   "source": [
    "y_norm_pca_probs_mlp = dt_model(d_norm_pca_probs_train,  d_norm_pca_probs_test)"
   ]
  },
  {
   "cell_type": "code",
   "execution_count": null,
   "id": "38428f46-cf29-4d45-aaaa-f74c48773028",
   "metadata": {},
   "outputs": [],
   "source": []
  },
  {
   "cell_type": "code",
   "execution_count": null,
   "id": "d94130ea-58c9-48b5-92f4-192e1e48765f",
   "metadata": {},
   "outputs": [],
   "source": []
  },
  {
   "cell_type": "code",
   "execution_count": null,
   "id": "24cbb25f-ca2d-405c-8562-9ef584e3f632",
   "metadata": {},
   "outputs": [],
   "source": []
  }
 ],
 "metadata": {
  "kernelspec": {
   "display_name": "Python 3 (ipykernel)",
   "language": "python",
   "name": "python3"
  },
  "language_info": {
   "codemirror_mode": {
    "name": "ipython",
    "version": 3
   },
   "file_extension": ".py",
   "mimetype": "text/x-python",
   "name": "python",
   "nbconvert_exporter": "python",
   "pygments_lexer": "ipython3",
   "version": "3.11.4"
  }
 },
 "nbformat": 4,
 "nbformat_minor": 5
}
